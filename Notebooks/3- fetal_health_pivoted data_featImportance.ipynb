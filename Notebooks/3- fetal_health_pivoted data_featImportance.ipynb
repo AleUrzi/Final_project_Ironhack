{
 "cells": [
  {
   "cell_type": "code",
   "execution_count": 1,
   "id": "dd699654-97a4-457f-9059-1f56da6c19b1",
   "metadata": {},
   "outputs": [],
   "source": [
    "#ML to predict fetal health"
   ]
  },
  {
   "cell_type": "code",
   "execution_count": 6,
   "id": "d321b1d9-8a1e-4f61-84b2-f25a39adcce8",
   "metadata": {},
   "outputs": [
    {
     "name": "stdout",
     "output_type": "stream",
     "text": [
      "complete\n"
     ]
    }
   ],
   "source": [
    "import pandas as pd\n",
    "import numpy as np\n",
    "import matplotlib.pyplot as plt\n",
    "\n",
    "import seaborn as sns\n",
    "import plotly.express as px\n",
    "import plotly.graph_objects as go\n",
    "from plotly.subplots import make_subplots\n",
    "\n",
    "plt.style.use('seaborn-v0_8-whitegrid')\n",
    "import scipy.stats as stats \n",
    "from scipy.stats import zscore\n",
    "from sklearn.preprocessing import LabelEncoder ,RobustScaler\n",
    "from sklearn.linear_model import LinearRegression\n",
    "from sklearn.metrics import classification_report\n",
    "from sklearn.metrics import mean_squared_error\n",
    "from sklearn.model_selection import train_test_split, cross_val_predict\n",
    "from sklearn.metrics import confusion_matrix, ConfusionMatrixDisplay, f1_score\n",
    "from sklearn.metrics import r2_score\n",
    "from sklearn.preprocessing import RobustScaler, PolynomialFeatures\n",
    "from sklearn.linear_model import LinearRegression, Lasso,Ridge\n",
    "from sklearn.metrics import mean_squared_error, r2_score\n",
    "from sklearn.feature_selection import SelectKBest, mutual_info_classif ,f_classif\n",
    "from imblearn.over_sampling import SMOTE\n",
    "from collections import Counter\n",
    "from sklearn.ensemble import RandomForestClassifier\n",
    "from sklearn.linear_model import LogisticRegression\n",
    "from sklearn.naive_bayes import GaussianNB\n",
    "from sklearn.model_selection import GridSearchCV, train_test_split\n",
    "from sklearn.preprocessing import RobustScaler, StandardScaler,MinMaxScaler ,LabelEncoder\n",
    "import xgboost as XGBClassifier\n",
    "from sklearn.svm import SVC\n",
    "import warnings\n",
    "warnings.filterwarnings('ignore')\n",
    "print('complete')"
   ]
  },
  {
   "cell_type": "code",
   "execution_count": 8,
   "id": "030535e7-9785-47f8-9cf8-a46b7b0e5855",
   "metadata": {},
   "outputs": [
    {
     "data": {
      "text/html": [
       "<div>\n",
       "<style scoped>\n",
       "    .dataframe tbody tr th:only-of-type {\n",
       "        vertical-align: middle;\n",
       "    }\n",
       "\n",
       "    .dataframe tbody tr th {\n",
       "        vertical-align: top;\n",
       "    }\n",
       "\n",
       "    .dataframe thead th {\n",
       "        text-align: right;\n",
       "    }\n",
       "</style>\n",
       "<table border=\"1\" class=\"dataframe\">\n",
       "  <thead>\n",
       "    <tr style=\"text-align: right;\">\n",
       "      <th></th>\n",
       "      <th>baseline_value_FHR(BPM)</th>\n",
       "      <th>accelerations</th>\n",
       "      <th>fetal_movement</th>\n",
       "      <th>uterine_contractions</th>\n",
       "      <th>light_decelerations</th>\n",
       "      <th>severe_decelerations</th>\n",
       "      <th>prolongued_decelerations</th>\n",
       "      <th>abnormal_short_term_variability</th>\n",
       "      <th>mean_abnormal_short_term_variability</th>\n",
       "      <th>percentage_of_time_with_abnormal_long_term_variability</th>\n",
       "      <th>...</th>\n",
       "      <th>FHR_min</th>\n",
       "      <th>FHR_max</th>\n",
       "      <th>FHR_n_of_peaks</th>\n",
       "      <th>FHR_n_of_zeros</th>\n",
       "      <th>FHR_mode</th>\n",
       "      <th>FHR_mean</th>\n",
       "      <th>FHR_median</th>\n",
       "      <th>FHR_variance</th>\n",
       "      <th>FHR_tendency</th>\n",
       "      <th>fetal_health</th>\n",
       "    </tr>\n",
       "  </thead>\n",
       "  <tbody>\n",
       "    <tr>\n",
       "      <th>0</th>\n",
       "      <td>120.0</td>\n",
       "      <td>0.000</td>\n",
       "      <td>0.0</td>\n",
       "      <td>0.000</td>\n",
       "      <td>0.000</td>\n",
       "      <td>0.0</td>\n",
       "      <td>0.0</td>\n",
       "      <td>73.0</td>\n",
       "      <td>0.5</td>\n",
       "      <td>43.0</td>\n",
       "      <td>...</td>\n",
       "      <td>62.0</td>\n",
       "      <td>126.0</td>\n",
       "      <td>2.0</td>\n",
       "      <td>0.0</td>\n",
       "      <td>120.0</td>\n",
       "      <td>137.0</td>\n",
       "      <td>121.0</td>\n",
       "      <td>73.0</td>\n",
       "      <td>1.0</td>\n",
       "      <td>Suspect</td>\n",
       "    </tr>\n",
       "    <tr>\n",
       "      <th>1</th>\n",
       "      <td>132.0</td>\n",
       "      <td>0.006</td>\n",
       "      <td>0.0</td>\n",
       "      <td>0.006</td>\n",
       "      <td>0.003</td>\n",
       "      <td>0.0</td>\n",
       "      <td>0.0</td>\n",
       "      <td>17.0</td>\n",
       "      <td>2.1</td>\n",
       "      <td>0.0</td>\n",
       "      <td>...</td>\n",
       "      <td>68.0</td>\n",
       "      <td>198.0</td>\n",
       "      <td>6.0</td>\n",
       "      <td>1.0</td>\n",
       "      <td>141.0</td>\n",
       "      <td>136.0</td>\n",
       "      <td>140.0</td>\n",
       "      <td>12.0</td>\n",
       "      <td>0.0</td>\n",
       "      <td>Normal</td>\n",
       "    </tr>\n",
       "    <tr>\n",
       "      <th>2</th>\n",
       "      <td>133.0</td>\n",
       "      <td>0.003</td>\n",
       "      <td>0.0</td>\n",
       "      <td>0.008</td>\n",
       "      <td>0.003</td>\n",
       "      <td>0.0</td>\n",
       "      <td>0.0</td>\n",
       "      <td>16.0</td>\n",
       "      <td>2.1</td>\n",
       "      <td>0.0</td>\n",
       "      <td>...</td>\n",
       "      <td>68.0</td>\n",
       "      <td>198.0</td>\n",
       "      <td>5.0</td>\n",
       "      <td>1.0</td>\n",
       "      <td>141.0</td>\n",
       "      <td>135.0</td>\n",
       "      <td>138.0</td>\n",
       "      <td>13.0</td>\n",
       "      <td>0.0</td>\n",
       "      <td>Normal</td>\n",
       "    </tr>\n",
       "    <tr>\n",
       "      <th>3</th>\n",
       "      <td>134.0</td>\n",
       "      <td>0.003</td>\n",
       "      <td>0.0</td>\n",
       "      <td>0.008</td>\n",
       "      <td>0.003</td>\n",
       "      <td>0.0</td>\n",
       "      <td>0.0</td>\n",
       "      <td>16.0</td>\n",
       "      <td>2.4</td>\n",
       "      <td>0.0</td>\n",
       "      <td>...</td>\n",
       "      <td>53.0</td>\n",
       "      <td>170.0</td>\n",
       "      <td>11.0</td>\n",
       "      <td>0.0</td>\n",
       "      <td>137.0</td>\n",
       "      <td>134.0</td>\n",
       "      <td>137.0</td>\n",
       "      <td>13.0</td>\n",
       "      <td>1.0</td>\n",
       "      <td>Normal</td>\n",
       "    </tr>\n",
       "    <tr>\n",
       "      <th>4</th>\n",
       "      <td>132.0</td>\n",
       "      <td>0.007</td>\n",
       "      <td>0.0</td>\n",
       "      <td>0.008</td>\n",
       "      <td>0.000</td>\n",
       "      <td>0.0</td>\n",
       "      <td>0.0</td>\n",
       "      <td>16.0</td>\n",
       "      <td>2.4</td>\n",
       "      <td>0.0</td>\n",
       "      <td>...</td>\n",
       "      <td>53.0</td>\n",
       "      <td>170.0</td>\n",
       "      <td>9.0</td>\n",
       "      <td>0.0</td>\n",
       "      <td>137.0</td>\n",
       "      <td>136.0</td>\n",
       "      <td>138.0</td>\n",
       "      <td>11.0</td>\n",
       "      <td>1.0</td>\n",
       "      <td>Normal</td>\n",
       "    </tr>\n",
       "  </tbody>\n",
       "</table>\n",
       "<p>5 rows × 22 columns</p>\n",
       "</div>"
      ],
      "text/plain": [
       "   baseline_value_FHR(BPM)  accelerations  fetal_movement  \\\n",
       "0                    120.0          0.000             0.0   \n",
       "1                    132.0          0.006             0.0   \n",
       "2                    133.0          0.003             0.0   \n",
       "3                    134.0          0.003             0.0   \n",
       "4                    132.0          0.007             0.0   \n",
       "\n",
       "   uterine_contractions  light_decelerations  severe_decelerations  \\\n",
       "0                 0.000                0.000                   0.0   \n",
       "1                 0.006                0.003                   0.0   \n",
       "2                 0.008                0.003                   0.0   \n",
       "3                 0.008                0.003                   0.0   \n",
       "4                 0.008                0.000                   0.0   \n",
       "\n",
       "   prolongued_decelerations  abnormal_short_term_variability  \\\n",
       "0                       0.0                             73.0   \n",
       "1                       0.0                             17.0   \n",
       "2                       0.0                             16.0   \n",
       "3                       0.0                             16.0   \n",
       "4                       0.0                             16.0   \n",
       "\n",
       "   mean_abnormal_short_term_variability  \\\n",
       "0                                   0.5   \n",
       "1                                   2.1   \n",
       "2                                   2.1   \n",
       "3                                   2.4   \n",
       "4                                   2.4   \n",
       "\n",
       "   percentage_of_time_with_abnormal_long_term_variability  ...  FHR_min  \\\n",
       "0                                               43.0       ...     62.0   \n",
       "1                                                0.0       ...     68.0   \n",
       "2                                                0.0       ...     68.0   \n",
       "3                                                0.0       ...     53.0   \n",
       "4                                                0.0       ...     53.0   \n",
       "\n",
       "   FHR_max  FHR_n_of_peaks  FHR_n_of_zeros  FHR_mode  FHR_mean  FHR_median  \\\n",
       "0    126.0             2.0             0.0     120.0     137.0       121.0   \n",
       "1    198.0             6.0             1.0     141.0     136.0       140.0   \n",
       "2    198.0             5.0             1.0     141.0     135.0       138.0   \n",
       "3    170.0            11.0             0.0     137.0     134.0       137.0   \n",
       "4    170.0             9.0             0.0     137.0     136.0       138.0   \n",
       "\n",
       "   FHR_variance  FHR_tendency  fetal_health  \n",
       "0          73.0           1.0       Suspect  \n",
       "1          12.0           0.0        Normal  \n",
       "2          13.0           0.0        Normal  \n",
       "3          13.0           1.0        Normal  \n",
       "4          11.0           1.0        Normal  \n",
       "\n",
       "[5 rows x 22 columns]"
      ]
     },
     "execution_count": 8,
     "metadata": {},
     "output_type": "execute_result"
    }
   ],
   "source": [
    "#Let's start by reading the cleaned dataset\n",
    "\n",
    "df = pd.read_csv(\"../Data/Clean/cleaned_df_fetal_health.csv\")\n",
    "df.head()"
   ]
  },
  {
   "cell_type": "code",
   "execution_count": null,
   "id": "cda71191-1f4c-4e61-9958-79fe9828c8ee",
   "metadata": {},
   "outputs": [],
   "source": []
  },
  {
   "cell_type": "code",
   "execution_count": 10,
   "id": "fb837b06-ed8d-4c38-8683-3e0c68053e4f",
   "metadata": {},
   "outputs": [
    {
     "name": "stdout",
     "output_type": "stream",
     "text": [
      "Data has been successfully pivoted and saved to 'pivoted_data.csv'\n"
     ]
    }
   ],
   "source": [
    "#Pivot the data to long format (this assumes you want to pivot all columns except the first one)\n",
    "df_long = pd.melt(df, var_name='Feature Name', value_name='Feature Value')\n",
    "\n",
    "# Save the pivoted data to a new CSV file\n",
    "df_long.to_csv('pivoted_data.csv', index=False)\n",
    "\n",
    "print(\"Data has been successfully pivoted and saved to 'pivoted_data.csv'\")"
   ]
  },
  {
   "cell_type": "code",
   "execution_count": 18,
   "id": "954faef8-17b0-4247-ab15-7602db2709a7",
   "metadata": {},
   "outputs": [
    {
     "name": "stdout",
     "output_type": "stream",
     "text": [
      "Data has been successfully pivoted and saved to 'pivoted_data.csv'\n",
      "  fetal_health                  Feature  Value\n",
      "0      Suspect  baseline_value_FHR(BPM)  120.0\n",
      "1       Normal  baseline_value_FHR(BPM)  132.0\n",
      "2       Normal  baseline_value_FHR(BPM)  133.0\n",
      "3       Normal  baseline_value_FHR(BPM)  134.0\n",
      "4       Normal  baseline_value_FHR(BPM)  132.0\n"
     ]
    }
   ],
   "source": [
    "df_long_2 = pd.melt(df, id_vars=['fetal_health'], var_name='Feature', value_name='Value')\n",
    "\n",
    "# Save the pivoted data to a new CSV file\n",
    "df_long_2.to_csv('pivoted_data_2.csv', index=False)\n",
    "\n",
    "print(\"Data has been successfully pivoted and saved to 'pivoted_data.csv'\")\n",
    "\n",
    "# Optional: Check the first few rows of the pivoted DataFrame to confirm\n",
    "print(df_long_2.head())"
   ]
  },
  {
   "cell_type": "code",
   "execution_count": 7,
   "id": "c3cba164-5bce-415f-8003-88a11fd372f4",
   "metadata": {},
   "outputs": [
    {
     "data": {
      "text/plain": [
       "<bound method Series.info of 0       Suspect\n",
       "1        Normal\n",
       "2        Normal\n",
       "3        Normal\n",
       "4        Normal\n",
       "         ...   \n",
       "2108    Suspect\n",
       "2109    Suspect\n",
       "2110    Suspect\n",
       "2111    Suspect\n",
       "2112     Normal\n",
       "Name: fetal_health, Length: 2113, dtype: object>"
      ]
     },
     "execution_count": 7,
     "metadata": {},
     "output_type": "execute_result"
    }
   ],
   "source": [
    "df['fetal_health'].info\n"
   ]
  },
  {
   "cell_type": "code",
   "execution_count": 31,
   "id": "041b0b19-0cbe-4058-b5db-081c1ce21d85",
   "metadata": {},
   "outputs": [
    {
     "data": {
      "text/plain": [
       "Index(['baseline_value_FHR(BPM)', 'accelerations', 'fetal_movement',\n",
       "       'uterine_contractions', 'light_decelerations', 'severe_decelerations',\n",
       "       'prolongued_decelerations', 'abnormal_short_term_variability',\n",
       "       'mean_abnormal_short_term_variability',\n",
       "       'percentage_of_time_with_abnormal_long_term_variability',\n",
       "       'mean_abnormal_long_term_variability', 'FHR_width', 'FHR_min',\n",
       "       'FHR_max', 'FHR_n_of_peaks', 'FHR_n_of_zeros', 'FHR_mode', 'FHR_mean',\n",
       "       'FHR_median', 'FHR_variance', 'FHR_tendency', 'fetal_health'],\n",
       "      dtype='object')"
      ]
     },
     "execution_count": 31,
     "metadata": {},
     "output_type": "execute_result"
    }
   ],
   "source": [
    "df.columns"
   ]
  },
  {
   "cell_type": "code",
   "execution_count": null,
   "id": "db224417-03b9-4891-827f-57be7145cbf2",
   "metadata": {},
   "outputs": [],
   "source": [
    "# remake target col numerical to show correlations\n",
    "import warnings\n",
    "warnings.filterwarnings('ignore')\n",
    "\n",
    "df['fetal_health'].replace({'Normal':1,'Suspect':2 ,'Pathological':3},inplace=True)\n",
    "print(df['fetal_health'].value_counts())\n",
    "print(df['fetal_health'].dtype)"
   ]
  },
  {
   "cell_type": "code",
   "execution_count": 14,
   "id": "a0ed0e44-351e-4fe9-8fb9-87062aa598d7",
   "metadata": {},
   "outputs": [
    {
     "data": {
      "text/plain": [
       "fetal_health\n",
       "Normal          1646\n",
       "Suspect          292\n",
       "Pathological     175\n",
       "Name: count, dtype: int64"
      ]
     },
     "execution_count": 14,
     "metadata": {},
     "output_type": "execute_result"
    }
   ],
   "source": [
    "#solve imbalance problem using smote\n",
    "# reconvert into objects\n",
    "df['fetal_health'] = df['fetal_health'].replace({1:'Normal',2:'Suspect' ,3:'Pathological'})\n",
    "#df['fetal_health'] = df['fetal_health'].astype(object)\n",
    "X = df.drop('fetal_health', axis=1) \n",
    "y = df['fetal_health']\n",
    "\n",
    "# Split the data into training and test sets\n",
    "X_train, X_test, y_train, y_test = train_test_split(X, y, test_size=0.2, random_state=42,stratify=y)\n",
    "X_test= pd.DataFrame(X_test, columns=X.columns)\n",
    "df['fetal_health'].value_counts()"
   ]
  },
  {
   "cell_type": "code",
   "execution_count": 16,
   "id": "f2a82fad-a15a-433b-87a2-ac28edd6998e",
   "metadata": {},
   "outputs": [
    {
     "name": "stdout",
     "output_type": "stream",
     "text": [
      "Before SMOTE: Counter({'Normal': 1316, 'Suspect': 234, 'Pathological': 140})\n",
      "After SMOTE: Counter({'Normal': 1316, 'Suspect': 1316, 'Pathological': 1316})\n"
     ]
    }
   ],
   "source": [
    "smote = SMOTE(random_state=42)\n",
    "print(\"Before SMOTE:\", Counter(y_train))\n",
    "X_train, y_train = smote.fit_resample(X_train, y_train)\n",
    "print(\"After SMOTE:\", Counter(y_train))\n",
    "\n",
    "resampled_df = pd.DataFrame(X_train, columns=X.columns)\n",
    "resampled_df['fetal_health'] = y_train"
   ]
  },
  {
   "cell_type": "code",
   "execution_count": 20,
   "id": "c1468129-e8c5-4e01-af5f-9fef49002ea2",
   "metadata": {},
   "outputs": [],
   "source": [
    "from sklearn.feature_selection import SelectKBest\n",
    "from sklearn.feature_selection import f_classif\n",
    "from sklearn.model_selection import learning_curve\n",
    "bestfeatures = SelectKBest(score_func=f_classif, k='all')\n",
    "\n",
    "fit = bestfeatures.fit(X, y)\n",
    "dfscores = pd.DataFrame(fit.scores_)\n",
    "dfcolumns = pd.DataFrame(X.columns)"
   ]
  },
  {
   "cell_type": "code",
   "execution_count": 30,
   "id": "f7cc8701-2751-4922-8251-107e6c6e97f6",
   "metadata": {},
   "outputs": [
    {
     "name": "stdout",
     "output_type": "stream",
     "text": [
      "                                              Feature       Score\n",
      "6                            prolongued_decelerations  507.304309\n",
      "7                     abnormal_short_term_variability  337.703020\n",
      "9   percentage_of_time_with_abnormal_long_term_var...  335.386156\n",
      "17                                           FHR_mean  298.759569\n",
      "16                                           FHR_mode  276.382795\n",
      "18                                         FHR_median  249.699523\n",
      "1                                       accelerations  194.618345\n",
      "19                                       FHR_variance  150.955827\n",
      "0                             baseline_value_FHR(BPM)  137.833999\n",
      "8                mean_abnormal_short_term_variability  118.050463\n",
      "3                                uterine_contractions   93.647474\n",
      "12                                            FHR_min   86.468440\n",
      "10                mean_abnormal_long_term_variability   69.418940\n",
      "4                                 light_decelerations   66.750344\n",
      "11                                          FHR_width   54.215605\n",
      "20                                       FHR_tendency   44.854186\n",
      "5                                severe_decelerations   28.438837\n",
      "14                                     FHR_n_of_peaks   11.726828\n",
      "2                                      fetal_movement   11.700712\n",
      "13                                            FHR_max    2.523350\n",
      "15                                     FHR_n_of_zeros    2.134901\n"
     ]
    }
   ],
   "source": [
    "# Concatenate two dataframes for better understanding\n",
    "featureScores = pd.concat([dfcolumns, dfscores], axis=1)\n",
    "featureScores.columns = ['Feature', 'Score']\n",
    "\n",
    "# Sort features based on importance scores\n",
    "featureScores = featureScores.sort_values(by='Score', ascending=False)\n",
    "print(featureScores)\n",
    "\n",
    "featureScores.to_csv(\"FeatureImportanceBeforeML.csv\")"
   ]
  },
  {
   "cell_type": "code",
   "execution_count": 24,
   "id": "9d900cb8-7479-4f16-b905-f38ef638971b",
   "metadata": {},
   "outputs": [
    {
     "data": {
      "text/plain": [
       "Text(0.5, 1.0, 'Feature Importance')"
      ]
     },
     "execution_count": 24,
     "metadata": {},
     "output_type": "execute_result"
    },
    {
     "data": {
      "image/png": "[encoded data removed]",
      "text/plain": [
       "<Figure size 1500x1000 with 1 Axes>"
      ]
     },
     "metadata": {},
     "output_type": "display_data"
    }
   ],
   "source": [
    "# Visualize the importance scores\n",
    "fig, ax = plt.subplots(figsize=(15, 10))\n",
    "plot = sns.barplot(data=featureScores, x='Score', y='Feature', palette='coolwarm', linewidth=0.5, saturation=2,\n",
    "                   orient='h')\n",
    "\n",
    "plt.title('Feature Importance',\n",
    "          fontsize=24,\n",
    "          fontweight='bold')"
   ]
  }
 ],
 "metadata": {
  "kernelspec": {
   "display_name": "venv",
   "language": "python",
   "name": "venv"
  },
  "language_info": {
   "codemirror_mode": {
    "name": "ipython",
    "version": 3
   },
   "file_extension": ".py",
   "mimetype": "text/x-python",
   "name": "python",
   "nbconvert_exporter": "python",
   "pygments_lexer": "ipython3",
   "version": "3.12.4"
  }
 },
 "nbformat": 4,
 "nbformat_minor": 5
}
