{
 "cells": [
  {
   "cell_type": "code",
   "execution_count": 53,
   "id": "38b31641-a855-4062-ba13-8fee72119bca",
   "metadata": {},
   "outputs": [],
   "source": [
    "import pandas as pd\n",
    "import numpy as np\n",
    "import seaborn as sns\n",
    "sns.set_theme(color_codes=True)\n",
    "import matplotlib.pyplot as plt\n",
    "from sklearn.model_selection import train_test_split, cross_val_score\n",
    "from sklearn.linear_model import LinearRegression\n",
    "from sklearn.ensemble import RandomForestRegressor\n",
    "from sklearn.ensemble import GradientBoostingRegressor\n",
    "from sklearn.metrics import mean_squared_error, mean_absolute_percentage_error, r2_score, get_scorer_names\n",
    "from scipy.stats import shapiro\n",
    "from sklearn.model_selection import GridSearchCV"
   ]
  },
  {
   "cell_type": "code",
   "execution_count": 54,
   "id": "88b8c0e9-d199-431e-b87c-8c9f6dd953cc",
   "metadata": {},
   "outputs": [
    {
     "data": {
      "text/html": [
       "<div>\n",
       "<style scoped>\n",
       "    .dataframe tbody tr th:only-of-type {\n",
       "        vertical-align: middle;\n",
       "    }\n",
       "\n",
       "    .dataframe tbody tr th {\n",
       "        vertical-align: top;\n",
       "    }\n",
       "\n",
       "    .dataframe thead th {\n",
       "        text-align: right;\n",
       "    }\n",
       "</style>\n",
       "<table border=\"1\" class=\"dataframe\">\n",
       "  <thead>\n",
       "    <tr style=\"text-align: right;\">\n",
       "      <th></th>\n",
       "      <th>ID</th>\n",
       "      <th>Age</th>\n",
       "      <th>Gender</th>\n",
       "      <th>Bedtime</th>\n",
       "      <th>Wakeup time</th>\n",
       "      <th>Sleep duration</th>\n",
       "      <th>Sleep efficiency</th>\n",
       "      <th>REM sleep percentage</th>\n",
       "      <th>Deep sleep percentage</th>\n",
       "      <th>Light sleep percentage</th>\n",
       "      <th>Awakenings</th>\n",
       "      <th>Caffeine consumption</th>\n",
       "      <th>Alcohol consumption</th>\n",
       "      <th>Smoking status</th>\n",
       "      <th>Exercise frequency</th>\n",
       "    </tr>\n",
       "  </thead>\n",
       "  <tbody>\n",
       "    <tr>\n",
       "      <th>0</th>\n",
       "      <td>1</td>\n",
       "      <td>65</td>\n",
       "      <td>Female</td>\n",
       "      <td>2021-03-06 01:00:00</td>\n",
       "      <td>2021-03-06 07:00:00</td>\n",
       "      <td>6.0</td>\n",
       "      <td>0.88</td>\n",
       "      <td>18</td>\n",
       "      <td>70</td>\n",
       "      <td>12</td>\n",
       "      <td>0.0</td>\n",
       "      <td>0.0</td>\n",
       "      <td>0.0</td>\n",
       "      <td>Yes</td>\n",
       "      <td>3.0</td>\n",
       "    </tr>\n",
       "    <tr>\n",
       "      <th>1</th>\n",
       "      <td>2</td>\n",
       "      <td>69</td>\n",
       "      <td>Male</td>\n",
       "      <td>2021-12-05 02:00:00</td>\n",
       "      <td>2021-12-05 09:00:00</td>\n",
       "      <td>7.0</td>\n",
       "      <td>0.66</td>\n",
       "      <td>19</td>\n",
       "      <td>28</td>\n",
       "      <td>53</td>\n",
       "      <td>3.0</td>\n",
       "      <td>0.0</td>\n",
       "      <td>3.0</td>\n",
       "      <td>Yes</td>\n",
       "      <td>3.0</td>\n",
       "    </tr>\n",
       "    <tr>\n",
       "      <th>2</th>\n",
       "      <td>3</td>\n",
       "      <td>40</td>\n",
       "      <td>Female</td>\n",
       "      <td>2021-05-25 21:30:00</td>\n",
       "      <td>2021-05-25 05:30:00</td>\n",
       "      <td>8.0</td>\n",
       "      <td>0.89</td>\n",
       "      <td>20</td>\n",
       "      <td>70</td>\n",
       "      <td>10</td>\n",
       "      <td>1.0</td>\n",
       "      <td>0.0</td>\n",
       "      <td>0.0</td>\n",
       "      <td>No</td>\n",
       "      <td>3.0</td>\n",
       "    </tr>\n",
       "    <tr>\n",
       "      <th>3</th>\n",
       "      <td>4</td>\n",
       "      <td>40</td>\n",
       "      <td>Female</td>\n",
       "      <td>2021-11-03 02:30:00</td>\n",
       "      <td>2021-11-03 08:30:00</td>\n",
       "      <td>6.0</td>\n",
       "      <td>0.51</td>\n",
       "      <td>23</td>\n",
       "      <td>25</td>\n",
       "      <td>52</td>\n",
       "      <td>3.0</td>\n",
       "      <td>50.0</td>\n",
       "      <td>5.0</td>\n",
       "      <td>Yes</td>\n",
       "      <td>1.0</td>\n",
       "    </tr>\n",
       "    <tr>\n",
       "      <th>4</th>\n",
       "      <td>5</td>\n",
       "      <td>57</td>\n",
       "      <td>Male</td>\n",
       "      <td>2021-03-13 01:00:00</td>\n",
       "      <td>2021-03-13 09:00:00</td>\n",
       "      <td>8.0</td>\n",
       "      <td>0.76</td>\n",
       "      <td>27</td>\n",
       "      <td>55</td>\n",
       "      <td>18</td>\n",
       "      <td>3.0</td>\n",
       "      <td>0.0</td>\n",
       "      <td>3.0</td>\n",
       "      <td>No</td>\n",
       "      <td>3.0</td>\n",
       "    </tr>\n",
       "    <tr>\n",
       "      <th>...</th>\n",
       "      <td>...</td>\n",
       "      <td>...</td>\n",
       "      <td>...</td>\n",
       "      <td>...</td>\n",
       "      <td>...</td>\n",
       "      <td>...</td>\n",
       "      <td>...</td>\n",
       "      <td>...</td>\n",
       "      <td>...</td>\n",
       "      <td>...</td>\n",
       "      <td>...</td>\n",
       "      <td>...</td>\n",
       "      <td>...</td>\n",
       "      <td>...</td>\n",
       "      <td>...</td>\n",
       "    </tr>\n",
       "    <tr>\n",
       "      <th>447</th>\n",
       "      <td>448</td>\n",
       "      <td>27</td>\n",
       "      <td>Female</td>\n",
       "      <td>2021-11-13 22:00:00</td>\n",
       "      <td>2021-11-13 05:30:00</td>\n",
       "      <td>7.5</td>\n",
       "      <td>0.91</td>\n",
       "      <td>22</td>\n",
       "      <td>57</td>\n",
       "      <td>21</td>\n",
       "      <td>0.0</td>\n",
       "      <td>0.0</td>\n",
       "      <td>0.0</td>\n",
       "      <td>No</td>\n",
       "      <td>5.0</td>\n",
       "    </tr>\n",
       "    <tr>\n",
       "      <th>448</th>\n",
       "      <td>449</td>\n",
       "      <td>52</td>\n",
       "      <td>Male</td>\n",
       "      <td>2021-03-31 21:00:00</td>\n",
       "      <td>2021-03-31 03:00:00</td>\n",
       "      <td>6.0</td>\n",
       "      <td>0.74</td>\n",
       "      <td>28</td>\n",
       "      <td>57</td>\n",
       "      <td>15</td>\n",
       "      <td>4.0</td>\n",
       "      <td>25.0</td>\n",
       "      <td>0.0</td>\n",
       "      <td>No</td>\n",
       "      <td>3.0</td>\n",
       "    </tr>\n",
       "    <tr>\n",
       "      <th>449</th>\n",
       "      <td>450</td>\n",
       "      <td>40</td>\n",
       "      <td>Female</td>\n",
       "      <td>2021-09-07 23:00:00</td>\n",
       "      <td>2021-09-07 07:30:00</td>\n",
       "      <td>8.5</td>\n",
       "      <td>0.55</td>\n",
       "      <td>20</td>\n",
       "      <td>32</td>\n",
       "      <td>48</td>\n",
       "      <td>1.0</td>\n",
       "      <td>NaN</td>\n",
       "      <td>3.0</td>\n",
       "      <td>Yes</td>\n",
       "      <td>0.0</td>\n",
       "    </tr>\n",
       "    <tr>\n",
       "      <th>450</th>\n",
       "      <td>451</td>\n",
       "      <td>45</td>\n",
       "      <td>Male</td>\n",
       "      <td>2021-07-29 21:00:00</td>\n",
       "      <td>2021-07-29 04:00:00</td>\n",
       "      <td>7.0</td>\n",
       "      <td>0.76</td>\n",
       "      <td>18</td>\n",
       "      <td>72</td>\n",
       "      <td>10</td>\n",
       "      <td>3.0</td>\n",
       "      <td>0.0</td>\n",
       "      <td>0.0</td>\n",
       "      <td>No</td>\n",
       "      <td>3.0</td>\n",
       "    </tr>\n",
       "    <tr>\n",
       "      <th>451</th>\n",
       "      <td>452</td>\n",
       "      <td>18</td>\n",
       "      <td>Male</td>\n",
       "      <td>2021-03-17 02:30:00</td>\n",
       "      <td>2021-03-17 10:00:00</td>\n",
       "      <td>7.5</td>\n",
       "      <td>0.63</td>\n",
       "      <td>22</td>\n",
       "      <td>23</td>\n",
       "      <td>55</td>\n",
       "      <td>1.0</td>\n",
       "      <td>50.0</td>\n",
       "      <td>0.0</td>\n",
       "      <td>No</td>\n",
       "      <td>1.0</td>\n",
       "    </tr>\n",
       "  </tbody>\n",
       "</table>\n",
       "<p>452 rows × 15 columns</p>\n",
       "</div>"
      ],
      "text/plain": [
       "      ID  Age  Gender              Bedtime          Wakeup time  \\\n",
       "0      1   65  Female  2021-03-06 01:00:00  2021-03-06 07:00:00   \n",
       "1      2   69    Male  2021-12-05 02:00:00  2021-12-05 09:00:00   \n",
       "2      3   40  Female  2021-05-25 21:30:00  2021-05-25 05:30:00   \n",
       "3      4   40  Female  2021-11-03 02:30:00  2021-11-03 08:30:00   \n",
       "4      5   57    Male  2021-03-13 01:00:00  2021-03-13 09:00:00   \n",
       "..   ...  ...     ...                  ...                  ...   \n",
       "447  448   27  Female  2021-11-13 22:00:00  2021-11-13 05:30:00   \n",
       "448  449   52    Male  2021-03-31 21:00:00  2021-03-31 03:00:00   \n",
       "449  450   40  Female  2021-09-07 23:00:00  2021-09-07 07:30:00   \n",
       "450  451   45    Male  2021-07-29 21:00:00  2021-07-29 04:00:00   \n",
       "451  452   18    Male  2021-03-17 02:30:00  2021-03-17 10:00:00   \n",
       "\n",
       "     Sleep duration  Sleep efficiency  REM sleep percentage  \\\n",
       "0               6.0              0.88                    18   \n",
       "1               7.0              0.66                    19   \n",
       "2               8.0              0.89                    20   \n",
       "3               6.0              0.51                    23   \n",
       "4               8.0              0.76                    27   \n",
       "..              ...               ...                   ...   \n",
       "447             7.5              0.91                    22   \n",
       "448             6.0              0.74                    28   \n",
       "449             8.5              0.55                    20   \n",
       "450             7.0              0.76                    18   \n",
       "451             7.5              0.63                    22   \n",
       "\n",
       "     Deep sleep percentage  Light sleep percentage  Awakenings  \\\n",
       "0                       70                      12         0.0   \n",
       "1                       28                      53         3.0   \n",
       "2                       70                      10         1.0   \n",
       "3                       25                      52         3.0   \n",
       "4                       55                      18         3.0   \n",
       "..                     ...                     ...         ...   \n",
       "447                     57                      21         0.0   \n",
       "448                     57                      15         4.0   \n",
       "449                     32                      48         1.0   \n",
       "450                     72                      10         3.0   \n",
       "451                     23                      55         1.0   \n",
       "\n",
       "     Caffeine consumption  Alcohol consumption Smoking status  \\\n",
       "0                     0.0                  0.0            Yes   \n",
       "1                     0.0                  3.0            Yes   \n",
       "2                     0.0                  0.0             No   \n",
       "3                    50.0                  5.0            Yes   \n",
       "4                     0.0                  3.0             No   \n",
       "..                    ...                  ...            ...   \n",
       "447                   0.0                  0.0             No   \n",
       "448                  25.0                  0.0             No   \n",
       "449                   NaN                  3.0            Yes   \n",
       "450                   0.0                  0.0             No   \n",
       "451                  50.0                  0.0             No   \n",
       "\n",
       "     Exercise frequency  \n",
       "0                   3.0  \n",
       "1                   3.0  \n",
       "2                   3.0  \n",
       "3                   1.0  \n",
       "4                   3.0  \n",
       "..                  ...  \n",
       "447                 5.0  \n",
       "448                 3.0  \n",
       "449                 0.0  \n",
       "450                 3.0  \n",
       "451                 1.0  \n",
       "\n",
       "[452 rows x 15 columns]"
      ]
     },
     "execution_count": 54,
     "metadata": {},
     "output_type": "execute_result"
    }
   ],
   "source": [
    "df = pd.read_csv(\"../Data/Raw/Sleep_Efficiency.csv\")\n",
    "df"
   ]
  },
  {
   "cell_type": "code",
   "execution_count": 116,
   "id": "477784b8-226a-4de7-a6b7-0c6af9082371",
   "metadata": {},
   "outputs": [
    {
     "data": {
      "text/plain": [
       "(452, 15)"
      ]
     },
     "execution_count": 116,
     "metadata": {},
     "output_type": "execute_result"
    }
   ],
   "source": [
    "df.shape"
   ]
  },
  {
   "cell_type": "code",
   "execution_count": 55,
   "id": "65a70dcf-a538-45a5-83d2-b8dd09c2fe22",
   "metadata": {},
   "outputs": [
    {
     "data": {
      "text/plain": [
       "ID                         0\n",
       "Age                        0\n",
       "Gender                     0\n",
       "Bedtime                    0\n",
       "Wakeup time                0\n",
       "Sleep duration             0\n",
       "Sleep efficiency           0\n",
       "REM sleep percentage       0\n",
       "Deep sleep percentage      0\n",
       "Light sleep percentage     0\n",
       "Awakenings                20\n",
       "Caffeine consumption      25\n",
       "Alcohol consumption       14\n",
       "Smoking status             0\n",
       "Exercise frequency         6\n",
       "dtype: int64"
      ]
     },
     "execution_count": 55,
     "metadata": {},
     "output_type": "execute_result"
    }
   ],
   "source": [
    "df.isna().sum()"
   ]
  },
  {
   "cell_type": "code",
   "execution_count": 56,
   "id": "2dc824aa-df56-4eb6-800f-e63bf6e0d70c",
   "metadata": {},
   "outputs": [
    {
     "data": {
      "text/plain": [
       "Index(['ID', 'Age', 'Gender', 'Bedtime', 'Wakeup time', 'Sleep duration',\n",
       "       'Sleep efficiency', 'REM sleep percentage', 'Deep sleep percentage',\n",
       "       'Light sleep percentage', 'Awakenings', 'Caffeine consumption',\n",
       "       'Alcohol consumption', 'Smoking status', 'Exercise frequency'],\n",
       "      dtype='object')"
      ]
     },
     "execution_count": 56,
     "metadata": {},
     "output_type": "execute_result"
    }
   ],
   "source": [
    "df.columns"
   ]
  },
  {
   "cell_type": "code",
   "execution_count": 124,
   "id": "808bf0a5-7699-4547-90eb-06f42ebaf7e1",
   "metadata": {},
   "outputs": [
    {
     "data": {
      "text/plain": [
       "Index(['Age', 'Gender', 'Bedtime', 'Wakeup time', 'Sleep duration',\n",
       "       'Sleep efficiency', 'REM sleep percentage', 'Deep sleep percentage',\n",
       "       'Light sleep percentage', 'Awakenings', 'Caffeine consumption',\n",
       "       'Alcohol consumption', 'Smoking status', 'Exercise frequency'],\n",
       "      dtype='object')"
      ]
     },
     "execution_count": 124,
     "metadata": {},
     "output_type": "execute_result"
    }
   ],
   "source": [
    "df.drop(columns='ID', inplace=True)\n",
    "df.columns"
   ]
  },
  {
   "cell_type": "code",
   "execution_count": 121,
   "id": "02480ef7-1796-4617-b1a4-cb8035f2522f",
   "metadata": {},
   "outputs": [
    {
     "data": {
      "text/plain": [
       "Gender              2\n",
       "Bedtime           424\n",
       "Wakeup time       434\n",
       "Smoking status      2\n",
       "dtype: int64"
      ]
     },
     "execution_count": 121,
     "metadata": {},
     "output_type": "execute_result"
    }
   ],
   "source": [
    "df.select_dtypes(include='object').nunique()"
   ]
  },
  {
   "cell_type": "code",
   "execution_count": 57,
   "id": "1ad59d1b-fc3a-415c-b9c6-9aff3d746aa4",
   "metadata": {},
   "outputs": [
    {
     "data": {
      "text/plain": [
       "array(['Female', 'Male'], dtype=object)"
      ]
     },
     "execution_count": 57,
     "metadata": {},
     "output_type": "execute_result"
    }
   ],
   "source": [
    "df.Gender.unique()"
   ]
  },
  {
   "cell_type": "code",
   "execution_count": 58,
   "id": "74646435-c800-40cb-8217-394924d28677",
   "metadata": {},
   "outputs": [
    {
     "name": "stdout",
     "output_type": "stream",
     "text": [
      "<class 'pandas.core.frame.DataFrame'>\n",
      "RangeIndex: 452 entries, 0 to 451\n",
      "Data columns (total 15 columns):\n",
      " #   Column                  Non-Null Count  Dtype  \n",
      "---  ------                  --------------  -----  \n",
      " 0   ID                      452 non-null    int64  \n",
      " 1   Age                     452 non-null    int64  \n",
      " 2   Gender                  452 non-null    object \n",
      " 3   Bedtime                 452 non-null    object \n",
      " 4   Wakeup time             452 non-null    object \n",
      " 5   Sleep duration          452 non-null    float64\n",
      " 6   Sleep efficiency        452 non-null    float64\n",
      " 7   REM sleep percentage    452 non-null    int64  \n",
      " 8   Deep sleep percentage   452 non-null    int64  \n",
      " 9   Light sleep percentage  452 non-null    int64  \n",
      " 10  Awakenings              432 non-null    float64\n",
      " 11  Caffeine consumption    427 non-null    float64\n",
      " 12  Alcohol consumption     438 non-null    float64\n",
      " 13  Smoking status          452 non-null    object \n",
      " 14  Exercise frequency      446 non-null    float64\n",
      "dtypes: float64(6), int64(5), object(4)\n",
      "memory usage: 53.1+ KB\n"
     ]
    }
   ],
   "source": [
    "df.info()"
   ]
  },
  {
   "cell_type": "code",
   "execution_count": 59,
   "id": "540b004e-56ac-416d-8082-2cd31af566ef",
   "metadata": {},
   "outputs": [],
   "source": [
    "# filling missing values with the median values of the feature to preserve categoricalness\n",
    "df['Awakenings'] = df['Awakenings'].fillna(df['Awakenings'].median())\n",
    "df['Alcohol consumption'] = df['Alcohol consumption'].fillna(df['Alcohol consumption'].median())\n",
    "df['Caffeine consumption'] = df['Caffeine consumption'].fillna(df['Caffeine consumption'].median())\n",
    "df['Exercise frequency'] = df['Exercise frequency'].fillna(df['Exercise frequency'].median())\n"
   ]
  },
  {
   "cell_type": "code",
   "execution_count": 60,
   "id": "59b0e723-7cf7-4811-9243-76e087d3609a",
   "metadata": {},
   "outputs": [
    {
     "data": {
      "text/plain": [
       "ID                        0\n",
       "Age                       0\n",
       "Gender                    0\n",
       "Bedtime                   0\n",
       "Wakeup time               0\n",
       "Sleep duration            0\n",
       "Sleep efficiency          0\n",
       "REM sleep percentage      0\n",
       "Deep sleep percentage     0\n",
       "Light sleep percentage    0\n",
       "Awakenings                0\n",
       "Caffeine consumption      0\n",
       "Alcohol consumption       0\n",
       "Smoking status            0\n",
       "Exercise frequency        0\n",
       "dtype: int64"
      ]
     },
     "execution_count": 60,
     "metadata": {},
     "output_type": "execute_result"
    }
   ],
   "source": [
    "df.isna().sum()"
   ]
  },
  {
   "cell_type": "code",
   "execution_count": 127,
   "id": "844143b1-9ac4-41b3-8ccc-7c98e1e581d5",
   "metadata": {},
   "outputs": [
    {
     "data": {
      "text/plain": [
       "Index(['Age', 'Gender', 'Bedtime', 'Wakeup time', 'Sleep duration',\n",
       "       'Sleep efficiency', 'REM sleep percentage', 'Deep sleep percentage',\n",
       "       'Light sleep percentage', 'Awakenings', 'Caffeine consumption',\n",
       "       'Alcohol consumption', 'Smoking status', 'Exercise frequency'],\n",
       "      dtype='object')"
      ]
     },
     "execution_count": 127,
     "metadata": {},
     "output_type": "execute_result"
    }
   ],
   "source": [
    "df.columns"
   ]
  },
  {
   "cell_type": "code",
   "execution_count": 136,
   "id": "17063a54-7e4d-4b07-95e1-d9a924a1b935",
   "metadata": {},
   "outputs": [
    {
     "data": {
      "text/plain": [
       "Index(['Gender', 'Bedtime', 'Wakeup time', 'Smoking status'], dtype='object')"
      ]
     },
     "execution_count": 136,
     "metadata": {},
     "output_type": "execute_result"
    }
   ],
   "source": [
    "df.select_dtypes(include = \"object\").columns"
   ]
  },
  {
   "cell_type": "code",
   "execution_count": 138,
   "id": "125e34dd-c861-45a8-a8af-9d03cc10598c",
   "metadata": {},
   "outputs": [
    {
     "data": {
      "image/png": "[encoded data removed]",
      "text/plain": [
       "<Figure size 1500x1500 with 2 Axes>"
      ]
     },
     "metadata": {},
     "output_type": "display_data"
    }
   ],
   "source": [
    "#Specify the maximum number of categories to show individually\n",
    "max_categories = 5\n",
    "\n",
    "vars = ['Gender', 'Smoking status']\n",
    "\n",
    "# Create a figure and axes\n",
    "fig, axs = plt.subplots(nrows=1, ncols=2, figsize=(15, 15))\n",
    "\n",
    "# Create a pie chart for each categorical variable\n",
    "for i, var in enumerate(vars):\n",
    "    if i < len(axs.flat):\n",
    "        # Count the number of occurrences for each category\n",
    "        cat_counts = df[var].value_counts()\n",
    "\n",
    "        # Group categories beyond the top max_categories as 'Other'\n",
    "        if len(cat_counts) > max_categories:\n",
    "            cat_counts_top = cat_counts[:max_categories]\n",
    "            cat_counts_other = pd.Series(cat_counts[max_categories:].sum(), index=['Other'])\n",
    "        \n",
    "            cat_counts = pd.concat([cat_counts_top, cat_counts_other])\n",
    "\n",
    "        # Create a pie chart\n",
    "        axs.flat[i].pie(cat_counts, labels=cat_counts.index, autopct='%1.1f%%', startangle=90)\n",
    "\n",
    "        # Set a title for each subplot\n",
    "        axs.flat[i].set_title(f'{var} Distribution')\n",
    "\n",
    "# Adjust spacing between subplots\n",
    "fig.tight_layout()\n",
    "\n",
    "# Show the plot\n",
    "plt.show()"
   ]
  },
  {
   "cell_type": "code",
   "execution_count": 61,
   "id": "66349c6d-de86-4f46-b057-8ce8429a1276",
   "metadata": {},
   "outputs": [
    {
     "data": {
      "application/vnd.plotly.v1+json": {
       "config": {
        "plotlyServerURL": "https://plot.ly"
       },
       "data": [
        {
         "alignmentgroup": "True",
         "bingroup": "x",
         "hovertemplate": "Sleep duration=%{x}<br>count=%{y}<extra></extra>",
         "legendgroup": "",
         "marker": {
          "color": "#636efa",
          "pattern": {
           "shape": ""
          }
         },
         "name": "",
         "nbinsx": 20,
         "offsetgroup": "",
         "orientation": "v",
         "showlegend": false,
         "type": "histogram",
         "x": [
          6,
          7,
          8,
          6,
          8,
          7.5,
          6,
          10,
          6,
          9,
          8,
          7.5,
          9,
          8.5,
          8.5,
          7.5,
          7,
          7.5,
          9,
          7,
          8,
          7.5,
          8,
          8,
          7,
          6,
          7,
          7,
          9,
          7,
          7,
          8,
          7,
          7,
          7.5,
          7,
          7,
          9,
          7.5,
          7,
          6,
          6,
          10,
          7.5,
          8,
          7,
          8,
          7.5,
          8,
          7,
          7,
          7.5,
          8.5,
          8.5,
          7.5,
          9,
          8,
          7.5,
          7,
          7.5,
          7.5,
          7,
          8,
          7.5,
          7.5,
          8,
          7,
          7.5,
          7,
          6,
          7.5,
          7,
          6,
          7.5,
          7,
          8.5,
          7,
          9,
          7,
          7.5,
          8.5,
          7.5,
          7.5,
          8,
          6,
          7.5,
          7,
          7,
          7.5,
          7.5,
          5,
          8,
          7,
          7,
          7.5,
          7,
          7,
          7.5,
          9,
          8,
          8,
          8.5,
          8,
          6,
          6,
          8,
          7,
          8.5,
          8,
          7.5,
          5,
          7,
          8,
          6,
          8.5,
          7,
          8,
          8,
          7,
          7,
          6,
          8,
          7,
          8.5,
          7,
          8,
          7,
          7,
          9,
          7,
          8,
          8,
          7.5,
          8,
          7,
          7,
          7,
          7,
          7.5,
          9,
          8.5,
          6,
          7,
          7,
          7,
          7,
          8,
          8,
          8,
          7.5,
          8.5,
          7,
          7.5,
          7.5,
          7.5,
          7.5,
          7.5,
          7,
          7,
          8.5,
          7,
          7.5,
          7,
          7,
          8,
          7,
          7,
          7,
          7.5,
          7,
          8,
          7.5,
          8,
          6,
          8,
          7,
          7.5,
          7,
          8,
          6,
          7.5,
          7,
          7.5,
          8,
          7.5,
          7.5,
          7,
          7,
          8,
          7,
          7.5,
          8,
          7,
          7,
          8,
          7,
          8,
          6,
          5,
          7,
          7,
          8,
          6,
          8,
          7,
          6,
          7,
          7,
          8,
          9,
          7,
          7,
          7.5,
          5,
          7.5,
          7,
          6,
          7.5,
          7,
          8,
          7,
          8.5,
          8,
          8.5,
          6,
          8,
          7.5,
          7,
          8,
          7,
          7.5,
          8,
          5,
          8,
          9,
          7,
          7.5,
          7.5,
          8.5,
          8,
          7,
          8.5,
          8,
          7,
          7,
          8.5,
          8.5,
          8,
          7.5,
          10,
          7,
          8.5,
          7,
          6,
          7,
          7,
          7,
          8,
          8,
          7.5,
          7,
          7,
          9,
          9,
          7,
          7.5,
          7,
          8,
          8.5,
          7,
          8,
          7,
          9,
          7,
          7,
          7,
          8,
          8,
          8,
          7,
          7.5,
          7.5,
          7,
          8.5,
          7,
          6,
          8,
          7.5,
          7,
          7,
          8,
          7.5,
          6,
          7,
          7,
          8,
          7,
          8,
          8.5,
          8,
          7,
          8.5,
          7,
          10,
          8,
          5,
          6,
          9,
          7,
          7.5,
          10,
          7,
          9,
          7,
          7,
          8,
          7.5,
          7.5,
          8,
          7,
          7,
          7.5,
          7.5,
          7.5,
          6,
          7,
          7.5,
          7.5,
          8,
          7.5,
          5.5,
          8,
          9,
          7.5,
          8.5,
          10,
          7,
          8,
          10,
          5.5,
          7,
          8,
          8,
          7,
          9,
          7,
          7,
          8,
          7,
          7.5,
          7,
          7.5,
          8,
          7.5,
          7,
          7,
          8,
          9,
          7,
          9,
          9,
          6,
          7.5,
          10,
          8,
          7,
          8,
          5,
          7.5,
          6,
          7,
          7,
          8,
          8,
          7.5,
          9,
          8,
          8,
          7,
          7,
          7,
          7,
          7.5,
          9,
          7,
          8,
          7,
          7,
          8,
          8,
          7.5,
          5,
          7,
          7,
          8,
          8,
          7,
          8,
          7,
          7.5,
          8,
          7.5,
          8,
          8,
          6,
          5.5,
          7,
          8,
          8,
          8,
          7,
          7,
          7,
          8.5,
          8,
          7,
          7,
          7,
          9,
          8.5,
          7,
          7,
          7,
          7.5,
          8,
          6,
          7,
          8,
          8,
          7.5,
          6,
          7,
          8,
          7.5,
          8,
          7,
          8,
          8,
          6,
          7.5,
          8,
          9,
          7,
          7.5,
          7.5,
          7.5,
          7,
          7.5,
          6,
          8.5,
          7,
          7.5
         ],
         "xaxis": "x",
         "yaxis": "y"
        }
       ],
       "layout": {
        "autosize": true,
        "barmode": "relative",
        "legend": {
         "tracegroupgap": 0
        },
        "template": {
         "data": {
          "bar": [
           {
            "error_x": {
             "color": "#2a3f5f"
            },
            "error_y": {
             "color": "#2a3f5f"
            },
            "marker": {
             "line": {
              "color": "#E5ECF6",
              "width": 0.5
             },
             "pattern": {
              "fillmode": "overlay",
              "size": 10,
              "solidity": 0.2
             }
            },
            "type": "bar"
           }
          ],
          "barpolar": [
           {
            "marker": {
             "line": {
              "color": "#E5ECF6",
              "width": 0.5
             },
             "pattern": {
              "fillmode": "overlay",
              "size": 10,
              "solidity": 0.2
             }
            },
            "type": "barpolar"
           }
          ],
          "carpet": [
           {
            "aaxis": {
             "endlinecolor": "#2a3f5f",
             "gridcolor": "white",
             "linecolor": "white",
             "minorgridcolor": "white",
             "startlinecolor": "#2a3f5f"
            },
            "baxis": {
             "endlinecolor": "#2a3f5f",
             "gridcolor": "white",
             "linecolor": "white",
             "minorgridcolor": "white",
             "startlinecolor": "#2a3f5f"
            },
            "type": "carpet"
           }
          ],
          "choropleth": [
           {
            "colorbar": {
             "outlinewidth": 0,
             "ticks": ""
            },
            "type": "choropleth"
           }
          ],
          "contour": [
           {
            "colorbar": {
             "outlinewidth": 0,
             "ticks": ""
            },
            "colorscale": [
             [
              0,
              "#0d0887"
             ],
             [
              0.1111111111111111,
              "#46039f"
             ],
             [
              0.2222222222222222,
              "#7201a8"
             ],
             [
              0.3333333333333333,
              "#9c179e"
             ],
             [
              0.4444444444444444,
              "#bd3786"
             ],
             [
              0.5555555555555556,
              "#d8576b"
             ],
             [
              0.6666666666666666,
              "#ed7953"
             ],
             [
              0.7777777777777778,
              "#fb9f3a"
             ],
             [
              0.8888888888888888,
              "#fdca26"
             ],
             [
              1,
              "#f0f921"
             ]
            ],
            "type": "contour"
           }
          ],
          "contourcarpet": [
           {
            "colorbar": {
             "outlinewidth": 0,
             "ticks": ""
            },
            "type": "contourcarpet"
           }
          ],
          "heatmap": [
           {
            "colorbar": {
             "outlinewidth": 0,
             "ticks": ""
            },
            "colorscale": [
             [
              0,
              "#0d0887"
             ],
             [
              0.1111111111111111,
              "#46039f"
             ],
             [
              0.2222222222222222,
              "#7201a8"
             ],
             [
              0.3333333333333333,
              "#9c179e"
             ],
             [
              0.4444444444444444,
              "#bd3786"
             ],
             [
              0.5555555555555556,
              "#d8576b"
             ],
             [
              0.6666666666666666,
              "#ed7953"
             ],
             [
              0.7777777777777778,
              "#fb9f3a"
             ],
             [
              0.8888888888888888,
              "#fdca26"
             ],
             [
              1,
              "#f0f921"
             ]
            ],
            "type": "heatmap"
           }
          ],
          "heatmapgl": [
           {
            "colorbar": {
             "outlinewidth": 0,
             "ticks": ""
            },
            "colorscale": [
             [
              0,
              "#0d0887"
             ],
             [
              0.1111111111111111,
              "#46039f"
             ],
             [
              0.2222222222222222,
              "#7201a8"
             ],
             [
              0.3333333333333333,
              "#9c179e"
             ],
             [
              0.4444444444444444,
              "#bd3786"
             ],
             [
              0.5555555555555556,
              "#d8576b"
             ],
             [
              0.6666666666666666,
              "#ed7953"
             ],
             [
              0.7777777777777778,
              "#fb9f3a"
             ],
             [
              0.8888888888888888,
              "#fdca26"
             ],
             [
              1,
              "#f0f921"
             ]
            ],
            "type": "heatmapgl"
           }
          ],
          "histogram": [
           {
            "marker": {
             "pattern": {
              "fillmode": "overlay",
              "size": 10,
              "solidity": 0.2
             }
            },
            "type": "histogram"
           }
          ],
          "histogram2d": [
           {
            "colorbar": {
             "outlinewidth": 0,
             "ticks": ""
            },
            "colorscale": [
             [
              0,
              "#0d0887"
             ],
             [
              0.1111111111111111,
              "#46039f"
             ],
             [
              0.2222222222222222,
              "#7201a8"
             ],
             [
              0.3333333333333333,
              "#9c179e"
             ],
             [
              0.4444444444444444,
              "#bd3786"
             ],
             [
              0.5555555555555556,
              "#d8576b"
             ],
             [
              0.6666666666666666,
              "#ed7953"
             ],
             [
              0.7777777777777778,
              "#fb9f3a"
             ],
             [
              0.8888888888888888,
              "#fdca26"
             ],
             [
              1,
              "#f0f921"
             ]
            ],
            "type": "histogram2d"
           }
          ],
          "histogram2dcontour": [
           {
            "colorbar": {
             "outlinewidth": 0,
             "ticks": ""
            },
            "colorscale": [
             [
              0,
              "#0d0887"
             ],
             [
              0.1111111111111111,
              "#46039f"
             ],
             [
              0.2222222222222222,
              "#7201a8"
             ],
             [
              0.3333333333333333,
              "#9c179e"
             ],
             [
              0.4444444444444444,
              "#bd3786"
             ],
             [
              0.5555555555555556,
              "#d8576b"
             ],
             [
              0.6666666666666666,
              "#ed7953"
             ],
             [
              0.7777777777777778,
              "#fb9f3a"
             ],
             [
              0.8888888888888888,
              "#fdca26"
             ],
             [
              1,
              "#f0f921"
             ]
            ],
            "type": "histogram2dcontour"
           }
          ],
          "mesh3d": [
           {
            "colorbar": {
             "outlinewidth": 0,
             "ticks": ""
            },
            "type": "mesh3d"
           }
          ],
          "parcoords": [
           {
            "line": {
             "colorbar": {
              "outlinewidth": 0,
              "ticks": ""
             }
            },
            "type": "parcoords"
           }
          ],
          "pie": [
           {
            "automargin": true,
            "type": "pie"
           }
          ],
          "scatter": [
           {
            "fillpattern": {
             "fillmode": "overlay",
             "size": 10,
             "solidity": 0.2
            },
            "type": "scatter"
           }
          ],
          "scatter3d": [
           {
            "line": {
             "colorbar": {
              "outlinewidth": 0,
              "ticks": ""
             }
            },
            "marker": {
             "colorbar": {
              "outlinewidth": 0,
              "ticks": ""
             }
            },
            "type": "scatter3d"
           }
          ],
          "scattercarpet": [
           {
            "marker": {
             "colorbar": {
              "outlinewidth": 0,
              "ticks": ""
             }
            },
            "type": "scattercarpet"
           }
          ],
          "scattergeo": [
           {
            "marker": {
             "colorbar": {
              "outlinewidth": 0,
              "ticks": ""
             }
            },
            "type": "scattergeo"
           }
          ],
          "scattergl": [
           {
            "marker": {
             "colorbar": {
              "outlinewidth": 0,
              "ticks": ""
             }
            },
            "type": "scattergl"
           }
          ],
          "scattermapbox": [
           {
            "marker": {
             "colorbar": {
              "outlinewidth": 0,
              "ticks": ""
             }
            },
            "type": "scattermapbox"
           }
          ],
          "scatterpolar": [
           {
            "marker": {
             "colorbar": {
              "outlinewidth": 0,
              "ticks": ""
             }
            },
            "type": "scatterpolar"
           }
          ],
          "scatterpolargl": [
           {
            "marker": {
             "colorbar": {
              "outlinewidth": 0,
              "ticks": ""
             }
            },
            "type": "scatterpolargl"
           }
          ],
          "scatterternary": [
           {
            "marker": {
             "colorbar": {
              "outlinewidth": 0,
              "ticks": ""
             }
            },
            "type": "scatterternary"
           }
          ],
          "surface": [
           {
            "colorbar": {
             "outlinewidth": 0,
             "ticks": ""
            },
            "colorscale": [
             [
              0,
              "#0d0887"
             ],
             [
              0.1111111111111111,
              "#46039f"
             ],
             [
              0.2222222222222222,
              "#7201a8"
             ],
             [
              0.3333333333333333,
              "#9c179e"
             ],
             [
              0.4444444444444444,
              "#bd3786"
             ],
             [
              0.5555555555555556,
              "#d8576b"
             ],
             [
              0.6666666666666666,
              "#ed7953"
             ],
             [
              0.7777777777777778,
              "#fb9f3a"
             ],
             [
              0.8888888888888888,
              "#fdca26"
             ],
             [
              1,
              "#f0f921"
             ]
            ],
            "type": "surface"
           }
          ],
          "table": [
           {
            "cells": {
             "fill": {
              "color": "#EBF0F8"
             },
             "line": {
              "color": "white"
             }
            },
            "header": {
             "fill": {
              "color": "#C8D4E3"
             },
             "line": {
              "color": "white"
             }
            },
            "type": "table"
           }
          ]
         },
         "layout": {
          "annotationdefaults": {
           "arrowcolor": "#2a3f5f",
           "arrowhead": 0,
           "arrowwidth": 1
          },
          "autotypenumbers": "strict",
          "coloraxis": {
           "colorbar": {
            "outlinewidth": 0,
            "ticks": ""
           }
          },
          "colorscale": {
           "diverging": [
            [
             0,
             "#8e0152"
            ],
            [
             0.1,
             "#c51b7d"
            ],
            [
             0.2,
             "#de77ae"
            ],
            [
             0.3,
             "#f1b6da"
            ],
            [
             0.4,
             "#fde0ef"
            ],
            [
             0.5,
             "#f7f7f7"
            ],
            [
             0.6,
             "#e6f5d0"
            ],
            [
             0.7,
             "#b8e186"
            ],
            [
             0.8,
             "#7fbc41"
            ],
            [
             0.9,
             "#4d9221"
            ],
            [
             1,
             "#276419"
            ]
           ],
           "sequential": [
            [
             0,
             "#0d0887"
            ],
            [
             0.1111111111111111,
             "#46039f"
            ],
            [
             0.2222222222222222,
             "#7201a8"
            ],
            [
             0.3333333333333333,
             "#9c179e"
            ],
            [
             0.4444444444444444,
             "#bd3786"
            ],
            [
             0.5555555555555556,
             "#d8576b"
            ],
            [
             0.6666666666666666,
             "#ed7953"
            ],
            [
             0.7777777777777778,
             "#fb9f3a"
            ],
            [
             0.8888888888888888,
             "#fdca26"
            ],
            [
             1,
             "#f0f921"
            ]
           ],
           "sequentialminus": [
            [
             0,
             "#0d0887"
            ],
            [
             0.1111111111111111,
             "#46039f"
            ],
            [
             0.2222222222222222,
             "#7201a8"
            ],
            [
             0.3333333333333333,
             "#9c179e"
            ],
            [
             0.4444444444444444,
             "#bd3786"
            ],
            [
             0.5555555555555556,
             "#d8576b"
            ],
            [
             0.6666666666666666,
             "#ed7953"
            ],
            [
             0.7777777777777778,
             "#fb9f3a"
            ],
            [
             0.8888888888888888,
             "#fdca26"
            ],
            [
             1,
             "#f0f921"
            ]
           ]
          },
          "colorway": [
           "#636efa",
           "#EF553B",
           "#00cc96",
           "#ab63fa",
           "#FFA15A",
           "#19d3f3",
           "#FF6692",
           "#B6E880",
           "#FF97FF",
           "#FECB52"
          ],
          "font": {
           "color": "#2a3f5f"
          },
          "geo": {
           "bgcolor": "white",
           "lakecolor": "white",
           "landcolor": "#E5ECF6",
           "showlakes": true,
           "showland": true,
           "subunitcolor": "white"
          },
          "hoverlabel": {
           "align": "left"
          },
          "hovermode": "closest",
          "mapbox": {
           "style": "light"
          },
          "paper_bgcolor": "white",
          "plot_bgcolor": "#E5ECF6",
          "polar": {
           "angularaxis": {
            "gridcolor": "white",
            "linecolor": "white",
            "ticks": ""
           },
           "bgcolor": "#E5ECF6",
           "radialaxis": {
            "gridcolor": "white",
            "linecolor": "white",
            "ticks": ""
           }
          },
          "scene": {
           "xaxis": {
            "backgroundcolor": "#E5ECF6",
            "gridcolor": "white",
            "gridwidth": 2,
            "linecolor": "white",
            "showbackground": true,
            "ticks": "",
            "zerolinecolor": "white"
           },
           "yaxis": {
            "backgroundcolor": "#E5ECF6",
            "gridcolor": "white",
            "gridwidth": 2,
            "linecolor": "white",
            "showbackground": true,
            "ticks": "",
            "zerolinecolor": "white"
           },
           "zaxis": {
            "backgroundcolor": "#E5ECF6",
            "gridcolor": "white",
            "gridwidth": 2,
            "linecolor": "white",
            "showbackground": true,
            "ticks": "",
            "zerolinecolor": "white"
           }
          },
          "shapedefaults": {
           "line": {
            "color": "#2a3f5f"
           }
          },
          "ternary": {
           "aaxis": {
            "gridcolor": "white",
            "linecolor": "white",
            "ticks": ""
           },
           "baxis": {
            "gridcolor": "white",
            "linecolor": "white",
            "ticks": ""
           },
           "bgcolor": "#E5ECF6",
           "caxis": {
            "gridcolor": "white",
            "linecolor": "white",
            "ticks": ""
           }
          },
          "title": {
           "x": 0.05
          },
          "xaxis": {
           "automargin": true,
           "gridcolor": "white",
           "linecolor": "white",
           "ticks": "",
           "title": {
            "standoff": 15
           },
           "zerolinecolor": "white",
           "zerolinewidth": 2
          },
          "yaxis": {
           "automargin": true,
           "gridcolor": "white",
           "linecolor": "white",
           "ticks": "",
           "title": {
            "standoff": 15
           },
           "zerolinecolor": "white",
           "zerolinewidth": 2
          }
         }
        },
        "title": {
         "text": "Sleep Duration"
        },
        "xaxis": {
         "anchor": "y",
         "autorange": true,
         "domain": [
          0,
          1
         ],
         "range": [
          4.75,
          10.25
         ],
         "title": {
          "text": "Sleep duration"
         },
         "type": "linear"
        },
        "yaxis": {
         "anchor": "x",
         "autorange": true,
         "domain": [
          0,
          1
         ],
         "range": [
          0,
          162.10526315789474
         ],
         "title": {
          "text": "count"
         }
        }
       }
      },
      "image/png": "[encoded data removed]",
      "text/html": [
       "<div>                            <div id=\"b87794f4-2bc5-4d81-96e6-ed8bb761a0d5\" class=\"plotly-graph-div\" style=\"height:525px; width:100%;\"></div>            <script type=\"text/javascript\">                require([\"plotly\"], function(Plotly) {                    window.PLOTLYENV=window.PLOTLYENV || {};                                    if (document.getElementById(\"b87794f4-2bc5-4d81-96e6-ed8bb761a0d5\")) {                    Plotly.newPlot(                        \"b87794f4-2bc5-4d81-96e6-ed8bb761a0d5\",                        [{\"alignmentgroup\":\"True\",\"bingroup\":\"x\",\"hovertemplate\":\"Sleep duration=%{x}\\u003cbr\\u003ecount=%{y}\\u003cextra\\u003e\\u003c\\u002fextra\\u003e\",\"legendgroup\":\"\",\"marker\":{\"color\":\"#636efa\",\"pattern\":{\"shape\":\"\"}},\"name\":\"\",\"nbinsx\":20,\"offsetgroup\":\"\",\"orientation\":\"v\",\"showlegend\":false,\"x\":[6.0,7.0,8.0,6.0,8.0,7.5,6.0,10.0,6.0,9.0,8.0,7.5,9.0,8.5,8.5,7.5,7.0,7.5,9.0,7.0,8.0,7.5,8.0,8.0,7.0,6.0,7.0,7.0,9.0,7.0,7.0,8.0,7.0,7.0,7.5,7.0,7.0,9.0,7.5,7.0,6.0,6.0,10.0,7.5,8.0,7.0,8.0,7.5,8.0,7.0,7.0,7.5,8.5,8.5,7.5,9.0,8.0,7.5,7.0,7.5,7.5,7.0,8.0,7.5,7.5,8.0,7.0,7.5,7.0,6.0,7.5,7.0,6.0,7.5,7.0,8.5,7.0,9.0,7.0,7.5,8.5,7.5,7.5,8.0,6.0,7.5,7.0,7.0,7.5,7.5,5.0,8.0,7.0,7.0,7.5,7.0,7.0,7.5,9.0,8.0,8.0,8.5,8.0,6.0,6.0,8.0,7.0,8.5,8.0,7.5,5.0,7.0,8.0,6.0,8.5,7.0,8.0,8.0,7.0,7.0,6.0,8.0,7.0,8.5,7.0,8.0,7.0,7.0,9.0,7.0,8.0,8.0,7.5,8.0,7.0,7.0,7.0,7.0,7.5,9.0,8.5,6.0,7.0,7.0,7.0,7.0,8.0,8.0,8.0,7.5,8.5,7.0,7.5,7.5,7.5,7.5,7.5,7.0,7.0,8.5,7.0,7.5,7.0,7.0,8.0,7.0,7.0,7.0,7.5,7.0,8.0,7.5,8.0,6.0,8.0,7.0,7.5,7.0,8.0,6.0,7.5,7.0,7.5,8.0,7.5,7.5,7.0,7.0,8.0,7.0,7.5,8.0,7.0,7.0,8.0,7.0,8.0,6.0,5.0,7.0,7.0,8.0,6.0,8.0,7.0,6.0,7.0,7.0,8.0,9.0,7.0,7.0,7.5,5.0,7.5,7.0,6.0,7.5,7.0,8.0,7.0,8.5,8.0,8.5,6.0,8.0,7.5,7.0,8.0,7.0,7.5,8.0,5.0,8.0,9.0,7.0,7.5,7.5,8.5,8.0,7.0,8.5,8.0,7.0,7.0,8.5,8.5,8.0,7.5,10.0,7.0,8.5,7.0,6.0,7.0,7.0,7.0,8.0,8.0,7.5,7.0,7.0,9.0,9.0,7.0,7.5,7.0,8.0,8.5,7.0,8.0,7.0,9.0,7.0,7.0,7.0,8.0,8.0,8.0,7.0,7.5,7.5,7.0,8.5,7.0,6.0,8.0,7.5,7.0,7.0,8.0,7.5,6.0,7.0,7.0,8.0,7.0,8.0,8.5,8.0,7.0,8.5,7.0,10.0,8.0,5.0,6.0,9.0,7.0,7.5,10.0,7.0,9.0,7.0,7.0,8.0,7.5,7.5,8.0,7.0,7.0,7.5,7.5,7.5,6.0,7.0,7.5,7.5,8.0,7.5,5.5,8.0,9.0,7.5,8.5,10.0,7.0,8.0,10.0,5.5,7.0,8.0,8.0,7.0,9.0,7.0,7.0,8.0,7.0,7.5,7.0,7.5,8.0,7.5,7.0,7.0,8.0,9.0,7.0,9.0,9.0,6.0,7.5,10.0,8.0,7.0,8.0,5.0,7.5,6.0,7.0,7.0,8.0,8.0,7.5,9.0,8.0,8.0,7.0,7.0,7.0,7.0,7.5,9.0,7.0,8.0,7.0,7.0,8.0,8.0,7.5,5.0,7.0,7.0,8.0,8.0,7.0,8.0,7.0,7.5,8.0,7.5,8.0,8.0,6.0,5.5,7.0,8.0,8.0,8.0,7.0,7.0,7.0,8.5,8.0,7.0,7.0,7.0,9.0,8.5,7.0,7.0,7.0,7.5,8.0,6.0,7.0,8.0,8.0,7.5,6.0,7.0,8.0,7.5,8.0,7.0,8.0,8.0,6.0,7.5,8.0,9.0,7.0,7.5,7.5,7.5,7.0,7.5,6.0,8.5,7.0,7.5],\"xaxis\":\"x\",\"yaxis\":\"y\",\"type\":\"histogram\"}],                        {\"template\":{\"data\":{\"histogram2dcontour\":[{\"type\":\"histogram2dcontour\",\"colorbar\":{\"outlinewidth\":0,\"ticks\":\"\"},\"colorscale\":[[0.0,\"#0d0887\"],[0.1111111111111111,\"#46039f\"],[0.2222222222222222,\"#7201a8\"],[0.3333333333333333,\"#9c179e\"],[0.4444444444444444,\"#bd3786\"],[0.5555555555555556,\"#d8576b\"],[0.6666666666666666,\"#ed7953\"],[0.7777777777777778,\"#fb9f3a\"],[0.8888888888888888,\"#fdca26\"],[1.0,\"#f0f921\"]]}],\"choropleth\":[{\"type\":\"choropleth\",\"colorbar\":{\"outlinewidth\":0,\"ticks\":\"\"}}],\"histogram2d\":[{\"type\":\"histogram2d\",\"colorbar\":{\"outlinewidth\":0,\"ticks\":\"\"},\"colorscale\":[[0.0,\"#0d0887\"],[0.1111111111111111,\"#46039f\"],[0.2222222222222222,\"#7201a8\"],[0.3333333333333333,\"#9c179e\"],[0.4444444444444444,\"#bd3786\"],[0.5555555555555556,\"#d8576b\"],[0.6666666666666666,\"#ed7953\"],[0.7777777777777778,\"#fb9f3a\"],[0.8888888888888888,\"#fdca26\"],[1.0,\"#f0f921\"]]}],\"heatmap\":[{\"type\":\"heatmap\",\"colorbar\":{\"outlinewidth\":0,\"ticks\":\"\"},\"colorscale\":[[0.0,\"#0d0887\"],[0.1111111111111111,\"#46039f\"],[0.2222222222222222,\"#7201a8\"],[0.3333333333333333,\"#9c179e\"],[0.4444444444444444,\"#bd3786\"],[0.5555555555555556,\"#d8576b\"],[0.6666666666666666,\"#ed7953\"],[0.7777777777777778,\"#fb9f3a\"],[0.8888888888888888,\"#fdca26\"],[1.0,\"#f0f921\"]]}],\"heatmapgl\":[{\"type\":\"heatmapgl\",\"colorbar\":{\"outlinewidth\":0,\"ticks\":\"\"},\"colorscale\":[[0.0,\"#0d0887\"],[0.1111111111111111,\"#46039f\"],[0.2222222222222222,\"#7201a8\"],[0.3333333333333333,\"#9c179e\"],[0.4444444444444444,\"#bd3786\"],[0.5555555555555556,\"#d8576b\"],[0.6666666666666666,\"#ed7953\"],[0.7777777777777778,\"#fb9f3a\"],[0.8888888888888888,\"#fdca26\"],[1.0,\"#f0f921\"]]}],\"contourcarpet\":[{\"type\":\"contourcarpet\",\"colorbar\":{\"outlinewidth\":0,\"ticks\":\"\"}}],\"contour\":[{\"type\":\"contour\",\"colorbar\":{\"outlinewidth\":0,\"ticks\":\"\"},\"colorscale\":[[0.0,\"#0d0887\"],[0.1111111111111111,\"#46039f\"],[0.2222222222222222,\"#7201a8\"],[0.3333333333333333,\"#9c179e\"],[0.4444444444444444,\"#bd3786\"],[0.5555555555555556,\"#d8576b\"],[0.6666666666666666,\"#ed7953\"],[0.7777777777777778,\"#fb9f3a\"],[0.8888888888888888,\"#fdca26\"],[1.0,\"#f0f921\"]]}],\"surface\":[{\"type\":\"surface\",\"colorbar\":{\"outlinewidth\":0,\"ticks\":\"\"},\"colorscale\":[[0.0,\"#0d0887\"],[0.1111111111111111,\"#46039f\"],[0.2222222222222222,\"#7201a8\"],[0.3333333333333333,\"#9c179e\"],[0.4444444444444444,\"#bd3786\"],[0.5555555555555556,\"#d8576b\"],[0.6666666666666666,\"#ed7953\"],[0.7777777777777778,\"#fb9f3a\"],[0.8888888888888888,\"#fdca26\"],[1.0,\"#f0f921\"]]}],\"mesh3d\":[{\"type\":\"mesh3d\",\"colorbar\":{\"outlinewidth\":0,\"ticks\":\"\"}}],\"scatter\":[{\"fillpattern\":{\"fillmode\":\"overlay\",\"size\":10,\"solidity\":0.2},\"type\":\"scatter\"}],\"parcoords\":[{\"type\":\"parcoords\",\"line\":{\"colorbar\":{\"outlinewidth\":0,\"ticks\":\"\"}}}],\"scatterpolargl\":[{\"type\":\"scatterpolargl\",\"marker\":{\"colorbar\":{\"outlinewidth\":0,\"ticks\":\"\"}}}],\"bar\":[{\"error_x\":{\"color\":\"#2a3f5f\"},\"error_y\":{\"color\":\"#2a3f5f\"},\"marker\":{\"line\":{\"color\":\"#E5ECF6\",\"width\":0.5},\"pattern\":{\"fillmode\":\"overlay\",\"size\":10,\"solidity\":0.2}},\"type\":\"bar\"}],\"scattergeo\":[{\"type\":\"scattergeo\",\"marker\":{\"colorbar\":{\"outlinewidth\":0,\"ticks\":\"\"}}}],\"scatterpolar\":[{\"type\":\"scatterpolar\",\"marker\":{\"colorbar\":{\"outlinewidth\":0,\"ticks\":\"\"}}}],\"histogram\":[{\"marker\":{\"pattern\":{\"fillmode\":\"overlay\",\"size\":10,\"solidity\":0.2}},\"type\":\"histogram\"}],\"scattergl\":[{\"type\":\"scattergl\",\"marker\":{\"colorbar\":{\"outlinewidth\":0,\"ticks\":\"\"}}}],\"scatter3d\":[{\"type\":\"scatter3d\",\"line\":{\"colorbar\":{\"outlinewidth\":0,\"ticks\":\"\"}},\"marker\":{\"colorbar\":{\"outlinewidth\":0,\"ticks\":\"\"}}}],\"scattermapbox\":[{\"type\":\"scattermapbox\",\"marker\":{\"colorbar\":{\"outlinewidth\":0,\"ticks\":\"\"}}}],\"scatterternary\":[{\"type\":\"scatterternary\",\"marker\":{\"colorbar\":{\"outlinewidth\":0,\"ticks\":\"\"}}}],\"scattercarpet\":[{\"type\":\"scattercarpet\",\"marker\":{\"colorbar\":{\"outlinewidth\":0,\"ticks\":\"\"}}}],\"carpet\":[{\"aaxis\":{\"endlinecolor\":\"#2a3f5f\",\"gridcolor\":\"white\",\"linecolor\":\"white\",\"minorgridcolor\":\"white\",\"startlinecolor\":\"#2a3f5f\"},\"baxis\":{\"endlinecolor\":\"#2a3f5f\",\"gridcolor\":\"white\",\"linecolor\":\"white\",\"minorgridcolor\":\"white\",\"startlinecolor\":\"#2a3f5f\"},\"type\":\"carpet\"}],\"table\":[{\"cells\":{\"fill\":{\"color\":\"#EBF0F8\"},\"line\":{\"color\":\"white\"}},\"header\":{\"fill\":{\"color\":\"#C8D4E3\"},\"line\":{\"color\":\"white\"}},\"type\":\"table\"}],\"barpolar\":[{\"marker\":{\"line\":{\"color\":\"#E5ECF6\",\"width\":0.5},\"pattern\":{\"fillmode\":\"overlay\",\"size\":10,\"solidity\":0.2}},\"type\":\"barpolar\"}],\"pie\":[{\"automargin\":true,\"type\":\"pie\"}]},\"layout\":{\"autotypenumbers\":\"strict\",\"colorway\":[\"#636efa\",\"#EF553B\",\"#00cc96\",\"#ab63fa\",\"#FFA15A\",\"#19d3f3\",\"#FF6692\",\"#B6E880\",\"#FF97FF\",\"#FECB52\"],\"font\":{\"color\":\"#2a3f5f\"},\"hovermode\":\"closest\",\"hoverlabel\":{\"align\":\"left\"},\"paper_bgcolor\":\"white\",\"plot_bgcolor\":\"#E5ECF6\",\"polar\":{\"bgcolor\":\"#E5ECF6\",\"angularaxis\":{\"gridcolor\":\"white\",\"linecolor\":\"white\",\"ticks\":\"\"},\"radialaxis\":{\"gridcolor\":\"white\",\"linecolor\":\"white\",\"ticks\":\"\"}},\"ternary\":{\"bgcolor\":\"#E5ECF6\",\"aaxis\":{\"gridcolor\":\"white\",\"linecolor\":\"white\",\"ticks\":\"\"},\"baxis\":{\"gridcolor\":\"white\",\"linecolor\":\"white\",\"ticks\":\"\"},\"caxis\":{\"gridcolor\":\"white\",\"linecolor\":\"white\",\"ticks\":\"\"}},\"coloraxis\":{\"colorbar\":{\"outlinewidth\":0,\"ticks\":\"\"}},\"colorscale\":{\"sequential\":[[0.0,\"#0d0887\"],[0.1111111111111111,\"#46039f\"],[0.2222222222222222,\"#7201a8\"],[0.3333333333333333,\"#9c179e\"],[0.4444444444444444,\"#bd3786\"],[0.5555555555555556,\"#d8576b\"],[0.6666666666666666,\"#ed7953\"],[0.7777777777777778,\"#fb9f3a\"],[0.8888888888888888,\"#fdca26\"],[1.0,\"#f0f921\"]],\"sequentialminus\":[[0.0,\"#0d0887\"],[0.1111111111111111,\"#46039f\"],[0.2222222222222222,\"#7201a8\"],[0.3333333333333333,\"#9c179e\"],[0.4444444444444444,\"#bd3786\"],[0.5555555555555556,\"#d8576b\"],[0.6666666666666666,\"#ed7953\"],[0.7777777777777778,\"#fb9f3a\"],[0.8888888888888888,\"#fdca26\"],[1.0,\"#f0f921\"]],\"diverging\":[[0,\"#8e0152\"],[0.1,\"#c51b7d\"],[0.2,\"#de77ae\"],[0.3,\"#f1b6da\"],[0.4,\"#fde0ef\"],[0.5,\"#f7f7f7\"],[0.6,\"#e6f5d0\"],[0.7,\"#b8e186\"],[0.8,\"#7fbc41\"],[0.9,\"#4d9221\"],[1,\"#276419\"]]},\"xaxis\":{\"gridcolor\":\"white\",\"linecolor\":\"white\",\"ticks\":\"\",\"title\":{\"standoff\":15},\"zerolinecolor\":\"white\",\"automargin\":true,\"zerolinewidth\":2},\"yaxis\":{\"gridcolor\":\"white\",\"linecolor\":\"white\",\"ticks\":\"\",\"title\":{\"standoff\":15},\"zerolinecolor\":\"white\",\"automargin\":true,\"zerolinewidth\":2},\"scene\":{\"xaxis\":{\"backgroundcolor\":\"#E5ECF6\",\"gridcolor\":\"white\",\"linecolor\":\"white\",\"showbackground\":true,\"ticks\":\"\",\"zerolinecolor\":\"white\",\"gridwidth\":2},\"yaxis\":{\"backgroundcolor\":\"#E5ECF6\",\"gridcolor\":\"white\",\"linecolor\":\"white\",\"showbackground\":true,\"ticks\":\"\",\"zerolinecolor\":\"white\",\"gridwidth\":2},\"zaxis\":{\"backgroundcolor\":\"#E5ECF6\",\"gridcolor\":\"white\",\"linecolor\":\"white\",\"showbackground\":true,\"ticks\":\"\",\"zerolinecolor\":\"white\",\"gridwidth\":2}},\"shapedefaults\":{\"line\":{\"color\":\"#2a3f5f\"}},\"annotationdefaults\":{\"arrowcolor\":\"#2a3f5f\",\"arrowhead\":0,\"arrowwidth\":1},\"geo\":{\"bgcolor\":\"white\",\"landcolor\":\"#E5ECF6\",\"subunitcolor\":\"white\",\"showland\":true,\"showlakes\":true,\"lakecolor\":\"white\"},\"title\":{\"x\":0.05},\"mapbox\":{\"style\":\"light\"}}},\"xaxis\":{\"anchor\":\"y\",\"domain\":[0.0,1.0],\"title\":{\"text\":\"Sleep duration\"}},\"yaxis\":{\"anchor\":\"x\",\"domain\":[0.0,1.0],\"title\":{\"text\":\"count\"}},\"legend\":{\"tracegroupgap\":0},\"title\":{\"text\":\"Sleep Duration\"},\"barmode\":\"relative\"},                        {\"responsive\": true}                    ).then(function(){\n",
       "                            \n",
       "var gd = document.getElementById('b87794f4-2bc5-4d81-96e6-ed8bb761a0d5');\n",
       "var x = new MutationObserver(function (mutations, observer) {{\n",
       "        var display = window.getComputedStyle(gd).display;\n",
       "        if (!display || display === 'none') {{\n",
       "            console.log([gd, 'removed!']);\n",
       "            Plotly.purge(gd);\n",
       "            observer.disconnect();\n",
       "        }}\n",
       "}});\n",
       "\n",
       "// Listen for the removal of the full notebook cells\n",
       "var notebookContainer = gd.closest('#notebook-container');\n",
       "if (notebookContainer) {{\n",
       "    x.observe(notebookContainer, {childList: true});\n",
       "}}\n",
       "\n",
       "// Listen for the clearing of the current output cell\n",
       "var outputEl = gd.closest('.output');\n",
       "if (outputEl) {{\n",
       "    x.observe(outputEl, {childList: true});\n",
       "}}\n",
       "\n",
       "                        })                };                });            </script>        </div>"
      ]
     },
     "metadata": {},
     "output_type": "display_data"
    }
   ],
   "source": [
    "import plotly.express as px\n",
    "fig = px.histogram(df, x = 'Sleep duration', nbins = 20, title = 'Sleep Duration')\n",
    "fig.show()"
   ]
  },
  {
   "cell_type": "code",
   "execution_count": 75,
   "id": "d9f9c128-06a3-4a8e-89bf-27b3b5374c0b",
   "metadata": {},
   "outputs": [
    {
     "data": {
      "text/plain": [
       "Gender\n",
       "Male      228\n",
       "Female    224\n",
       "Name: count, dtype: int64"
      ]
     },
     "execution_count": 75,
     "metadata": {},
     "output_type": "execute_result"
    }
   ],
   "source": [
    "df.Gender.value_counts()"
   ]
  },
  {
   "cell_type": "code",
   "execution_count": 62,
   "id": "97ea362a-469e-4603-b93a-4b53b2a526ea",
   "metadata": {},
   "outputs": [
    {
     "data": {
      "application/vnd.plotly.v1+json": {
       "config": {
        "plotlyServerURL": "https://plot.ly"
       },
       "data": [
        {
         "alignmentgroup": "True",
         "hovertemplate": "Gender=%{x}<br>Sleep duration=%{y}<extra></extra>",
         "legendgroup": "",
         "marker": {
          "color": "#636efa"
         },
         "name": "",
         "notched": false,
         "offsetgroup": "",
         "orientation": "v",
         "showlegend": false,
         "type": "box",
         "x": [
          "Female",
          "Male",
          "Female",
          "Female",
          "Male",
          "Female",
          "Female",
          "Male",
          "Female",
          "Female",
          "Male",
          "Male",
          "Female",
          "Male",
          "Female",
          "Female",
          "Female",
          "Female",
          "Female",
          "Male",
          "Male",
          "Male",
          "Female",
          "Female",
          "Male",
          "Male",
          "Female",
          "Male",
          "Male",
          "Female",
          "Male",
          "Male",
          "Male",
          "Female",
          "Female",
          "Female",
          "Male",
          "Female",
          "Female",
          "Female",
          "Male",
          "Male",
          "Female",
          "Female",
          "Female",
          "Female",
          "Male",
          "Female",
          "Female",
          "Female",
          "Female",
          "Male",
          "Female",
          "Female",
          "Male",
          "Male",
          "Male",
          "Male",
          "Female",
          "Female",
          "Female",
          "Male",
          "Male",
          "Female",
          "Male",
          "Male",
          "Male",
          "Male",
          "Male",
          "Male",
          "Female",
          "Female",
          "Male",
          "Male",
          "Male",
          "Male",
          "Female",
          "Male",
          "Male",
          "Male",
          "Male",
          "Male",
          "Male",
          "Female",
          "Male",
          "Male",
          "Male",
          "Male",
          "Male",
          "Female",
          "Male",
          "Male",
          "Male",
          "Male",
          "Male",
          "Female",
          "Male",
          "Male",
          "Female",
          "Male",
          "Female",
          "Male",
          "Female",
          "Female",
          "Female",
          "Female",
          "Male",
          "Male",
          "Female",
          "Male",
          "Male",
          "Male",
          "Male",
          "Male",
          "Male",
          "Male",
          "Male",
          "Male",
          "Male",
          "Male",
          "Male",
          "Female",
          "Male",
          "Male",
          "Male",
          "Male",
          "Male",
          "Female",
          "Female",
          "Male",
          "Female",
          "Female",
          "Female",
          "Male",
          "Male",
          "Female",
          "Male",
          "Male",
          "Male",
          "Female",
          "Female",
          "Female",
          "Male",
          "Male",
          "Female",
          "Female",
          "Male",
          "Female",
          "Female",
          "Female",
          "Male",
          "Female",
          "Male",
          "Male",
          "Male",
          "Male",
          "Female",
          "Female",
          "Female",
          "Male",
          "Male",
          "Male",
          "Male",
          "Female",
          "Male",
          "Female",
          "Female",
          "Female",
          "Male",
          "Female",
          "Male",
          "Female",
          "Male",
          "Female",
          "Female",
          "Male",
          "Female",
          "Female",
          "Female",
          "Male",
          "Male",
          "Female",
          "Female",
          "Female",
          "Female",
          "Female",
          "Female",
          "Male",
          "Male",
          "Female",
          "Male",
          "Female",
          "Male",
          "Female",
          "Female",
          "Female",
          "Female",
          "Male",
          "Female",
          "Male",
          "Male",
          "Female",
          "Female",
          "Male",
          "Female",
          "Female",
          "Female",
          "Female",
          "Female",
          "Male",
          "Male",
          "Female",
          "Female",
          "Female",
          "Male",
          "Female",
          "Male",
          "Female",
          "Female",
          "Female",
          "Female",
          "Female",
          "Male",
          "Female",
          "Male",
          "Male",
          "Female",
          "Female",
          "Female",
          "Male",
          "Male",
          "Male",
          "Female",
          "Male",
          "Female",
          "Female",
          "Male",
          "Male",
          "Female",
          "Male",
          "Male",
          "Male",
          "Female",
          "Male",
          "Female",
          "Male",
          "Female",
          "Female",
          "Male",
          "Male",
          "Female",
          "Male",
          "Female",
          "Female",
          "Female",
          "Female",
          "Female",
          "Female",
          "Male",
          "Female",
          "Male",
          "Female",
          "Female",
          "Female",
          "Female",
          "Male",
          "Male",
          "Female",
          "Male",
          "Male",
          "Female",
          "Female",
          "Male",
          "Male",
          "Male",
          "Female",
          "Female",
          "Female",
          "Female",
          "Female",
          "Female",
          "Male",
          "Male",
          "Female",
          "Female",
          "Male",
          "Male",
          "Female",
          "Female",
          "Female",
          "Male",
          "Female",
          "Female",
          "Female",
          "Male",
          "Female",
          "Male",
          "Female",
          "Female",
          "Male",
          "Female",
          "Female",
          "Male",
          "Male",
          "Male",
          "Male",
          "Male",
          "Female",
          "Female",
          "Female",
          "Female",
          "Female",
          "Male",
          "Male",
          "Male",
          "Female",
          "Male",
          "Male",
          "Male",
          "Male",
          "Male",
          "Male",
          "Female",
          "Male",
          "Female",
          "Female",
          "Female",
          "Female",
          "Female",
          "Female",
          "Male",
          "Male",
          "Female",
          "Female",
          "Female",
          "Female",
          "Female",
          "Male",
          "Male",
          "Male",
          "Male",
          "Female",
          "Female",
          "Female",
          "Male",
          "Male",
          "Male",
          "Male",
          "Male",
          "Female",
          "Male",
          "Female",
          "Male",
          "Male",
          "Female",
          "Male",
          "Male",
          "Female",
          "Male",
          "Female",
          "Female",
          "Female",
          "Male",
          "Female",
          "Male",
          "Female",
          "Male",
          "Male",
          "Male",
          "Male",
          "Female",
          "Female",
          "Female",
          "Male",
          "Male",
          "Female",
          "Male",
          "Female",
          "Male",
          "Male",
          "Female",
          "Male",
          "Male",
          "Male",
          "Male",
          "Female",
          "Female",
          "Female",
          "Female",
          "Female",
          "Male",
          "Female",
          "Female",
          "Male",
          "Female",
          "Male",
          "Female",
          "Female",
          "Female",
          "Female",
          "Female",
          "Male",
          "Male",
          "Male",
          "Male",
          "Male",
          "Male",
          "Female",
          "Female",
          "Female",
          "Male",
          "Male",
          "Female",
          "Male",
          "Female",
          "Male",
          "Female",
          "Male",
          "Male",
          "Male",
          "Male",
          "Male",
          "Female",
          "Female",
          "Male",
          "Female",
          "Male",
          "Male",
          "Male",
          "Male",
          "Female",
          "Female",
          "Male",
          "Female",
          "Female",
          "Female",
          "Male",
          "Male",
          "Male",
          "Male",
          "Female",
          "Male",
          "Female",
          "Female",
          "Male",
          "Female",
          "Male",
          "Female",
          "Male",
          "Female",
          "Male",
          "Male"
         ],
         "x0": " ",
         "xaxis": "x",
         "y": [
          6,
          7,
          8,
          6,
          8,
          7.5,
          6,
          10,
          6,
          9,
          8,
          7.5,
          9,
          8.5,
          8.5,
          7.5,
          7,
          7.5,
          9,
          7,
          8,
          7.5,
          8,
          8,
          7,
          6,
          7,
          7,
          9,
          7,
          7,
          8,
          7,
          7,
          7.5,
          7,
          7,
          9,
          7.5,
          7,
          6,
          6,
          10,
          7.5,
          8,
          7,
          8,
          7.5,
          8,
          7,
          7,
          7.5,
          8.5,
          8.5,
          7.5,
          9,
          8,
          7.5,
          7,
          7.5,
          7.5,
          7,
          8,
          7.5,
          7.5,
          8,
          7,
          7.5,
          7,
          6,
          7.5,
          7,
          6,
          7.5,
          7,
          8.5,
          7,
          9,
          7,
          7.5,
          8.5,
          7.5,
          7.5,
          8,
          6,
          7.5,
          7,
          7,
          7.5,
          7.5,
          5,
          8,
          7,
          7,
          7.5,
          7,
          7,
          7.5,
          9,
          8,
          8,
          8.5,
          8,
          6,
          6,
          8,
          7,
          8.5,
          8,
          7.5,
          5,
          7,
          8,
          6,
          8.5,
          7,
          8,
          8,
          7,
          7,
          6,
          8,
          7,
          8.5,
          7,
          8,
          7,
          7,
          9,
          7,
          8,
          8,
          7.5,
          8,
          7,
          7,
          7,
          7,
          7.5,
          9,
          8.5,
          6,
          7,
          7,
          7,
          7,
          8,
          8,
          8,
          7.5,
          8.5,
          7,
          7.5,
          7.5,
          7.5,
          7.5,
          7.5,
          7,
          7,
          8.5,
          7,
          7.5,
          7,
          7,
          8,
          7,
          7,
          7,
          7.5,
          7,
          8,
          7.5,
          8,
          6,
          8,
          7,
          7.5,
          7,
          8,
          6,
          7.5,
          7,
          7.5,
          8,
          7.5,
          7.5,
          7,
          7,
          8,
          7,
          7.5,
          8,
          7,
          7,
          8,
          7,
          8,
          6,
          5,
          7,
          7,
          8,
          6,
          8,
          7,
          6,
          7,
          7,
          8,
          9,
          7,
          7,
          7.5,
          5,
          7.5,
          7,
          6,
          7.5,
          7,
          8,
          7,
          8.5,
          8,
          8.5,
          6,
          8,
          7.5,
          7,
          8,
          7,
          7.5,
          8,
          5,
          8,
          9,
          7,
          7.5,
          7.5,
          8.5,
          8,
          7,
          8.5,
          8,
          7,
          7,
          8.5,
          8.5,
          8,
          7.5,
          10,
          7,
          8.5,
          7,
          6,
          7,
          7,
          7,
          8,
          8,
          7.5,
          7,
          7,
          9,
          9,
          7,
          7.5,
          7,
          8,
          8.5,
          7,
          8,
          7,
          9,
          7,
          7,
          7,
          8,
          8,
          8,
          7,
          7.5,
          7.5,
          7,
          8.5,
          7,
          6,
          8,
          7.5,
          7,
          7,
          8,
          7.5,
          6,
          7,
          7,
          8,
          7,
          8,
          8.5,
          8,
          7,
          8.5,
          7,
          10,
          8,
          5,
          6,
          9,
          7,
          7.5,
          10,
          7,
          9,
          7,
          7,
          8,
          7.5,
          7.5,
          8,
          7,
          7,
          7.5,
          7.5,
          7.5,
          6,
          7,
          7.5,
          7.5,
          8,
          7.5,
          5.5,
          8,
          9,
          7.5,
          8.5,
          10,
          7,
          8,
          10,
          5.5,
          7,
          8,
          8,
          7,
          9,
          7,
          7,
          8,
          7,
          7.5,
          7,
          7.5,
          8,
          7.5,
          7,
          7,
          8,
          9,
          7,
          9,
          9,
          6,
          7.5,
          10,
          8,
          7,
          8,
          5,
          7.5,
          6,
          7,
          7,
          8,
          8,
          7.5,
          9,
          8,
          8,
          7,
          7,
          7,
          7,
          7.5,
          9,
          7,
          8,
          7,
          7,
          8,
          8,
          7.5,
          5,
          7,
          7,
          8,
          8,
          7,
          8,
          7,
          7.5,
          8,
          7.5,
          8,
          8,
          6,
          5.5,
          7,
          8,
          8,
          8,
          7,
          7,
          7,
          8.5,
          8,
          7,
          7,
          7,
          9,
          8.5,
          7,
          7,
          7,
          7.5,
          8,
          6,
          7,
          8,
          8,
          7.5,
          6,
          7,
          8,
          7.5,
          8,
          7,
          8,
          8,
          6,
          7.5,
          8,
          9,
          7,
          7.5,
          7.5,
          7.5,
          7,
          7.5,
          6,
          8.5,
          7,
          7.5
         ],
         "y0": " ",
         "yaxis": "y"
        }
       ],
       "layout": {
        "autosize": true,
        "boxmode": "group",
        "legend": {
         "tracegroupgap": 0
        },
        "template": {
         "data": {
          "bar": [
           {
            "error_x": {
             "color": "#2a3f5f"
            },
            "error_y": {
             "color": "#2a3f5f"
            },
            "marker": {
             "line": {
              "color": "#E5ECF6",
              "width": 0.5
             },
             "pattern": {
              "fillmode": "overlay",
              "size": 10,
              "solidity": 0.2
             }
            },
            "type": "bar"
           }
          ],
          "barpolar": [
           {
            "marker": {
             "line": {
              "color": "#E5ECF6",
              "width": 0.5
             },
             "pattern": {
              "fillmode": "overlay",
              "size": 10,
              "solidity": 0.2
             }
            },
            "type": "barpolar"
           }
          ],
          "carpet": [
           {
            "aaxis": {
             "endlinecolor": "#2a3f5f",
             "gridcolor": "white",
             "linecolor": "white",
             "minorgridcolor": "white",
             "startlinecolor": "#2a3f5f"
            },
            "baxis": {
             "endlinecolor": "#2a3f5f",
             "gridcolor": "white",
             "linecolor": "white",
             "minorgridcolor": "white",
             "startlinecolor": "#2a3f5f"
            },
            "type": "carpet"
           }
          ],
          "choropleth": [
           {
            "colorbar": {
             "outlinewidth": 0,
             "ticks": ""
            },
            "type": "choropleth"
           }
          ],
          "contour": [
           {
            "colorbar": {
             "outlinewidth": 0,
             "ticks": ""
            },
            "colorscale": [
             [
              0,
              "#0d0887"
             ],
             [
              0.1111111111111111,
              "#46039f"
             ],
             [
              0.2222222222222222,
              "#7201a8"
             ],
             [
              0.3333333333333333,
              "#9c179e"
             ],
             [
              0.4444444444444444,
              "#bd3786"
             ],
             [
              0.5555555555555556,
              "#d8576b"
             ],
             [
              0.6666666666666666,
              "#ed7953"
             ],
             [
              0.7777777777777778,
              "#fb9f3a"
             ],
             [
              0.8888888888888888,
              "#fdca26"
             ],
             [
              1,
              "#f0f921"
             ]
            ],
            "type": "contour"
           }
          ],
          "contourcarpet": [
           {
            "colorbar": {
             "outlinewidth": 0,
             "ticks": ""
            },
            "type": "contourcarpet"
           }
          ],
          "heatmap": [
           {
            "colorbar": {
             "outlinewidth": 0,
             "ticks": ""
            },
            "colorscale": [
             [
              0,
              "#0d0887"
             ],
             [
              0.1111111111111111,
              "#46039f"
             ],
             [
              0.2222222222222222,
              "#7201a8"
             ],
             [
              0.3333333333333333,
              "#9c179e"
             ],
             [
              0.4444444444444444,
              "#bd3786"
             ],
             [
              0.5555555555555556,
              "#d8576b"
             ],
             [
              0.6666666666666666,
              "#ed7953"
             ],
             [
              0.7777777777777778,
              "#fb9f3a"
             ],
             [
              0.8888888888888888,
              "#fdca26"
             ],
             [
              1,
              "#f0f921"
             ]
            ],
            "type": "heatmap"
           }
          ],
          "heatmapgl": [
           {
            "colorbar": {
             "outlinewidth": 0,
             "ticks": ""
            },
            "colorscale": [
             [
              0,
              "#0d0887"
             ],
             [
              0.1111111111111111,
              "#46039f"
             ],
             [
              0.2222222222222222,
              "#7201a8"
             ],
             [
              0.3333333333333333,
              "#9c179e"
             ],
             [
              0.4444444444444444,
              "#bd3786"
             ],
             [
              0.5555555555555556,
              "#d8576b"
             ],
             [
              0.6666666666666666,
              "#ed7953"
             ],
             [
              0.7777777777777778,
              "#fb9f3a"
             ],
             [
              0.8888888888888888,
              "#fdca26"
             ],
             [
              1,
              "#f0f921"
             ]
            ],
            "type": "heatmapgl"
           }
          ],
          "histogram": [
           {
            "marker": {
             "pattern": {
              "fillmode": "overlay",
              "size": 10,
              "solidity": 0.2
             }
            },
            "type": "histogram"
           }
          ],
          "histogram2d": [
           {
            "colorbar": {
             "outlinewidth": 0,
             "ticks": ""
            },
            "colorscale": [
             [
              0,
              "#0d0887"
             ],
             [
              0.1111111111111111,
              "#46039f"
             ],
             [
              0.2222222222222222,
              "#7201a8"
             ],
             [
              0.3333333333333333,
              "#9c179e"
             ],
             [
              0.4444444444444444,
              "#bd3786"
             ],
             [
              0.5555555555555556,
              "#d8576b"
             ],
             [
              0.6666666666666666,
              "#ed7953"
             ],
             [
              0.7777777777777778,
              "#fb9f3a"
             ],
             [
              0.8888888888888888,
              "#fdca26"
             ],
             [
              1,
              "#f0f921"
             ]
            ],
            "type": "histogram2d"
           }
          ],
          "histogram2dcontour": [
           {
            "colorbar": {
             "outlinewidth": 0,
             "ticks": ""
            },
            "colorscale": [
             [
              0,
              "#0d0887"
             ],
             [
              0.1111111111111111,
              "#46039f"
             ],
             [
              0.2222222222222222,
              "#7201a8"
             ],
             [
              0.3333333333333333,
              "#9c179e"
             ],
             [
              0.4444444444444444,
              "#bd3786"
             ],
             [
              0.5555555555555556,
              "#d8576b"
             ],
             [
              0.6666666666666666,
              "#ed7953"
             ],
             [
              0.7777777777777778,
              "#fb9f3a"
             ],
             [
              0.8888888888888888,
              "#fdca26"
             ],
             [
              1,
              "#f0f921"
             ]
            ],
            "type": "histogram2dcontour"
           }
          ],
          "mesh3d": [
           {
            "colorbar": {
             "outlinewidth": 0,
             "ticks": ""
            },
            "type": "mesh3d"
           }
          ],
          "parcoords": [
           {
            "line": {
             "colorbar": {
              "outlinewidth": 0,
              "ticks": ""
             }
            },
            "type": "parcoords"
           }
          ],
          "pie": [
           {
            "automargin": true,
            "type": "pie"
           }
          ],
          "scatter": [
           {
            "fillpattern": {
             "fillmode": "overlay",
             "size": 10,
             "solidity": 0.2
            },
            "type": "scatter"
           }
          ],
          "scatter3d": [
           {
            "line": {
             "colorbar": {
              "outlinewidth": 0,
              "ticks": ""
             }
            },
            "marker": {
             "colorbar": {
              "outlinewidth": 0,
              "ticks": ""
             }
            },
            "type": "scatter3d"
           }
          ],
          "scattercarpet": [
           {
            "marker": {
             "colorbar": {
              "outlinewidth": 0,
              "ticks": ""
             }
            },
            "type": "scattercarpet"
           }
          ],
          "scattergeo": [
           {
            "marker": {
             "colorbar": {
              "outlinewidth": 0,
              "ticks": ""
             }
            },
            "type": "scattergeo"
           }
          ],
          "scattergl": [
           {
            "marker": {
             "colorbar": {
              "outlinewidth": 0,
              "ticks": ""
             }
            },
            "type": "scattergl"
           }
          ],
          "scattermapbox": [
           {
            "marker": {
             "colorbar": {
              "outlinewidth": 0,
              "ticks": ""
             }
            },
            "type": "scattermapbox"
           }
          ],
          "scatterpolar": [
           {
            "marker": {
             "colorbar": {
              "outlinewidth": 0,
              "ticks": ""
             }
            },
            "type": "scatterpolar"
           }
          ],
          "scatterpolargl": [
           {
            "marker": {
             "colorbar": {
              "outlinewidth": 0,
              "ticks": ""
             }
            },
            "type": "scatterpolargl"
           }
          ],
          "scatterternary": [
           {
            "marker": {
             "colorbar": {
              "outlinewidth": 0,
              "ticks": ""
             }
            },
            "type": "scatterternary"
           }
          ],
          "surface": [
           {
            "colorbar": {
             "outlinewidth": 0,
             "ticks": ""
            },
            "colorscale": [
             [
              0,
              "#0d0887"
             ],
             [
              0.1111111111111111,
              "#46039f"
             ],
             [
              0.2222222222222222,
              "#7201a8"
             ],
             [
              0.3333333333333333,
              "#9c179e"
             ],
             [
              0.4444444444444444,
              "#bd3786"
             ],
             [
              0.5555555555555556,
              "#d8576b"
             ],
             [
              0.6666666666666666,
              "#ed7953"
             ],
             [
              0.7777777777777778,
              "#fb9f3a"
             ],
             [
              0.8888888888888888,
              "#fdca26"
             ],
             [
              1,
              "#f0f921"
             ]
            ],
            "type": "surface"
           }
          ],
          "table": [
           {
            "cells": {
             "fill": {
              "color": "#EBF0F8"
             },
             "line": {
              "color": "white"
             }
            },
            "header": {
             "fill": {
              "color": "#C8D4E3"
             },
             "line": {
              "color": "white"
             }
            },
            "type": "table"
           }
          ]
         },
         "layout": {
          "annotationdefaults": {
           "arrowcolor": "#2a3f5f",
           "arrowhead": 0,
           "arrowwidth": 1
          },
          "autotypenumbers": "strict",
          "coloraxis": {
           "colorbar": {
            "outlinewidth": 0,
            "ticks": ""
           }
          },
          "colorscale": {
           "diverging": [
            [
             0,
             "#8e0152"
            ],
            [
             0.1,
             "#c51b7d"
            ],
            [
             0.2,
             "#de77ae"
            ],
            [
             0.3,
             "#f1b6da"
            ],
            [
             0.4,
             "#fde0ef"
            ],
            [
             0.5,
             "#f7f7f7"
            ],
            [
             0.6,
             "#e6f5d0"
            ],
            [
             0.7,
             "#b8e186"
            ],
            [
             0.8,
             "#7fbc41"
            ],
            [
             0.9,
             "#4d9221"
            ],
            [
             1,
             "#276419"
            ]
           ],
           "sequential": [
            [
             0,
             "#0d0887"
            ],
            [
             0.1111111111111111,
             "#46039f"
            ],
            [
             0.2222222222222222,
             "#7201a8"
            ],
            [
             0.3333333333333333,
             "#9c179e"
            ],
            [
             0.4444444444444444,
             "#bd3786"
            ],
            [
             0.5555555555555556,
             "#d8576b"
            ],
            [
             0.6666666666666666,
             "#ed7953"
            ],
            [
             0.7777777777777778,
             "#fb9f3a"
            ],
            [
             0.8888888888888888,
             "#fdca26"
            ],
            [
             1,
             "#f0f921"
            ]
           ],
           "sequentialminus": [
            [
             0,
             "#0d0887"
            ],
            [
             0.1111111111111111,
             "#46039f"
            ],
            [
             0.2222222222222222,
             "#7201a8"
            ],
            [
             0.3333333333333333,
             "#9c179e"
            ],
            [
             0.4444444444444444,
             "#bd3786"
            ],
            [
             0.5555555555555556,
             "#d8576b"
            ],
            [
             0.6666666666666666,
             "#ed7953"
            ],
            [
             0.7777777777777778,
             "#fb9f3a"
            ],
            [
             0.8888888888888888,
             "#fdca26"
            ],
            [
             1,
             "#f0f921"
            ]
           ]
          },
          "colorway": [
           "#636efa",
           "#EF553B",
           "#00cc96",
           "#ab63fa",
           "#FFA15A",
           "#19d3f3",
           "#FF6692",
           "#B6E880",
           "#FF97FF",
           "#FECB52"
          ],
          "font": {
           "color": "#2a3f5f"
          },
          "geo": {
           "bgcolor": "white",
           "lakecolor": "white",
           "landcolor": "#E5ECF6",
           "showlakes": true,
           "showland": true,
           "subunitcolor": "white"
          },
          "hoverlabel": {
           "align": "left"
          },
          "hovermode": "closest",
          "mapbox": {
           "style": "light"
          },
          "paper_bgcolor": "white",
          "plot_bgcolor": "#E5ECF6",
          "polar": {
           "angularaxis": {
            "gridcolor": "white",
            "linecolor": "white",
            "ticks": ""
           },
           "bgcolor": "#E5ECF6",
           "radialaxis": {
            "gridcolor": "white",
            "linecolor": "white",
            "ticks": ""
           }
          },
          "scene": {
           "xaxis": {
            "backgroundcolor": "#E5ECF6",
            "gridcolor": "white",
            "gridwidth": 2,
            "linecolor": "white",
            "showbackground": true,
            "ticks": "",
            "zerolinecolor": "white"
           },
           "yaxis": {
            "backgroundcolor": "#E5ECF6",
            "gridcolor": "white",
            "gridwidth": 2,
            "linecolor": "white",
            "showbackground": true,
            "ticks": "",
            "zerolinecolor": "white"
           },
           "zaxis": {
            "backgroundcolor": "#E5ECF6",
            "gridcolor": "white",
            "gridwidth": 2,
            "linecolor": "white",
            "showbackground": true,
            "ticks": "",
            "zerolinecolor": "white"
           }
          },
          "shapedefaults": {
           "line": {
            "color": "#2a3f5f"
           }
          },
          "ternary": {
           "aaxis": {
            "gridcolor": "white",
            "linecolor": "white",
            "ticks": ""
           },
           "baxis": {
            "gridcolor": "white",
            "linecolor": "white",
            "ticks": ""
           },
           "bgcolor": "#E5ECF6",
           "caxis": {
            "gridcolor": "white",
            "linecolor": "white",
            "ticks": ""
           }
          },
          "title": {
           "x": 0.05
          },
          "xaxis": {
           "automargin": true,
           "gridcolor": "white",
           "linecolor": "white",
           "ticks": "",
           "title": {
            "standoff": 15
           },
           "zerolinecolor": "white",
           "zerolinewidth": 2
          },
          "yaxis": {
           "automargin": true,
           "gridcolor": "white",
           "linecolor": "white",
           "ticks": "",
           "title": {
            "standoff": 15
           },
           "zerolinecolor": "white",
           "zerolinewidth": 2
          }
         }
        },
        "title": {
         "text": "Sleep Duration by Gender"
        },
        "xaxis": {
         "anchor": "y",
         "autorange": true,
         "domain": [
          0,
          1
         ],
         "range": [
          -0.5,
          1.5
         ],
         "title": {
          "text": "Gender"
         },
         "type": "category"
        },
        "yaxis": {
         "anchor": "x",
         "autorange": true,
         "domain": [
          0,
          1
         ],
         "range": [
          4.722222222222222,
          10.277777777777779
         ],
         "title": {
          "text": "Sleep duration"
         },
         "type": "linear"
        }
       }
      },
      "image/png": "[encoded data removed]",
      "text/html": [
       "<div>                            <div id=\"0a1217bc-a40c-4a26-b37a-1dc9b60d013f\" class=\"plotly-graph-div\" style=\"height:525px; width:100%;\"></div>            <script type=\"text/javascript\">                require([\"plotly\"], function(Plotly) {                    window.PLOTLYENV=window.PLOTLYENV || {};                                    if (document.getElementById(\"0a1217bc-a40c-4a26-b37a-1dc9b60d013f\")) {                    Plotly.newPlot(                        \"0a1217bc-a40c-4a26-b37a-1dc9b60d013f\",                        [{\"alignmentgroup\":\"True\",\"hovertemplate\":\"Gender=%{x}\\u003cbr\\u003eSleep duration=%{y}\\u003cextra\\u003e\\u003c\\u002fextra\\u003e\",\"legendgroup\":\"\",\"marker\":{\"color\":\"#636efa\"},\"name\":\"\",\"notched\":false,\"offsetgroup\":\"\",\"orientation\":\"v\",\"showlegend\":false,\"x\":[\"Female\",\"Male\",\"Female\",\"Female\",\"Male\",\"Female\",\"Female\",\"Male\",\"Female\",\"Female\",\"Male\",\"Male\",\"Female\",\"Male\",\"Female\",\"Female\",\"Female\",\"Female\",\"Female\",\"Male\",\"Male\",\"Male\",\"Female\",\"Female\",\"Male\",\"Male\",\"Female\",\"Male\",\"Male\",\"Female\",\"Male\",\"Male\",\"Male\",\"Female\",\"Female\",\"Female\",\"Male\",\"Female\",\"Female\",\"Female\",\"Male\",\"Male\",\"Female\",\"Female\",\"Female\",\"Female\",\"Male\",\"Female\",\"Female\",\"Female\",\"Female\",\"Male\",\"Female\",\"Female\",\"Male\",\"Male\",\"Male\",\"Male\",\"Female\",\"Female\",\"Female\",\"Male\",\"Male\",\"Female\",\"Male\",\"Male\",\"Male\",\"Male\",\"Male\",\"Male\",\"Female\",\"Female\",\"Male\",\"Male\",\"Male\",\"Male\",\"Female\",\"Male\",\"Male\",\"Male\",\"Male\",\"Male\",\"Male\",\"Female\",\"Male\",\"Male\",\"Male\",\"Male\",\"Male\",\"Female\",\"Male\",\"Male\",\"Male\",\"Male\",\"Male\",\"Female\",\"Male\",\"Male\",\"Female\",\"Male\",\"Female\",\"Male\",\"Female\",\"Female\",\"Female\",\"Female\",\"Male\",\"Male\",\"Female\",\"Male\",\"Male\",\"Male\",\"Male\",\"Male\",\"Male\",\"Male\",\"Male\",\"Male\",\"Male\",\"Male\",\"Male\",\"Female\",\"Male\",\"Male\",\"Male\",\"Male\",\"Male\",\"Female\",\"Female\",\"Male\",\"Female\",\"Female\",\"Female\",\"Male\",\"Male\",\"Female\",\"Male\",\"Male\",\"Male\",\"Female\",\"Female\",\"Female\",\"Male\",\"Male\",\"Female\",\"Female\",\"Male\",\"Female\",\"Female\",\"Female\",\"Male\",\"Female\",\"Male\",\"Male\",\"Male\",\"Male\",\"Female\",\"Female\",\"Female\",\"Male\",\"Male\",\"Male\",\"Male\",\"Female\",\"Male\",\"Female\",\"Female\",\"Female\",\"Male\",\"Female\",\"Male\",\"Female\",\"Male\",\"Female\",\"Female\",\"Male\",\"Female\",\"Female\",\"Female\",\"Male\",\"Male\",\"Female\",\"Female\",\"Female\",\"Female\",\"Female\",\"Female\",\"Male\",\"Male\",\"Female\",\"Male\",\"Female\",\"Male\",\"Female\",\"Female\",\"Female\",\"Female\",\"Male\",\"Female\",\"Male\",\"Male\",\"Female\",\"Female\",\"Male\",\"Female\",\"Female\",\"Female\",\"Female\",\"Female\",\"Male\",\"Male\",\"Female\",\"Female\",\"Female\",\"Male\",\"Female\",\"Male\",\"Female\",\"Female\",\"Female\",\"Female\",\"Female\",\"Male\",\"Female\",\"Male\",\"Male\",\"Female\",\"Female\",\"Female\",\"Male\",\"Male\",\"Male\",\"Female\",\"Male\",\"Female\",\"Female\",\"Male\",\"Male\",\"Female\",\"Male\",\"Male\",\"Male\",\"Female\",\"Male\",\"Female\",\"Male\",\"Female\",\"Female\",\"Male\",\"Male\",\"Female\",\"Male\",\"Female\",\"Female\",\"Female\",\"Female\",\"Female\",\"Female\",\"Male\",\"Female\",\"Male\",\"Female\",\"Female\",\"Female\",\"Female\",\"Male\",\"Male\",\"Female\",\"Male\",\"Male\",\"Female\",\"Female\",\"Male\",\"Male\",\"Male\",\"Female\",\"Female\",\"Female\",\"Female\",\"Female\",\"Female\",\"Male\",\"Male\",\"Female\",\"Female\",\"Male\",\"Male\",\"Female\",\"Female\",\"Female\",\"Male\",\"Female\",\"Female\",\"Female\",\"Male\",\"Female\",\"Male\",\"Female\",\"Female\",\"Male\",\"Female\",\"Female\",\"Male\",\"Male\",\"Male\",\"Male\",\"Male\",\"Female\",\"Female\",\"Female\",\"Female\",\"Female\",\"Male\",\"Male\",\"Male\",\"Female\",\"Male\",\"Male\",\"Male\",\"Male\",\"Male\",\"Male\",\"Female\",\"Male\",\"Female\",\"Female\",\"Female\",\"Female\",\"Female\",\"Female\",\"Male\",\"Male\",\"Female\",\"Female\",\"Female\",\"Female\",\"Female\",\"Male\",\"Male\",\"Male\",\"Male\",\"Female\",\"Female\",\"Female\",\"Male\",\"Male\",\"Male\",\"Male\",\"Male\",\"Female\",\"Male\",\"Female\",\"Male\",\"Male\",\"Female\",\"Male\",\"Male\",\"Female\",\"Male\",\"Female\",\"Female\",\"Female\",\"Male\",\"Female\",\"Male\",\"Female\",\"Male\",\"Male\",\"Male\",\"Male\",\"Female\",\"Female\",\"Female\",\"Male\",\"Male\",\"Female\",\"Male\",\"Female\",\"Male\",\"Male\",\"Female\",\"Male\",\"Male\",\"Male\",\"Male\",\"Female\",\"Female\",\"Female\",\"Female\",\"Female\",\"Male\",\"Female\",\"Female\",\"Male\",\"Female\",\"Male\",\"Female\",\"Female\",\"Female\",\"Female\",\"Female\",\"Male\",\"Male\",\"Male\",\"Male\",\"Male\",\"Male\",\"Female\",\"Female\",\"Female\",\"Male\",\"Male\",\"Female\",\"Male\",\"Female\",\"Male\",\"Female\",\"Male\",\"Male\",\"Male\",\"Male\",\"Male\",\"Female\",\"Female\",\"Male\",\"Female\",\"Male\",\"Male\",\"Male\",\"Male\",\"Female\",\"Female\",\"Male\",\"Female\",\"Female\",\"Female\",\"Male\",\"Male\",\"Male\",\"Male\",\"Female\",\"Male\",\"Female\",\"Female\",\"Male\",\"Female\",\"Male\",\"Female\",\"Male\",\"Female\",\"Male\",\"Male\"],\"x0\":\" \",\"xaxis\":\"x\",\"y\":[6.0,7.0,8.0,6.0,8.0,7.5,6.0,10.0,6.0,9.0,8.0,7.5,9.0,8.5,8.5,7.5,7.0,7.5,9.0,7.0,8.0,7.5,8.0,8.0,7.0,6.0,7.0,7.0,9.0,7.0,7.0,8.0,7.0,7.0,7.5,7.0,7.0,9.0,7.5,7.0,6.0,6.0,10.0,7.5,8.0,7.0,8.0,7.5,8.0,7.0,7.0,7.5,8.5,8.5,7.5,9.0,8.0,7.5,7.0,7.5,7.5,7.0,8.0,7.5,7.5,8.0,7.0,7.5,7.0,6.0,7.5,7.0,6.0,7.5,7.0,8.5,7.0,9.0,7.0,7.5,8.5,7.5,7.5,8.0,6.0,7.5,7.0,7.0,7.5,7.5,5.0,8.0,7.0,7.0,7.5,7.0,7.0,7.5,9.0,8.0,8.0,8.5,8.0,6.0,6.0,8.0,7.0,8.5,8.0,7.5,5.0,7.0,8.0,6.0,8.5,7.0,8.0,8.0,7.0,7.0,6.0,8.0,7.0,8.5,7.0,8.0,7.0,7.0,9.0,7.0,8.0,8.0,7.5,8.0,7.0,7.0,7.0,7.0,7.5,9.0,8.5,6.0,7.0,7.0,7.0,7.0,8.0,8.0,8.0,7.5,8.5,7.0,7.5,7.5,7.5,7.5,7.5,7.0,7.0,8.5,7.0,7.5,7.0,7.0,8.0,7.0,7.0,7.0,7.5,7.0,8.0,7.5,8.0,6.0,8.0,7.0,7.5,7.0,8.0,6.0,7.5,7.0,7.5,8.0,7.5,7.5,7.0,7.0,8.0,7.0,7.5,8.0,7.0,7.0,8.0,7.0,8.0,6.0,5.0,7.0,7.0,8.0,6.0,8.0,7.0,6.0,7.0,7.0,8.0,9.0,7.0,7.0,7.5,5.0,7.5,7.0,6.0,7.5,7.0,8.0,7.0,8.5,8.0,8.5,6.0,8.0,7.5,7.0,8.0,7.0,7.5,8.0,5.0,8.0,9.0,7.0,7.5,7.5,8.5,8.0,7.0,8.5,8.0,7.0,7.0,8.5,8.5,8.0,7.5,10.0,7.0,8.5,7.0,6.0,7.0,7.0,7.0,8.0,8.0,7.5,7.0,7.0,9.0,9.0,7.0,7.5,7.0,8.0,8.5,7.0,8.0,7.0,9.0,7.0,7.0,7.0,8.0,8.0,8.0,7.0,7.5,7.5,7.0,8.5,7.0,6.0,8.0,7.5,7.0,7.0,8.0,7.5,6.0,7.0,7.0,8.0,7.0,8.0,8.5,8.0,7.0,8.5,7.0,10.0,8.0,5.0,6.0,9.0,7.0,7.5,10.0,7.0,9.0,7.0,7.0,8.0,7.5,7.5,8.0,7.0,7.0,7.5,7.5,7.5,6.0,7.0,7.5,7.5,8.0,7.5,5.5,8.0,9.0,7.5,8.5,10.0,7.0,8.0,10.0,5.5,7.0,8.0,8.0,7.0,9.0,7.0,7.0,8.0,7.0,7.5,7.0,7.5,8.0,7.5,7.0,7.0,8.0,9.0,7.0,9.0,9.0,6.0,7.5,10.0,8.0,7.0,8.0,5.0,7.5,6.0,7.0,7.0,8.0,8.0,7.5,9.0,8.0,8.0,7.0,7.0,7.0,7.0,7.5,9.0,7.0,8.0,7.0,7.0,8.0,8.0,7.5,5.0,7.0,7.0,8.0,8.0,7.0,8.0,7.0,7.5,8.0,7.5,8.0,8.0,6.0,5.5,7.0,8.0,8.0,8.0,7.0,7.0,7.0,8.5,8.0,7.0,7.0,7.0,9.0,8.5,7.0,7.0,7.0,7.5,8.0,6.0,7.0,8.0,8.0,7.5,6.0,7.0,8.0,7.5,8.0,7.0,8.0,8.0,6.0,7.5,8.0,9.0,7.0,7.5,7.5,7.5,7.0,7.5,6.0,8.5,7.0,7.5],\"y0\":\" \",\"yaxis\":\"y\",\"type\":\"box\"}],                        {\"template\":{\"data\":{\"histogram2dcontour\":[{\"type\":\"histogram2dcontour\",\"colorbar\":{\"outlinewidth\":0,\"ticks\":\"\"},\"colorscale\":[[0.0,\"#0d0887\"],[0.1111111111111111,\"#46039f\"],[0.2222222222222222,\"#7201a8\"],[0.3333333333333333,\"#9c179e\"],[0.4444444444444444,\"#bd3786\"],[0.5555555555555556,\"#d8576b\"],[0.6666666666666666,\"#ed7953\"],[0.7777777777777778,\"#fb9f3a\"],[0.8888888888888888,\"#fdca26\"],[1.0,\"#f0f921\"]]}],\"choropleth\":[{\"type\":\"choropleth\",\"colorbar\":{\"outlinewidth\":0,\"ticks\":\"\"}}],\"histogram2d\":[{\"type\":\"histogram2d\",\"colorbar\":{\"outlinewidth\":0,\"ticks\":\"\"},\"colorscale\":[[0.0,\"#0d0887\"],[0.1111111111111111,\"#46039f\"],[0.2222222222222222,\"#7201a8\"],[0.3333333333333333,\"#9c179e\"],[0.4444444444444444,\"#bd3786\"],[0.5555555555555556,\"#d8576b\"],[0.6666666666666666,\"#ed7953\"],[0.7777777777777778,\"#fb9f3a\"],[0.8888888888888888,\"#fdca26\"],[1.0,\"#f0f921\"]]}],\"heatmap\":[{\"type\":\"heatmap\",\"colorbar\":{\"outlinewidth\":0,\"ticks\":\"\"},\"colorscale\":[[0.0,\"#0d0887\"],[0.1111111111111111,\"#46039f\"],[0.2222222222222222,\"#7201a8\"],[0.3333333333333333,\"#9c179e\"],[0.4444444444444444,\"#bd3786\"],[0.5555555555555556,\"#d8576b\"],[0.6666666666666666,\"#ed7953\"],[0.7777777777777778,\"#fb9f3a\"],[0.8888888888888888,\"#fdca26\"],[1.0,\"#f0f921\"]]}],\"heatmapgl\":[{\"type\":\"heatmapgl\",\"colorbar\":{\"outlinewidth\":0,\"ticks\":\"\"},\"colorscale\":[[0.0,\"#0d0887\"],[0.1111111111111111,\"#46039f\"],[0.2222222222222222,\"#7201a8\"],[0.3333333333333333,\"#9c179e\"],[0.4444444444444444,\"#bd3786\"],[0.5555555555555556,\"#d8576b\"],[0.6666666666666666,\"#ed7953\"],[0.7777777777777778,\"#fb9f3a\"],[0.8888888888888888,\"#fdca26\"],[1.0,\"#f0f921\"]]}],\"contourcarpet\":[{\"type\":\"contourcarpet\",\"colorbar\":{\"outlinewidth\":0,\"ticks\":\"\"}}],\"contour\":[{\"type\":\"contour\",\"colorbar\":{\"outlinewidth\":0,\"ticks\":\"\"},\"colorscale\":[[0.0,\"#0d0887\"],[0.1111111111111111,\"#46039f\"],[0.2222222222222222,\"#7201a8\"],[0.3333333333333333,\"#9c179e\"],[0.4444444444444444,\"#bd3786\"],[0.5555555555555556,\"#d8576b\"],[0.6666666666666666,\"#ed7953\"],[0.7777777777777778,\"#fb9f3a\"],[0.8888888888888888,\"#fdca26\"],[1.0,\"#f0f921\"]]}],\"surface\":[{\"type\":\"surface\",\"colorbar\":{\"outlinewidth\":0,\"ticks\":\"\"},\"colorscale\":[[0.0,\"#0d0887\"],[0.1111111111111111,\"#46039f\"],[0.2222222222222222,\"#7201a8\"],[0.3333333333333333,\"#9c179e\"],[0.4444444444444444,\"#bd3786\"],[0.5555555555555556,\"#d8576b\"],[0.6666666666666666,\"#ed7953\"],[0.7777777777777778,\"#fb9f3a\"],[0.8888888888888888,\"#fdca26\"],[1.0,\"#f0f921\"]]}],\"mesh3d\":[{\"type\":\"mesh3d\",\"colorbar\":{\"outlinewidth\":0,\"ticks\":\"\"}}],\"scatter\":[{\"fillpattern\":{\"fillmode\":\"overlay\",\"size\":10,\"solidity\":0.2},\"type\":\"scatter\"}],\"parcoords\":[{\"type\":\"parcoords\",\"line\":{\"colorbar\":{\"outlinewidth\":0,\"ticks\":\"\"}}}],\"scatterpolargl\":[{\"type\":\"scatterpolargl\",\"marker\":{\"colorbar\":{\"outlinewidth\":0,\"ticks\":\"\"}}}],\"bar\":[{\"error_x\":{\"color\":\"#2a3f5f\"},\"error_y\":{\"color\":\"#2a3f5f\"},\"marker\":{\"line\":{\"color\":\"#E5ECF6\",\"width\":0.5},\"pattern\":{\"fillmode\":\"overlay\",\"size\":10,\"solidity\":0.2}},\"type\":\"bar\"}],\"scattergeo\":[{\"type\":\"scattergeo\",\"marker\":{\"colorbar\":{\"outlinewidth\":0,\"ticks\":\"\"}}}],\"scatterpolar\":[{\"type\":\"scatterpolar\",\"marker\":{\"colorbar\":{\"outlinewidth\":0,\"ticks\":\"\"}}}],\"histogram\":[{\"marker\":{\"pattern\":{\"fillmode\":\"overlay\",\"size\":10,\"solidity\":0.2}},\"type\":\"histogram\"}],\"scattergl\":[{\"type\":\"scattergl\",\"marker\":{\"colorbar\":{\"outlinewidth\":0,\"ticks\":\"\"}}}],\"scatter3d\":[{\"type\":\"scatter3d\",\"line\":{\"colorbar\":{\"outlinewidth\":0,\"ticks\":\"\"}},\"marker\":{\"colorbar\":{\"outlinewidth\":0,\"ticks\":\"\"}}}],\"scattermapbox\":[{\"type\":\"scattermapbox\",\"marker\":{\"colorbar\":{\"outlinewidth\":0,\"ticks\":\"\"}}}],\"scatterternary\":[{\"type\":\"scatterternary\",\"marker\":{\"colorbar\":{\"outlinewidth\":0,\"ticks\":\"\"}}}],\"scattercarpet\":[{\"type\":\"scattercarpet\",\"marker\":{\"colorbar\":{\"outlinewidth\":0,\"ticks\":\"\"}}}],\"carpet\":[{\"aaxis\":{\"endlinecolor\":\"#2a3f5f\",\"gridcolor\":\"white\",\"linecolor\":\"white\",\"minorgridcolor\":\"white\",\"startlinecolor\":\"#2a3f5f\"},\"baxis\":{\"endlinecolor\":\"#2a3f5f\",\"gridcolor\":\"white\",\"linecolor\":\"white\",\"minorgridcolor\":\"white\",\"startlinecolor\":\"#2a3f5f\"},\"type\":\"carpet\"}],\"table\":[{\"cells\":{\"fill\":{\"color\":\"#EBF0F8\"},\"line\":{\"color\":\"white\"}},\"header\":{\"fill\":{\"color\":\"#C8D4E3\"},\"line\":{\"color\":\"white\"}},\"type\":\"table\"}],\"barpolar\":[{\"marker\":{\"line\":{\"color\":\"#E5ECF6\",\"width\":0.5},\"pattern\":{\"fillmode\":\"overlay\",\"size\":10,\"solidity\":0.2}},\"type\":\"barpolar\"}],\"pie\":[{\"automargin\":true,\"type\":\"pie\"}]},\"layout\":{\"autotypenumbers\":\"strict\",\"colorway\":[\"#636efa\",\"#EF553B\",\"#00cc96\",\"#ab63fa\",\"#FFA15A\",\"#19d3f3\",\"#FF6692\",\"#B6E880\",\"#FF97FF\",\"#FECB52\"],\"font\":{\"color\":\"#2a3f5f\"},\"hovermode\":\"closest\",\"hoverlabel\":{\"align\":\"left\"},\"paper_bgcolor\":\"white\",\"plot_bgcolor\":\"#E5ECF6\",\"polar\":{\"bgcolor\":\"#E5ECF6\",\"angularaxis\":{\"gridcolor\":\"white\",\"linecolor\":\"white\",\"ticks\":\"\"},\"radialaxis\":{\"gridcolor\":\"white\",\"linecolor\":\"white\",\"ticks\":\"\"}},\"ternary\":{\"bgcolor\":\"#E5ECF6\",\"aaxis\":{\"gridcolor\":\"white\",\"linecolor\":\"white\",\"ticks\":\"\"},\"baxis\":{\"gridcolor\":\"white\",\"linecolor\":\"white\",\"ticks\":\"\"},\"caxis\":{\"gridcolor\":\"white\",\"linecolor\":\"white\",\"ticks\":\"\"}},\"coloraxis\":{\"colorbar\":{\"outlinewidth\":0,\"ticks\":\"\"}},\"colorscale\":{\"sequential\":[[0.0,\"#0d0887\"],[0.1111111111111111,\"#46039f\"],[0.2222222222222222,\"#7201a8\"],[0.3333333333333333,\"#9c179e\"],[0.4444444444444444,\"#bd3786\"],[0.5555555555555556,\"#d8576b\"],[0.6666666666666666,\"#ed7953\"],[0.7777777777777778,\"#fb9f3a\"],[0.8888888888888888,\"#fdca26\"],[1.0,\"#f0f921\"]],\"sequentialminus\":[[0.0,\"#0d0887\"],[0.1111111111111111,\"#46039f\"],[0.2222222222222222,\"#7201a8\"],[0.3333333333333333,\"#9c179e\"],[0.4444444444444444,\"#bd3786\"],[0.5555555555555556,\"#d8576b\"],[0.6666666666666666,\"#ed7953\"],[0.7777777777777778,\"#fb9f3a\"],[0.8888888888888888,\"#fdca26\"],[1.0,\"#f0f921\"]],\"diverging\":[[0,\"#8e0152\"],[0.1,\"#c51b7d\"],[0.2,\"#de77ae\"],[0.3,\"#f1b6da\"],[0.4,\"#fde0ef\"],[0.5,\"#f7f7f7\"],[0.6,\"#e6f5d0\"],[0.7,\"#b8e186\"],[0.8,\"#7fbc41\"],[0.9,\"#4d9221\"],[1,\"#276419\"]]},\"xaxis\":{\"gridcolor\":\"white\",\"linecolor\":\"white\",\"ticks\":\"\",\"title\":{\"standoff\":15},\"zerolinecolor\":\"white\",\"automargin\":true,\"zerolinewidth\":2},\"yaxis\":{\"gridcolor\":\"white\",\"linecolor\":\"white\",\"ticks\":\"\",\"title\":{\"standoff\":15},\"zerolinecolor\":\"white\",\"automargin\":true,\"zerolinewidth\":2},\"scene\":{\"xaxis\":{\"backgroundcolor\":\"#E5ECF6\",\"gridcolor\":\"white\",\"linecolor\":\"white\",\"showbackground\":true,\"ticks\":\"\",\"zerolinecolor\":\"white\",\"gridwidth\":2},\"yaxis\":{\"backgroundcolor\":\"#E5ECF6\",\"gridcolor\":\"white\",\"linecolor\":\"white\",\"showbackground\":true,\"ticks\":\"\",\"zerolinecolor\":\"white\",\"gridwidth\":2},\"zaxis\":{\"backgroundcolor\":\"#E5ECF6\",\"gridcolor\":\"white\",\"linecolor\":\"white\",\"showbackground\":true,\"ticks\":\"\",\"zerolinecolor\":\"white\",\"gridwidth\":2}},\"shapedefaults\":{\"line\":{\"color\":\"#2a3f5f\"}},\"annotationdefaults\":{\"arrowcolor\":\"#2a3f5f\",\"arrowhead\":0,\"arrowwidth\":1},\"geo\":{\"bgcolor\":\"white\",\"landcolor\":\"#E5ECF6\",\"subunitcolor\":\"white\",\"showland\":true,\"showlakes\":true,\"lakecolor\":\"white\"},\"title\":{\"x\":0.05},\"mapbox\":{\"style\":\"light\"}}},\"xaxis\":{\"anchor\":\"y\",\"domain\":[0.0,1.0],\"title\":{\"text\":\"Gender\"}},\"yaxis\":{\"anchor\":\"x\",\"domain\":[0.0,1.0],\"title\":{\"text\":\"Sleep duration\"}},\"legend\":{\"tracegroupgap\":0},\"title\":{\"text\":\"Sleep Duration by Gender\"},\"boxmode\":\"group\"},                        {\"responsive\": true}                    ).then(function(){\n",
       "                            \n",
       "var gd = document.getElementById('0a1217bc-a40c-4a26-b37a-1dc9b60d013f');\n",
       "var x = new MutationObserver(function (mutations, observer) {{\n",
       "        var display = window.getComputedStyle(gd).display;\n",
       "        if (!display || display === 'none') {{\n",
       "            console.log([gd, 'removed!']);\n",
       "            Plotly.purge(gd);\n",
       "            observer.disconnect();\n",
       "        }}\n",
       "}});\n",
       "\n",
       "// Listen for the removal of the full notebook cells\n",
       "var notebookContainer = gd.closest('#notebook-container');\n",
       "if (notebookContainer) {{\n",
       "    x.observe(notebookContainer, {childList: true});\n",
       "}}\n",
       "\n",
       "// Listen for the clearing of the current output cell\n",
       "var outputEl = gd.closest('.output');\n",
       "if (outputEl) {{\n",
       "    x.observe(outputEl, {childList: true});\n",
       "}}\n",
       "\n",
       "                        })                };                });            </script>        </div>"
      ]
     },
     "metadata": {},
     "output_type": "display_data"
    }
   ],
   "source": [
    "fig = px.box(df, y = \"Sleep duration\", x = \"Gender\", title = \"Sleep Duration by Gender\")\n",
    "fig.show()"
   ]
  },
  {
   "cell_type": "code",
   "execution_count": 163,
   "id": "331c49dc-6cd8-45d0-a43a-6039b8994937",
   "metadata": {},
   "outputs": [
    {
     "data": {
      "application/vnd.plotly.v1+json": {
       "config": {
        "plotlyServerURL": "https://plot.ly"
       },
       "data": [
        {
         "alignmentgroup": "True",
         "hovertemplate": "Gender=%{x}<br>Sleep efficiency=%{y}<extra></extra>",
         "legendgroup": "",
         "marker": {
          "color": "#636efa"
         },
         "name": "",
         "notched": false,
         "offsetgroup": "",
         "orientation": "v",
         "showlegend": false,
         "type": "box",
         "x": [
          "Female",
          "Male",
          "Female",
          "Female",
          "Male",
          "Female",
          "Female",
          "Male",
          "Female",
          "Female",
          "Male",
          "Male",
          "Female",
          "Male",
          "Female",
          "Female",
          "Female",
          "Female",
          "Female",
          "Male",
          "Male",
          "Male",
          "Female",
          "Female",
          "Male",
          "Male",
          "Female",
          "Male",
          "Male",
          "Female",
          "Male",
          "Male",
          "Male",
          "Female",
          "Female",
          "Female",
          "Male",
          "Female",
          "Female",
          "Female",
          "Male",
          "Male",
          "Female",
          "Female",
          "Female",
          "Female",
          "Male",
          "Female",
          "Female",
          "Female",
          "Female",
          "Male",
          "Female",
          "Female",
          "Male",
          "Male",
          "Male",
          "Male",
          "Female",
          "Female",
          "Female",
          "Male",
          "Male",
          "Female",
          "Male",
          "Male",
          "Male",
          "Male",
          "Male",
          "Male",
          "Female",
          "Female",
          "Male",
          "Male",
          "Male",
          "Male",
          "Female",
          "Male",
          "Male",
          "Male",
          "Male",
          "Male",
          "Male",
          "Female",
          "Male",
          "Male",
          "Male",
          "Male",
          "Male",
          "Female",
          "Male",
          "Male",
          "Male",
          "Male",
          "Male",
          "Female",
          "Male",
          "Male",
          "Female",
          "Male",
          "Female",
          "Male",
          "Female",
          "Female",
          "Female",
          "Female",
          "Male",
          "Male",
          "Female",
          "Male",
          "Male",
          "Male",
          "Male",
          "Male",
          "Male",
          "Male",
          "Male",
          "Male",
          "Male",
          "Male",
          "Male",
          "Female",
          "Male",
          "Male",
          "Male",
          "Male",
          "Male",
          "Female",
          "Female",
          "Male",
          "Female",
          "Female",
          "Female",
          "Male",
          "Male",
          "Female",
          "Male",
          "Male",
          "Male",
          "Female",
          "Female",
          "Female",
          "Male",
          "Male",
          "Female",
          "Female",
          "Male",
          "Female",
          "Female",
          "Female",
          "Male",
          "Female",
          "Male",
          "Male",
          "Male",
          "Male",
          "Female",
          "Female",
          "Female",
          "Male",
          "Male",
          "Male",
          "Male",
          "Female",
          "Male",
          "Female",
          "Female",
          "Female",
          "Male",
          "Female",
          "Male",
          "Female",
          "Male",
          "Female",
          "Female",
          "Male",
          "Female",
          "Female",
          "Female",
          "Male",
          "Male",
          "Female",
          "Female",
          "Female",
          "Female",
          "Female",
          "Female",
          "Male",
          "Male",
          "Female",
          "Male",
          "Female",
          "Male",
          "Female",
          "Female",
          "Female",
          "Female",
          "Male",
          "Female",
          "Male",
          "Male",
          "Female",
          "Female",
          "Male",
          "Female",
          "Female",
          "Female",
          "Female",
          "Female",
          "Male",
          "Male",
          "Female",
          "Female",
          "Female",
          "Male",
          "Female",
          "Male",
          "Female",
          "Female",
          "Female",
          "Female",
          "Female",
          "Male",
          "Female",
          "Male",
          "Male",
          "Female",
          "Female",
          "Female",
          "Male",
          "Male",
          "Male",
          "Female",
          "Male",
          "Female",
          "Female",
          "Male",
          "Male",
          "Female",
          "Male",
          "Male",
          "Male",
          "Female",
          "Male",
          "Female",
          "Male",
          "Female",
          "Female",
          "Male",
          "Male",
          "Female",
          "Male",
          "Female",
          "Female",
          "Female",
          "Female",
          "Female",
          "Female",
          "Male",
          "Female",
          "Male",
          "Female",
          "Female",
          "Female",
          "Female",
          "Male",
          "Male",
          "Female",
          "Male",
          "Male",
          "Female",
          "Female",
          "Male",
          "Male",
          "Male",
          "Female",
          "Female",
          "Female",
          "Female",
          "Female",
          "Female",
          "Male",
          "Male",
          "Female",
          "Female",
          "Male",
          "Male",
          "Female",
          "Female",
          "Female",
          "Male",
          "Female",
          "Female",
          "Female",
          "Male",
          "Female",
          "Male",
          "Female",
          "Female",
          "Male",
          "Female",
          "Female",
          "Male",
          "Male",
          "Male",
          "Male",
          "Male",
          "Female",
          "Female",
          "Female",
          "Female",
          "Female",
          "Male",
          "Male",
          "Male",
          "Female",
          "Male",
          "Male",
          "Male",
          "Male",
          "Male",
          "Male",
          "Female",
          "Male",
          "Female",
          "Female",
          "Female",
          "Female",
          "Female",
          "Female",
          "Male",
          "Male",
          "Female",
          "Female",
          "Female",
          "Female",
          "Female",
          "Male",
          "Male",
          "Male",
          "Male",
          "Female",
          "Female",
          "Female",
          "Male",
          "Male",
          "Male",
          "Male",
          "Male",
          "Female",
          "Male",
          "Female",
          "Male",
          "Male",
          "Female",
          "Male",
          "Male",
          "Female",
          "Male",
          "Female",
          "Female",
          "Female",
          "Male",
          "Female",
          "Male",
          "Female",
          "Male",
          "Male",
          "Male",
          "Male",
          "Female",
          "Female",
          "Female",
          "Male",
          "Male",
          "Female",
          "Male",
          "Female",
          "Male",
          "Male",
          "Female",
          "Male",
          "Male",
          "Male",
          "Male",
          "Female",
          "Female",
          "Female",
          "Female",
          "Female",
          "Male",
          "Female",
          "Female",
          "Male",
          "Female",
          "Male",
          "Female",
          "Female",
          "Female",
          "Female",
          "Female",
          "Male",
          "Male",
          "Male",
          "Male",
          "Male",
          "Male",
          "Female",
          "Female",
          "Female",
          "Male",
          "Male",
          "Female",
          "Male",
          "Female",
          "Male",
          "Female",
          "Male",
          "Male",
          "Male",
          "Male",
          "Male",
          "Female",
          "Female",
          "Male",
          "Female",
          "Male",
          "Male",
          "Male",
          "Male",
          "Female",
          "Female",
          "Male",
          "Female",
          "Female",
          "Female",
          "Male",
          "Male",
          "Male",
          "Male",
          "Female",
          "Male",
          "Female",
          "Female",
          "Male",
          "Female",
          "Male",
          "Female",
          "Male",
          "Female",
          "Male",
          "Male"
         ],
         "x0": " ",
         "xaxis": "x",
         "y": [
          0.88,
          0.66,
          0.89,
          0.51,
          0.76,
          0.9,
          0.54,
          0.9,
          0.79,
          0.55,
          0.92,
          0.93,
          0.93,
          0.64,
          0.54,
          0.92,
          0.54,
          0.5,
          0.98,
          0.89,
          0.83,
          0.71,
          0.84,
          0.98,
          0.88,
          0.91,
          0.95,
          0.84,
          0.65,
          0.91,
          0.57,
          0.68,
          0.55,
          0.9,
          0.94,
          0.64,
          0.87,
          0.82,
          0.87,
          0.63,
          0.83,
          0.83,
          0.59,
          0.87,
          0.77,
          0.86,
          0.91,
          0.71,
          0.81,
          0.81,
          0.71,
          0.71,
          0.52,
          0.65,
          0.84,
          0.84,
          0.99,
          0.91,
          0.71,
          0.8,
          0.95,
          0.91,
          0.81,
          0.93,
          0.85,
          0.77,
          0.84,
          0.87,
          0.8,
          0.52,
          0.54,
          0.88,
          0.64,
          0.87,
          0.77,
          0.68,
          0.94,
          0.7,
          0.79,
          0.77,
          0.86,
          0.81,
          0.88,
          0.78,
          0.64,
          0.88,
          0.78,
          0.71,
          0.97,
          0.77,
          0.8,
          0.94,
          0.52,
          0.76,
          0.73,
          0.73,
          0.96,
          0.91,
          0.8,
          0.77,
          0.81,
          0.71,
          0.95,
          0.64,
          0.94,
          0.87,
          0.63,
          0.88,
          0.9,
          0.94,
          0.91,
          0.9,
          0.8,
          0.85,
          0.89,
          0.53,
          0.87,
          0.5,
          0.93,
          0.72,
          0.92,
          0.62,
          0.93,
          0.91,
          0.63,
          0.77,
          0.51,
          0.94,
          0.73,
          0.78,
          0.55,
          0.83,
          0.94,
          0.95,
          0.59,
          0.82,
          0.9,
          0.77,
          0.83,
          0.65,
          0.54,
          0.51,
          0.81,
          0.87,
          0.75,
          0.57,
          0.58,
          0.81,
          0.75,
          0.6,
          0.53,
          0.93,
          0.89,
          0.7,
          0.74,
          0.92,
          0.93,
          0.95,
          0.6,
          0.93,
          0.81,
          0.95,
          0.72,
          0.9,
          0.95,
          0.91,
          0.85,
          0.9,
          0.92,
          0.6,
          0.89,
          0.67,
          0.51,
          0.78,
          0.95,
          0.68,
          0.68,
          0.94,
          0.78,
          0.9,
          0.83,
          0.8,
          0.96,
          0.91,
          0.96,
          0.94,
          0.63,
          0.73,
          0.87,
          0.76,
          0.68,
          0.94,
          0.95,
          0.62,
          0.91,
          0.67,
          0.94,
          0.79,
          0.86,
          0.83,
          0.73,
          0.71,
          0.87,
          0.5,
          0.92,
          0.79,
          0.98,
          0.93,
          0.88,
          0.77,
          0.86,
          0.54,
          0.8,
          0.86,
          0.61,
          0.72,
          0.72,
          0.55,
          0.96,
          0.58,
          0.77,
          0.85,
          0.95,
          0.69,
          0.95,
          0.82,
          0.93,
          0.82,
          0.94,
          0.75,
          0.91,
          0.65,
          0.87,
          0.84,
          0.85,
          0.91,
          0.71,
          0.82,
          0.77,
          0.95,
          0.95,
          0.76,
          0.85,
          0.75,
          0.92,
          0.78,
          0.91,
          0.85,
          0.95,
          0.66,
          0.63,
          0.86,
          0.54,
          0.95,
          0.72,
          0.52,
          0.93,
          0.52,
          0.61,
          0.79,
          0.94,
          0.76,
          0.76,
          0.78,
          0.94,
          0.87,
          0.55,
          0.93,
          0.93,
          0.94,
          0.78,
          0.94,
          0.5,
          0.93,
          0.73,
          0.9,
          0.87,
          0.93,
          0.9,
          0.67,
          0.9,
          0.9,
          0.98,
          0.66,
          0.68,
          0.56,
          0.62,
          0.52,
          0.96,
          0.81,
          0.84,
          0.93,
          0.87,
          0.86,
          0.89,
          0.94,
          0.84,
          0.86,
          0.75,
          0.6,
          0.93,
          0.75,
          0.81,
          0.78,
          0.84,
          0.9,
          0.9,
          0.67,
          0.93,
          0.8,
          0.63,
          0.9,
          0.9,
          0.86,
          0.51,
          0.71,
          0.87,
          0.7,
          0.85,
          0.87,
          0.6,
          0.83,
          0.8,
          0.93,
          0.75,
          0.5,
          0.5,
          0.67,
          0.96,
          0.52,
          0.68,
          0.72,
          0.56,
          0.91,
          0.85,
          0.72,
          0.9,
          0.77,
          0.89,
          0.9,
          0.85,
          0.95,
          0.51,
          0.9,
          0.9,
          0.51,
          0.84,
          0.82,
          0.88,
          0.79,
          0.64,
          0.84,
          0.86,
          0.71,
          0.9,
          0.82,
          0.95,
          0.95,
          0.54,
          0.95,
          0.53,
          0.92,
          0.85,
          0.92,
          0.53,
          0.75,
          0.82,
          0.74,
          0.87,
          0.72,
          0.87,
          0.53,
          0.72,
          0.87,
          0.66,
          0.66,
          0.72,
          0.81,
          0.88,
          0.94,
          0.83,
          0.91,
          0.95,
          0.9,
          0.95,
          0.9,
          0.62,
          0.93,
          0.79,
          0.91,
          0.81,
          0.52,
          0.52,
          0.84,
          0.67,
          0.83,
          0.63,
          0.64,
          0.91,
          0.82,
          0.92,
          0.92,
          0.93,
          0.87,
          0.64,
          0.9,
          0.82,
          0.86,
          0.73,
          0.9,
          0.68,
          0.82,
          0.74,
          0.88,
          0.72,
          0.67,
          0.87,
          0.66,
          0.66,
          0.87,
          0.51,
          0.79,
          0.8,
          0.55,
          0.85,
          0.88,
          0.88,
          0.93,
          0.63,
          0.92,
          0.8,
          0.92,
          0.77,
          0.9,
          0.9,
          0.96,
          0.72,
          0.86,
          0.9,
          0.5,
          0.88,
          0.6,
          0.68,
          0.67,
          0.58,
          0.53,
          0.5,
          0.91,
          0.74,
          0.55,
          0.76,
          0.63
         ],
         "y0": " ",
         "yaxis": "y"
        }
       ],
       "layout": {
        "autosize": true,
        "boxmode": "group",
        "legend": {
         "tracegroupgap": 0
        },
        "template": {
         "data": {
          "bar": [
           {
            "error_x": {
             "color": "#2a3f5f"
            },
            "error_y": {
             "color": "#2a3f5f"
            },
            "marker": {
             "line": {
              "color": "#E5ECF6",
              "width": 0.5
             },
             "pattern": {
              "fillmode": "overlay",
              "size": 10,
              "solidity": 0.2
             }
            },
            "type": "bar"
           }
          ],
          "barpolar": [
           {
            "marker": {
             "line": {
              "color": "#E5ECF6",
              "width": 0.5
             },
             "pattern": {
              "fillmode": "overlay",
              "size": 10,
              "solidity": 0.2
             }
            },
            "type": "barpolar"
           }
          ],
          "carpet": [
           {
            "aaxis": {
             "endlinecolor": "#2a3f5f",
             "gridcolor": "white",
             "linecolor": "white",
             "minorgridcolor": "white",
             "startlinecolor": "#2a3f5f"
            },
            "baxis": {
             "endlinecolor": "#2a3f5f",
             "gridcolor": "white",
             "linecolor": "white",
             "minorgridcolor": "white",
             "startlinecolor": "#2a3f5f"
            },
            "type": "carpet"
           }
          ],
          "choropleth": [
           {
            "colorbar": {
             "outlinewidth": 0,
             "ticks": ""
            },
            "type": "choropleth"
           }
          ],
          "contour": [
           {
            "colorbar": {
             "outlinewidth": 0,
             "ticks": ""
            },
            "colorscale": [
             [
              0,
              "#0d0887"
             ],
             [
              0.1111111111111111,
              "#46039f"
             ],
             [
              0.2222222222222222,
              "#7201a8"
             ],
             [
              0.3333333333333333,
              "#9c179e"
             ],
             [
              0.4444444444444444,
              "#bd3786"
             ],
             [
              0.5555555555555556,
              "#d8576b"
             ],
             [
              0.6666666666666666,
              "#ed7953"
             ],
             [
              0.7777777777777778,
              "#fb9f3a"
             ],
             [
              0.8888888888888888,
              "#fdca26"
             ],
             [
              1,
              "#f0f921"
             ]
            ],
            "type": "contour"
           }
          ],
          "contourcarpet": [
           {
            "colorbar": {
             "outlinewidth": 0,
             "ticks": ""
            },
            "type": "contourcarpet"
           }
          ],
          "heatmap": [
           {
            "colorbar": {
             "outlinewidth": 0,
             "ticks": ""
            },
            "colorscale": [
             [
              0,
              "#0d0887"
             ],
             [
              0.1111111111111111,
              "#46039f"
             ],
             [
              0.2222222222222222,
              "#7201a8"
             ],
             [
              0.3333333333333333,
              "#9c179e"
             ],
             [
              0.4444444444444444,
              "#bd3786"
             ],
             [
              0.5555555555555556,
              "#d8576b"
             ],
             [
              0.6666666666666666,
              "#ed7953"
             ],
             [
              0.7777777777777778,
              "#fb9f3a"
             ],
             [
              0.8888888888888888,
              "#fdca26"
             ],
             [
              1,
              "#f0f921"
             ]
            ],
            "type": "heatmap"
           }
          ],
          "heatmapgl": [
           {
            "colorbar": {
             "outlinewidth": 0,
             "ticks": ""
            },
            "colorscale": [
             [
              0,
              "#0d0887"
             ],
             [
              0.1111111111111111,
              "#46039f"
             ],
             [
              0.2222222222222222,
              "#7201a8"
             ],
             [
              0.3333333333333333,
              "#9c179e"
             ],
             [
              0.4444444444444444,
              "#bd3786"
             ],
             [
              0.5555555555555556,
              "#d8576b"
             ],
             [
              0.6666666666666666,
              "#ed7953"
             ],
             [
              0.7777777777777778,
              "#fb9f3a"
             ],
             [
              0.8888888888888888,
              "#fdca26"
             ],
             [
              1,
              "#f0f921"
             ]
            ],
            "type": "heatmapgl"
           }
          ],
          "histogram": [
           {
            "marker": {
             "pattern": {
              "fillmode": "overlay",
              "size": 10,
              "solidity": 0.2
             }
            },
            "type": "histogram"
           }
          ],
          "histogram2d": [
           {
            "colorbar": {
             "outlinewidth": 0,
             "ticks": ""
            },
            "colorscale": [
             [
              0,
              "#0d0887"
             ],
             [
              0.1111111111111111,
              "#46039f"
             ],
             [
              0.2222222222222222,
              "#7201a8"
             ],
             [
              0.3333333333333333,
              "#9c179e"
             ],
             [
              0.4444444444444444,
              "#bd3786"
             ],
             [
              0.5555555555555556,
              "#d8576b"
             ],
             [
              0.6666666666666666,
              "#ed7953"
             ],
             [
              0.7777777777777778,
              "#fb9f3a"
             ],
             [
              0.8888888888888888,
              "#fdca26"
             ],
             [
              1,
              "#f0f921"
             ]
            ],
            "type": "histogram2d"
           }
          ],
          "histogram2dcontour": [
           {
            "colorbar": {
             "outlinewidth": 0,
             "ticks": ""
            },
            "colorscale": [
             [
              0,
              "#0d0887"
             ],
             [
              0.1111111111111111,
              "#46039f"
             ],
             [
              0.2222222222222222,
              "#7201a8"
             ],
             [
              0.3333333333333333,
              "#9c179e"
             ],
             [
              0.4444444444444444,
              "#bd3786"
             ],
             [
              0.5555555555555556,
              "#d8576b"
             ],
             [
              0.6666666666666666,
              "#ed7953"
             ],
             [
              0.7777777777777778,
              "#fb9f3a"
             ],
             [
              0.8888888888888888,
              "#fdca26"
             ],
             [
              1,
              "#f0f921"
             ]
            ],
            "type": "histogram2dcontour"
           }
          ],
          "mesh3d": [
           {
            "colorbar": {
             "outlinewidth": 0,
             "ticks": ""
            },
            "type": "mesh3d"
           }
          ],
          "parcoords": [
           {
            "line": {
             "colorbar": {
              "outlinewidth": 0,
              "ticks": ""
             }
            },
            "type": "parcoords"
           }
          ],
          "pie": [
           {
            "automargin": true,
            "type": "pie"
           }
          ],
          "scatter": [
           {
            "fillpattern": {
             "fillmode": "overlay",
             "size": 10,
             "solidity": 0.2
            },
            "type": "scatter"
           }
          ],
          "scatter3d": [
           {
            "line": {
             "colorbar": {
              "outlinewidth": 0,
              "ticks": ""
             }
            },
            "marker": {
             "colorbar": {
              "outlinewidth": 0,
              "ticks": ""
             }
            },
            "type": "scatter3d"
           }
          ],
          "scattercarpet": [
           {
            "marker": {
             "colorbar": {
              "outlinewidth": 0,
              "ticks": ""
             }
            },
            "type": "scattercarpet"
           }
          ],
          "scattergeo": [
           {
            "marker": {
             "colorbar": {
              "outlinewidth": 0,
              "ticks": ""
             }
            },
            "type": "scattergeo"
           }
          ],
          "scattergl": [
           {
            "marker": {
             "colorbar": {
              "outlinewidth": 0,
              "ticks": ""
             }
            },
            "type": "scattergl"
           }
          ],
          "scattermapbox": [
           {
            "marker": {
             "colorbar": {
              "outlinewidth": 0,
              "ticks": ""
             }
            },
            "type": "scattermapbox"
           }
          ],
          "scatterpolar": [
           {
            "marker": {
             "colorbar": {
              "outlinewidth": 0,
              "ticks": ""
             }
            },
            "type": "scatterpolar"
           }
          ],
          "scatterpolargl": [
           {
            "marker": {
             "colorbar": {
              "outlinewidth": 0,
              "ticks": ""
             }
            },
            "type": "scatterpolargl"
           }
          ],
          "scatterternary": [
           {
            "marker": {
             "colorbar": {
              "outlinewidth": 0,
              "ticks": ""
             }
            },
            "type": "scatterternary"
           }
          ],
          "surface": [
           {
            "colorbar": {
             "outlinewidth": 0,
             "ticks": ""
            },
            "colorscale": [
             [
              0,
              "#0d0887"
             ],
             [
              0.1111111111111111,
              "#46039f"
             ],
             [
              0.2222222222222222,
              "#7201a8"
             ],
             [
              0.3333333333333333,
              "#9c179e"
             ],
             [
              0.4444444444444444,
              "#bd3786"
             ],
             [
              0.5555555555555556,
              "#d8576b"
             ],
             [
              0.6666666666666666,
              "#ed7953"
             ],
             [
              0.7777777777777778,
              "#fb9f3a"
             ],
             [
              0.8888888888888888,
              "#fdca26"
             ],
             [
              1,
              "#f0f921"
             ]
            ],
            "type": "surface"
           }
          ],
          "table": [
           {
            "cells": {
             "fill": {
              "color": "#EBF0F8"
             },
             "line": {
              "color": "white"
             }
            },
            "header": {
             "fill": {
              "color": "#C8D4E3"
             },
             "line": {
              "color": "white"
             }
            },
            "type": "table"
           }
          ]
         },
         "layout": {
          "annotationdefaults": {
           "arrowcolor": "#2a3f5f",
           "arrowhead": 0,
           "arrowwidth": 1
          },
          "autotypenumbers": "strict",
          "coloraxis": {
           "colorbar": {
            "outlinewidth": 0,
            "ticks": ""
           }
          },
          "colorscale": {
           "diverging": [
            [
             0,
             "#8e0152"
            ],
            [
             0.1,
             "#c51b7d"
            ],
            [
             0.2,
             "#de77ae"
            ],
            [
             0.3,
             "#f1b6da"
            ],
            [
             0.4,
             "#fde0ef"
            ],
            [
             0.5,
             "#f7f7f7"
            ],
            [
             0.6,
             "#e6f5d0"
            ],
            [
             0.7,
             "#b8e186"
            ],
            [
             0.8,
             "#7fbc41"
            ],
            [
             0.9,
             "#4d9221"
            ],
            [
             1,
             "#276419"
            ]
           ],
           "sequential": [
            [
             0,
             "#0d0887"
            ],
            [
             0.1111111111111111,
             "#46039f"
            ],
            [
             0.2222222222222222,
             "#7201a8"
            ],
            [
             0.3333333333333333,
             "#9c179e"
            ],
            [
             0.4444444444444444,
             "#bd3786"
            ],
            [
             0.5555555555555556,
             "#d8576b"
            ],
            [
             0.6666666666666666,
             "#ed7953"
            ],
            [
             0.7777777777777778,
             "#fb9f3a"
            ],
            [
             0.8888888888888888,
             "#fdca26"
            ],
            [
             1,
             "#f0f921"
            ]
           ],
           "sequentialminus": [
            [
             0,
             "#0d0887"
            ],
            [
             0.1111111111111111,
             "#46039f"
            ],
            [
             0.2222222222222222,
             "#7201a8"
            ],
            [
             0.3333333333333333,
             "#9c179e"
            ],
            [
             0.4444444444444444,
             "#bd3786"
            ],
            [
             0.5555555555555556,
             "#d8576b"
            ],
            [
             0.6666666666666666,
             "#ed7953"
            ],
            [
             0.7777777777777778,
             "#fb9f3a"
            ],
            [
             0.8888888888888888,
             "#fdca26"
            ],
            [
             1,
             "#f0f921"
            ]
           ]
          },
          "colorway": [
           "#636efa",
           "#EF553B",
           "#00cc96",
           "#ab63fa",
           "#FFA15A",
           "#19d3f3",
           "#FF6692",
           "#B6E880",
           "#FF97FF",
           "#FECB52"
          ],
          "font": {
           "color": "#2a3f5f"
          },
          "geo": {
           "bgcolor": "white",
           "lakecolor": "white",
           "landcolor": "#E5ECF6",
           "showlakes": true,
           "showland": true,
           "subunitcolor": "white"
          },
          "hoverlabel": {
           "align": "left"
          },
          "hovermode": "closest",
          "mapbox": {
           "style": "light"
          },
          "paper_bgcolor": "white",
          "plot_bgcolor": "#E5ECF6",
          "polar": {
           "angularaxis": {
            "gridcolor": "white",
            "linecolor": "white",
            "ticks": ""
           },
           "bgcolor": "#E5ECF6",
           "radialaxis": {
            "gridcolor": "white",
            "linecolor": "white",
            "ticks": ""
           }
          },
          "scene": {
           "xaxis": {
            "backgroundcolor": "#E5ECF6",
            "gridcolor": "white",
            "gridwidth": 2,
            "linecolor": "white",
            "showbackground": true,
            "ticks": "",
            "zerolinecolor": "white"
           },
           "yaxis": {
            "backgroundcolor": "#E5ECF6",
            "gridcolor": "white",
            "gridwidth": 2,
            "linecolor": "white",
            "showbackground": true,
            "ticks": "",
            "zerolinecolor": "white"
           },
           "zaxis": {
            "backgroundcolor": "#E5ECF6",
            "gridcolor": "white",
            "gridwidth": 2,
            "linecolor": "white",
            "showbackground": true,
            "ticks": "",
            "zerolinecolor": "white"
           }
          },
          "shapedefaults": {
           "line": {
            "color": "#2a3f5f"
           }
          },
          "ternary": {
           "aaxis": {
            "gridcolor": "white",
            "linecolor": "white",
            "ticks": ""
           },
           "baxis": {
            "gridcolor": "white",
            "linecolor": "white",
            "ticks": ""
           },
           "bgcolor": "#E5ECF6",
           "caxis": {
            "gridcolor": "white",
            "linecolor": "white",
            "ticks": ""
           }
          },
          "title": {
           "x": 0.05
          },
          "xaxis": {
           "automargin": true,
           "gridcolor": "white",
           "linecolor": "white",
           "ticks": "",
           "title": {
            "standoff": 15
           },
           "zerolinecolor": "white",
           "zerolinewidth": 2
          },
          "yaxis": {
           "automargin": true,
           "gridcolor": "white",
           "linecolor": "white",
           "ticks": "",
           "title": {
            "standoff": 15
           },
           "zerolinecolor": "white",
           "zerolinewidth": 2
          }
         }
        },
        "title": {
         "text": "Sleep efficiency by Gender"
        },
        "xaxis": {
         "anchor": "y",
         "autorange": true,
         "domain": [
          0,
          1
         ],
         "range": [
          -0.5,
          1.5
         ],
         "title": {
          "text": "Gender"
         },
         "type": "category"
        },
        "yaxis": {
         "anchor": "x",
         "autorange": true,
         "domain": [
          0,
          1
         ],
         "range": [
          0.4727777777777778,
          1.0172222222222222
         ],
         "title": {
          "text": "Sleep efficiency"
         },
         "type": "linear"
        }
       }
      },
      "image/png": "[encoded data removed]",
      "text/html": [
       "<div>                            <div id=\"2399093b-d03c-4ef5-ae2e-3a817b598a22\" class=\"plotly-graph-div\" style=\"height:525px; width:100%;\"></div>            <script type=\"text/javascript\">                require([\"plotly\"], function(Plotly) {                    window.PLOTLYENV=window.PLOTLYENV || {};                                    if (document.getElementById(\"2399093b-d03c-4ef5-ae2e-3a817b598a22\")) {                    Plotly.newPlot(                        \"2399093b-d03c-4ef5-ae2e-3a817b598a22\",                        [{\"alignmentgroup\":\"True\",\"hovertemplate\":\"Gender=%{x}\\u003cbr\\u003eSleep efficiency=%{y}\\u003cextra\\u003e\\u003c\\u002fextra\\u003e\",\"legendgroup\":\"\",\"marker\":{\"color\":\"#636efa\"},\"name\":\"\",\"notched\":false,\"offsetgroup\":\"\",\"orientation\":\"v\",\"showlegend\":false,\"x\":[\"Female\",\"Male\",\"Female\",\"Female\",\"Male\",\"Female\",\"Female\",\"Male\",\"Female\",\"Female\",\"Male\",\"Male\",\"Female\",\"Male\",\"Female\",\"Female\",\"Female\",\"Female\",\"Female\",\"Male\",\"Male\",\"Male\",\"Female\",\"Female\",\"Male\",\"Male\",\"Female\",\"Male\",\"Male\",\"Female\",\"Male\",\"Male\",\"Male\",\"Female\",\"Female\",\"Female\",\"Male\",\"Female\",\"Female\",\"Female\",\"Male\",\"Male\",\"Female\",\"Female\",\"Female\",\"Female\",\"Male\",\"Female\",\"Female\",\"Female\",\"Female\",\"Male\",\"Female\",\"Female\",\"Male\",\"Male\",\"Male\",\"Male\",\"Female\",\"Female\",\"Female\",\"Male\",\"Male\",\"Female\",\"Male\",\"Male\",\"Male\",\"Male\",\"Male\",\"Male\",\"Female\",\"Female\",\"Male\",\"Male\",\"Male\",\"Male\",\"Female\",\"Male\",\"Male\",\"Male\",\"Male\",\"Male\",\"Male\",\"Female\",\"Male\",\"Male\",\"Male\",\"Male\",\"Male\",\"Female\",\"Male\",\"Male\",\"Male\",\"Male\",\"Male\",\"Female\",\"Male\",\"Male\",\"Female\",\"Male\",\"Female\",\"Male\",\"Female\",\"Female\",\"Female\",\"Female\",\"Male\",\"Male\",\"Female\",\"Male\",\"Male\",\"Male\",\"Male\",\"Male\",\"Male\",\"Male\",\"Male\",\"Male\",\"Male\",\"Male\",\"Male\",\"Female\",\"Male\",\"Male\",\"Male\",\"Male\",\"Male\",\"Female\",\"Female\",\"Male\",\"Female\",\"Female\",\"Female\",\"Male\",\"Male\",\"Female\",\"Male\",\"Male\",\"Male\",\"Female\",\"Female\",\"Female\",\"Male\",\"Male\",\"Female\",\"Female\",\"Male\",\"Female\",\"Female\",\"Female\",\"Male\",\"Female\",\"Male\",\"Male\",\"Male\",\"Male\",\"Female\",\"Female\",\"Female\",\"Male\",\"Male\",\"Male\",\"Male\",\"Female\",\"Male\",\"Female\",\"Female\",\"Female\",\"Male\",\"Female\",\"Male\",\"Female\",\"Male\",\"Female\",\"Female\",\"Male\",\"Female\",\"Female\",\"Female\",\"Male\",\"Male\",\"Female\",\"Female\",\"Female\",\"Female\",\"Female\",\"Female\",\"Male\",\"Male\",\"Female\",\"Male\",\"Female\",\"Male\",\"Female\",\"Female\",\"Female\",\"Female\",\"Male\",\"Female\",\"Male\",\"Male\",\"Female\",\"Female\",\"Male\",\"Female\",\"Female\",\"Female\",\"Female\",\"Female\",\"Male\",\"Male\",\"Female\",\"Female\",\"Female\",\"Male\",\"Female\",\"Male\",\"Female\",\"Female\",\"Female\",\"Female\",\"Female\",\"Male\",\"Female\",\"Male\",\"Male\",\"Female\",\"Female\",\"Female\",\"Male\",\"Male\",\"Male\",\"Female\",\"Male\",\"Female\",\"Female\",\"Male\",\"Male\",\"Female\",\"Male\",\"Male\",\"Male\",\"Female\",\"Male\",\"Female\",\"Male\",\"Female\",\"Female\",\"Male\",\"Male\",\"Female\",\"Male\",\"Female\",\"Female\",\"Female\",\"Female\",\"Female\",\"Female\",\"Male\",\"Female\",\"Male\",\"Female\",\"Female\",\"Female\",\"Female\",\"Male\",\"Male\",\"Female\",\"Male\",\"Male\",\"Female\",\"Female\",\"Male\",\"Male\",\"Male\",\"Female\",\"Female\",\"Female\",\"Female\",\"Female\",\"Female\",\"Male\",\"Male\",\"Female\",\"Female\",\"Male\",\"Male\",\"Female\",\"Female\",\"Female\",\"Male\",\"Female\",\"Female\",\"Female\",\"Male\",\"Female\",\"Male\",\"Female\",\"Female\",\"Male\",\"Female\",\"Female\",\"Male\",\"Male\",\"Male\",\"Male\",\"Male\",\"Female\",\"Female\",\"Female\",\"Female\",\"Female\",\"Male\",\"Male\",\"Male\",\"Female\",\"Male\",\"Male\",\"Male\",\"Male\",\"Male\",\"Male\",\"Female\",\"Male\",\"Female\",\"Female\",\"Female\",\"Female\",\"Female\",\"Female\",\"Male\",\"Male\",\"Female\",\"Female\",\"Female\",\"Female\",\"Female\",\"Male\",\"Male\",\"Male\",\"Male\",\"Female\",\"Female\",\"Female\",\"Male\",\"Male\",\"Male\",\"Male\",\"Male\",\"Female\",\"Male\",\"Female\",\"Male\",\"Male\",\"Female\",\"Male\",\"Male\",\"Female\",\"Male\",\"Female\",\"Female\",\"Female\",\"Male\",\"Female\",\"Male\",\"Female\",\"Male\",\"Male\",\"Male\",\"Male\",\"Female\",\"Female\",\"Female\",\"Male\",\"Male\",\"Female\",\"Male\",\"Female\",\"Male\",\"Male\",\"Female\",\"Male\",\"Male\",\"Male\",\"Male\",\"Female\",\"Female\",\"Female\",\"Female\",\"Female\",\"Male\",\"Female\",\"Female\",\"Male\",\"Female\",\"Male\",\"Female\",\"Female\",\"Female\",\"Female\",\"Female\",\"Male\",\"Male\",\"Male\",\"Male\",\"Male\",\"Male\",\"Female\",\"Female\",\"Female\",\"Male\",\"Male\",\"Female\",\"Male\",\"Female\",\"Male\",\"Female\",\"Male\",\"Male\",\"Male\",\"Male\",\"Male\",\"Female\",\"Female\",\"Male\",\"Female\",\"Male\",\"Male\",\"Male\",\"Male\",\"Female\",\"Female\",\"Male\",\"Female\",\"Female\",\"Female\",\"Male\",\"Male\",\"Male\",\"Male\",\"Female\",\"Male\",\"Female\",\"Female\",\"Male\",\"Female\",\"Male\",\"Female\",\"Male\",\"Female\",\"Male\",\"Male\"],\"x0\":\" \",\"xaxis\":\"x\",\"y\":[0.88,0.66,0.89,0.51,0.76,0.9,0.54,0.9,0.79,0.55,0.92,0.93,0.93,0.64,0.54,0.92,0.54,0.5,0.98,0.89,0.83,0.71,0.84,0.98,0.88,0.91,0.95,0.84,0.65,0.91,0.57,0.68,0.55,0.9,0.94,0.64,0.87,0.82,0.87,0.63,0.83,0.83,0.59,0.87,0.77,0.86,0.91,0.71,0.81,0.81,0.71,0.71,0.52,0.65,0.84,0.84,0.99,0.91,0.71,0.8,0.95,0.91,0.81,0.93,0.85,0.77,0.84,0.87,0.8,0.52,0.54,0.88,0.64,0.87,0.77,0.68,0.94,0.7,0.79,0.77,0.86,0.81,0.88,0.78,0.64,0.88,0.78,0.71,0.97,0.77,0.8,0.94,0.52,0.76,0.73,0.73,0.96,0.91,0.8,0.77,0.81,0.71,0.95,0.64,0.94,0.87,0.63,0.88,0.9,0.94,0.91,0.9,0.8,0.85,0.89,0.53,0.87,0.5,0.93,0.72,0.92,0.62,0.93,0.91,0.63,0.77,0.51,0.94,0.73,0.78,0.55,0.83,0.94,0.95,0.59,0.82,0.9,0.77,0.83,0.65,0.54,0.51,0.81,0.87,0.75,0.57,0.58,0.81,0.75,0.6,0.53,0.93,0.89,0.7,0.74,0.92,0.93,0.95,0.6,0.93,0.81,0.95,0.72,0.9,0.95,0.91,0.85,0.9,0.92,0.6,0.89,0.67,0.51,0.78,0.95,0.68,0.68,0.94,0.78,0.9,0.83,0.8,0.96,0.91,0.96,0.94,0.63,0.73,0.87,0.76,0.68,0.94,0.95,0.62,0.91,0.67,0.94,0.79,0.86,0.83,0.73,0.71,0.87,0.5,0.92,0.79,0.98,0.93,0.88,0.77,0.86,0.54,0.8,0.86,0.61,0.72,0.72,0.55,0.96,0.58,0.77,0.85,0.95,0.69,0.95,0.82,0.93,0.82,0.94,0.75,0.91,0.65,0.87,0.84,0.85,0.91,0.71,0.82,0.77,0.95,0.95,0.76,0.85,0.75,0.92,0.78,0.91,0.85,0.95,0.66,0.63,0.86,0.54,0.95,0.72,0.52,0.93,0.52,0.61,0.79,0.94,0.76,0.76,0.78,0.94,0.87,0.55,0.93,0.93,0.94,0.78,0.94,0.5,0.93,0.73,0.9,0.87,0.93,0.9,0.67,0.9,0.9,0.98,0.66,0.68,0.56,0.62,0.52,0.96,0.81,0.84,0.93,0.87,0.86,0.89,0.94,0.84,0.86,0.75,0.6,0.93,0.75,0.81,0.78,0.84,0.9,0.9,0.67,0.93,0.8,0.63,0.9,0.9,0.86,0.51,0.71,0.87,0.7,0.85,0.87,0.6,0.83,0.8,0.93,0.75,0.5,0.5,0.67,0.96,0.52,0.68,0.72,0.56,0.91,0.85,0.72,0.9,0.77,0.89,0.9,0.85,0.95,0.51,0.9,0.9,0.51,0.84,0.82,0.88,0.79,0.64,0.84,0.86,0.71,0.9,0.82,0.95,0.95,0.54,0.95,0.53,0.92,0.85,0.92,0.53,0.75,0.82,0.74,0.87,0.72,0.87,0.53,0.72,0.87,0.66,0.66,0.72,0.81,0.88,0.94,0.83,0.91,0.95,0.9,0.95,0.9,0.62,0.93,0.79,0.91,0.81,0.52,0.52,0.84,0.67,0.83,0.63,0.64,0.91,0.82,0.92,0.92,0.93,0.87,0.64,0.9,0.82,0.86,0.73,0.9,0.68,0.82,0.74,0.88,0.72,0.67,0.87,0.66,0.66,0.87,0.51,0.79,0.8,0.55,0.85,0.88,0.88,0.93,0.63,0.92,0.8,0.92,0.77,0.9,0.9,0.96,0.72,0.86,0.9,0.5,0.88,0.6,0.68,0.67,0.58,0.53,0.5,0.91,0.74,0.55,0.76,0.63],\"y0\":\" \",\"yaxis\":\"y\",\"type\":\"box\"}],                        {\"template\":{\"data\":{\"histogram2dcontour\":[{\"type\":\"histogram2dcontour\",\"colorbar\":{\"outlinewidth\":0,\"ticks\":\"\"},\"colorscale\":[[0.0,\"#0d0887\"],[0.1111111111111111,\"#46039f\"],[0.2222222222222222,\"#7201a8\"],[0.3333333333333333,\"#9c179e\"],[0.4444444444444444,\"#bd3786\"],[0.5555555555555556,\"#d8576b\"],[0.6666666666666666,\"#ed7953\"],[0.7777777777777778,\"#fb9f3a\"],[0.8888888888888888,\"#fdca26\"],[1.0,\"#f0f921\"]]}],\"choropleth\":[{\"type\":\"choropleth\",\"colorbar\":{\"outlinewidth\":0,\"ticks\":\"\"}}],\"histogram2d\":[{\"type\":\"histogram2d\",\"colorbar\":{\"outlinewidth\":0,\"ticks\":\"\"},\"colorscale\":[[0.0,\"#0d0887\"],[0.1111111111111111,\"#46039f\"],[0.2222222222222222,\"#7201a8\"],[0.3333333333333333,\"#9c179e\"],[0.4444444444444444,\"#bd3786\"],[0.5555555555555556,\"#d8576b\"],[0.6666666666666666,\"#ed7953\"],[0.7777777777777778,\"#fb9f3a\"],[0.8888888888888888,\"#fdca26\"],[1.0,\"#f0f921\"]]}],\"heatmap\":[{\"type\":\"heatmap\",\"colorbar\":{\"outlinewidth\":0,\"ticks\":\"\"},\"colorscale\":[[0.0,\"#0d0887\"],[0.1111111111111111,\"#46039f\"],[0.2222222222222222,\"#7201a8\"],[0.3333333333333333,\"#9c179e\"],[0.4444444444444444,\"#bd3786\"],[0.5555555555555556,\"#d8576b\"],[0.6666666666666666,\"#ed7953\"],[0.7777777777777778,\"#fb9f3a\"],[0.8888888888888888,\"#fdca26\"],[1.0,\"#f0f921\"]]}],\"heatmapgl\":[{\"type\":\"heatmapgl\",\"colorbar\":{\"outlinewidth\":0,\"ticks\":\"\"},\"colorscale\":[[0.0,\"#0d0887\"],[0.1111111111111111,\"#46039f\"],[0.2222222222222222,\"#7201a8\"],[0.3333333333333333,\"#9c179e\"],[0.4444444444444444,\"#bd3786\"],[0.5555555555555556,\"#d8576b\"],[0.6666666666666666,\"#ed7953\"],[0.7777777777777778,\"#fb9f3a\"],[0.8888888888888888,\"#fdca26\"],[1.0,\"#f0f921\"]]}],\"contourcarpet\":[{\"type\":\"contourcarpet\",\"colorbar\":{\"outlinewidth\":0,\"ticks\":\"\"}}],\"contour\":[{\"type\":\"contour\",\"colorbar\":{\"outlinewidth\":0,\"ticks\":\"\"},\"colorscale\":[[0.0,\"#0d0887\"],[0.1111111111111111,\"#46039f\"],[0.2222222222222222,\"#7201a8\"],[0.3333333333333333,\"#9c179e\"],[0.4444444444444444,\"#bd3786\"],[0.5555555555555556,\"#d8576b\"],[0.6666666666666666,\"#ed7953\"],[0.7777777777777778,\"#fb9f3a\"],[0.8888888888888888,\"#fdca26\"],[1.0,\"#f0f921\"]]}],\"surface\":[{\"type\":\"surface\",\"colorbar\":{\"outlinewidth\":0,\"ticks\":\"\"},\"colorscale\":[[0.0,\"#0d0887\"],[0.1111111111111111,\"#46039f\"],[0.2222222222222222,\"#7201a8\"],[0.3333333333333333,\"#9c179e\"],[0.4444444444444444,\"#bd3786\"],[0.5555555555555556,\"#d8576b\"],[0.6666666666666666,\"#ed7953\"],[0.7777777777777778,\"#fb9f3a\"],[0.8888888888888888,\"#fdca26\"],[1.0,\"#f0f921\"]]}],\"mesh3d\":[{\"type\":\"mesh3d\",\"colorbar\":{\"outlinewidth\":0,\"ticks\":\"\"}}],\"scatter\":[{\"fillpattern\":{\"fillmode\":\"overlay\",\"size\":10,\"solidity\":0.2},\"type\":\"scatter\"}],\"parcoords\":[{\"type\":\"parcoords\",\"line\":{\"colorbar\":{\"outlinewidth\":0,\"ticks\":\"\"}}}],\"scatterpolargl\":[{\"type\":\"scatterpolargl\",\"marker\":{\"colorbar\":{\"outlinewidth\":0,\"ticks\":\"\"}}}],\"bar\":[{\"error_x\":{\"color\":\"#2a3f5f\"},\"error_y\":{\"color\":\"#2a3f5f\"},\"marker\":{\"line\":{\"color\":\"#E5ECF6\",\"width\":0.5},\"pattern\":{\"fillmode\":\"overlay\",\"size\":10,\"solidity\":0.2}},\"type\":\"bar\"}],\"scattergeo\":[{\"type\":\"scattergeo\",\"marker\":{\"colorbar\":{\"outlinewidth\":0,\"ticks\":\"\"}}}],\"scatterpolar\":[{\"type\":\"scatterpolar\",\"marker\":{\"colorbar\":{\"outlinewidth\":0,\"ticks\":\"\"}}}],\"histogram\":[{\"marker\":{\"pattern\":{\"fillmode\":\"overlay\",\"size\":10,\"solidity\":0.2}},\"type\":\"histogram\"}],\"scattergl\":[{\"type\":\"scattergl\",\"marker\":{\"colorbar\":{\"outlinewidth\":0,\"ticks\":\"\"}}}],\"scatter3d\":[{\"type\":\"scatter3d\",\"line\":{\"colorbar\":{\"outlinewidth\":0,\"ticks\":\"\"}},\"marker\":{\"colorbar\":{\"outlinewidth\":0,\"ticks\":\"\"}}}],\"scattermapbox\":[{\"type\":\"scattermapbox\",\"marker\":{\"colorbar\":{\"outlinewidth\":0,\"ticks\":\"\"}}}],\"scatterternary\":[{\"type\":\"scatterternary\",\"marker\":{\"colorbar\":{\"outlinewidth\":0,\"ticks\":\"\"}}}],\"scattercarpet\":[{\"type\":\"scattercarpet\",\"marker\":{\"colorbar\":{\"outlinewidth\":0,\"ticks\":\"\"}}}],\"carpet\":[{\"aaxis\":{\"endlinecolor\":\"#2a3f5f\",\"gridcolor\":\"white\",\"linecolor\":\"white\",\"minorgridcolor\":\"white\",\"startlinecolor\":\"#2a3f5f\"},\"baxis\":{\"endlinecolor\":\"#2a3f5f\",\"gridcolor\":\"white\",\"linecolor\":\"white\",\"minorgridcolor\":\"white\",\"startlinecolor\":\"#2a3f5f\"},\"type\":\"carpet\"}],\"table\":[{\"cells\":{\"fill\":{\"color\":\"#EBF0F8\"},\"line\":{\"color\":\"white\"}},\"header\":{\"fill\":{\"color\":\"#C8D4E3\"},\"line\":{\"color\":\"white\"}},\"type\":\"table\"}],\"barpolar\":[{\"marker\":{\"line\":{\"color\":\"#E5ECF6\",\"width\":0.5},\"pattern\":{\"fillmode\":\"overlay\",\"size\":10,\"solidity\":0.2}},\"type\":\"barpolar\"}],\"pie\":[{\"automargin\":true,\"type\":\"pie\"}]},\"layout\":{\"autotypenumbers\":\"strict\",\"colorway\":[\"#636efa\",\"#EF553B\",\"#00cc96\",\"#ab63fa\",\"#FFA15A\",\"#19d3f3\",\"#FF6692\",\"#B6E880\",\"#FF97FF\",\"#FECB52\"],\"font\":{\"color\":\"#2a3f5f\"},\"hovermode\":\"closest\",\"hoverlabel\":{\"align\":\"left\"},\"paper_bgcolor\":\"white\",\"plot_bgcolor\":\"#E5ECF6\",\"polar\":{\"bgcolor\":\"#E5ECF6\",\"angularaxis\":{\"gridcolor\":\"white\",\"linecolor\":\"white\",\"ticks\":\"\"},\"radialaxis\":{\"gridcolor\":\"white\",\"linecolor\":\"white\",\"ticks\":\"\"}},\"ternary\":{\"bgcolor\":\"#E5ECF6\",\"aaxis\":{\"gridcolor\":\"white\",\"linecolor\":\"white\",\"ticks\":\"\"},\"baxis\":{\"gridcolor\":\"white\",\"linecolor\":\"white\",\"ticks\":\"\"},\"caxis\":{\"gridcolor\":\"white\",\"linecolor\":\"white\",\"ticks\":\"\"}},\"coloraxis\":{\"colorbar\":{\"outlinewidth\":0,\"ticks\":\"\"}},\"colorscale\":{\"sequential\":[[0.0,\"#0d0887\"],[0.1111111111111111,\"#46039f\"],[0.2222222222222222,\"#7201a8\"],[0.3333333333333333,\"#9c179e\"],[0.4444444444444444,\"#bd3786\"],[0.5555555555555556,\"#d8576b\"],[0.6666666666666666,\"#ed7953\"],[0.7777777777777778,\"#fb9f3a\"],[0.8888888888888888,\"#fdca26\"],[1.0,\"#f0f921\"]],\"sequentialminus\":[[0.0,\"#0d0887\"],[0.1111111111111111,\"#46039f\"],[0.2222222222222222,\"#7201a8\"],[0.3333333333333333,\"#9c179e\"],[0.4444444444444444,\"#bd3786\"],[0.5555555555555556,\"#d8576b\"],[0.6666666666666666,\"#ed7953\"],[0.7777777777777778,\"#fb9f3a\"],[0.8888888888888888,\"#fdca26\"],[1.0,\"#f0f921\"]],\"diverging\":[[0,\"#8e0152\"],[0.1,\"#c51b7d\"],[0.2,\"#de77ae\"],[0.3,\"#f1b6da\"],[0.4,\"#fde0ef\"],[0.5,\"#f7f7f7\"],[0.6,\"#e6f5d0\"],[0.7,\"#b8e186\"],[0.8,\"#7fbc41\"],[0.9,\"#4d9221\"],[1,\"#276419\"]]},\"xaxis\":{\"gridcolor\":\"white\",\"linecolor\":\"white\",\"ticks\":\"\",\"title\":{\"standoff\":15},\"zerolinecolor\":\"white\",\"automargin\":true,\"zerolinewidth\":2},\"yaxis\":{\"gridcolor\":\"white\",\"linecolor\":\"white\",\"ticks\":\"\",\"title\":{\"standoff\":15},\"zerolinecolor\":\"white\",\"automargin\":true,\"zerolinewidth\":2},\"scene\":{\"xaxis\":{\"backgroundcolor\":\"#E5ECF6\",\"gridcolor\":\"white\",\"linecolor\":\"white\",\"showbackground\":true,\"ticks\":\"\",\"zerolinecolor\":\"white\",\"gridwidth\":2},\"yaxis\":{\"backgroundcolor\":\"#E5ECF6\",\"gridcolor\":\"white\",\"linecolor\":\"white\",\"showbackground\":true,\"ticks\":\"\",\"zerolinecolor\":\"white\",\"gridwidth\":2},\"zaxis\":{\"backgroundcolor\":\"#E5ECF6\",\"gridcolor\":\"white\",\"linecolor\":\"white\",\"showbackground\":true,\"ticks\":\"\",\"zerolinecolor\":\"white\",\"gridwidth\":2}},\"shapedefaults\":{\"line\":{\"color\":\"#2a3f5f\"}},\"annotationdefaults\":{\"arrowcolor\":\"#2a3f5f\",\"arrowhead\":0,\"arrowwidth\":1},\"geo\":{\"bgcolor\":\"white\",\"landcolor\":\"#E5ECF6\",\"subunitcolor\":\"white\",\"showland\":true,\"showlakes\":true,\"lakecolor\":\"white\"},\"title\":{\"x\":0.05},\"mapbox\":{\"style\":\"light\"}}},\"xaxis\":{\"anchor\":\"y\",\"domain\":[0.0,1.0],\"title\":{\"text\":\"Gender\"}},\"yaxis\":{\"anchor\":\"x\",\"domain\":[0.0,1.0],\"title\":{\"text\":\"Sleep efficiency\"}},\"legend\":{\"tracegroupgap\":0},\"title\":{\"text\":\"Sleep efficiency by Gender\"},\"boxmode\":\"group\"},                        {\"responsive\": true}                    ).then(function(){\n",
       "                            \n",
       "var gd = document.getElementById('2399093b-d03c-4ef5-ae2e-3a817b598a22');\n",
       "var x = new MutationObserver(function (mutations, observer) {{\n",
       "        var display = window.getComputedStyle(gd).display;\n",
       "        if (!display || display === 'none') {{\n",
       "            console.log([gd, 'removed!']);\n",
       "            Plotly.purge(gd);\n",
       "            observer.disconnect();\n",
       "        }}\n",
       "}});\n",
       "\n",
       "// Listen for the removal of the full notebook cells\n",
       "var notebookContainer = gd.closest('#notebook-container');\n",
       "if (notebookContainer) {{\n",
       "    x.observe(notebookContainer, {childList: true});\n",
       "}}\n",
       "\n",
       "// Listen for the clearing of the current output cell\n",
       "var outputEl = gd.closest('.output');\n",
       "if (outputEl) {{\n",
       "    x.observe(outputEl, {childList: true});\n",
       "}}\n",
       "\n",
       "                        })                };                });            </script>        </div>"
      ]
     },
     "metadata": {},
     "output_type": "display_data"
    }
   ],
   "source": [
    "fig = px.box(df, y = \"Sleep efficiency\", x = \"Gender\", title = \"Sleep efficiency by Gender\")\n",
    "fig.show()"
   ]
  },
  {
   "cell_type": "code",
   "execution_count": 161,
   "id": "75bc8f5e-2451-4074-903f-01415b170464",
   "metadata": {},
   "outputs": [
    {
     "data": {
      "application/vnd.plotly.v1+json": {
       "config": {
        "plotlyServerURL": "https://plot.ly"
       },
       "data": [
        {
         "alignmentgroup": "True",
         "hovertemplate": "Exercise frequency=%{x}<br>Sleep efficiency=%{y}<extra></extra>",
         "legendgroup": "",
         "marker": {
          "color": "#636efa"
         },
         "name": "",
         "notched": false,
         "offsetgroup": "",
         "orientation": "v",
         "showlegend": false,
         "type": "box",
         "x": [
          3,
          3,
          3,
          1,
          3,
          1,
          1,
          3,
          1,
          0,
          3,
          3,
          1,
          3,
          0,
          5,
          0,
          3,
          0,
          3,
          2,
          1,
          2,
          1,
          2,
          2,
          1,
          2,
          3,
          4,
          3,
          0,
          0,
          2,
          3,
          0,
          3,
          1,
          1,
          0,
          0,
          1,
          1,
          1,
          0,
          1,
          0,
          1,
          0,
          4,
          2,
          3,
          0,
          0,
          3,
          3,
          3,
          3,
          1,
          1,
          1,
          4,
          2,
          1,
          3,
          3,
          2,
          1,
          0,
          3,
          1,
          4,
          3,
          2,
          0,
          1,
          3,
          3,
          3,
          2,
          1,
          2,
          3,
          3,
          0,
          2,
          0,
          0,
          3,
          1,
          2,
          3,
          3,
          0,
          0,
          0,
          3,
          2,
          0,
          3,
          0,
          3,
          0,
          0,
          1,
          3,
          2,
          1,
          4,
          3,
          3,
          3,
          2,
          1,
          1,
          3,
          3,
          0,
          3,
          3,
          4,
          0,
          0,
          1,
          3,
          3,
          0,
          3,
          0,
          3,
          0,
          1,
          1,
          3,
          2,
          4,
          1,
          3,
          3,
          0,
          0,
          1,
          3,
          3,
          0,
          1,
          3,
          0,
          1,
          1,
          3,
          4,
          4,
          3,
          3,
          1,
          1,
          4,
          0,
          1,
          2,
          3,
          0,
          0,
          3,
          4,
          3,
          4,
          3,
          1,
          3,
          1,
          2,
          0,
          4,
          3,
          0,
          1,
          0,
          2,
          2,
          1,
          4,
          0,
          4,
          4,
          1,
          2,
          1,
          0,
          2,
          2,
          2,
          0,
          3,
          0,
          2,
          2,
          0,
          0,
          0,
          0,
          0,
          2,
          4,
          0,
          0,
          0,
          2,
          3,
          0,
          0,
          4,
          2,
          2,
          1,
          3,
          1,
          0,
          0,
          4,
          0,
          3,
          0,
          4,
          3,
          5,
          2,
          0,
          3,
          1,
          3,
          0,
          1,
          0,
          1,
          0,
          1,
          0,
          3,
          4,
          1,
          1,
          3,
          4,
          3,
          0,
          5,
          0,
          1,
          2,
          1,
          1,
          3,
          1,
          0,
          0,
          5,
          3,
          4,
          3,
          4,
          2,
          1,
          3,
          3,
          0,
          4,
          3,
          2,
          0,
          3,
          3,
          3,
          0,
          1,
          4,
          4,
          1,
          4,
          1,
          3,
          2,
          0,
          0,
          2,
          3,
          3,
          0,
          1,
          3,
          3,
          4,
          0,
          4,
          2,
          0,
          0,
          0,
          3,
          4,
          1,
          3,
          2,
          2,
          1,
          2,
          0,
          3,
          1,
          0,
          4,
          3,
          2,
          0,
          3,
          0,
          0,
          0,
          2,
          3,
          3,
          1,
          0,
          1,
          0,
          2,
          1,
          0,
          1,
          0,
          3,
          0,
          5,
          0,
          1,
          5,
          3,
          3,
          0,
          2,
          0,
          0,
          1,
          3,
          3,
          4,
          2,
          1,
          1,
          3,
          1,
          3,
          0,
          2,
          2,
          4,
          2,
          3,
          0,
          0,
          2,
          1,
          0,
          3,
          1,
          2,
          3,
          1,
          1,
          3,
          1,
          2,
          3,
          1,
          0,
          0,
          1,
          2,
          3,
          0,
          4,
          3,
          3,
          3,
          0,
          1,
          3,
          1,
          4,
          2,
          1,
          4,
          0,
          0,
          3,
          1,
          0,
          0,
          1,
          4,
          3,
          3,
          3,
          1,
          3,
          3,
          0,
          0,
          1,
          3,
          2,
          1,
          3,
          1,
          0,
          5,
          3,
          0,
          1,
          3,
          0,
          0,
          1,
          2,
          1,
          4,
          3,
          3,
          4,
          1,
          3,
          3,
          2,
          4,
          3,
          3,
          3,
          3,
          3,
          2,
          0,
          1,
          0,
          0,
          1,
          2,
          5,
          3,
          0,
          3,
          1
         ],
         "x0": " ",
         "xaxis": "x",
         "y": [
          0.88,
          0.66,
          0.89,
          0.51,
          0.76,
          0.9,
          0.54,
          0.9,
          0.79,
          0.55,
          0.92,
          0.93,
          0.93,
          0.64,
          0.54,
          0.92,
          0.54,
          0.5,
          0.98,
          0.89,
          0.83,
          0.71,
          0.84,
          0.98,
          0.88,
          0.91,
          0.95,
          0.84,
          0.65,
          0.91,
          0.57,
          0.68,
          0.55,
          0.9,
          0.94,
          0.64,
          0.87,
          0.82,
          0.87,
          0.63,
          0.83,
          0.83,
          0.59,
          0.87,
          0.77,
          0.86,
          0.91,
          0.71,
          0.81,
          0.81,
          0.71,
          0.71,
          0.52,
          0.65,
          0.84,
          0.84,
          0.99,
          0.91,
          0.71,
          0.8,
          0.95,
          0.91,
          0.81,
          0.93,
          0.85,
          0.77,
          0.84,
          0.87,
          0.8,
          0.52,
          0.54,
          0.88,
          0.64,
          0.87,
          0.77,
          0.68,
          0.94,
          0.7,
          0.79,
          0.77,
          0.86,
          0.81,
          0.88,
          0.78,
          0.64,
          0.88,
          0.78,
          0.71,
          0.97,
          0.77,
          0.8,
          0.94,
          0.52,
          0.76,
          0.73,
          0.73,
          0.96,
          0.91,
          0.8,
          0.77,
          0.81,
          0.71,
          0.95,
          0.64,
          0.94,
          0.87,
          0.63,
          0.88,
          0.9,
          0.94,
          0.91,
          0.9,
          0.8,
          0.85,
          0.89,
          0.53,
          0.87,
          0.5,
          0.93,
          0.72,
          0.92,
          0.62,
          0.93,
          0.91,
          0.63,
          0.77,
          0.51,
          0.94,
          0.73,
          0.78,
          0.55,
          0.83,
          0.94,
          0.95,
          0.59,
          0.82,
          0.9,
          0.77,
          0.83,
          0.65,
          0.54,
          0.51,
          0.81,
          0.87,
          0.75,
          0.57,
          0.58,
          0.81,
          0.75,
          0.6,
          0.53,
          0.93,
          0.89,
          0.7,
          0.74,
          0.92,
          0.93,
          0.95,
          0.6,
          0.93,
          0.81,
          0.95,
          0.72,
          0.9,
          0.95,
          0.91,
          0.85,
          0.9,
          0.92,
          0.6,
          0.89,
          0.67,
          0.51,
          0.78,
          0.95,
          0.68,
          0.68,
          0.94,
          0.78,
          0.9,
          0.83,
          0.8,
          0.96,
          0.91,
          0.96,
          0.94,
          0.63,
          0.73,
          0.87,
          0.76,
          0.68,
          0.94,
          0.95,
          0.62,
          0.91,
          0.67,
          0.94,
          0.79,
          0.86,
          0.83,
          0.73,
          0.71,
          0.87,
          0.5,
          0.92,
          0.79,
          0.98,
          0.93,
          0.88,
          0.77,
          0.86,
          0.54,
          0.8,
          0.86,
          0.61,
          0.72,
          0.72,
          0.55,
          0.96,
          0.58,
          0.77,
          0.85,
          0.95,
          0.69,
          0.95,
          0.82,
          0.93,
          0.82,
          0.94,
          0.75,
          0.91,
          0.65,
          0.87,
          0.84,
          0.85,
          0.91,
          0.71,
          0.82,
          0.77,
          0.95,
          0.95,
          0.76,
          0.85,
          0.75,
          0.92,
          0.78,
          0.91,
          0.85,
          0.95,
          0.66,
          0.63,
          0.86,
          0.54,
          0.95,
          0.72,
          0.52,
          0.93,
          0.52,
          0.61,
          0.79,
          0.94,
          0.76,
          0.76,
          0.78,
          0.94,
          0.87,
          0.55,
          0.93,
          0.93,
          0.94,
          0.78,
          0.94,
          0.5,
          0.93,
          0.73,
          0.9,
          0.87,
          0.93,
          0.9,
          0.67,
          0.9,
          0.9,
          0.98,
          0.66,
          0.68,
          0.56,
          0.62,
          0.52,
          0.96,
          0.81,
          0.84,
          0.93,
          0.87,
          0.86,
          0.89,
          0.94,
          0.84,
          0.86,
          0.75,
          0.6,
          0.93,
          0.75,
          0.81,
          0.78,
          0.84,
          0.9,
          0.9,
          0.67,
          0.93,
          0.8,
          0.63,
          0.9,
          0.9,
          0.86,
          0.51,
          0.71,
          0.87,
          0.7,
          0.85,
          0.87,
          0.6,
          0.83,
          0.8,
          0.93,
          0.75,
          0.5,
          0.5,
          0.67,
          0.96,
          0.52,
          0.68,
          0.72,
          0.56,
          0.91,
          0.85,
          0.72,
          0.9,
          0.77,
          0.89,
          0.9,
          0.85,
          0.95,
          0.51,
          0.9,
          0.9,
          0.51,
          0.84,
          0.82,
          0.88,
          0.79,
          0.64,
          0.84,
          0.86,
          0.71,
          0.9,
          0.82,
          0.95,
          0.95,
          0.54,
          0.95,
          0.53,
          0.92,
          0.85,
          0.92,
          0.53,
          0.75,
          0.82,
          0.74,
          0.87,
          0.72,
          0.87,
          0.53,
          0.72,
          0.87,
          0.66,
          0.66,
          0.72,
          0.81,
          0.88,
          0.94,
          0.83,
          0.91,
          0.95,
          0.9,
          0.95,
          0.9,
          0.62,
          0.93,
          0.79,
          0.91,
          0.81,
          0.52,
          0.52,
          0.84,
          0.67,
          0.83,
          0.63,
          0.64,
          0.91,
          0.82,
          0.92,
          0.92,
          0.93,
          0.87,
          0.64,
          0.9,
          0.82,
          0.86,
          0.73,
          0.9,
          0.68,
          0.82,
          0.74,
          0.88,
          0.72,
          0.67,
          0.87,
          0.66,
          0.66,
          0.87,
          0.51,
          0.79,
          0.8,
          0.55,
          0.85,
          0.88,
          0.88,
          0.93,
          0.63,
          0.92,
          0.8,
          0.92,
          0.77,
          0.9,
          0.9,
          0.96,
          0.72,
          0.86,
          0.9,
          0.5,
          0.88,
          0.6,
          0.68,
          0.67,
          0.58,
          0.53,
          0.5,
          0.91,
          0.74,
          0.55,
          0.76,
          0.63
         ],
         "y0": " ",
         "yaxis": "y"
        }
       ],
       "layout": {
        "autosize": true,
        "boxmode": "group",
        "legend": {
         "tracegroupgap": 0
        },
        "template": {
         "data": {
          "bar": [
           {
            "error_x": {
             "color": "#2a3f5f"
            },
            "error_y": {
             "color": "#2a3f5f"
            },
            "marker": {
             "line": {
              "color": "#E5ECF6",
              "width": 0.5
             },
             "pattern": {
              "fillmode": "overlay",
              "size": 10,
              "solidity": 0.2
             }
            },
            "type": "bar"
           }
          ],
          "barpolar": [
           {
            "marker": {
             "line": {
              "color": "#E5ECF6",
              "width": 0.5
             },
             "pattern": {
              "fillmode": "overlay",
              "size": 10,
              "solidity": 0.2
             }
            },
            "type": "barpolar"
           }
          ],
          "carpet": [
           {
            "aaxis": {
             "endlinecolor": "#2a3f5f",
             "gridcolor": "white",
             "linecolor": "white",
             "minorgridcolor": "white",
             "startlinecolor": "#2a3f5f"
            },
            "baxis": {
             "endlinecolor": "#2a3f5f",
             "gridcolor": "white",
             "linecolor": "white",
             "minorgridcolor": "white",
             "startlinecolor": "#2a3f5f"
            },
            "type": "carpet"
           }
          ],
          "choropleth": [
           {
            "colorbar": {
             "outlinewidth": 0,
             "ticks": ""
            },
            "type": "choropleth"
           }
          ],
          "contour": [
           {
            "colorbar": {
             "outlinewidth": 0,
             "ticks": ""
            },
            "colorscale": [
             [
              0,
              "#0d0887"
             ],
             [
              0.1111111111111111,
              "#46039f"
             ],
             [
              0.2222222222222222,
              "#7201a8"
             ],
             [
              0.3333333333333333,
              "#9c179e"
             ],
             [
              0.4444444444444444,
              "#bd3786"
             ],
             [
              0.5555555555555556,
              "#d8576b"
             ],
             [
              0.6666666666666666,
              "#ed7953"
             ],
             [
              0.7777777777777778,
              "#fb9f3a"
             ],
             [
              0.8888888888888888,
              "#fdca26"
             ],
             [
              1,
              "#f0f921"
             ]
            ],
            "type": "contour"
           }
          ],
          "contourcarpet": [
           {
            "colorbar": {
             "outlinewidth": 0,
             "ticks": ""
            },
            "type": "contourcarpet"
           }
          ],
          "heatmap": [
           {
            "colorbar": {
             "outlinewidth": 0,
             "ticks": ""
            },
            "colorscale": [
             [
              0,
              "#0d0887"
             ],
             [
              0.1111111111111111,
              "#46039f"
             ],
             [
              0.2222222222222222,
              "#7201a8"
             ],
             [
              0.3333333333333333,
              "#9c179e"
             ],
             [
              0.4444444444444444,
              "#bd3786"
             ],
             [
              0.5555555555555556,
              "#d8576b"
             ],
             [
              0.6666666666666666,
              "#ed7953"
             ],
             [
              0.7777777777777778,
              "#fb9f3a"
             ],
             [
              0.8888888888888888,
              "#fdca26"
             ],
             [
              1,
              "#f0f921"
             ]
            ],
            "type": "heatmap"
           }
          ],
          "heatmapgl": [
           {
            "colorbar": {
             "outlinewidth": 0,
             "ticks": ""
            },
            "colorscale": [
             [
              0,
              "#0d0887"
             ],
             [
              0.1111111111111111,
              "#46039f"
             ],
             [
              0.2222222222222222,
              "#7201a8"
             ],
             [
              0.3333333333333333,
              "#9c179e"
             ],
             [
              0.4444444444444444,
              "#bd3786"
             ],
             [
              0.5555555555555556,
              "#d8576b"
             ],
             [
              0.6666666666666666,
              "#ed7953"
             ],
             [
              0.7777777777777778,
              "#fb9f3a"
             ],
             [
              0.8888888888888888,
              "#fdca26"
             ],
             [
              1,
              "#f0f921"
             ]
            ],
            "type": "heatmapgl"
           }
          ],
          "histogram": [
           {
            "marker": {
             "pattern": {
              "fillmode": "overlay",
              "size": 10,
              "solidity": 0.2
             }
            },
            "type": "histogram"
           }
          ],
          "histogram2d": [
           {
            "colorbar": {
             "outlinewidth": 0,
             "ticks": ""
            },
            "colorscale": [
             [
              0,
              "#0d0887"
             ],
             [
              0.1111111111111111,
              "#46039f"
             ],
             [
              0.2222222222222222,
              "#7201a8"
             ],
             [
              0.3333333333333333,
              "#9c179e"
             ],
             [
              0.4444444444444444,
              "#bd3786"
             ],
             [
              0.5555555555555556,
              "#d8576b"
             ],
             [
              0.6666666666666666,
              "#ed7953"
             ],
             [
              0.7777777777777778,
              "#fb9f3a"
             ],
             [
              0.8888888888888888,
              "#fdca26"
             ],
             [
              1,
              "#f0f921"
             ]
            ],
            "type": "histogram2d"
           }
          ],
          "histogram2dcontour": [
           {
            "colorbar": {
             "outlinewidth": 0,
             "ticks": ""
            },
            "colorscale": [
             [
              0,
              "#0d0887"
             ],
             [
              0.1111111111111111,
              "#46039f"
             ],
             [
              0.2222222222222222,
              "#7201a8"
             ],
             [
              0.3333333333333333,
              "#9c179e"
             ],
             [
              0.4444444444444444,
              "#bd3786"
             ],
             [
              0.5555555555555556,
              "#d8576b"
             ],
             [
              0.6666666666666666,
              "#ed7953"
             ],
             [
              0.7777777777777778,
              "#fb9f3a"
             ],
             [
              0.8888888888888888,
              "#fdca26"
             ],
             [
              1,
              "#f0f921"
             ]
            ],
            "type": "histogram2dcontour"
           }
          ],
          "mesh3d": [
           {
            "colorbar": {
             "outlinewidth": 0,
             "ticks": ""
            },
            "type": "mesh3d"
           }
          ],
          "parcoords": [
           {
            "line": {
             "colorbar": {
              "outlinewidth": 0,
              "ticks": ""
             }
            },
            "type": "parcoords"
           }
          ],
          "pie": [
           {
            "automargin": true,
            "type": "pie"
           }
          ],
          "scatter": [
           {
            "fillpattern": {
             "fillmode": "overlay",
             "size": 10,
             "solidity": 0.2
            },
            "type": "scatter"
           }
          ],
          "scatter3d": [
           {
            "line": {
             "colorbar": {
              "outlinewidth": 0,
              "ticks": ""
             }
            },
            "marker": {
             "colorbar": {
              "outlinewidth": 0,
              "ticks": ""
             }
            },
            "type": "scatter3d"
           }
          ],
          "scattercarpet": [
           {
            "marker": {
             "colorbar": {
              "outlinewidth": 0,
              "ticks": ""
             }
            },
            "type": "scattercarpet"
           }
          ],
          "scattergeo": [
           {
            "marker": {
             "colorbar": {
              "outlinewidth": 0,
              "ticks": ""
             }
            },
            "type": "scattergeo"
           }
          ],
          "scattergl": [
           {
            "marker": {
             "colorbar": {
              "outlinewidth": 0,
              "ticks": ""
             }
            },
            "type": "scattergl"
           }
          ],
          "scattermapbox": [
           {
            "marker": {
             "colorbar": {
              "outlinewidth": 0,
              "ticks": ""
             }
            },
            "type": "scattermapbox"
           }
          ],
          "scatterpolar": [
           {
            "marker": {
             "colorbar": {
              "outlinewidth": 0,
              "ticks": ""
             }
            },
            "type": "scatterpolar"
           }
          ],
          "scatterpolargl": [
           {
            "marker": {
             "colorbar": {
              "outlinewidth": 0,
              "ticks": ""
             }
            },
            "type": "scatterpolargl"
           }
          ],
          "scatterternary": [
           {
            "marker": {
             "colorbar": {
              "outlinewidth": 0,
              "ticks": ""
             }
            },
            "type": "scatterternary"
           }
          ],
          "surface": [
           {
            "colorbar": {
             "outlinewidth": 0,
             "ticks": ""
            },
            "colorscale": [
             [
              0,
              "#0d0887"
             ],
             [
              0.1111111111111111,
              "#46039f"
             ],
             [
              0.2222222222222222,
              "#7201a8"
             ],
             [
              0.3333333333333333,
              "#9c179e"
             ],
             [
              0.4444444444444444,
              "#bd3786"
             ],
             [
              0.5555555555555556,
              "#d8576b"
             ],
             [
              0.6666666666666666,
              "#ed7953"
             ],
             [
              0.7777777777777778,
              "#fb9f3a"
             ],
             [
              0.8888888888888888,
              "#fdca26"
             ],
             [
              1,
              "#f0f921"
             ]
            ],
            "type": "surface"
           }
          ],
          "table": [
           {
            "cells": {
             "fill": {
              "color": "#EBF0F8"
             },
             "line": {
              "color": "white"
             }
            },
            "header": {
             "fill": {
              "color": "#C8D4E3"
             },
             "line": {
              "color": "white"
             }
            },
            "type": "table"
           }
          ]
         },
         "layout": {
          "annotationdefaults": {
           "arrowcolor": "#2a3f5f",
           "arrowhead": 0,
           "arrowwidth": 1
          },
          "autotypenumbers": "strict",
          "coloraxis": {
           "colorbar": {
            "outlinewidth": 0,
            "ticks": ""
           }
          },
          "colorscale": {
           "diverging": [
            [
             0,
             "#8e0152"
            ],
            [
             0.1,
             "#c51b7d"
            ],
            [
             0.2,
             "#de77ae"
            ],
            [
             0.3,
             "#f1b6da"
            ],
            [
             0.4,
             "#fde0ef"
            ],
            [
             0.5,
             "#f7f7f7"
            ],
            [
             0.6,
             "#e6f5d0"
            ],
            [
             0.7,
             "#b8e186"
            ],
            [
             0.8,
             "#7fbc41"
            ],
            [
             0.9,
             "#4d9221"
            ],
            [
             1,
             "#276419"
            ]
           ],
           "sequential": [
            [
             0,
             "#0d0887"
            ],
            [
             0.1111111111111111,
             "#46039f"
            ],
            [
             0.2222222222222222,
             "#7201a8"
            ],
            [
             0.3333333333333333,
             "#9c179e"
            ],
            [
             0.4444444444444444,
             "#bd3786"
            ],
            [
             0.5555555555555556,
             "#d8576b"
            ],
            [
             0.6666666666666666,
             "#ed7953"
            ],
            [
             0.7777777777777778,
             "#fb9f3a"
            ],
            [
             0.8888888888888888,
             "#fdca26"
            ],
            [
             1,
             "#f0f921"
            ]
           ],
           "sequentialminus": [
            [
             0,
             "#0d0887"
            ],
            [
             0.1111111111111111,
             "#46039f"
            ],
            [
             0.2222222222222222,
             "#7201a8"
            ],
            [
             0.3333333333333333,
             "#9c179e"
            ],
            [
             0.4444444444444444,
             "#bd3786"
            ],
            [
             0.5555555555555556,
             "#d8576b"
            ],
            [
             0.6666666666666666,
             "#ed7953"
            ],
            [
             0.7777777777777778,
             "#fb9f3a"
            ],
            [
             0.8888888888888888,
             "#fdca26"
            ],
            [
             1,
             "#f0f921"
            ]
           ]
          },
          "colorway": [
           "#636efa",
           "#EF553B",
           "#00cc96",
           "#ab63fa",
           "#FFA15A",
           "#19d3f3",
           "#FF6692",
           "#B6E880",
           "#FF97FF",
           "#FECB52"
          ],
          "font": {
           "color": "#2a3f5f"
          },
          "geo": {
           "bgcolor": "white",
           "lakecolor": "white",
           "landcolor": "#E5ECF6",
           "showlakes": true,
           "showland": true,
           "subunitcolor": "white"
          },
          "hoverlabel": {
           "align": "left"
          },
          "hovermode": "closest",
          "mapbox": {
           "style": "light"
          },
          "paper_bgcolor": "white",
          "plot_bgcolor": "#E5ECF6",
          "polar": {
           "angularaxis": {
            "gridcolor": "white",
            "linecolor": "white",
            "ticks": ""
           },
           "bgcolor": "#E5ECF6",
           "radialaxis": {
            "gridcolor": "white",
            "linecolor": "white",
            "ticks": ""
           }
          },
          "scene": {
           "xaxis": {
            "backgroundcolor": "#E5ECF6",
            "gridcolor": "white",
            "gridwidth": 2,
            "linecolor": "white",
            "showbackground": true,
            "ticks": "",
            "zerolinecolor": "white"
           },
           "yaxis": {
            "backgroundcolor": "#E5ECF6",
            "gridcolor": "white",
            "gridwidth": 2,
            "linecolor": "white",
            "showbackground": true,
            "ticks": "",
            "zerolinecolor": "white"
           },
           "zaxis": {
            "backgroundcolor": "#E5ECF6",
            "gridcolor": "white",
            "gridwidth": 2,
            "linecolor": "white",
            "showbackground": true,
            "ticks": "",
            "zerolinecolor": "white"
           }
          },
          "shapedefaults": {
           "line": {
            "color": "#2a3f5f"
           }
          },
          "ternary": {
           "aaxis": {
            "gridcolor": "white",
            "linecolor": "white",
            "ticks": ""
           },
           "baxis": {
            "gridcolor": "white",
            "linecolor": "white",
            "ticks": ""
           },
           "bgcolor": "#E5ECF6",
           "caxis": {
            "gridcolor": "white",
            "linecolor": "white",
            "ticks": ""
           }
          },
          "title": {
           "x": 0.05
          },
          "xaxis": {
           "automargin": true,
           "gridcolor": "white",
           "linecolor": "white",
           "ticks": "",
           "title": {
            "standoff": 15
           },
           "zerolinecolor": "white",
           "zerolinewidth": 2
          },
          "yaxis": {
           "automargin": true,
           "gridcolor": "white",
           "linecolor": "white",
           "ticks": "",
           "title": {
            "standoff": 15
           },
           "zerolinecolor": "white",
           "zerolinewidth": 2
          }
         }
        },
        "title": {
         "text": "Sleep Efficiency by Excercise frequency"
        },
        "xaxis": {
         "anchor": "y",
         "autorange": true,
         "domain": [
          0,
          1
         ],
         "range": [
          -0.5,
          5.5
         ],
         "title": {
          "text": "Exercise frequency"
         },
         "type": "linear"
        },
        "yaxis": {
         "anchor": "x",
         "autorange": true,
         "domain": [
          0,
          1
         ],
         "range": [
          0.4727777777777778,
          1.0172222222222222
         ],
         "title": {
          "text": "Sleep efficiency"
         },
         "type": "linear"
        }
       }
      },
      "image/png": "[encoded data removed]",
      "text/html": [
       "<div>                            <div id=\"63f11268-7a52-4baa-90b9-a7fcd591b82d\" class=\"plotly-graph-div\" style=\"height:525px; width:100%;\"></div>            <script type=\"text/javascript\">                require([\"plotly\"], function(Plotly) {                    window.PLOTLYENV=window.PLOTLYENV || {};                                    if (document.getElementById(\"63f11268-7a52-4baa-90b9-a7fcd591b82d\")) {                    Plotly.newPlot(                        \"63f11268-7a52-4baa-90b9-a7fcd591b82d\",                        [{\"alignmentgroup\":\"True\",\"hovertemplate\":\"Exercise frequency=%{x}\\u003cbr\\u003eSleep efficiency=%{y}\\u003cextra\\u003e\\u003c\\u002fextra\\u003e\",\"legendgroup\":\"\",\"marker\":{\"color\":\"#636efa\"},\"name\":\"\",\"notched\":false,\"offsetgroup\":\"\",\"orientation\":\"v\",\"showlegend\":false,\"x\":[3.0,3.0,3.0,1.0,3.0,1.0,1.0,3.0,1.0,0.0,3.0,3.0,1.0,3.0,0.0,5.0,0.0,3.0,0.0,3.0,2.0,1.0,2.0,1.0,2.0,2.0,1.0,2.0,3.0,4.0,3.0,0.0,0.0,2.0,3.0,0.0,3.0,1.0,1.0,0.0,0.0,1.0,1.0,1.0,0.0,1.0,0.0,1.0,0.0,4.0,2.0,3.0,0.0,0.0,3.0,3.0,3.0,3.0,1.0,1.0,1.0,4.0,2.0,1.0,3.0,3.0,2.0,1.0,0.0,3.0,1.0,4.0,3.0,2.0,0.0,1.0,3.0,3.0,3.0,2.0,1.0,2.0,3.0,3.0,0.0,2.0,0.0,0.0,3.0,1.0,2.0,3.0,3.0,0.0,0.0,0.0,3.0,2.0,0.0,3.0,0.0,3.0,0.0,0.0,1.0,3.0,2.0,1.0,4.0,3.0,3.0,3.0,2.0,1.0,1.0,3.0,3.0,0.0,3.0,3.0,4.0,0.0,0.0,1.0,3.0,3.0,0.0,3.0,0.0,3.0,0.0,1.0,1.0,3.0,2.0,4.0,1.0,3.0,3.0,0.0,0.0,1.0,3.0,3.0,0.0,1.0,3.0,0.0,1.0,1.0,3.0,4.0,4.0,3.0,3.0,1.0,1.0,4.0,0.0,1.0,2.0,3.0,0.0,0.0,3.0,4.0,3.0,4.0,3.0,1.0,3.0,1.0,2.0,0.0,4.0,3.0,0.0,1.0,0.0,2.0,2.0,1.0,4.0,0.0,4.0,4.0,1.0,2.0,1.0,0.0,2.0,2.0,2.0,0.0,3.0,0.0,2.0,2.0,0.0,0.0,0.0,0.0,0.0,2.0,4.0,0.0,0.0,0.0,2.0,3.0,0.0,0.0,4.0,2.0,2.0,1.0,3.0,1.0,0.0,0.0,4.0,0.0,3.0,0.0,4.0,3.0,5.0,2.0,0.0,3.0,1.0,3.0,0.0,1.0,0.0,1.0,0.0,1.0,0.0,3.0,4.0,1.0,1.0,3.0,4.0,3.0,0.0,5.0,0.0,1.0,2.0,1.0,1.0,3.0,1.0,0.0,0.0,5.0,3.0,4.0,3.0,4.0,2.0,1.0,3.0,3.0,0.0,4.0,3.0,2.0,0.0,3.0,3.0,3.0,0.0,1.0,4.0,4.0,1.0,4.0,1.0,3.0,2.0,0.0,0.0,2.0,3.0,3.0,0.0,1.0,3.0,3.0,4.0,0.0,4.0,2.0,0.0,0.0,0.0,3.0,4.0,1.0,3.0,2.0,2.0,1.0,2.0,0.0,3.0,1.0,0.0,4.0,3.0,2.0,0.0,3.0,0.0,0.0,0.0,2.0,3.0,3.0,1.0,0.0,1.0,0.0,2.0,1.0,0.0,1.0,0.0,3.0,0.0,5.0,0.0,1.0,5.0,3.0,3.0,0.0,2.0,0.0,0.0,1.0,3.0,3.0,4.0,2.0,1.0,1.0,3.0,1.0,3.0,0.0,2.0,2.0,4.0,2.0,3.0,0.0,0.0,2.0,1.0,0.0,3.0,1.0,2.0,3.0,1.0,1.0,3.0,1.0,2.0,3.0,1.0,0.0,0.0,1.0,2.0,3.0,0.0,4.0,3.0,3.0,3.0,0.0,1.0,3.0,1.0,4.0,2.0,1.0,4.0,0.0,0.0,3.0,1.0,0.0,0.0,1.0,4.0,3.0,3.0,3.0,1.0,3.0,3.0,0.0,0.0,1.0,3.0,2.0,1.0,3.0,1.0,0.0,5.0,3.0,0.0,1.0,3.0,0.0,0.0,1.0,2.0,1.0,4.0,3.0,3.0,4.0,1.0,3.0,3.0,2.0,4.0,3.0,3.0,3.0,3.0,3.0,2.0,0.0,1.0,0.0,0.0,1.0,2.0,5.0,3.0,0.0,3.0,1.0],\"x0\":\" \",\"xaxis\":\"x\",\"y\":[0.88,0.66,0.89,0.51,0.76,0.9,0.54,0.9,0.79,0.55,0.92,0.93,0.93,0.64,0.54,0.92,0.54,0.5,0.98,0.89,0.83,0.71,0.84,0.98,0.88,0.91,0.95,0.84,0.65,0.91,0.57,0.68,0.55,0.9,0.94,0.64,0.87,0.82,0.87,0.63,0.83,0.83,0.59,0.87,0.77,0.86,0.91,0.71,0.81,0.81,0.71,0.71,0.52,0.65,0.84,0.84,0.99,0.91,0.71,0.8,0.95,0.91,0.81,0.93,0.85,0.77,0.84,0.87,0.8,0.52,0.54,0.88,0.64,0.87,0.77,0.68,0.94,0.7,0.79,0.77,0.86,0.81,0.88,0.78,0.64,0.88,0.78,0.71,0.97,0.77,0.8,0.94,0.52,0.76,0.73,0.73,0.96,0.91,0.8,0.77,0.81,0.71,0.95,0.64,0.94,0.87,0.63,0.88,0.9,0.94,0.91,0.9,0.8,0.85,0.89,0.53,0.87,0.5,0.93,0.72,0.92,0.62,0.93,0.91,0.63,0.77,0.51,0.94,0.73,0.78,0.55,0.83,0.94,0.95,0.59,0.82,0.9,0.77,0.83,0.65,0.54,0.51,0.81,0.87,0.75,0.57,0.58,0.81,0.75,0.6,0.53,0.93,0.89,0.7,0.74,0.92,0.93,0.95,0.6,0.93,0.81,0.95,0.72,0.9,0.95,0.91,0.85,0.9,0.92,0.6,0.89,0.67,0.51,0.78,0.95,0.68,0.68,0.94,0.78,0.9,0.83,0.8,0.96,0.91,0.96,0.94,0.63,0.73,0.87,0.76,0.68,0.94,0.95,0.62,0.91,0.67,0.94,0.79,0.86,0.83,0.73,0.71,0.87,0.5,0.92,0.79,0.98,0.93,0.88,0.77,0.86,0.54,0.8,0.86,0.61,0.72,0.72,0.55,0.96,0.58,0.77,0.85,0.95,0.69,0.95,0.82,0.93,0.82,0.94,0.75,0.91,0.65,0.87,0.84,0.85,0.91,0.71,0.82,0.77,0.95,0.95,0.76,0.85,0.75,0.92,0.78,0.91,0.85,0.95,0.66,0.63,0.86,0.54,0.95,0.72,0.52,0.93,0.52,0.61,0.79,0.94,0.76,0.76,0.78,0.94,0.87,0.55,0.93,0.93,0.94,0.78,0.94,0.5,0.93,0.73,0.9,0.87,0.93,0.9,0.67,0.9,0.9,0.98,0.66,0.68,0.56,0.62,0.52,0.96,0.81,0.84,0.93,0.87,0.86,0.89,0.94,0.84,0.86,0.75,0.6,0.93,0.75,0.81,0.78,0.84,0.9,0.9,0.67,0.93,0.8,0.63,0.9,0.9,0.86,0.51,0.71,0.87,0.7,0.85,0.87,0.6,0.83,0.8,0.93,0.75,0.5,0.5,0.67,0.96,0.52,0.68,0.72,0.56,0.91,0.85,0.72,0.9,0.77,0.89,0.9,0.85,0.95,0.51,0.9,0.9,0.51,0.84,0.82,0.88,0.79,0.64,0.84,0.86,0.71,0.9,0.82,0.95,0.95,0.54,0.95,0.53,0.92,0.85,0.92,0.53,0.75,0.82,0.74,0.87,0.72,0.87,0.53,0.72,0.87,0.66,0.66,0.72,0.81,0.88,0.94,0.83,0.91,0.95,0.9,0.95,0.9,0.62,0.93,0.79,0.91,0.81,0.52,0.52,0.84,0.67,0.83,0.63,0.64,0.91,0.82,0.92,0.92,0.93,0.87,0.64,0.9,0.82,0.86,0.73,0.9,0.68,0.82,0.74,0.88,0.72,0.67,0.87,0.66,0.66,0.87,0.51,0.79,0.8,0.55,0.85,0.88,0.88,0.93,0.63,0.92,0.8,0.92,0.77,0.9,0.9,0.96,0.72,0.86,0.9,0.5,0.88,0.6,0.68,0.67,0.58,0.53,0.5,0.91,0.74,0.55,0.76,0.63],\"y0\":\" \",\"yaxis\":\"y\",\"type\":\"box\"}],                        {\"template\":{\"data\":{\"histogram2dcontour\":[{\"type\":\"histogram2dcontour\",\"colorbar\":{\"outlinewidth\":0,\"ticks\":\"\"},\"colorscale\":[[0.0,\"#0d0887\"],[0.1111111111111111,\"#46039f\"],[0.2222222222222222,\"#7201a8\"],[0.3333333333333333,\"#9c179e\"],[0.4444444444444444,\"#bd3786\"],[0.5555555555555556,\"#d8576b\"],[0.6666666666666666,\"#ed7953\"],[0.7777777777777778,\"#fb9f3a\"],[0.8888888888888888,\"#fdca26\"],[1.0,\"#f0f921\"]]}],\"choropleth\":[{\"type\":\"choropleth\",\"colorbar\":{\"outlinewidth\":0,\"ticks\":\"\"}}],\"histogram2d\":[{\"type\":\"histogram2d\",\"colorbar\":{\"outlinewidth\":0,\"ticks\":\"\"},\"colorscale\":[[0.0,\"#0d0887\"],[0.1111111111111111,\"#46039f\"],[0.2222222222222222,\"#7201a8\"],[0.3333333333333333,\"#9c179e\"],[0.4444444444444444,\"#bd3786\"],[0.5555555555555556,\"#d8576b\"],[0.6666666666666666,\"#ed7953\"],[0.7777777777777778,\"#fb9f3a\"],[0.8888888888888888,\"#fdca26\"],[1.0,\"#f0f921\"]]}],\"heatmap\":[{\"type\":\"heatmap\",\"colorbar\":{\"outlinewidth\":0,\"ticks\":\"\"},\"colorscale\":[[0.0,\"#0d0887\"],[0.1111111111111111,\"#46039f\"],[0.2222222222222222,\"#7201a8\"],[0.3333333333333333,\"#9c179e\"],[0.4444444444444444,\"#bd3786\"],[0.5555555555555556,\"#d8576b\"],[0.6666666666666666,\"#ed7953\"],[0.7777777777777778,\"#fb9f3a\"],[0.8888888888888888,\"#fdca26\"],[1.0,\"#f0f921\"]]}],\"heatmapgl\":[{\"type\":\"heatmapgl\",\"colorbar\":{\"outlinewidth\":0,\"ticks\":\"\"},\"colorscale\":[[0.0,\"#0d0887\"],[0.1111111111111111,\"#46039f\"],[0.2222222222222222,\"#7201a8\"],[0.3333333333333333,\"#9c179e\"],[0.4444444444444444,\"#bd3786\"],[0.5555555555555556,\"#d8576b\"],[0.6666666666666666,\"#ed7953\"],[0.7777777777777778,\"#fb9f3a\"],[0.8888888888888888,\"#fdca26\"],[1.0,\"#f0f921\"]]}],\"contourcarpet\":[{\"type\":\"contourcarpet\",\"colorbar\":{\"outlinewidth\":0,\"ticks\":\"\"}}],\"contour\":[{\"type\":\"contour\",\"colorbar\":{\"outlinewidth\":0,\"ticks\":\"\"},\"colorscale\":[[0.0,\"#0d0887\"],[0.1111111111111111,\"#46039f\"],[0.2222222222222222,\"#7201a8\"],[0.3333333333333333,\"#9c179e\"],[0.4444444444444444,\"#bd3786\"],[0.5555555555555556,\"#d8576b\"],[0.6666666666666666,\"#ed7953\"],[0.7777777777777778,\"#fb9f3a\"],[0.8888888888888888,\"#fdca26\"],[1.0,\"#f0f921\"]]}],\"surface\":[{\"type\":\"surface\",\"colorbar\":{\"outlinewidth\":0,\"ticks\":\"\"},\"colorscale\":[[0.0,\"#0d0887\"],[0.1111111111111111,\"#46039f\"],[0.2222222222222222,\"#7201a8\"],[0.3333333333333333,\"#9c179e\"],[0.4444444444444444,\"#bd3786\"],[0.5555555555555556,\"#d8576b\"],[0.6666666666666666,\"#ed7953\"],[0.7777777777777778,\"#fb9f3a\"],[0.8888888888888888,\"#fdca26\"],[1.0,\"#f0f921\"]]}],\"mesh3d\":[{\"type\":\"mesh3d\",\"colorbar\":{\"outlinewidth\":0,\"ticks\":\"\"}}],\"scatter\":[{\"fillpattern\":{\"fillmode\":\"overlay\",\"size\":10,\"solidity\":0.2},\"type\":\"scatter\"}],\"parcoords\":[{\"type\":\"parcoords\",\"line\":{\"colorbar\":{\"outlinewidth\":0,\"ticks\":\"\"}}}],\"scatterpolargl\":[{\"type\":\"scatterpolargl\",\"marker\":{\"colorbar\":{\"outlinewidth\":0,\"ticks\":\"\"}}}],\"bar\":[{\"error_x\":{\"color\":\"#2a3f5f\"},\"error_y\":{\"color\":\"#2a3f5f\"},\"marker\":{\"line\":{\"color\":\"#E5ECF6\",\"width\":0.5},\"pattern\":{\"fillmode\":\"overlay\",\"size\":10,\"solidity\":0.2}},\"type\":\"bar\"}],\"scattergeo\":[{\"type\":\"scattergeo\",\"marker\":{\"colorbar\":{\"outlinewidth\":0,\"ticks\":\"\"}}}],\"scatterpolar\":[{\"type\":\"scatterpolar\",\"marker\":{\"colorbar\":{\"outlinewidth\":0,\"ticks\":\"\"}}}],\"histogram\":[{\"marker\":{\"pattern\":{\"fillmode\":\"overlay\",\"size\":10,\"solidity\":0.2}},\"type\":\"histogram\"}],\"scattergl\":[{\"type\":\"scattergl\",\"marker\":{\"colorbar\":{\"outlinewidth\":0,\"ticks\":\"\"}}}],\"scatter3d\":[{\"type\":\"scatter3d\",\"line\":{\"colorbar\":{\"outlinewidth\":0,\"ticks\":\"\"}},\"marker\":{\"colorbar\":{\"outlinewidth\":0,\"ticks\":\"\"}}}],\"scattermapbox\":[{\"type\":\"scattermapbox\",\"marker\":{\"colorbar\":{\"outlinewidth\":0,\"ticks\":\"\"}}}],\"scatterternary\":[{\"type\":\"scatterternary\",\"marker\":{\"colorbar\":{\"outlinewidth\":0,\"ticks\":\"\"}}}],\"scattercarpet\":[{\"type\":\"scattercarpet\",\"marker\":{\"colorbar\":{\"outlinewidth\":0,\"ticks\":\"\"}}}],\"carpet\":[{\"aaxis\":{\"endlinecolor\":\"#2a3f5f\",\"gridcolor\":\"white\",\"linecolor\":\"white\",\"minorgridcolor\":\"white\",\"startlinecolor\":\"#2a3f5f\"},\"baxis\":{\"endlinecolor\":\"#2a3f5f\",\"gridcolor\":\"white\",\"linecolor\":\"white\",\"minorgridcolor\":\"white\",\"startlinecolor\":\"#2a3f5f\"},\"type\":\"carpet\"}],\"table\":[{\"cells\":{\"fill\":{\"color\":\"#EBF0F8\"},\"line\":{\"color\":\"white\"}},\"header\":{\"fill\":{\"color\":\"#C8D4E3\"},\"line\":{\"color\":\"white\"}},\"type\":\"table\"}],\"barpolar\":[{\"marker\":{\"line\":{\"color\":\"#E5ECF6\",\"width\":0.5},\"pattern\":{\"fillmode\":\"overlay\",\"size\":10,\"solidity\":0.2}},\"type\":\"barpolar\"}],\"pie\":[{\"automargin\":true,\"type\":\"pie\"}]},\"layout\":{\"autotypenumbers\":\"strict\",\"colorway\":[\"#636efa\",\"#EF553B\",\"#00cc96\",\"#ab63fa\",\"#FFA15A\",\"#19d3f3\",\"#FF6692\",\"#B6E880\",\"#FF97FF\",\"#FECB52\"],\"font\":{\"color\":\"#2a3f5f\"},\"hovermode\":\"closest\",\"hoverlabel\":{\"align\":\"left\"},\"paper_bgcolor\":\"white\",\"plot_bgcolor\":\"#E5ECF6\",\"polar\":{\"bgcolor\":\"#E5ECF6\",\"angularaxis\":{\"gridcolor\":\"white\",\"linecolor\":\"white\",\"ticks\":\"\"},\"radialaxis\":{\"gridcolor\":\"white\",\"linecolor\":\"white\",\"ticks\":\"\"}},\"ternary\":{\"bgcolor\":\"#E5ECF6\",\"aaxis\":{\"gridcolor\":\"white\",\"linecolor\":\"white\",\"ticks\":\"\"},\"baxis\":{\"gridcolor\":\"white\",\"linecolor\":\"white\",\"ticks\":\"\"},\"caxis\":{\"gridcolor\":\"white\",\"linecolor\":\"white\",\"ticks\":\"\"}},\"coloraxis\":{\"colorbar\":{\"outlinewidth\":0,\"ticks\":\"\"}},\"colorscale\":{\"sequential\":[[0.0,\"#0d0887\"],[0.1111111111111111,\"#46039f\"],[0.2222222222222222,\"#7201a8\"],[0.3333333333333333,\"#9c179e\"],[0.4444444444444444,\"#bd3786\"],[0.5555555555555556,\"#d8576b\"],[0.6666666666666666,\"#ed7953\"],[0.7777777777777778,\"#fb9f3a\"],[0.8888888888888888,\"#fdca26\"],[1.0,\"#f0f921\"]],\"sequentialminus\":[[0.0,\"#0d0887\"],[0.1111111111111111,\"#46039f\"],[0.2222222222222222,\"#7201a8\"],[0.3333333333333333,\"#9c179e\"],[0.4444444444444444,\"#bd3786\"],[0.5555555555555556,\"#d8576b\"],[0.6666666666666666,\"#ed7953\"],[0.7777777777777778,\"#fb9f3a\"],[0.8888888888888888,\"#fdca26\"],[1.0,\"#f0f921\"]],\"diverging\":[[0,\"#8e0152\"],[0.1,\"#c51b7d\"],[0.2,\"#de77ae\"],[0.3,\"#f1b6da\"],[0.4,\"#fde0ef\"],[0.5,\"#f7f7f7\"],[0.6,\"#e6f5d0\"],[0.7,\"#b8e186\"],[0.8,\"#7fbc41\"],[0.9,\"#4d9221\"],[1,\"#276419\"]]},\"xaxis\":{\"gridcolor\":\"white\",\"linecolor\":\"white\",\"ticks\":\"\",\"title\":{\"standoff\":15},\"zerolinecolor\":\"white\",\"automargin\":true,\"zerolinewidth\":2},\"yaxis\":{\"gridcolor\":\"white\",\"linecolor\":\"white\",\"ticks\":\"\",\"title\":{\"standoff\":15},\"zerolinecolor\":\"white\",\"automargin\":true,\"zerolinewidth\":2},\"scene\":{\"xaxis\":{\"backgroundcolor\":\"#E5ECF6\",\"gridcolor\":\"white\",\"linecolor\":\"white\",\"showbackground\":true,\"ticks\":\"\",\"zerolinecolor\":\"white\",\"gridwidth\":2},\"yaxis\":{\"backgroundcolor\":\"#E5ECF6\",\"gridcolor\":\"white\",\"linecolor\":\"white\",\"showbackground\":true,\"ticks\":\"\",\"zerolinecolor\":\"white\",\"gridwidth\":2},\"zaxis\":{\"backgroundcolor\":\"#E5ECF6\",\"gridcolor\":\"white\",\"linecolor\":\"white\",\"showbackground\":true,\"ticks\":\"\",\"zerolinecolor\":\"white\",\"gridwidth\":2}},\"shapedefaults\":{\"line\":{\"color\":\"#2a3f5f\"}},\"annotationdefaults\":{\"arrowcolor\":\"#2a3f5f\",\"arrowhead\":0,\"arrowwidth\":1},\"geo\":{\"bgcolor\":\"white\",\"landcolor\":\"#E5ECF6\",\"subunitcolor\":\"white\",\"showland\":true,\"showlakes\":true,\"lakecolor\":\"white\"},\"title\":{\"x\":0.05},\"mapbox\":{\"style\":\"light\"}}},\"xaxis\":{\"anchor\":\"y\",\"domain\":[0.0,1.0],\"title\":{\"text\":\"Exercise frequency\"}},\"yaxis\":{\"anchor\":\"x\",\"domain\":[0.0,1.0],\"title\":{\"text\":\"Sleep efficiency\"}},\"legend\":{\"tracegroupgap\":0},\"title\":{\"text\":\"Sleep Efficiency by Excercise frequency\"},\"boxmode\":\"group\"},                        {\"responsive\": true}                    ).then(function(){\n",
       "                            \n",
       "var gd = document.getElementById('63f11268-7a52-4baa-90b9-a7fcd591b82d');\n",
       "var x = new MutationObserver(function (mutations, observer) {{\n",
       "        var display = window.getComputedStyle(gd).display;\n",
       "        if (!display || display === 'none') {{\n",
       "            console.log([gd, 'removed!']);\n",
       "            Plotly.purge(gd);\n",
       "            observer.disconnect();\n",
       "        }}\n",
       "}});\n",
       "\n",
       "// Listen for the removal of the full notebook cells\n",
       "var notebookContainer = gd.closest('#notebook-container');\n",
       "if (notebookContainer) {{\n",
       "    x.observe(notebookContainer, {childList: true});\n",
       "}}\n",
       "\n",
       "// Listen for the clearing of the current output cell\n",
       "var outputEl = gd.closest('.output');\n",
       "if (outputEl) {{\n",
       "    x.observe(outputEl, {childList: true});\n",
       "}}\n",
       "\n",
       "                        })                };                });            </script>        </div>"
      ]
     },
     "metadata": {},
     "output_type": "display_data"
    }
   ],
   "source": [
    "fig = px.box(df, y = \"Sleep efficiency\", x = \"Exercise frequency\", title = \"Sleep Efficiency by Excercise frequency\")\n",
    "fig.show()"
   ]
  },
  {
   "cell_type": "code",
   "execution_count": 155,
   "id": "b77ac871-816f-4b3a-93ef-0b2be1b8c738",
   "metadata": {},
   "outputs": [
    {
     "data": {
      "application/vnd.plotly.v1+json": {
       "config": {
        "plotlyServerURL": "https://plot.ly"
       },
       "data": [
        {
         "alignmentgroup": "True",
         "hovertemplate": "Caffeine consumption=%{x}<br>Sleep efficiency=%{y}<extra></extra>",
         "legendgroup": "",
         "marker": {
          "color": "#636efa"
         },
         "name": "",
         "notched": false,
         "offsetgroup": "",
         "orientation": "v",
         "showlegend": false,
         "type": "box",
         "x": [
          0,
          0,
          0,
          50,
          0,
          25,
          50,
          50,
          50,
          0,
          50,
          0,
          50,
          0,
          25,
          50,
          0,
          50,
          25,
          50,
          0,
          50,
          75,
          50,
          25,
          0,
          25,
          0,
          0,
          0,
          0,
          25,
          0,
          25,
          0,
          50,
          0,
          25,
          50,
          50,
          0,
          25,
          50,
          50,
          25,
          50,
          0,
          50,
          0,
          0,
          25,
          50,
          0,
          0,
          0,
          0,
          0,
          25,
          50,
          50,
          25,
          0,
          200,
          25,
          25,
          0,
          0,
          25,
          0,
          0,
          50,
          50,
          0,
          25,
          0,
          0,
          0,
          0,
          0,
          0,
          25,
          200,
          0,
          25,
          0,
          75,
          0,
          0,
          0,
          25,
          0,
          0,
          0,
          0,
          0,
          25,
          200,
          25,
          25,
          0,
          25,
          0,
          25,
          25,
          50,
          25,
          0,
          50,
          50,
          50,
          50,
          100,
          75,
          25,
          25,
          0,
          50,
          0,
          0,
          0,
          0,
          0,
          0,
          25,
          0,
          25,
          0,
          50,
          25,
          50,
          25,
          50,
          50,
          0,
          75,
          50,
          25,
          0,
          0,
          25,
          25,
          50,
          0,
          0,
          25,
          50,
          0,
          25,
          50,
          50,
          0,
          50,
          75,
          0,
          0,
          0,
          50,
          0,
          0,
          0,
          0,
          200,
          0,
          25,
          25,
          0,
          0,
          75,
          50,
          25,
          0,
          50,
          0,
          0,
          0,
          25,
          50,
          50,
          25,
          75,
          0,
          50,
          0,
          0,
          25,
          50,
          25,
          50,
          50,
          0,
          50,
          75,
          0,
          25,
          0,
          50,
          75,
          0,
          25,
          0,
          0,
          50,
          25,
          25,
          0,
          25,
          25,
          50,
          0,
          0,
          0,
          0,
          50,
          75,
          25,
          25,
          0,
          50,
          50,
          0,
          0,
          25,
          50,
          50,
          75,
          0,
          0,
          0,
          25,
          0,
          50,
          0,
          25,
          25,
          50,
          50,
          0,
          25,
          25,
          0,
          0,
          0,
          50,
          75,
          0,
          0,
          25,
          0,
          0,
          0,
          50,
          50,
          50,
          0,
          50,
          50,
          25,
          25,
          0,
          0,
          0,
          25,
          50,
          25,
          50,
          0,
          0,
          0,
          0,
          25,
          25,
          0,
          0,
          50,
          0,
          50,
          50,
          25,
          50,
          0,
          50,
          0,
          75,
          25,
          50,
          0,
          0,
          75,
          25,
          50,
          0,
          0,
          0,
          25,
          75,
          0,
          0,
          25,
          25,
          0,
          0,
          25,
          0,
          0,
          0,
          0,
          0,
          25,
          0,
          50,
          25,
          0,
          0,
          25,
          0,
          0,
          0,
          0,
          0,
          0,
          0,
          25,
          50,
          0,
          25,
          0,
          75,
          50,
          25,
          50,
          0,
          0,
          0,
          25,
          25,
          50,
          0,
          50,
          0,
          0,
          75,
          0,
          50,
          50,
          0,
          50,
          0,
          0,
          25,
          50,
          0,
          25,
          0,
          0,
          0,
          25,
          0,
          75,
          0,
          0,
          25,
          75,
          0,
          25,
          0,
          50,
          75,
          0,
          25,
          25,
          50,
          50,
          25,
          0,
          25,
          50,
          0,
          25,
          0,
          0,
          25,
          75,
          0,
          0,
          0,
          0,
          50,
          0,
          25,
          50,
          25,
          50,
          25,
          0,
          50,
          0,
          50,
          50,
          50,
          50,
          25,
          0,
          0,
          0,
          25,
          0,
          0,
          25,
          0,
          50,
          0,
          0,
          25,
          50,
          25,
          0,
          0,
          0,
          0,
          50,
          0,
          0,
          25,
          50,
          0,
          50,
          75,
          0,
          0,
          0,
          50,
          50,
          0,
          75,
          75,
          0,
          0,
          0,
          0,
          0,
          75,
          0,
          25,
          50,
          0,
          50,
          0,
          0,
          25,
          25,
          0,
          50
         ],
         "x0": " ",
         "xaxis": "x",
         "y": [
          0.88,
          0.66,
          0.89,
          0.51,
          0.76,
          0.9,
          0.54,
          0.9,
          0.79,
          0.55,
          0.92,
          0.93,
          0.93,
          0.64,
          0.54,
          0.92,
          0.54,
          0.5,
          0.98,
          0.89,
          0.83,
          0.71,
          0.84,
          0.98,
          0.88,
          0.91,
          0.95,
          0.84,
          0.65,
          0.91,
          0.57,
          0.68,
          0.55,
          0.9,
          0.94,
          0.64,
          0.87,
          0.82,
          0.87,
          0.63,
          0.83,
          0.83,
          0.59,
          0.87,
          0.77,
          0.86,
          0.91,
          0.71,
          0.81,
          0.81,
          0.71,
          0.71,
          0.52,
          0.65,
          0.84,
          0.84,
          0.99,
          0.91,
          0.71,
          0.8,
          0.95,
          0.91,
          0.81,
          0.93,
          0.85,
          0.77,
          0.84,
          0.87,
          0.8,
          0.52,
          0.54,
          0.88,
          0.64,
          0.87,
          0.77,
          0.68,
          0.94,
          0.7,
          0.79,
          0.77,
          0.86,
          0.81,
          0.88,
          0.78,
          0.64,
          0.88,
          0.78,
          0.71,
          0.97,
          0.77,
          0.8,
          0.94,
          0.52,
          0.76,
          0.73,
          0.73,
          0.96,
          0.91,
          0.8,
          0.77,
          0.81,
          0.71,
          0.95,
          0.64,
          0.94,
          0.87,
          0.63,
          0.88,
          0.9,
          0.94,
          0.91,
          0.9,
          0.8,
          0.85,
          0.89,
          0.53,
          0.87,
          0.5,
          0.93,
          0.72,
          0.92,
          0.62,
          0.93,
          0.91,
          0.63,
          0.77,
          0.51,
          0.94,
          0.73,
          0.78,
          0.55,
          0.83,
          0.94,
          0.95,
          0.59,
          0.82,
          0.9,
          0.77,
          0.83,
          0.65,
          0.54,
          0.51,
          0.81,
          0.87,
          0.75,
          0.57,
          0.58,
          0.81,
          0.75,
          0.6,
          0.53,
          0.93,
          0.89,
          0.7,
          0.74,
          0.92,
          0.93,
          0.95,
          0.6,
          0.93,
          0.81,
          0.95,
          0.72,
          0.9,
          0.95,
          0.91,
          0.85,
          0.9,
          0.92,
          0.6,
          0.89,
          0.67,
          0.51,
          0.78,
          0.95,
          0.68,
          0.68,
          0.94,
          0.78,
          0.9,
          0.83,
          0.8,
          0.96,
          0.91,
          0.96,
          0.94,
          0.63,
          0.73,
          0.87,
          0.76,
          0.68,
          0.94,
          0.95,
          0.62,
          0.91,
          0.67,
          0.94,
          0.79,
          0.86,
          0.83,
          0.73,
          0.71,
          0.87,
          0.5,
          0.92,
          0.79,
          0.98,
          0.93,
          0.88,
          0.77,
          0.86,
          0.54,
          0.8,
          0.86,
          0.61,
          0.72,
          0.72,
          0.55,
          0.96,
          0.58,
          0.77,
          0.85,
          0.95,
          0.69,
          0.95,
          0.82,
          0.93,
          0.82,
          0.94,
          0.75,
          0.91,
          0.65,
          0.87,
          0.84,
          0.85,
          0.91,
          0.71,
          0.82,
          0.77,
          0.95,
          0.95,
          0.76,
          0.85,
          0.75,
          0.92,
          0.78,
          0.91,
          0.85,
          0.95,
          0.66,
          0.63,
          0.86,
          0.54,
          0.95,
          0.72,
          0.52,
          0.93,
          0.52,
          0.61,
          0.79,
          0.94,
          0.76,
          0.76,
          0.78,
          0.94,
          0.87,
          0.55,
          0.93,
          0.93,
          0.94,
          0.78,
          0.94,
          0.5,
          0.93,
          0.73,
          0.9,
          0.87,
          0.93,
          0.9,
          0.67,
          0.9,
          0.9,
          0.98,
          0.66,
          0.68,
          0.56,
          0.62,
          0.52,
          0.96,
          0.81,
          0.84,
          0.93,
          0.87,
          0.86,
          0.89,
          0.94,
          0.84,
          0.86,
          0.75,
          0.6,
          0.93,
          0.75,
          0.81,
          0.78,
          0.84,
          0.9,
          0.9,
          0.67,
          0.93,
          0.8,
          0.63,
          0.9,
          0.9,
          0.86,
          0.51,
          0.71,
          0.87,
          0.7,
          0.85,
          0.87,
          0.6,
          0.83,
          0.8,
          0.93,
          0.75,
          0.5,
          0.5,
          0.67,
          0.96,
          0.52,
          0.68,
          0.72,
          0.56,
          0.91,
          0.85,
          0.72,
          0.9,
          0.77,
          0.89,
          0.9,
          0.85,
          0.95,
          0.51,
          0.9,
          0.9,
          0.51,
          0.84,
          0.82,
          0.88,
          0.79,
          0.64,
          0.84,
          0.86,
          0.71,
          0.9,
          0.82,
          0.95,
          0.95,
          0.54,
          0.95,
          0.53,
          0.92,
          0.85,
          0.92,
          0.53,
          0.75,
          0.82,
          0.74,
          0.87,
          0.72,
          0.87,
          0.53,
          0.72,
          0.87,
          0.66,
          0.66,
          0.72,
          0.81,
          0.88,
          0.94,
          0.83,
          0.91,
          0.95,
          0.9,
          0.95,
          0.9,
          0.62,
          0.93,
          0.79,
          0.91,
          0.81,
          0.52,
          0.52,
          0.84,
          0.67,
          0.83,
          0.63,
          0.64,
          0.91,
          0.82,
          0.92,
          0.92,
          0.93,
          0.87,
          0.64,
          0.9,
          0.82,
          0.86,
          0.73,
          0.9,
          0.68,
          0.82,
          0.74,
          0.88,
          0.72,
          0.67,
          0.87,
          0.66,
          0.66,
          0.87,
          0.51,
          0.79,
          0.8,
          0.55,
          0.85,
          0.88,
          0.88,
          0.93,
          0.63,
          0.92,
          0.8,
          0.92,
          0.77,
          0.9,
          0.9,
          0.96,
          0.72,
          0.86,
          0.9,
          0.5,
          0.88,
          0.6,
          0.68,
          0.67,
          0.58,
          0.53,
          0.5,
          0.91,
          0.74,
          0.55,
          0.76,
          0.63
         ],
         "y0": " ",
         "yaxis": "y"
        }
       ],
       "layout": {
        "autosize": true,
        "boxmode": "group",
        "legend": {
         "tracegroupgap": 0
        },
        "template": {
         "data": {
          "bar": [
           {
            "error_x": {
             "color": "#2a3f5f"
            },
            "error_y": {
             "color": "#2a3f5f"
            },
            "marker": {
             "line": {
              "color": "#E5ECF6",
              "width": 0.5
             },
             "pattern": {
              "fillmode": "overlay",
              "size": 10,
              "solidity": 0.2
             }
            },
            "type": "bar"
           }
          ],
          "barpolar": [
           {
            "marker": {
             "line": {
              "color": "#E5ECF6",
              "width": 0.5
             },
             "pattern": {
              "fillmode": "overlay",
              "size": 10,
              "solidity": 0.2
             }
            },
            "type": "barpolar"
           }
          ],
          "carpet": [
           {
            "aaxis": {
             "endlinecolor": "#2a3f5f",
             "gridcolor": "white",
             "linecolor": "white",
             "minorgridcolor": "white",
             "startlinecolor": "#2a3f5f"
            },
            "baxis": {
             "endlinecolor": "#2a3f5f",
             "gridcolor": "white",
             "linecolor": "white",
             "minorgridcolor": "white",
             "startlinecolor": "#2a3f5f"
            },
            "type": "carpet"
           }
          ],
          "choropleth": [
           {
            "colorbar": {
             "outlinewidth": 0,
             "ticks": ""
            },
            "type": "choropleth"
           }
          ],
          "contour": [
           {
            "colorbar": {
             "outlinewidth": 0,
             "ticks": ""
            },
            "colorscale": [
             [
              0,
              "#0d0887"
             ],
             [
              0.1111111111111111,
              "#46039f"
             ],
             [
              0.2222222222222222,
              "#7201a8"
             ],
             [
              0.3333333333333333,
              "#9c179e"
             ],
             [
              0.4444444444444444,
              "#bd3786"
             ],
             [
              0.5555555555555556,
              "#d8576b"
             ],
             [
              0.6666666666666666,
              "#ed7953"
             ],
             [
              0.7777777777777778,
              "#fb9f3a"
             ],
             [
              0.8888888888888888,
              "#fdca26"
             ],
             [
              1,
              "#f0f921"
             ]
            ],
            "type": "contour"
           }
          ],
          "contourcarpet": [
           {
            "colorbar": {
             "outlinewidth": 0,
             "ticks": ""
            },
            "type": "contourcarpet"
           }
          ],
          "heatmap": [
           {
            "colorbar": {
             "outlinewidth": 0,
             "ticks": ""
            },
            "colorscale": [
             [
              0,
              "#0d0887"
             ],
             [
              0.1111111111111111,
              "#46039f"
             ],
             [
              0.2222222222222222,
              "#7201a8"
             ],
             [
              0.3333333333333333,
              "#9c179e"
             ],
             [
              0.4444444444444444,
              "#bd3786"
             ],
             [
              0.5555555555555556,
              "#d8576b"
             ],
             [
              0.6666666666666666,
              "#ed7953"
             ],
             [
              0.7777777777777778,
              "#fb9f3a"
             ],
             [
              0.8888888888888888,
              "#fdca26"
             ],
             [
              1,
              "#f0f921"
             ]
            ],
            "type": "heatmap"
           }
          ],
          "heatmapgl": [
           {
            "colorbar": {
             "outlinewidth": 0,
             "ticks": ""
            },
            "colorscale": [
             [
              0,
              "#0d0887"
             ],
             [
              0.1111111111111111,
              "#46039f"
             ],
             [
              0.2222222222222222,
              "#7201a8"
             ],
             [
              0.3333333333333333,
              "#9c179e"
             ],
             [
              0.4444444444444444,
              "#bd3786"
             ],
             [
              0.5555555555555556,
              "#d8576b"
             ],
             [
              0.6666666666666666,
              "#ed7953"
             ],
             [
              0.7777777777777778,
              "#fb9f3a"
             ],
             [
              0.8888888888888888,
              "#fdca26"
             ],
             [
              1,
              "#f0f921"
             ]
            ],
            "type": "heatmapgl"
           }
          ],
          "histogram": [
           {
            "marker": {
             "pattern": {
              "fillmode": "overlay",
              "size": 10,
              "solidity": 0.2
             }
            },
            "type": "histogram"
           }
          ],
          "histogram2d": [
           {
            "colorbar": {
             "outlinewidth": 0,
             "ticks": ""
            },
            "colorscale": [
             [
              0,
              "#0d0887"
             ],
             [
              0.1111111111111111,
              "#46039f"
             ],
             [
              0.2222222222222222,
              "#7201a8"
             ],
             [
              0.3333333333333333,
              "#9c179e"
             ],
             [
              0.4444444444444444,
              "#bd3786"
             ],
             [
              0.5555555555555556,
              "#d8576b"
             ],
             [
              0.6666666666666666,
              "#ed7953"
             ],
             [
              0.7777777777777778,
              "#fb9f3a"
             ],
             [
              0.8888888888888888,
              "#fdca26"
             ],
             [
              1,
              "#f0f921"
             ]
            ],
            "type": "histogram2d"
           }
          ],
          "histogram2dcontour": [
           {
            "colorbar": {
             "outlinewidth": 0,
             "ticks": ""
            },
            "colorscale": [
             [
              0,
              "#0d0887"
             ],
             [
              0.1111111111111111,
              "#46039f"
             ],
             [
              0.2222222222222222,
              "#7201a8"
             ],
             [
              0.3333333333333333,
              "#9c179e"
             ],
             [
              0.4444444444444444,
              "#bd3786"
             ],
             [
              0.5555555555555556,
              "#d8576b"
             ],
             [
              0.6666666666666666,
              "#ed7953"
             ],
             [
              0.7777777777777778,
              "#fb9f3a"
             ],
             [
              0.8888888888888888,
              "#fdca26"
             ],
             [
              1,
              "#f0f921"
             ]
            ],
            "type": "histogram2dcontour"
           }
          ],
          "mesh3d": [
           {
            "colorbar": {
             "outlinewidth": 0,
             "ticks": ""
            },
            "type": "mesh3d"
           }
          ],
          "parcoords": [
           {
            "line": {
             "colorbar": {
              "outlinewidth": 0,
              "ticks": ""
             }
            },
            "type": "parcoords"
           }
          ],
          "pie": [
           {
            "automargin": true,
            "type": "pie"
           }
          ],
          "scatter": [
           {
            "fillpattern": {
             "fillmode": "overlay",
             "size": 10,
             "solidity": 0.2
            },
            "type": "scatter"
           }
          ],
          "scatter3d": [
           {
            "line": {
             "colorbar": {
              "outlinewidth": 0,
              "ticks": ""
             }
            },
            "marker": {
             "colorbar": {
              "outlinewidth": 0,
              "ticks": ""
             }
            },
            "type": "scatter3d"
           }
          ],
          "scattercarpet": [
           {
            "marker": {
             "colorbar": {
              "outlinewidth": 0,
              "ticks": ""
             }
            },
            "type": "scattercarpet"
           }
          ],
          "scattergeo": [
           {
            "marker": {
             "colorbar": {
              "outlinewidth": 0,
              "ticks": ""
             }
            },
            "type": "scattergeo"
           }
          ],
          "scattergl": [
           {
            "marker": {
             "colorbar": {
              "outlinewidth": 0,
              "ticks": ""
             }
            },
            "type": "scattergl"
           }
          ],
          "scattermapbox": [
           {
            "marker": {
             "colorbar": {
              "outlinewidth": 0,
              "ticks": ""
             }
            },
            "type": "scattermapbox"
           }
          ],
          "scatterpolar": [
           {
            "marker": {
             "colorbar": {
              "outlinewidth": 0,
              "ticks": ""
             }
            },
            "type": "scatterpolar"
           }
          ],
          "scatterpolargl": [
           {
            "marker": {
             "colorbar": {
              "outlinewidth": 0,
              "ticks": ""
             }
            },
            "type": "scatterpolargl"
           }
          ],
          "scatterternary": [
           {
            "marker": {
             "colorbar": {
              "outlinewidth": 0,
              "ticks": ""
             }
            },
            "type": "scatterternary"
           }
          ],
          "surface": [
           {
            "colorbar": {
             "outlinewidth": 0,
             "ticks": ""
            },
            "colorscale": [
             [
              0,
              "#0d0887"
             ],
             [
              0.1111111111111111,
              "#46039f"
             ],
             [
              0.2222222222222222,
              "#7201a8"
             ],
             [
              0.3333333333333333,
              "#9c179e"
             ],
             [
              0.4444444444444444,
              "#bd3786"
             ],
             [
              0.5555555555555556,
              "#d8576b"
             ],
             [
              0.6666666666666666,
              "#ed7953"
             ],
             [
              0.7777777777777778,
              "#fb9f3a"
             ],
             [
              0.8888888888888888,
              "#fdca26"
             ],
             [
              1,
              "#f0f921"
             ]
            ],
            "type": "surface"
           }
          ],
          "table": [
           {
            "cells": {
             "fill": {
              "color": "#EBF0F8"
             },
             "line": {
              "color": "white"
             }
            },
            "header": {
             "fill": {
              "color": "#C8D4E3"
             },
             "line": {
              "color": "white"
             }
            },
            "type": "table"
           }
          ]
         },
         "layout": {
          "annotationdefaults": {
           "arrowcolor": "#2a3f5f",
           "arrowhead": 0,
           "arrowwidth": 1
          },
          "autotypenumbers": "strict",
          "coloraxis": {
           "colorbar": {
            "outlinewidth": 0,
            "ticks": ""
           }
          },
          "colorscale": {
           "diverging": [
            [
             0,
             "#8e0152"
            ],
            [
             0.1,
             "#c51b7d"
            ],
            [
             0.2,
             "#de77ae"
            ],
            [
             0.3,
             "#f1b6da"
            ],
            [
             0.4,
             "#fde0ef"
            ],
            [
             0.5,
             "#f7f7f7"
            ],
            [
             0.6,
             "#e6f5d0"
            ],
            [
             0.7,
             "#b8e186"
            ],
            [
             0.8,
             "#7fbc41"
            ],
            [
             0.9,
             "#4d9221"
            ],
            [
             1,
             "#276419"
            ]
           ],
           "sequential": [
            [
             0,
             "#0d0887"
            ],
            [
             0.1111111111111111,
             "#46039f"
            ],
            [
             0.2222222222222222,
             "#7201a8"
            ],
            [
             0.3333333333333333,
             "#9c179e"
            ],
            [
             0.4444444444444444,
             "#bd3786"
            ],
            [
             0.5555555555555556,
             "#d8576b"
            ],
            [
             0.6666666666666666,
             "#ed7953"
            ],
            [
             0.7777777777777778,
             "#fb9f3a"
            ],
            [
             0.8888888888888888,
             "#fdca26"
            ],
            [
             1,
             "#f0f921"
            ]
           ],
           "sequentialminus": [
            [
             0,
             "#0d0887"
            ],
            [
             0.1111111111111111,
             "#46039f"
            ],
            [
             0.2222222222222222,
             "#7201a8"
            ],
            [
             0.3333333333333333,
             "#9c179e"
            ],
            [
             0.4444444444444444,
             "#bd3786"
            ],
            [
             0.5555555555555556,
             "#d8576b"
            ],
            [
             0.6666666666666666,
             "#ed7953"
            ],
            [
             0.7777777777777778,
             "#fb9f3a"
            ],
            [
             0.8888888888888888,
             "#fdca26"
            ],
            [
             1,
             "#f0f921"
            ]
           ]
          },
          "colorway": [
           "#636efa",
           "#EF553B",
           "#00cc96",
           "#ab63fa",
           "#FFA15A",
           "#19d3f3",
           "#FF6692",
           "#B6E880",
           "#FF97FF",
           "#FECB52"
          ],
          "font": {
           "color": "#2a3f5f"
          },
          "geo": {
           "bgcolor": "white",
           "lakecolor": "white",
           "landcolor": "#E5ECF6",
           "showlakes": true,
           "showland": true,
           "subunitcolor": "white"
          },
          "hoverlabel": {
           "align": "left"
          },
          "hovermode": "closest",
          "mapbox": {
           "style": "light"
          },
          "paper_bgcolor": "white",
          "plot_bgcolor": "#E5ECF6",
          "polar": {
           "angularaxis": {
            "gridcolor": "white",
            "linecolor": "white",
            "ticks": ""
           },
           "bgcolor": "#E5ECF6",
           "radialaxis": {
            "gridcolor": "white",
            "linecolor": "white",
            "ticks": ""
           }
          },
          "scene": {
           "xaxis": {
            "backgroundcolor": "#E5ECF6",
            "gridcolor": "white",
            "gridwidth": 2,
            "linecolor": "white",
            "showbackground": true,
            "ticks": "",
            "zerolinecolor": "white"
           },
           "yaxis": {
            "backgroundcolor": "#E5ECF6",
            "gridcolor": "white",
            "gridwidth": 2,
            "linecolor": "white",
            "showbackground": true,
            "ticks": "",
            "zerolinecolor": "white"
           },
           "zaxis": {
            "backgroundcolor": "#E5ECF6",
            "gridcolor": "white",
            "gridwidth": 2,
            "linecolor": "white",
            "showbackground": true,
            "ticks": "",
            "zerolinecolor": "white"
           }
          },
          "shapedefaults": {
           "line": {
            "color": "#2a3f5f"
           }
          },
          "ternary": {
           "aaxis": {
            "gridcolor": "white",
            "linecolor": "white",
            "ticks": ""
           },
           "baxis": {
            "gridcolor": "white",
            "linecolor": "white",
            "ticks": ""
           },
           "bgcolor": "#E5ECF6",
           "caxis": {
            "gridcolor": "white",
            "linecolor": "white",
            "ticks": ""
           }
          },
          "title": {
           "x": 0.05
          },
          "xaxis": {
           "automargin": true,
           "gridcolor": "white",
           "linecolor": "white",
           "ticks": "",
           "title": {
            "standoff": 15
           },
           "zerolinecolor": "white",
           "zerolinewidth": 2
          },
          "yaxis": {
           "automargin": true,
           "gridcolor": "white",
           "linecolor": "white",
           "ticks": "",
           "title": {
            "standoff": 15
           },
           "zerolinecolor": "white",
           "zerolinewidth": 2
          }
         }
        },
        "title": {
         "text": "Sleep Efficiency by Caffeine consumption"
        },
        "xaxis": {
         "anchor": "y",
         "autorange": true,
         "domain": [
          0,
          1
         ],
         "range": [
          -12.5,
          212.5
         ],
         "title": {
          "text": "Caffeine consumption"
         },
         "type": "linear"
        },
        "yaxis": {
         "anchor": "x",
         "autorange": true,
         "domain": [
          0,
          1
         ],
         "range": [
          0.4727777777777778,
          1.0172222222222222
         ],
         "title": {
          "text": "Sleep efficiency"
         },
         "type": "linear"
        }
       }
      },
      "image/png": "[encoded data removed]",
      "text/html": [
       "<div>                            <div id=\"8cb54a5b-e8bd-4cab-bcb4-1003bbbaa184\" class=\"plotly-graph-div\" style=\"height:525px; width:100%;\"></div>            <script type=\"text/javascript\">                require([\"plotly\"], function(Plotly) {                    window.PLOTLYENV=window.PLOTLYENV || {};                                    if (document.getElementById(\"8cb54a5b-e8bd-4cab-bcb4-1003bbbaa184\")) {                    Plotly.newPlot(                        \"8cb54a5b-e8bd-4cab-bcb4-1003bbbaa184\",                        [{\"alignmentgroup\":\"True\",\"hovertemplate\":\"Caffeine consumption=%{x}\\u003cbr\\u003eSleep efficiency=%{y}\\u003cextra\\u003e\\u003c\\u002fextra\\u003e\",\"legendgroup\":\"\",\"marker\":{\"color\":\"#636efa\"},\"name\":\"\",\"notched\":false,\"offsetgroup\":\"\",\"orientation\":\"v\",\"showlegend\":false,\"x\":[0.0,0.0,0.0,50.0,0.0,25.0,50.0,50.0,50.0,0.0,50.0,0.0,50.0,0.0,25.0,50.0,0.0,50.0,25.0,50.0,0.0,50.0,75.0,50.0,25.0,0.0,25.0,0.0,0.0,0.0,0.0,25.0,0.0,25.0,0.0,50.0,0.0,25.0,50.0,50.0,0.0,25.0,50.0,50.0,25.0,50.0,0.0,50.0,0.0,0.0,25.0,50.0,0.0,0.0,0.0,0.0,0.0,25.0,50.0,50.0,25.0,0.0,200.0,25.0,25.0,0.0,0.0,25.0,0.0,0.0,50.0,50.0,0.0,25.0,0.0,0.0,0.0,0.0,0.0,0.0,25.0,200.0,0.0,25.0,0.0,75.0,0.0,0.0,0.0,25.0,0.0,0.0,0.0,0.0,0.0,25.0,200.0,25.0,25.0,0.0,25.0,0.0,25.0,25.0,50.0,25.0,0.0,50.0,50.0,50.0,50.0,100.0,75.0,25.0,25.0,0.0,50.0,0.0,0.0,0.0,0.0,0.0,0.0,25.0,0.0,25.0,0.0,50.0,25.0,50.0,25.0,50.0,50.0,0.0,75.0,50.0,25.0,0.0,0.0,25.0,25.0,50.0,0.0,0.0,25.0,50.0,0.0,25.0,50.0,50.0,0.0,50.0,75.0,0.0,0.0,0.0,50.0,0.0,0.0,0.0,0.0,200.0,0.0,25.0,25.0,0.0,0.0,75.0,50.0,25.0,0.0,50.0,0.0,0.0,0.0,25.0,50.0,50.0,25.0,75.0,0.0,50.0,0.0,0.0,25.0,50.0,25.0,50.0,50.0,0.0,50.0,75.0,0.0,25.0,0.0,50.0,75.0,0.0,25.0,0.0,0.0,50.0,25.0,25.0,0.0,25.0,25.0,50.0,0.0,0.0,0.0,0.0,50.0,75.0,25.0,25.0,0.0,50.0,50.0,0.0,0.0,25.0,50.0,50.0,75.0,0.0,0.0,0.0,25.0,0.0,50.0,0.0,25.0,25.0,50.0,50.0,0.0,25.0,25.0,0.0,0.0,0.0,50.0,75.0,0.0,0.0,25.0,0.0,0.0,0.0,50.0,50.0,50.0,0.0,50.0,50.0,25.0,25.0,0.0,0.0,0.0,25.0,50.0,25.0,50.0,0.0,0.0,0.0,0.0,25.0,25.0,0.0,0.0,50.0,0.0,50.0,50.0,25.0,50.0,0.0,50.0,0.0,75.0,25.0,50.0,0.0,0.0,75.0,25.0,50.0,0.0,0.0,0.0,25.0,75.0,0.0,0.0,25.0,25.0,0.0,0.0,25.0,0.0,0.0,0.0,0.0,0.0,25.0,0.0,50.0,25.0,0.0,0.0,25.0,0.0,0.0,0.0,0.0,0.0,0.0,0.0,25.0,50.0,0.0,25.0,0.0,75.0,50.0,25.0,50.0,0.0,0.0,0.0,25.0,25.0,50.0,0.0,50.0,0.0,0.0,75.0,0.0,50.0,50.0,0.0,50.0,0.0,0.0,25.0,50.0,0.0,25.0,0.0,0.0,0.0,25.0,0.0,75.0,0.0,0.0,25.0,75.0,0.0,25.0,0.0,50.0,75.0,0.0,25.0,25.0,50.0,50.0,25.0,0.0,25.0,50.0,0.0,25.0,0.0,0.0,25.0,75.0,0.0,0.0,0.0,0.0,50.0,0.0,25.0,50.0,25.0,50.0,25.0,0.0,50.0,0.0,50.0,50.0,50.0,50.0,25.0,0.0,0.0,0.0,25.0,0.0,0.0,25.0,0.0,50.0,0.0,0.0,25.0,50.0,25.0,0.0,0.0,0.0,0.0,50.0,0.0,0.0,25.0,50.0,0.0,50.0,75.0,0.0,0.0,0.0,50.0,50.0,0.0,75.0,75.0,0.0,0.0,0.0,0.0,0.0,75.0,0.0,25.0,50.0,0.0,50.0,0.0,0.0,25.0,25.0,0.0,50.0],\"x0\":\" \",\"xaxis\":\"x\",\"y\":[0.88,0.66,0.89,0.51,0.76,0.9,0.54,0.9,0.79,0.55,0.92,0.93,0.93,0.64,0.54,0.92,0.54,0.5,0.98,0.89,0.83,0.71,0.84,0.98,0.88,0.91,0.95,0.84,0.65,0.91,0.57,0.68,0.55,0.9,0.94,0.64,0.87,0.82,0.87,0.63,0.83,0.83,0.59,0.87,0.77,0.86,0.91,0.71,0.81,0.81,0.71,0.71,0.52,0.65,0.84,0.84,0.99,0.91,0.71,0.8,0.95,0.91,0.81,0.93,0.85,0.77,0.84,0.87,0.8,0.52,0.54,0.88,0.64,0.87,0.77,0.68,0.94,0.7,0.79,0.77,0.86,0.81,0.88,0.78,0.64,0.88,0.78,0.71,0.97,0.77,0.8,0.94,0.52,0.76,0.73,0.73,0.96,0.91,0.8,0.77,0.81,0.71,0.95,0.64,0.94,0.87,0.63,0.88,0.9,0.94,0.91,0.9,0.8,0.85,0.89,0.53,0.87,0.5,0.93,0.72,0.92,0.62,0.93,0.91,0.63,0.77,0.51,0.94,0.73,0.78,0.55,0.83,0.94,0.95,0.59,0.82,0.9,0.77,0.83,0.65,0.54,0.51,0.81,0.87,0.75,0.57,0.58,0.81,0.75,0.6,0.53,0.93,0.89,0.7,0.74,0.92,0.93,0.95,0.6,0.93,0.81,0.95,0.72,0.9,0.95,0.91,0.85,0.9,0.92,0.6,0.89,0.67,0.51,0.78,0.95,0.68,0.68,0.94,0.78,0.9,0.83,0.8,0.96,0.91,0.96,0.94,0.63,0.73,0.87,0.76,0.68,0.94,0.95,0.62,0.91,0.67,0.94,0.79,0.86,0.83,0.73,0.71,0.87,0.5,0.92,0.79,0.98,0.93,0.88,0.77,0.86,0.54,0.8,0.86,0.61,0.72,0.72,0.55,0.96,0.58,0.77,0.85,0.95,0.69,0.95,0.82,0.93,0.82,0.94,0.75,0.91,0.65,0.87,0.84,0.85,0.91,0.71,0.82,0.77,0.95,0.95,0.76,0.85,0.75,0.92,0.78,0.91,0.85,0.95,0.66,0.63,0.86,0.54,0.95,0.72,0.52,0.93,0.52,0.61,0.79,0.94,0.76,0.76,0.78,0.94,0.87,0.55,0.93,0.93,0.94,0.78,0.94,0.5,0.93,0.73,0.9,0.87,0.93,0.9,0.67,0.9,0.9,0.98,0.66,0.68,0.56,0.62,0.52,0.96,0.81,0.84,0.93,0.87,0.86,0.89,0.94,0.84,0.86,0.75,0.6,0.93,0.75,0.81,0.78,0.84,0.9,0.9,0.67,0.93,0.8,0.63,0.9,0.9,0.86,0.51,0.71,0.87,0.7,0.85,0.87,0.6,0.83,0.8,0.93,0.75,0.5,0.5,0.67,0.96,0.52,0.68,0.72,0.56,0.91,0.85,0.72,0.9,0.77,0.89,0.9,0.85,0.95,0.51,0.9,0.9,0.51,0.84,0.82,0.88,0.79,0.64,0.84,0.86,0.71,0.9,0.82,0.95,0.95,0.54,0.95,0.53,0.92,0.85,0.92,0.53,0.75,0.82,0.74,0.87,0.72,0.87,0.53,0.72,0.87,0.66,0.66,0.72,0.81,0.88,0.94,0.83,0.91,0.95,0.9,0.95,0.9,0.62,0.93,0.79,0.91,0.81,0.52,0.52,0.84,0.67,0.83,0.63,0.64,0.91,0.82,0.92,0.92,0.93,0.87,0.64,0.9,0.82,0.86,0.73,0.9,0.68,0.82,0.74,0.88,0.72,0.67,0.87,0.66,0.66,0.87,0.51,0.79,0.8,0.55,0.85,0.88,0.88,0.93,0.63,0.92,0.8,0.92,0.77,0.9,0.9,0.96,0.72,0.86,0.9,0.5,0.88,0.6,0.68,0.67,0.58,0.53,0.5,0.91,0.74,0.55,0.76,0.63],\"y0\":\" \",\"yaxis\":\"y\",\"type\":\"box\"}],                        {\"template\":{\"data\":{\"histogram2dcontour\":[{\"type\":\"histogram2dcontour\",\"colorbar\":{\"outlinewidth\":0,\"ticks\":\"\"},\"colorscale\":[[0.0,\"#0d0887\"],[0.1111111111111111,\"#46039f\"],[0.2222222222222222,\"#7201a8\"],[0.3333333333333333,\"#9c179e\"],[0.4444444444444444,\"#bd3786\"],[0.5555555555555556,\"#d8576b\"],[0.6666666666666666,\"#ed7953\"],[0.7777777777777778,\"#fb9f3a\"],[0.8888888888888888,\"#fdca26\"],[1.0,\"#f0f921\"]]}],\"choropleth\":[{\"type\":\"choropleth\",\"colorbar\":{\"outlinewidth\":0,\"ticks\":\"\"}}],\"histogram2d\":[{\"type\":\"histogram2d\",\"colorbar\":{\"outlinewidth\":0,\"ticks\":\"\"},\"colorscale\":[[0.0,\"#0d0887\"],[0.1111111111111111,\"#46039f\"],[0.2222222222222222,\"#7201a8\"],[0.3333333333333333,\"#9c179e\"],[0.4444444444444444,\"#bd3786\"],[0.5555555555555556,\"#d8576b\"],[0.6666666666666666,\"#ed7953\"],[0.7777777777777778,\"#fb9f3a\"],[0.8888888888888888,\"#fdca26\"],[1.0,\"#f0f921\"]]}],\"heatmap\":[{\"type\":\"heatmap\",\"colorbar\":{\"outlinewidth\":0,\"ticks\":\"\"},\"colorscale\":[[0.0,\"#0d0887\"],[0.1111111111111111,\"#46039f\"],[0.2222222222222222,\"#7201a8\"],[0.3333333333333333,\"#9c179e\"],[0.4444444444444444,\"#bd3786\"],[0.5555555555555556,\"#d8576b\"],[0.6666666666666666,\"#ed7953\"],[0.7777777777777778,\"#fb9f3a\"],[0.8888888888888888,\"#fdca26\"],[1.0,\"#f0f921\"]]}],\"heatmapgl\":[{\"type\":\"heatmapgl\",\"colorbar\":{\"outlinewidth\":0,\"ticks\":\"\"},\"colorscale\":[[0.0,\"#0d0887\"],[0.1111111111111111,\"#46039f\"],[0.2222222222222222,\"#7201a8\"],[0.3333333333333333,\"#9c179e\"],[0.4444444444444444,\"#bd3786\"],[0.5555555555555556,\"#d8576b\"],[0.6666666666666666,\"#ed7953\"],[0.7777777777777778,\"#fb9f3a\"],[0.8888888888888888,\"#fdca26\"],[1.0,\"#f0f921\"]]}],\"contourcarpet\":[{\"type\":\"contourcarpet\",\"colorbar\":{\"outlinewidth\":0,\"ticks\":\"\"}}],\"contour\":[{\"type\":\"contour\",\"colorbar\":{\"outlinewidth\":0,\"ticks\":\"\"},\"colorscale\":[[0.0,\"#0d0887\"],[0.1111111111111111,\"#46039f\"],[0.2222222222222222,\"#7201a8\"],[0.3333333333333333,\"#9c179e\"],[0.4444444444444444,\"#bd3786\"],[0.5555555555555556,\"#d8576b\"],[0.6666666666666666,\"#ed7953\"],[0.7777777777777778,\"#fb9f3a\"],[0.8888888888888888,\"#fdca26\"],[1.0,\"#f0f921\"]]}],\"surface\":[{\"type\":\"surface\",\"colorbar\":{\"outlinewidth\":0,\"ticks\":\"\"},\"colorscale\":[[0.0,\"#0d0887\"],[0.1111111111111111,\"#46039f\"],[0.2222222222222222,\"#7201a8\"],[0.3333333333333333,\"#9c179e\"],[0.4444444444444444,\"#bd3786\"],[0.5555555555555556,\"#d8576b\"],[0.6666666666666666,\"#ed7953\"],[0.7777777777777778,\"#fb9f3a\"],[0.8888888888888888,\"#fdca26\"],[1.0,\"#f0f921\"]]}],\"mesh3d\":[{\"type\":\"mesh3d\",\"colorbar\":{\"outlinewidth\":0,\"ticks\":\"\"}}],\"scatter\":[{\"fillpattern\":{\"fillmode\":\"overlay\",\"size\":10,\"solidity\":0.2},\"type\":\"scatter\"}],\"parcoords\":[{\"type\":\"parcoords\",\"line\":{\"colorbar\":{\"outlinewidth\":0,\"ticks\":\"\"}}}],\"scatterpolargl\":[{\"type\":\"scatterpolargl\",\"marker\":{\"colorbar\":{\"outlinewidth\":0,\"ticks\":\"\"}}}],\"bar\":[{\"error_x\":{\"color\":\"#2a3f5f\"},\"error_y\":{\"color\":\"#2a3f5f\"},\"marker\":{\"line\":{\"color\":\"#E5ECF6\",\"width\":0.5},\"pattern\":{\"fillmode\":\"overlay\",\"size\":10,\"solidity\":0.2}},\"type\":\"bar\"}],\"scattergeo\":[{\"type\":\"scattergeo\",\"marker\":{\"colorbar\":{\"outlinewidth\":0,\"ticks\":\"\"}}}],\"scatterpolar\":[{\"type\":\"scatterpolar\",\"marker\":{\"colorbar\":{\"outlinewidth\":0,\"ticks\":\"\"}}}],\"histogram\":[{\"marker\":{\"pattern\":{\"fillmode\":\"overlay\",\"size\":10,\"solidity\":0.2}},\"type\":\"histogram\"}],\"scattergl\":[{\"type\":\"scattergl\",\"marker\":{\"colorbar\":{\"outlinewidth\":0,\"ticks\":\"\"}}}],\"scatter3d\":[{\"type\":\"scatter3d\",\"line\":{\"colorbar\":{\"outlinewidth\":0,\"ticks\":\"\"}},\"marker\":{\"colorbar\":{\"outlinewidth\":0,\"ticks\":\"\"}}}],\"scattermapbox\":[{\"type\":\"scattermapbox\",\"marker\":{\"colorbar\":{\"outlinewidth\":0,\"ticks\":\"\"}}}],\"scatterternary\":[{\"type\":\"scatterternary\",\"marker\":{\"colorbar\":{\"outlinewidth\":0,\"ticks\":\"\"}}}],\"scattercarpet\":[{\"type\":\"scattercarpet\",\"marker\":{\"colorbar\":{\"outlinewidth\":0,\"ticks\":\"\"}}}],\"carpet\":[{\"aaxis\":{\"endlinecolor\":\"#2a3f5f\",\"gridcolor\":\"white\",\"linecolor\":\"white\",\"minorgridcolor\":\"white\",\"startlinecolor\":\"#2a3f5f\"},\"baxis\":{\"endlinecolor\":\"#2a3f5f\",\"gridcolor\":\"white\",\"linecolor\":\"white\",\"minorgridcolor\":\"white\",\"startlinecolor\":\"#2a3f5f\"},\"type\":\"carpet\"}],\"table\":[{\"cells\":{\"fill\":{\"color\":\"#EBF0F8\"},\"line\":{\"color\":\"white\"}},\"header\":{\"fill\":{\"color\":\"#C8D4E3\"},\"line\":{\"color\":\"white\"}},\"type\":\"table\"}],\"barpolar\":[{\"marker\":{\"line\":{\"color\":\"#E5ECF6\",\"width\":0.5},\"pattern\":{\"fillmode\":\"overlay\",\"size\":10,\"solidity\":0.2}},\"type\":\"barpolar\"}],\"pie\":[{\"automargin\":true,\"type\":\"pie\"}]},\"layout\":{\"autotypenumbers\":\"strict\",\"colorway\":[\"#636efa\",\"#EF553B\",\"#00cc96\",\"#ab63fa\",\"#FFA15A\",\"#19d3f3\",\"#FF6692\",\"#B6E880\",\"#FF97FF\",\"#FECB52\"],\"font\":{\"color\":\"#2a3f5f\"},\"hovermode\":\"closest\",\"hoverlabel\":{\"align\":\"left\"},\"paper_bgcolor\":\"white\",\"plot_bgcolor\":\"#E5ECF6\",\"polar\":{\"bgcolor\":\"#E5ECF6\",\"angularaxis\":{\"gridcolor\":\"white\",\"linecolor\":\"white\",\"ticks\":\"\"},\"radialaxis\":{\"gridcolor\":\"white\",\"linecolor\":\"white\",\"ticks\":\"\"}},\"ternary\":{\"bgcolor\":\"#E5ECF6\",\"aaxis\":{\"gridcolor\":\"white\",\"linecolor\":\"white\",\"ticks\":\"\"},\"baxis\":{\"gridcolor\":\"white\",\"linecolor\":\"white\",\"ticks\":\"\"},\"caxis\":{\"gridcolor\":\"white\",\"linecolor\":\"white\",\"ticks\":\"\"}},\"coloraxis\":{\"colorbar\":{\"outlinewidth\":0,\"ticks\":\"\"}},\"colorscale\":{\"sequential\":[[0.0,\"#0d0887\"],[0.1111111111111111,\"#46039f\"],[0.2222222222222222,\"#7201a8\"],[0.3333333333333333,\"#9c179e\"],[0.4444444444444444,\"#bd3786\"],[0.5555555555555556,\"#d8576b\"],[0.6666666666666666,\"#ed7953\"],[0.7777777777777778,\"#fb9f3a\"],[0.8888888888888888,\"#fdca26\"],[1.0,\"#f0f921\"]],\"sequentialminus\":[[0.0,\"#0d0887\"],[0.1111111111111111,\"#46039f\"],[0.2222222222222222,\"#7201a8\"],[0.3333333333333333,\"#9c179e\"],[0.4444444444444444,\"#bd3786\"],[0.5555555555555556,\"#d8576b\"],[0.6666666666666666,\"#ed7953\"],[0.7777777777777778,\"#fb9f3a\"],[0.8888888888888888,\"#fdca26\"],[1.0,\"#f0f921\"]],\"diverging\":[[0,\"#8e0152\"],[0.1,\"#c51b7d\"],[0.2,\"#de77ae\"],[0.3,\"#f1b6da\"],[0.4,\"#fde0ef\"],[0.5,\"#f7f7f7\"],[0.6,\"#e6f5d0\"],[0.7,\"#b8e186\"],[0.8,\"#7fbc41\"],[0.9,\"#4d9221\"],[1,\"#276419\"]]},\"xaxis\":{\"gridcolor\":\"white\",\"linecolor\":\"white\",\"ticks\":\"\",\"title\":{\"standoff\":15},\"zerolinecolor\":\"white\",\"automargin\":true,\"zerolinewidth\":2},\"yaxis\":{\"gridcolor\":\"white\",\"linecolor\":\"white\",\"ticks\":\"\",\"title\":{\"standoff\":15},\"zerolinecolor\":\"white\",\"automargin\":true,\"zerolinewidth\":2},\"scene\":{\"xaxis\":{\"backgroundcolor\":\"#E5ECF6\",\"gridcolor\":\"white\",\"linecolor\":\"white\",\"showbackground\":true,\"ticks\":\"\",\"zerolinecolor\":\"white\",\"gridwidth\":2},\"yaxis\":{\"backgroundcolor\":\"#E5ECF6\",\"gridcolor\":\"white\",\"linecolor\":\"white\",\"showbackground\":true,\"ticks\":\"\",\"zerolinecolor\":\"white\",\"gridwidth\":2},\"zaxis\":{\"backgroundcolor\":\"#E5ECF6\",\"gridcolor\":\"white\",\"linecolor\":\"white\",\"showbackground\":true,\"ticks\":\"\",\"zerolinecolor\":\"white\",\"gridwidth\":2}},\"shapedefaults\":{\"line\":{\"color\":\"#2a3f5f\"}},\"annotationdefaults\":{\"arrowcolor\":\"#2a3f5f\",\"arrowhead\":0,\"arrowwidth\":1},\"geo\":{\"bgcolor\":\"white\",\"landcolor\":\"#E5ECF6\",\"subunitcolor\":\"white\",\"showland\":true,\"showlakes\":true,\"lakecolor\":\"white\"},\"title\":{\"x\":0.05},\"mapbox\":{\"style\":\"light\"}}},\"xaxis\":{\"anchor\":\"y\",\"domain\":[0.0,1.0],\"title\":{\"text\":\"Caffeine consumption\"}},\"yaxis\":{\"anchor\":\"x\",\"domain\":[0.0,1.0],\"title\":{\"text\":\"Sleep efficiency\"}},\"legend\":{\"tracegroupgap\":0},\"title\":{\"text\":\"Sleep Efficiency by Caffeine consumption\"},\"boxmode\":\"group\"},                        {\"responsive\": true}                    ).then(function(){\n",
       "                            \n",
       "var gd = document.getElementById('8cb54a5b-e8bd-4cab-bcb4-1003bbbaa184');\n",
       "var x = new MutationObserver(function (mutations, observer) {{\n",
       "        var display = window.getComputedStyle(gd).display;\n",
       "        if (!display || display === 'none') {{\n",
       "            console.log([gd, 'removed!']);\n",
       "            Plotly.purge(gd);\n",
       "            observer.disconnect();\n",
       "        }}\n",
       "}});\n",
       "\n",
       "// Listen for the removal of the full notebook cells\n",
       "var notebookContainer = gd.closest('#notebook-container');\n",
       "if (notebookContainer) {{\n",
       "    x.observe(notebookContainer, {childList: true});\n",
       "}}\n",
       "\n",
       "// Listen for the clearing of the current output cell\n",
       "var outputEl = gd.closest('.output');\n",
       "if (outputEl) {{\n",
       "    x.observe(outputEl, {childList: true});\n",
       "}}\n",
       "\n",
       "                        })                };                });            </script>        </div>"
      ]
     },
     "metadata": {},
     "output_type": "display_data"
    }
   ],
   "source": [
    "fig = px.box(df, y = \"Sleep efficiency\", x = \"Caffeine consumption\", title = \"Sleep Efficiency by Caffeine consumption\")\n",
    "fig.show()"
   ]
  },
  {
   "cell_type": "code",
   "execution_count": 151,
   "id": "6fa518f7-aea1-4d9c-bc22-2b563ef95292",
   "metadata": {},
   "outputs": [
    {
     "data": {
      "application/vnd.plotly.v1+json": {
       "config": {
        "plotlyServerURL": "https://plot.ly"
       },
       "data": [
        {
         "alignmentgroup": "True",
         "hovertemplate": "Alcohol consumption=%{x}<br>Sleep efficiency=%{y}<extra></extra>",
         "legendgroup": "",
         "marker": {
          "color": "#636efa"
         },
         "name": "",
         "notched": false,
         "offsetgroup": "",
         "orientation": "v",
         "showlegend": false,
         "type": "box",
         "x": [
          0,
          3,
          0,
          5,
          3,
          0,
          0,
          0,
          0,
          0,
          0,
          0,
          0,
          0,
          1,
          2,
          2,
          2,
          1,
          0,
          0,
          4,
          0,
          0,
          5,
          0,
          0,
          0,
          0,
          3,
          1,
          0,
          4,
          1,
          0,
          3,
          0,
          0,
          0,
          3,
          0,
          0,
          0,
          0,
          1,
          0,
          0,
          1,
          0,
          5,
          0,
          2,
          0,
          0,
          0,
          0,
          3,
          0,
          0,
          0,
          0,
          0,
          0,
          0,
          0,
          3,
          4,
          2,
          0,
          2,
          3,
          2,
          4,
          0,
          0,
          0,
          0,
          5,
          0,
          0,
          0,
          0,
          0,
          0,
          3,
          0,
          0,
          3,
          0,
          0,
          0,
          3,
          3,
          0,
          3,
          2,
          0,
          0,
          0,
          0,
          1,
          1,
          0,
          5,
          0,
          0,
          5,
          0,
          2,
          0,
          0,
          0,
          0,
          0,
          0,
          5,
          0,
          5,
          0,
          0,
          0,
          0,
          0,
          0,
          2,
          0,
          0,
          1,
          1,
          0,
          1,
          0,
          0,
          0,
          2,
          1,
          3,
          0,
          3,
          2,
          0,
          5,
          3,
          3,
          1,
          5,
          0,
          1,
          0,
          0,
          2,
          2,
          1,
          0,
          1,
          0,
          0,
          0,
          0,
          0,
          0,
          0,
          0,
          1,
          0,
          5,
          0,
          0,
          1,
          0,
          3,
          3,
          0,
          0,
          0,
          0,
          2,
          0,
          1,
          0,
          0,
          0,
          0,
          0,
          0,
          0,
          3,
          0,
          0,
          0,
          4,
          0,
          0,
          0,
          0,
          5,
          0,
          0,
          1,
          0,
          4,
          0,
          1,
          3,
          3,
          1,
          1,
          0,
          0,
          0,
          0,
          0,
          2,
          0,
          2,
          5,
          5,
          3,
          0,
          0,
          0,
          1,
          1,
          0,
          1,
          3,
          0,
          0,
          0,
          0,
          0,
          0,
          1,
          0,
          0,
          0,
          3,
          0,
          1,
          0,
          0,
          0,
          0,
          0,
          0,
          3,
          1,
          0,
          0,
          4,
          2,
          0,
          5,
          0,
          5,
          0,
          1,
          5,
          0,
          0,
          3,
          0,
          0,
          0,
          0,
          0,
          3,
          3,
          3,
          0,
          0,
          0,
          3,
          0,
          5,
          4,
          1,
          0,
          0,
          2,
          0,
          0,
          0,
          2,
          0,
          5,
          2,
          2,
          1,
          0,
          0,
          0,
          0,
          0,
          1,
          0,
          0,
          1,
          1,
          4,
          3,
          0,
          5,
          0,
          4,
          0,
          5,
          1,
          5,
          0,
          1,
          0,
          3,
          0,
          0,
          0,
          0,
          5,
          0,
          4,
          2,
          0,
          0,
          0,
          0,
          4,
          1,
          1,
          1,
          2,
          0,
          0,
          0,
          0,
          1,
          4,
          0,
          1,
          0,
          0,
          0,
          0,
          5,
          0,
          3,
          2,
          0,
          4,
          0,
          0,
          1,
          0,
          5,
          2,
          5,
          0,
          0,
          0,
          2,
          0,
          4,
          0,
          0,
          1,
          0,
          0,
          0,
          0,
          0,
          1,
          1,
          2,
          1,
          0,
          1,
          3,
          2,
          0,
          5,
          3,
          1,
          1,
          0,
          0,
          0,
          0,
          5,
          0,
          0,
          2,
          0,
          4,
          3,
          0,
          5,
          0,
          1,
          2,
          0,
          0,
          0,
          0,
          0,
          3,
          3,
          0,
          0,
          1,
          2,
          0,
          4,
          0,
          0,
          0,
          4,
          4,
          0,
          3,
          2,
          0,
          0,
          0,
          1,
          4,
          4,
          0,
          0,
          3,
          5,
          0,
          0,
          1,
          3,
          0,
          2,
          0,
          3,
          3,
          3,
          3,
          0,
          3,
          4,
          2,
          2,
          2,
          4,
          0,
          0,
          3,
          0,
          0
         ],
         "x0": " ",
         "xaxis": "x",
         "y": [
          0.88,
          0.66,
          0.89,
          0.51,
          0.76,
          0.9,
          0.54,
          0.9,
          0.79,
          0.55,
          0.92,
          0.93,
          0.93,
          0.64,
          0.54,
          0.92,
          0.54,
          0.5,
          0.98,
          0.89,
          0.83,
          0.71,
          0.84,
          0.98,
          0.88,
          0.91,
          0.95,
          0.84,
          0.65,
          0.91,
          0.57,
          0.68,
          0.55,
          0.9,
          0.94,
          0.64,
          0.87,
          0.82,
          0.87,
          0.63,
          0.83,
          0.83,
          0.59,
          0.87,
          0.77,
          0.86,
          0.91,
          0.71,
          0.81,
          0.81,
          0.71,
          0.71,
          0.52,
          0.65,
          0.84,
          0.84,
          0.99,
          0.91,
          0.71,
          0.8,
          0.95,
          0.91,
          0.81,
          0.93,
          0.85,
          0.77,
          0.84,
          0.87,
          0.8,
          0.52,
          0.54,
          0.88,
          0.64,
          0.87,
          0.77,
          0.68,
          0.94,
          0.7,
          0.79,
          0.77,
          0.86,
          0.81,
          0.88,
          0.78,
          0.64,
          0.88,
          0.78,
          0.71,
          0.97,
          0.77,
          0.8,
          0.94,
          0.52,
          0.76,
          0.73,
          0.73,
          0.96,
          0.91,
          0.8,
          0.77,
          0.81,
          0.71,
          0.95,
          0.64,
          0.94,
          0.87,
          0.63,
          0.88,
          0.9,
          0.94,
          0.91,
          0.9,
          0.8,
          0.85,
          0.89,
          0.53,
          0.87,
          0.5,
          0.93,
          0.72,
          0.92,
          0.62,
          0.93,
          0.91,
          0.63,
          0.77,
          0.51,
          0.94,
          0.73,
          0.78,
          0.55,
          0.83,
          0.94,
          0.95,
          0.59,
          0.82,
          0.9,
          0.77,
          0.83,
          0.65,
          0.54,
          0.51,
          0.81,
          0.87,
          0.75,
          0.57,
          0.58,
          0.81,
          0.75,
          0.6,
          0.53,
          0.93,
          0.89,
          0.7,
          0.74,
          0.92,
          0.93,
          0.95,
          0.6,
          0.93,
          0.81,
          0.95,
          0.72,
          0.9,
          0.95,
          0.91,
          0.85,
          0.9,
          0.92,
          0.6,
          0.89,
          0.67,
          0.51,
          0.78,
          0.95,
          0.68,
          0.68,
          0.94,
          0.78,
          0.9,
          0.83,
          0.8,
          0.96,
          0.91,
          0.96,
          0.94,
          0.63,
          0.73,
          0.87,
          0.76,
          0.68,
          0.94,
          0.95,
          0.62,
          0.91,
          0.67,
          0.94,
          0.79,
          0.86,
          0.83,
          0.73,
          0.71,
          0.87,
          0.5,
          0.92,
          0.79,
          0.98,
          0.93,
          0.88,
          0.77,
          0.86,
          0.54,
          0.8,
          0.86,
          0.61,
          0.72,
          0.72,
          0.55,
          0.96,
          0.58,
          0.77,
          0.85,
          0.95,
          0.69,
          0.95,
          0.82,
          0.93,
          0.82,
          0.94,
          0.75,
          0.91,
          0.65,
          0.87,
          0.84,
          0.85,
          0.91,
          0.71,
          0.82,
          0.77,
          0.95,
          0.95,
          0.76,
          0.85,
          0.75,
          0.92,
          0.78,
          0.91,
          0.85,
          0.95,
          0.66,
          0.63,
          0.86,
          0.54,
          0.95,
          0.72,
          0.52,
          0.93,
          0.52,
          0.61,
          0.79,
          0.94,
          0.76,
          0.76,
          0.78,
          0.94,
          0.87,
          0.55,
          0.93,
          0.93,
          0.94,
          0.78,
          0.94,
          0.5,
          0.93,
          0.73,
          0.9,
          0.87,
          0.93,
          0.9,
          0.67,
          0.9,
          0.9,
          0.98,
          0.66,
          0.68,
          0.56,
          0.62,
          0.52,
          0.96,
          0.81,
          0.84,
          0.93,
          0.87,
          0.86,
          0.89,
          0.94,
          0.84,
          0.86,
          0.75,
          0.6,
          0.93,
          0.75,
          0.81,
          0.78,
          0.84,
          0.9,
          0.9,
          0.67,
          0.93,
          0.8,
          0.63,
          0.9,
          0.9,
          0.86,
          0.51,
          0.71,
          0.87,
          0.7,
          0.85,
          0.87,
          0.6,
          0.83,
          0.8,
          0.93,
          0.75,
          0.5,
          0.5,
          0.67,
          0.96,
          0.52,
          0.68,
          0.72,
          0.56,
          0.91,
          0.85,
          0.72,
          0.9,
          0.77,
          0.89,
          0.9,
          0.85,
          0.95,
          0.51,
          0.9,
          0.9,
          0.51,
          0.84,
          0.82,
          0.88,
          0.79,
          0.64,
          0.84,
          0.86,
          0.71,
          0.9,
          0.82,
          0.95,
          0.95,
          0.54,
          0.95,
          0.53,
          0.92,
          0.85,
          0.92,
          0.53,
          0.75,
          0.82,
          0.74,
          0.87,
          0.72,
          0.87,
          0.53,
          0.72,
          0.87,
          0.66,
          0.66,
          0.72,
          0.81,
          0.88,
          0.94,
          0.83,
          0.91,
          0.95,
          0.9,
          0.95,
          0.9,
          0.62,
          0.93,
          0.79,
          0.91,
          0.81,
          0.52,
          0.52,
          0.84,
          0.67,
          0.83,
          0.63,
          0.64,
          0.91,
          0.82,
          0.92,
          0.92,
          0.93,
          0.87,
          0.64,
          0.9,
          0.82,
          0.86,
          0.73,
          0.9,
          0.68,
          0.82,
          0.74,
          0.88,
          0.72,
          0.67,
          0.87,
          0.66,
          0.66,
          0.87,
          0.51,
          0.79,
          0.8,
          0.55,
          0.85,
          0.88,
          0.88,
          0.93,
          0.63,
          0.92,
          0.8,
          0.92,
          0.77,
          0.9,
          0.9,
          0.96,
          0.72,
          0.86,
          0.9,
          0.5,
          0.88,
          0.6,
          0.68,
          0.67,
          0.58,
          0.53,
          0.5,
          0.91,
          0.74,
          0.55,
          0.76,
          0.63
         ],
         "y0": " ",
         "yaxis": "y"
        }
       ],
       "layout": {
        "autosize": true,
        "boxmode": "group",
        "legend": {
         "tracegroupgap": 0
        },
        "template": {
         "data": {
          "bar": [
           {
            "error_x": {
             "color": "#2a3f5f"
            },
            "error_y": {
             "color": "#2a3f5f"
            },
            "marker": {
             "line": {
              "color": "#E5ECF6",
              "width": 0.5
             },
             "pattern": {
              "fillmode": "overlay",
              "size": 10,
              "solidity": 0.2
             }
            },
            "type": "bar"
           }
          ],
          "barpolar": [
           {
            "marker": {
             "line": {
              "color": "#E5ECF6",
              "width": 0.5
             },
             "pattern": {
              "fillmode": "overlay",
              "size": 10,
              "solidity": 0.2
             }
            },
            "type": "barpolar"
           }
          ],
          "carpet": [
           {
            "aaxis": {
             "endlinecolor": "#2a3f5f",
             "gridcolor": "white",
             "linecolor": "white",
             "minorgridcolor": "white",
             "startlinecolor": "#2a3f5f"
            },
            "baxis": {
             "endlinecolor": "#2a3f5f",
             "gridcolor": "white",
             "linecolor": "white",
             "minorgridcolor": "white",
             "startlinecolor": "#2a3f5f"
            },
            "type": "carpet"
           }
          ],
          "choropleth": [
           {
            "colorbar": {
             "outlinewidth": 0,
             "ticks": ""
            },
            "type": "choropleth"
           }
          ],
          "contour": [
           {
            "colorbar": {
             "outlinewidth": 0,
             "ticks": ""
            },
            "colorscale": [
             [
              0,
              "#0d0887"
             ],
             [
              0.1111111111111111,
              "#46039f"
             ],
             [
              0.2222222222222222,
              "#7201a8"
             ],
             [
              0.3333333333333333,
              "#9c179e"
             ],
             [
              0.4444444444444444,
              "#bd3786"
             ],
             [
              0.5555555555555556,
              "#d8576b"
             ],
             [
              0.6666666666666666,
              "#ed7953"
             ],
             [
              0.7777777777777778,
              "#fb9f3a"
             ],
             [
              0.8888888888888888,
              "#fdca26"
             ],
             [
              1,
              "#f0f921"
             ]
            ],
            "type": "contour"
           }
          ],
          "contourcarpet": [
           {
            "colorbar": {
             "outlinewidth": 0,
             "ticks": ""
            },
            "type": "contourcarpet"
           }
          ],
          "heatmap": [
           {
            "colorbar": {
             "outlinewidth": 0,
             "ticks": ""
            },
            "colorscale": [
             [
              0,
              "#0d0887"
             ],
             [
              0.1111111111111111,
              "#46039f"
             ],
             [
              0.2222222222222222,
              "#7201a8"
             ],
             [
              0.3333333333333333,
              "#9c179e"
             ],
             [
              0.4444444444444444,
              "#bd3786"
             ],
             [
              0.5555555555555556,
              "#d8576b"
             ],
             [
              0.6666666666666666,
              "#ed7953"
             ],
             [
              0.7777777777777778,
              "#fb9f3a"
             ],
             [
              0.8888888888888888,
              "#fdca26"
             ],
             [
              1,
              "#f0f921"
             ]
            ],
            "type": "heatmap"
           }
          ],
          "heatmapgl": [
           {
            "colorbar": {
             "outlinewidth": 0,
             "ticks": ""
            },
            "colorscale": [
             [
              0,
              "#0d0887"
             ],
             [
              0.1111111111111111,
              "#46039f"
             ],
             [
              0.2222222222222222,
              "#7201a8"
             ],
             [
              0.3333333333333333,
              "#9c179e"
             ],
             [
              0.4444444444444444,
              "#bd3786"
             ],
             [
              0.5555555555555556,
              "#d8576b"
             ],
             [
              0.6666666666666666,
              "#ed7953"
             ],
             [
              0.7777777777777778,
              "#fb9f3a"
             ],
             [
              0.8888888888888888,
              "#fdca26"
             ],
             [
              1,
              "#f0f921"
             ]
            ],
            "type": "heatmapgl"
           }
          ],
          "histogram": [
           {
            "marker": {
             "pattern": {
              "fillmode": "overlay",
              "size": 10,
              "solidity": 0.2
             }
            },
            "type": "histogram"
           }
          ],
          "histogram2d": [
           {
            "colorbar": {
             "outlinewidth": 0,
             "ticks": ""
            },
            "colorscale": [
             [
              0,
              "#0d0887"
             ],
             [
              0.1111111111111111,
              "#46039f"
             ],
             [
              0.2222222222222222,
              "#7201a8"
             ],
             [
              0.3333333333333333,
              "#9c179e"
             ],
             [
              0.4444444444444444,
              "#bd3786"
             ],
             [
              0.5555555555555556,
              "#d8576b"
             ],
             [
              0.6666666666666666,
              "#ed7953"
             ],
             [
              0.7777777777777778,
              "#fb9f3a"
             ],
             [
              0.8888888888888888,
              "#fdca26"
             ],
             [
              1,
              "#f0f921"
             ]
            ],
            "type": "histogram2d"
           }
          ],
          "histogram2dcontour": [
           {
            "colorbar": {
             "outlinewidth": 0,
             "ticks": ""
            },
            "colorscale": [
             [
              0,
              "#0d0887"
             ],
             [
              0.1111111111111111,
              "#46039f"
             ],
             [
              0.2222222222222222,
              "#7201a8"
             ],
             [
              0.3333333333333333,
              "#9c179e"
             ],
             [
              0.4444444444444444,
              "#bd3786"
             ],
             [
              0.5555555555555556,
              "#d8576b"
             ],
             [
              0.6666666666666666,
              "#ed7953"
             ],
             [
              0.7777777777777778,
              "#fb9f3a"
             ],
             [
              0.8888888888888888,
              "#fdca26"
             ],
             [
              1,
              "#f0f921"
             ]
            ],
            "type": "histogram2dcontour"
           }
          ],
          "mesh3d": [
           {
            "colorbar": {
             "outlinewidth": 0,
             "ticks": ""
            },
            "type": "mesh3d"
           }
          ],
          "parcoords": [
           {
            "line": {
             "colorbar": {
              "outlinewidth": 0,
              "ticks": ""
             }
            },
            "type": "parcoords"
           }
          ],
          "pie": [
           {
            "automargin": true,
            "type": "pie"
           }
          ],
          "scatter": [
           {
            "fillpattern": {
             "fillmode": "overlay",
             "size": 10,
             "solidity": 0.2
            },
            "type": "scatter"
           }
          ],
          "scatter3d": [
           {
            "line": {
             "colorbar": {
              "outlinewidth": 0,
              "ticks": ""
             }
            },
            "marker": {
             "colorbar": {
              "outlinewidth": 0,
              "ticks": ""
             }
            },
            "type": "scatter3d"
           }
          ],
          "scattercarpet": [
           {
            "marker": {
             "colorbar": {
              "outlinewidth": 0,
              "ticks": ""
             }
            },
            "type": "scattercarpet"
           }
          ],
          "scattergeo": [
           {
            "marker": {
             "colorbar": {
              "outlinewidth": 0,
              "ticks": ""
             }
            },
            "type": "scattergeo"
           }
          ],
          "scattergl": [
           {
            "marker": {
             "colorbar": {
              "outlinewidth": 0,
              "ticks": ""
             }
            },
            "type": "scattergl"
           }
          ],
          "scattermapbox": [
           {
            "marker": {
             "colorbar": {
              "outlinewidth": 0,
              "ticks": ""
             }
            },
            "type": "scattermapbox"
           }
          ],
          "scatterpolar": [
           {
            "marker": {
             "colorbar": {
              "outlinewidth": 0,
              "ticks": ""
             }
            },
            "type": "scatterpolar"
           }
          ],
          "scatterpolargl": [
           {
            "marker": {
             "colorbar": {
              "outlinewidth": 0,
              "ticks": ""
             }
            },
            "type": "scatterpolargl"
           }
          ],
          "scatterternary": [
           {
            "marker": {
             "colorbar": {
              "outlinewidth": 0,
              "ticks": ""
             }
            },
            "type": "scatterternary"
           }
          ],
          "surface": [
           {
            "colorbar": {
             "outlinewidth": 0,
             "ticks": ""
            },
            "colorscale": [
             [
              0,
              "#0d0887"
             ],
             [
              0.1111111111111111,
              "#46039f"
             ],
             [
              0.2222222222222222,
              "#7201a8"
             ],
             [
              0.3333333333333333,
              "#9c179e"
             ],
             [
              0.4444444444444444,
              "#bd3786"
             ],
             [
              0.5555555555555556,
              "#d8576b"
             ],
             [
              0.6666666666666666,
              "#ed7953"
             ],
             [
              0.7777777777777778,
              "#fb9f3a"
             ],
             [
              0.8888888888888888,
              "#fdca26"
             ],
             [
              1,
              "#f0f921"
             ]
            ],
            "type": "surface"
           }
          ],
          "table": [
           {
            "cells": {
             "fill": {
              "color": "#EBF0F8"
             },
             "line": {
              "color": "white"
             }
            },
            "header": {
             "fill": {
              "color": "#C8D4E3"
             },
             "line": {
              "color": "white"
             }
            },
            "type": "table"
           }
          ]
         },
         "layout": {
          "annotationdefaults": {
           "arrowcolor": "#2a3f5f",
           "arrowhead": 0,
           "arrowwidth": 1
          },
          "autotypenumbers": "strict",
          "coloraxis": {
           "colorbar": {
            "outlinewidth": 0,
            "ticks": ""
           }
          },
          "colorscale": {
           "diverging": [
            [
             0,
             "#8e0152"
            ],
            [
             0.1,
             "#c51b7d"
            ],
            [
             0.2,
             "#de77ae"
            ],
            [
             0.3,
             "#f1b6da"
            ],
            [
             0.4,
             "#fde0ef"
            ],
            [
             0.5,
             "#f7f7f7"
            ],
            [
             0.6,
             "#e6f5d0"
            ],
            [
             0.7,
             "#b8e186"
            ],
            [
             0.8,
             "#7fbc41"
            ],
            [
             0.9,
             "#4d9221"
            ],
            [
             1,
             "#276419"
            ]
           ],
           "sequential": [
            [
             0,
             "#0d0887"
            ],
            [
             0.1111111111111111,
             "#46039f"
            ],
            [
             0.2222222222222222,
             "#7201a8"
            ],
            [
             0.3333333333333333,
             "#9c179e"
            ],
            [
             0.4444444444444444,
             "#bd3786"
            ],
            [
             0.5555555555555556,
             "#d8576b"
            ],
            [
             0.6666666666666666,
             "#ed7953"
            ],
            [
             0.7777777777777778,
             "#fb9f3a"
            ],
            [
             0.8888888888888888,
             "#fdca26"
            ],
            [
             1,
             "#f0f921"
            ]
           ],
           "sequentialminus": [
            [
             0,
             "#0d0887"
            ],
            [
             0.1111111111111111,
             "#46039f"
            ],
            [
             0.2222222222222222,
             "#7201a8"
            ],
            [
             0.3333333333333333,
             "#9c179e"
            ],
            [
             0.4444444444444444,
             "#bd3786"
            ],
            [
             0.5555555555555556,
             "#d8576b"
            ],
            [
             0.6666666666666666,
             "#ed7953"
            ],
            [
             0.7777777777777778,
             "#fb9f3a"
            ],
            [
             0.8888888888888888,
             "#fdca26"
            ],
            [
             1,
             "#f0f921"
            ]
           ]
          },
          "colorway": [
           "#636efa",
           "#EF553B",
           "#00cc96",
           "#ab63fa",
           "#FFA15A",
           "#19d3f3",
           "#FF6692",
           "#B6E880",
           "#FF97FF",
           "#FECB52"
          ],
          "font": {
           "color": "#2a3f5f"
          },
          "geo": {
           "bgcolor": "white",
           "lakecolor": "white",
           "landcolor": "#E5ECF6",
           "showlakes": true,
           "showland": true,
           "subunitcolor": "white"
          },
          "hoverlabel": {
           "align": "left"
          },
          "hovermode": "closest",
          "mapbox": {
           "style": "light"
          },
          "paper_bgcolor": "white",
          "plot_bgcolor": "#E5ECF6",
          "polar": {
           "angularaxis": {
            "gridcolor": "white",
            "linecolor": "white",
            "ticks": ""
           },
           "bgcolor": "#E5ECF6",
           "radialaxis": {
            "gridcolor": "white",
            "linecolor": "white",
            "ticks": ""
           }
          },
          "scene": {
           "xaxis": {
            "backgroundcolor": "#E5ECF6",
            "gridcolor": "white",
            "gridwidth": 2,
            "linecolor": "white",
            "showbackground": true,
            "ticks": "",
            "zerolinecolor": "white"
           },
           "yaxis": {
            "backgroundcolor": "#E5ECF6",
            "gridcolor": "white",
            "gridwidth": 2,
            "linecolor": "white",
            "showbackground": true,
            "ticks": "",
            "zerolinecolor": "white"
           },
           "zaxis": {
            "backgroundcolor": "#E5ECF6",
            "gridcolor": "white",
            "gridwidth": 2,
            "linecolor": "white",
            "showbackground": true,
            "ticks": "",
            "zerolinecolor": "white"
           }
          },
          "shapedefaults": {
           "line": {
            "color": "#2a3f5f"
           }
          },
          "ternary": {
           "aaxis": {
            "gridcolor": "white",
            "linecolor": "white",
            "ticks": ""
           },
           "baxis": {
            "gridcolor": "white",
            "linecolor": "white",
            "ticks": ""
           },
           "bgcolor": "#E5ECF6",
           "caxis": {
            "gridcolor": "white",
            "linecolor": "white",
            "ticks": ""
           }
          },
          "title": {
           "x": 0.05
          },
          "xaxis": {
           "automargin": true,
           "gridcolor": "white",
           "linecolor": "white",
           "ticks": "",
           "title": {
            "standoff": 15
           },
           "zerolinecolor": "white",
           "zerolinewidth": 2
          },
          "yaxis": {
           "automargin": true,
           "gridcolor": "white",
           "linecolor": "white",
           "ticks": "",
           "title": {
            "standoff": 15
           },
           "zerolinecolor": "white",
           "zerolinewidth": 2
          }
         }
        },
        "title": {
         "text": "Sleep Efficiency by Alcohol consumption"
        },
        "xaxis": {
         "anchor": "y",
         "autorange": true,
         "domain": [
          0,
          1
         ],
         "range": [
          -0.5,
          5.5
         ],
         "title": {
          "text": "Alcohol consumption"
         },
         "type": "linear"
        },
        "yaxis": {
         "anchor": "x",
         "autorange": true,
         "domain": [
          0,
          1
         ],
         "range": [
          0.4727777777777778,
          1.0172222222222222
         ],
         "title": {
          "text": "Sleep efficiency"
         },
         "type": "linear"
        }
       }
      },
      "image/png": "[encoded data removed]",
      "text/html": [
       "<div>                            <div id=\"5cde14e8-3522-4646-9419-3175210f403b\" class=\"plotly-graph-div\" style=\"height:525px; width:100%;\"></div>            <script type=\"text/javascript\">                require([\"plotly\"], function(Plotly) {                    window.PLOTLYENV=window.PLOTLYENV || {};                                    if (document.getElementById(\"5cde14e8-3522-4646-9419-3175210f403b\")) {                    Plotly.newPlot(                        \"5cde14e8-3522-4646-9419-3175210f403b\",                        [{\"alignmentgroup\":\"True\",\"hovertemplate\":\"Alcohol consumption=%{x}\\u003cbr\\u003eSleep efficiency=%{y}\\u003cextra\\u003e\\u003c\\u002fextra\\u003e\",\"legendgroup\":\"\",\"marker\":{\"color\":\"#636efa\"},\"name\":\"\",\"notched\":false,\"offsetgroup\":\"\",\"orientation\":\"v\",\"showlegend\":false,\"x\":[0.0,3.0,0.0,5.0,3.0,0.0,0.0,0.0,0.0,0.0,0.0,0.0,0.0,0.0,1.0,2.0,2.0,2.0,1.0,0.0,0.0,4.0,0.0,0.0,5.0,0.0,0.0,0.0,0.0,3.0,1.0,0.0,4.0,1.0,0.0,3.0,0.0,0.0,0.0,3.0,0.0,0.0,0.0,0.0,1.0,0.0,0.0,1.0,0.0,5.0,0.0,2.0,0.0,0.0,0.0,0.0,3.0,0.0,0.0,0.0,0.0,0.0,0.0,0.0,0.0,3.0,4.0,2.0,0.0,2.0,3.0,2.0,4.0,0.0,0.0,0.0,0.0,5.0,0.0,0.0,0.0,0.0,0.0,0.0,3.0,0.0,0.0,3.0,0.0,0.0,0.0,3.0,3.0,0.0,3.0,2.0,0.0,0.0,0.0,0.0,1.0,1.0,0.0,5.0,0.0,0.0,5.0,0.0,2.0,0.0,0.0,0.0,0.0,0.0,0.0,5.0,0.0,5.0,0.0,0.0,0.0,0.0,0.0,0.0,2.0,0.0,0.0,1.0,1.0,0.0,1.0,0.0,0.0,0.0,2.0,1.0,3.0,0.0,3.0,2.0,0.0,5.0,3.0,3.0,1.0,5.0,0.0,1.0,0.0,0.0,2.0,2.0,1.0,0.0,1.0,0.0,0.0,0.0,0.0,0.0,0.0,0.0,0.0,1.0,0.0,5.0,0.0,0.0,1.0,0.0,3.0,3.0,0.0,0.0,0.0,0.0,2.0,0.0,1.0,0.0,0.0,0.0,0.0,0.0,0.0,0.0,3.0,0.0,0.0,0.0,4.0,0.0,0.0,0.0,0.0,5.0,0.0,0.0,1.0,0.0,4.0,0.0,1.0,3.0,3.0,1.0,1.0,0.0,0.0,0.0,0.0,0.0,2.0,0.0,2.0,5.0,5.0,3.0,0.0,0.0,0.0,1.0,1.0,0.0,1.0,3.0,0.0,0.0,0.0,0.0,0.0,0.0,1.0,0.0,0.0,0.0,3.0,0.0,1.0,0.0,0.0,0.0,0.0,0.0,0.0,3.0,1.0,0.0,0.0,4.0,2.0,0.0,5.0,0.0,5.0,0.0,1.0,5.0,0.0,0.0,3.0,0.0,0.0,0.0,0.0,0.0,3.0,3.0,3.0,0.0,0.0,0.0,3.0,0.0,5.0,4.0,1.0,0.0,0.0,2.0,0.0,0.0,0.0,2.0,0.0,5.0,2.0,2.0,1.0,0.0,0.0,0.0,0.0,0.0,1.0,0.0,0.0,1.0,1.0,4.0,3.0,0.0,5.0,0.0,4.0,0.0,5.0,1.0,5.0,0.0,1.0,0.0,3.0,0.0,0.0,0.0,0.0,5.0,0.0,4.0,2.0,0.0,0.0,0.0,0.0,4.0,1.0,1.0,1.0,2.0,0.0,0.0,0.0,0.0,1.0,4.0,0.0,1.0,0.0,0.0,0.0,0.0,5.0,0.0,3.0,2.0,0.0,4.0,0.0,0.0,1.0,0.0,5.0,2.0,5.0,0.0,0.0,0.0,2.0,0.0,4.0,0.0,0.0,1.0,0.0,0.0,0.0,0.0,0.0,1.0,1.0,2.0,1.0,0.0,1.0,3.0,2.0,0.0,5.0,3.0,1.0,1.0,0.0,0.0,0.0,0.0,5.0,0.0,0.0,2.0,0.0,4.0,3.0,0.0,5.0,0.0,1.0,2.0,0.0,0.0,0.0,0.0,0.0,3.0,3.0,0.0,0.0,1.0,2.0,0.0,4.0,0.0,0.0,0.0,4.0,4.0,0.0,3.0,2.0,0.0,0.0,0.0,1.0,4.0,4.0,0.0,0.0,3.0,5.0,0.0,0.0,1.0,3.0,0.0,2.0,0.0,3.0,3.0,3.0,3.0,0.0,3.0,4.0,2.0,2.0,2.0,4.0,0.0,0.0,3.0,0.0,0.0],\"x0\":\" \",\"xaxis\":\"x\",\"y\":[0.88,0.66,0.89,0.51,0.76,0.9,0.54,0.9,0.79,0.55,0.92,0.93,0.93,0.64,0.54,0.92,0.54,0.5,0.98,0.89,0.83,0.71,0.84,0.98,0.88,0.91,0.95,0.84,0.65,0.91,0.57,0.68,0.55,0.9,0.94,0.64,0.87,0.82,0.87,0.63,0.83,0.83,0.59,0.87,0.77,0.86,0.91,0.71,0.81,0.81,0.71,0.71,0.52,0.65,0.84,0.84,0.99,0.91,0.71,0.8,0.95,0.91,0.81,0.93,0.85,0.77,0.84,0.87,0.8,0.52,0.54,0.88,0.64,0.87,0.77,0.68,0.94,0.7,0.79,0.77,0.86,0.81,0.88,0.78,0.64,0.88,0.78,0.71,0.97,0.77,0.8,0.94,0.52,0.76,0.73,0.73,0.96,0.91,0.8,0.77,0.81,0.71,0.95,0.64,0.94,0.87,0.63,0.88,0.9,0.94,0.91,0.9,0.8,0.85,0.89,0.53,0.87,0.5,0.93,0.72,0.92,0.62,0.93,0.91,0.63,0.77,0.51,0.94,0.73,0.78,0.55,0.83,0.94,0.95,0.59,0.82,0.9,0.77,0.83,0.65,0.54,0.51,0.81,0.87,0.75,0.57,0.58,0.81,0.75,0.6,0.53,0.93,0.89,0.7,0.74,0.92,0.93,0.95,0.6,0.93,0.81,0.95,0.72,0.9,0.95,0.91,0.85,0.9,0.92,0.6,0.89,0.67,0.51,0.78,0.95,0.68,0.68,0.94,0.78,0.9,0.83,0.8,0.96,0.91,0.96,0.94,0.63,0.73,0.87,0.76,0.68,0.94,0.95,0.62,0.91,0.67,0.94,0.79,0.86,0.83,0.73,0.71,0.87,0.5,0.92,0.79,0.98,0.93,0.88,0.77,0.86,0.54,0.8,0.86,0.61,0.72,0.72,0.55,0.96,0.58,0.77,0.85,0.95,0.69,0.95,0.82,0.93,0.82,0.94,0.75,0.91,0.65,0.87,0.84,0.85,0.91,0.71,0.82,0.77,0.95,0.95,0.76,0.85,0.75,0.92,0.78,0.91,0.85,0.95,0.66,0.63,0.86,0.54,0.95,0.72,0.52,0.93,0.52,0.61,0.79,0.94,0.76,0.76,0.78,0.94,0.87,0.55,0.93,0.93,0.94,0.78,0.94,0.5,0.93,0.73,0.9,0.87,0.93,0.9,0.67,0.9,0.9,0.98,0.66,0.68,0.56,0.62,0.52,0.96,0.81,0.84,0.93,0.87,0.86,0.89,0.94,0.84,0.86,0.75,0.6,0.93,0.75,0.81,0.78,0.84,0.9,0.9,0.67,0.93,0.8,0.63,0.9,0.9,0.86,0.51,0.71,0.87,0.7,0.85,0.87,0.6,0.83,0.8,0.93,0.75,0.5,0.5,0.67,0.96,0.52,0.68,0.72,0.56,0.91,0.85,0.72,0.9,0.77,0.89,0.9,0.85,0.95,0.51,0.9,0.9,0.51,0.84,0.82,0.88,0.79,0.64,0.84,0.86,0.71,0.9,0.82,0.95,0.95,0.54,0.95,0.53,0.92,0.85,0.92,0.53,0.75,0.82,0.74,0.87,0.72,0.87,0.53,0.72,0.87,0.66,0.66,0.72,0.81,0.88,0.94,0.83,0.91,0.95,0.9,0.95,0.9,0.62,0.93,0.79,0.91,0.81,0.52,0.52,0.84,0.67,0.83,0.63,0.64,0.91,0.82,0.92,0.92,0.93,0.87,0.64,0.9,0.82,0.86,0.73,0.9,0.68,0.82,0.74,0.88,0.72,0.67,0.87,0.66,0.66,0.87,0.51,0.79,0.8,0.55,0.85,0.88,0.88,0.93,0.63,0.92,0.8,0.92,0.77,0.9,0.9,0.96,0.72,0.86,0.9,0.5,0.88,0.6,0.68,0.67,0.58,0.53,0.5,0.91,0.74,0.55,0.76,0.63],\"y0\":\" \",\"yaxis\":\"y\",\"type\":\"box\"}],                        {\"template\":{\"data\":{\"histogram2dcontour\":[{\"type\":\"histogram2dcontour\",\"colorbar\":{\"outlinewidth\":0,\"ticks\":\"\"},\"colorscale\":[[0.0,\"#0d0887\"],[0.1111111111111111,\"#46039f\"],[0.2222222222222222,\"#7201a8\"],[0.3333333333333333,\"#9c179e\"],[0.4444444444444444,\"#bd3786\"],[0.5555555555555556,\"#d8576b\"],[0.6666666666666666,\"#ed7953\"],[0.7777777777777778,\"#fb9f3a\"],[0.8888888888888888,\"#fdca26\"],[1.0,\"#f0f921\"]]}],\"choropleth\":[{\"type\":\"choropleth\",\"colorbar\":{\"outlinewidth\":0,\"ticks\":\"\"}}],\"histogram2d\":[{\"type\":\"histogram2d\",\"colorbar\":{\"outlinewidth\":0,\"ticks\":\"\"},\"colorscale\":[[0.0,\"#0d0887\"],[0.1111111111111111,\"#46039f\"],[0.2222222222222222,\"#7201a8\"],[0.3333333333333333,\"#9c179e\"],[0.4444444444444444,\"#bd3786\"],[0.5555555555555556,\"#d8576b\"],[0.6666666666666666,\"#ed7953\"],[0.7777777777777778,\"#fb9f3a\"],[0.8888888888888888,\"#fdca26\"],[1.0,\"#f0f921\"]]}],\"heatmap\":[{\"type\":\"heatmap\",\"colorbar\":{\"outlinewidth\":0,\"ticks\":\"\"},\"colorscale\":[[0.0,\"#0d0887\"],[0.1111111111111111,\"#46039f\"],[0.2222222222222222,\"#7201a8\"],[0.3333333333333333,\"#9c179e\"],[0.4444444444444444,\"#bd3786\"],[0.5555555555555556,\"#d8576b\"],[0.6666666666666666,\"#ed7953\"],[0.7777777777777778,\"#fb9f3a\"],[0.8888888888888888,\"#fdca26\"],[1.0,\"#f0f921\"]]}],\"heatmapgl\":[{\"type\":\"heatmapgl\",\"colorbar\":{\"outlinewidth\":0,\"ticks\":\"\"},\"colorscale\":[[0.0,\"#0d0887\"],[0.1111111111111111,\"#46039f\"],[0.2222222222222222,\"#7201a8\"],[0.3333333333333333,\"#9c179e\"],[0.4444444444444444,\"#bd3786\"],[0.5555555555555556,\"#d8576b\"],[0.6666666666666666,\"#ed7953\"],[0.7777777777777778,\"#fb9f3a\"],[0.8888888888888888,\"#fdca26\"],[1.0,\"#f0f921\"]]}],\"contourcarpet\":[{\"type\":\"contourcarpet\",\"colorbar\":{\"outlinewidth\":0,\"ticks\":\"\"}}],\"contour\":[{\"type\":\"contour\",\"colorbar\":{\"outlinewidth\":0,\"ticks\":\"\"},\"colorscale\":[[0.0,\"#0d0887\"],[0.1111111111111111,\"#46039f\"],[0.2222222222222222,\"#7201a8\"],[0.3333333333333333,\"#9c179e\"],[0.4444444444444444,\"#bd3786\"],[0.5555555555555556,\"#d8576b\"],[0.6666666666666666,\"#ed7953\"],[0.7777777777777778,\"#fb9f3a\"],[0.8888888888888888,\"#fdca26\"],[1.0,\"#f0f921\"]]}],\"surface\":[{\"type\":\"surface\",\"colorbar\":{\"outlinewidth\":0,\"ticks\":\"\"},\"colorscale\":[[0.0,\"#0d0887\"],[0.1111111111111111,\"#46039f\"],[0.2222222222222222,\"#7201a8\"],[0.3333333333333333,\"#9c179e\"],[0.4444444444444444,\"#bd3786\"],[0.5555555555555556,\"#d8576b\"],[0.6666666666666666,\"#ed7953\"],[0.7777777777777778,\"#fb9f3a\"],[0.8888888888888888,\"#fdca26\"],[1.0,\"#f0f921\"]]}],\"mesh3d\":[{\"type\":\"mesh3d\",\"colorbar\":{\"outlinewidth\":0,\"ticks\":\"\"}}],\"scatter\":[{\"fillpattern\":{\"fillmode\":\"overlay\",\"size\":10,\"solidity\":0.2},\"type\":\"scatter\"}],\"parcoords\":[{\"type\":\"parcoords\",\"line\":{\"colorbar\":{\"outlinewidth\":0,\"ticks\":\"\"}}}],\"scatterpolargl\":[{\"type\":\"scatterpolargl\",\"marker\":{\"colorbar\":{\"outlinewidth\":0,\"ticks\":\"\"}}}],\"bar\":[{\"error_x\":{\"color\":\"#2a3f5f\"},\"error_y\":{\"color\":\"#2a3f5f\"},\"marker\":{\"line\":{\"color\":\"#E5ECF6\",\"width\":0.5},\"pattern\":{\"fillmode\":\"overlay\",\"size\":10,\"solidity\":0.2}},\"type\":\"bar\"}],\"scattergeo\":[{\"type\":\"scattergeo\",\"marker\":{\"colorbar\":{\"outlinewidth\":0,\"ticks\":\"\"}}}],\"scatterpolar\":[{\"type\":\"scatterpolar\",\"marker\":{\"colorbar\":{\"outlinewidth\":0,\"ticks\":\"\"}}}],\"histogram\":[{\"marker\":{\"pattern\":{\"fillmode\":\"overlay\",\"size\":10,\"solidity\":0.2}},\"type\":\"histogram\"}],\"scattergl\":[{\"type\":\"scattergl\",\"marker\":{\"colorbar\":{\"outlinewidth\":0,\"ticks\":\"\"}}}],\"scatter3d\":[{\"type\":\"scatter3d\",\"line\":{\"colorbar\":{\"outlinewidth\":0,\"ticks\":\"\"}},\"marker\":{\"colorbar\":{\"outlinewidth\":0,\"ticks\":\"\"}}}],\"scattermapbox\":[{\"type\":\"scattermapbox\",\"marker\":{\"colorbar\":{\"outlinewidth\":0,\"ticks\":\"\"}}}],\"scatterternary\":[{\"type\":\"scatterternary\",\"marker\":{\"colorbar\":{\"outlinewidth\":0,\"ticks\":\"\"}}}],\"scattercarpet\":[{\"type\":\"scattercarpet\",\"marker\":{\"colorbar\":{\"outlinewidth\":0,\"ticks\":\"\"}}}],\"carpet\":[{\"aaxis\":{\"endlinecolor\":\"#2a3f5f\",\"gridcolor\":\"white\",\"linecolor\":\"white\",\"minorgridcolor\":\"white\",\"startlinecolor\":\"#2a3f5f\"},\"baxis\":{\"endlinecolor\":\"#2a3f5f\",\"gridcolor\":\"white\",\"linecolor\":\"white\",\"minorgridcolor\":\"white\",\"startlinecolor\":\"#2a3f5f\"},\"type\":\"carpet\"}],\"table\":[{\"cells\":{\"fill\":{\"color\":\"#EBF0F8\"},\"line\":{\"color\":\"white\"}},\"header\":{\"fill\":{\"color\":\"#C8D4E3\"},\"line\":{\"color\":\"white\"}},\"type\":\"table\"}],\"barpolar\":[{\"marker\":{\"line\":{\"color\":\"#E5ECF6\",\"width\":0.5},\"pattern\":{\"fillmode\":\"overlay\",\"size\":10,\"solidity\":0.2}},\"type\":\"barpolar\"}],\"pie\":[{\"automargin\":true,\"type\":\"pie\"}]},\"layout\":{\"autotypenumbers\":\"strict\",\"colorway\":[\"#636efa\",\"#EF553B\",\"#00cc96\",\"#ab63fa\",\"#FFA15A\",\"#19d3f3\",\"#FF6692\",\"#B6E880\",\"#FF97FF\",\"#FECB52\"],\"font\":{\"color\":\"#2a3f5f\"},\"hovermode\":\"closest\",\"hoverlabel\":{\"align\":\"left\"},\"paper_bgcolor\":\"white\",\"plot_bgcolor\":\"#E5ECF6\",\"polar\":{\"bgcolor\":\"#E5ECF6\",\"angularaxis\":{\"gridcolor\":\"white\",\"linecolor\":\"white\",\"ticks\":\"\"},\"radialaxis\":{\"gridcolor\":\"white\",\"linecolor\":\"white\",\"ticks\":\"\"}},\"ternary\":{\"bgcolor\":\"#E5ECF6\",\"aaxis\":{\"gridcolor\":\"white\",\"linecolor\":\"white\",\"ticks\":\"\"},\"baxis\":{\"gridcolor\":\"white\",\"linecolor\":\"white\",\"ticks\":\"\"},\"caxis\":{\"gridcolor\":\"white\",\"linecolor\":\"white\",\"ticks\":\"\"}},\"coloraxis\":{\"colorbar\":{\"outlinewidth\":0,\"ticks\":\"\"}},\"colorscale\":{\"sequential\":[[0.0,\"#0d0887\"],[0.1111111111111111,\"#46039f\"],[0.2222222222222222,\"#7201a8\"],[0.3333333333333333,\"#9c179e\"],[0.4444444444444444,\"#bd3786\"],[0.5555555555555556,\"#d8576b\"],[0.6666666666666666,\"#ed7953\"],[0.7777777777777778,\"#fb9f3a\"],[0.8888888888888888,\"#fdca26\"],[1.0,\"#f0f921\"]],\"sequentialminus\":[[0.0,\"#0d0887\"],[0.1111111111111111,\"#46039f\"],[0.2222222222222222,\"#7201a8\"],[0.3333333333333333,\"#9c179e\"],[0.4444444444444444,\"#bd3786\"],[0.5555555555555556,\"#d8576b\"],[0.6666666666666666,\"#ed7953\"],[0.7777777777777778,\"#fb9f3a\"],[0.8888888888888888,\"#fdca26\"],[1.0,\"#f0f921\"]],\"diverging\":[[0,\"#8e0152\"],[0.1,\"#c51b7d\"],[0.2,\"#de77ae\"],[0.3,\"#f1b6da\"],[0.4,\"#fde0ef\"],[0.5,\"#f7f7f7\"],[0.6,\"#e6f5d0\"],[0.7,\"#b8e186\"],[0.8,\"#7fbc41\"],[0.9,\"#4d9221\"],[1,\"#276419\"]]},\"xaxis\":{\"gridcolor\":\"white\",\"linecolor\":\"white\",\"ticks\":\"\",\"title\":{\"standoff\":15},\"zerolinecolor\":\"white\",\"automargin\":true,\"zerolinewidth\":2},\"yaxis\":{\"gridcolor\":\"white\",\"linecolor\":\"white\",\"ticks\":\"\",\"title\":{\"standoff\":15},\"zerolinecolor\":\"white\",\"automargin\":true,\"zerolinewidth\":2},\"scene\":{\"xaxis\":{\"backgroundcolor\":\"#E5ECF6\",\"gridcolor\":\"white\",\"linecolor\":\"white\",\"showbackground\":true,\"ticks\":\"\",\"zerolinecolor\":\"white\",\"gridwidth\":2},\"yaxis\":{\"backgroundcolor\":\"#E5ECF6\",\"gridcolor\":\"white\",\"linecolor\":\"white\",\"showbackground\":true,\"ticks\":\"\",\"zerolinecolor\":\"white\",\"gridwidth\":2},\"zaxis\":{\"backgroundcolor\":\"#E5ECF6\",\"gridcolor\":\"white\",\"linecolor\":\"white\",\"showbackground\":true,\"ticks\":\"\",\"zerolinecolor\":\"white\",\"gridwidth\":2}},\"shapedefaults\":{\"line\":{\"color\":\"#2a3f5f\"}},\"annotationdefaults\":{\"arrowcolor\":\"#2a3f5f\",\"arrowhead\":0,\"arrowwidth\":1},\"geo\":{\"bgcolor\":\"white\",\"landcolor\":\"#E5ECF6\",\"subunitcolor\":\"white\",\"showland\":true,\"showlakes\":true,\"lakecolor\":\"white\"},\"title\":{\"x\":0.05},\"mapbox\":{\"style\":\"light\"}}},\"xaxis\":{\"anchor\":\"y\",\"domain\":[0.0,1.0],\"title\":{\"text\":\"Alcohol consumption\"}},\"yaxis\":{\"anchor\":\"x\",\"domain\":[0.0,1.0],\"title\":{\"text\":\"Sleep efficiency\"}},\"legend\":{\"tracegroupgap\":0},\"title\":{\"text\":\"Sleep Efficiency by Alcohol consumption\"},\"boxmode\":\"group\"},                        {\"responsive\": true}                    ).then(function(){\n",
       "                            \n",
       "var gd = document.getElementById('5cde14e8-3522-4646-9419-3175210f403b');\n",
       "var x = new MutationObserver(function (mutations, observer) {{\n",
       "        var display = window.getComputedStyle(gd).display;\n",
       "        if (!display || display === 'none') {{\n",
       "            console.log([gd, 'removed!']);\n",
       "            Plotly.purge(gd);\n",
       "            observer.disconnect();\n",
       "        }}\n",
       "}});\n",
       "\n",
       "// Listen for the removal of the full notebook cells\n",
       "var notebookContainer = gd.closest('#notebook-container');\n",
       "if (notebookContainer) {{\n",
       "    x.observe(notebookContainer, {childList: true});\n",
       "}}\n",
       "\n",
       "// Listen for the clearing of the current output cell\n",
       "var outputEl = gd.closest('.output');\n",
       "if (outputEl) {{\n",
       "    x.observe(outputEl, {childList: true});\n",
       "}}\n",
       "\n",
       "                        })                };                });            </script>        </div>"
      ]
     },
     "metadata": {},
     "output_type": "display_data"
    }
   ],
   "source": [
    "fig = px.box(df, y = \"Sleep efficiency\", x = \"Alcohol consumption\", title = \"Sleep Efficiency by Alcohol consumption\")\n",
    "fig.show()"
   ]
  },
  {
   "cell_type": "code",
   "execution_count": 165,
   "id": "f88f32f6-a1b9-4775-80c7-a8b1083f712a",
   "metadata": {},
   "outputs": [
    {
     "data": {
      "application/vnd.plotly.v1+json": {
       "config": {
        "plotlyServerURL": "https://plot.ly"
       },
       "data": [
        {
         "alignmentgroup": "True",
         "hovertemplate": "Smoking status=%{x}<br>Sleep efficiency=%{y}<extra></extra>",
         "legendgroup": "",
         "marker": {
          "color": "#636efa"
         },
         "name": "",
         "notched": false,
         "offsetgroup": "",
         "orientation": "v",
         "showlegend": false,
         "type": "box",
         "x": [
          "Yes",
          "Yes",
          "No",
          "Yes",
          "No",
          "No",
          "Yes",
          "Yes",
          "No",
          "No",
          "Yes",
          "No",
          "No",
          "No",
          "Yes",
          "No",
          "Yes",
          "Yes",
          "No",
          "Yes",
          "No",
          "No",
          "No",
          "No",
          "No",
          "No",
          "No",
          "Yes",
          "No",
          "No",
          "Yes",
          "No",
          "Yes",
          "Yes",
          "No",
          "No",
          "Yes",
          "No",
          "Yes",
          "No",
          "No",
          "Yes",
          "Yes",
          "No",
          "No",
          "No",
          "No",
          "Yes",
          "No",
          "No",
          "No",
          "No",
          "No",
          "No",
          "No",
          "No",
          "No",
          "Yes",
          "No",
          "No",
          "No",
          "No",
          "No",
          "No",
          "No",
          "No",
          "No",
          "No",
          "No",
          "Yes",
          "Yes",
          "No",
          "Yes",
          "Yes",
          "No",
          "Yes",
          "No",
          "Yes",
          "No",
          "Yes",
          "Yes",
          "No",
          "Yes",
          "No",
          "No",
          "No",
          "No",
          "No",
          "Yes",
          "No",
          "Yes",
          "No",
          "Yes",
          "No",
          "No",
          "Yes",
          "No",
          "No",
          "No",
          "No",
          "No",
          "No",
          "No",
          "No",
          "No",
          "No",
          "No",
          "Yes",
          "No",
          "Yes",
          "Yes",
          "No",
          "No",
          "Yes",
          "Yes",
          "Yes",
          "Yes",
          "Yes",
          "No",
          "No",
          "No",
          "No",
          "No",
          "Yes",
          "Yes",
          "No",
          "Yes",
          "No",
          "No",
          "No",
          "Yes",
          "Yes",
          "No",
          "No",
          "Yes",
          "No",
          "Yes",
          "Yes",
          "No",
          "No",
          "Yes",
          "Yes",
          "No",
          "No",
          "Yes",
          "Yes",
          "Yes",
          "No",
          "No",
          "No",
          "Yes",
          "No",
          "No",
          "No",
          "Yes",
          "No",
          "No",
          "No",
          "No",
          "Yes",
          "Yes",
          "No",
          "No",
          "Yes",
          "Yes",
          "No",
          "No",
          "No",
          "No",
          "No",
          "No",
          "No",
          "Yes",
          "No",
          "No",
          "No",
          "No",
          "No",
          "Yes",
          "No",
          "Yes",
          "Yes",
          "No",
          "No",
          "No",
          "No",
          "No",
          "No",
          "Yes",
          "No",
          "No",
          "Yes",
          "No",
          "No",
          "No",
          "No",
          "Yes",
          "Yes",
          "No",
          "Yes",
          "No",
          "No",
          "Yes",
          "Yes",
          "No",
          "No",
          "No",
          "Yes",
          "No",
          "Yes",
          "No",
          "No",
          "No",
          "Yes",
          "No",
          "No",
          "No",
          "Yes",
          "No",
          "No",
          "No",
          "Yes",
          "No",
          "No",
          "No",
          "No",
          "No",
          "No",
          "No",
          "No",
          "No",
          "Yes",
          "No",
          "Yes",
          "No",
          "No",
          "No",
          "Yes",
          "No",
          "Yes",
          "No",
          "Yes",
          "No",
          "No",
          "No",
          "No",
          "Yes",
          "No",
          "Yes",
          "No",
          "No",
          "Yes",
          "Yes",
          "No",
          "No",
          "Yes",
          "No",
          "Yes",
          "Yes",
          "No",
          "Yes",
          "No",
          "No",
          "No",
          "No",
          "Yes",
          "Yes",
          "No",
          "No",
          "No",
          "No",
          "No",
          "Yes",
          "Yes",
          "No",
          "No",
          "No",
          "No",
          "No",
          "No",
          "Yes",
          "Yes",
          "No",
          "No",
          "No",
          "Yes",
          "Yes",
          "Yes",
          "No",
          "No",
          "No",
          "No",
          "No",
          "No",
          "No",
          "No",
          "No",
          "Yes",
          "Yes",
          "No",
          "No",
          "No",
          "No",
          "Yes",
          "No",
          "No",
          "Yes",
          "Yes",
          "No",
          "No",
          "No",
          "No",
          "No",
          "No",
          "Yes",
          "No",
          "No",
          "No",
          "No",
          "No",
          "Yes",
          "No",
          "Yes",
          "No",
          "No",
          "Yes",
          "Yes",
          "No",
          "No",
          "Yes",
          "No",
          "Yes",
          "No",
          "No",
          "Yes",
          "Yes",
          "No",
          "No",
          "No",
          "No",
          "No",
          "No",
          "Yes",
          "No",
          "No",
          "Yes",
          "No",
          "No",
          "Yes",
          "Yes",
          "No",
          "No",
          "No",
          "No",
          "Yes",
          "Yes",
          "No",
          "Yes",
          "Yes",
          "No",
          "Yes",
          "Yes",
          "No",
          "No",
          "Yes",
          "No",
          "No",
          "Yes",
          "Yes",
          "No",
          "No",
          "Yes",
          "No",
          "Yes",
          "No",
          "No",
          "No",
          "No",
          "No",
          "No",
          "No",
          "No",
          "No",
          "Yes",
          "Yes",
          "No",
          "No",
          "No",
          "No",
          "No",
          "No",
          "Yes",
          "Yes",
          "No",
          "Yes",
          "No",
          "No",
          "No",
          "No",
          "No",
          "No",
          "Yes",
          "Yes",
          "Yes",
          "Yes",
          "Yes",
          "No",
          "Yes",
          "No",
          "Yes",
          "Yes",
          "No",
          "No",
          "Yes",
          "No",
          "No",
          "No",
          "Yes",
          "No",
          "Yes",
          "Yes",
          "No",
          "No",
          "Yes",
          "Yes",
          "No",
          "No",
          "No",
          "No",
          "No",
          "Yes",
          "No",
          "No",
          "Yes",
          "No",
          "No",
          "No",
          "No",
          "No",
          "Yes",
          "Yes",
          "No",
          "No",
          "No",
          "Yes",
          "Yes",
          "Yes",
          "No",
          "No",
          "Yes",
          "No",
          "No"
         ],
         "x0": " ",
         "xaxis": "x",
         "y": [
          0.88,
          0.66,
          0.89,
          0.51,
          0.76,
          0.9,
          0.54,
          0.9,
          0.79,
          0.55,
          0.92,
          0.93,
          0.93,
          0.64,
          0.54,
          0.92,
          0.54,
          0.5,
          0.98,
          0.89,
          0.83,
          0.71,
          0.84,
          0.98,
          0.88,
          0.91,
          0.95,
          0.84,
          0.65,
          0.91,
          0.57,
          0.68,
          0.55,
          0.9,
          0.94,
          0.64,
          0.87,
          0.82,
          0.87,
          0.63,
          0.83,
          0.83,
          0.59,
          0.87,
          0.77,
          0.86,
          0.91,
          0.71,
          0.81,
          0.81,
          0.71,
          0.71,
          0.52,
          0.65,
          0.84,
          0.84,
          0.99,
          0.91,
          0.71,
          0.8,
          0.95,
          0.91,
          0.81,
          0.93,
          0.85,
          0.77,
          0.84,
          0.87,
          0.8,
          0.52,
          0.54,
          0.88,
          0.64,
          0.87,
          0.77,
          0.68,
          0.94,
          0.7,
          0.79,
          0.77,
          0.86,
          0.81,
          0.88,
          0.78,
          0.64,
          0.88,
          0.78,
          0.71,
          0.97,
          0.77,
          0.8,
          0.94,
          0.52,
          0.76,
          0.73,
          0.73,
          0.96,
          0.91,
          0.8,
          0.77,
          0.81,
          0.71,
          0.95,
          0.64,
          0.94,
          0.87,
          0.63,
          0.88,
          0.9,
          0.94,
          0.91,
          0.9,
          0.8,
          0.85,
          0.89,
          0.53,
          0.87,
          0.5,
          0.93,
          0.72,
          0.92,
          0.62,
          0.93,
          0.91,
          0.63,
          0.77,
          0.51,
          0.94,
          0.73,
          0.78,
          0.55,
          0.83,
          0.94,
          0.95,
          0.59,
          0.82,
          0.9,
          0.77,
          0.83,
          0.65,
          0.54,
          0.51,
          0.81,
          0.87,
          0.75,
          0.57,
          0.58,
          0.81,
          0.75,
          0.6,
          0.53,
          0.93,
          0.89,
          0.7,
          0.74,
          0.92,
          0.93,
          0.95,
          0.6,
          0.93,
          0.81,
          0.95,
          0.72,
          0.9,
          0.95,
          0.91,
          0.85,
          0.9,
          0.92,
          0.6,
          0.89,
          0.67,
          0.51,
          0.78,
          0.95,
          0.68,
          0.68,
          0.94,
          0.78,
          0.9,
          0.83,
          0.8,
          0.96,
          0.91,
          0.96,
          0.94,
          0.63,
          0.73,
          0.87,
          0.76,
          0.68,
          0.94,
          0.95,
          0.62,
          0.91,
          0.67,
          0.94,
          0.79,
          0.86,
          0.83,
          0.73,
          0.71,
          0.87,
          0.5,
          0.92,
          0.79,
          0.98,
          0.93,
          0.88,
          0.77,
          0.86,
          0.54,
          0.8,
          0.86,
          0.61,
          0.72,
          0.72,
          0.55,
          0.96,
          0.58,
          0.77,
          0.85,
          0.95,
          0.69,
          0.95,
          0.82,
          0.93,
          0.82,
          0.94,
          0.75,
          0.91,
          0.65,
          0.87,
          0.84,
          0.85,
          0.91,
          0.71,
          0.82,
          0.77,
          0.95,
          0.95,
          0.76,
          0.85,
          0.75,
          0.92,
          0.78,
          0.91,
          0.85,
          0.95,
          0.66,
          0.63,
          0.86,
          0.54,
          0.95,
          0.72,
          0.52,
          0.93,
          0.52,
          0.61,
          0.79,
          0.94,
          0.76,
          0.76,
          0.78,
          0.94,
          0.87,
          0.55,
          0.93,
          0.93,
          0.94,
          0.78,
          0.94,
          0.5,
          0.93,
          0.73,
          0.9,
          0.87,
          0.93,
          0.9,
          0.67,
          0.9,
          0.9,
          0.98,
          0.66,
          0.68,
          0.56,
          0.62,
          0.52,
          0.96,
          0.81,
          0.84,
          0.93,
          0.87,
          0.86,
          0.89,
          0.94,
          0.84,
          0.86,
          0.75,
          0.6,
          0.93,
          0.75,
          0.81,
          0.78,
          0.84,
          0.9,
          0.9,
          0.67,
          0.93,
          0.8,
          0.63,
          0.9,
          0.9,
          0.86,
          0.51,
          0.71,
          0.87,
          0.7,
          0.85,
          0.87,
          0.6,
          0.83,
          0.8,
          0.93,
          0.75,
          0.5,
          0.5,
          0.67,
          0.96,
          0.52,
          0.68,
          0.72,
          0.56,
          0.91,
          0.85,
          0.72,
          0.9,
          0.77,
          0.89,
          0.9,
          0.85,
          0.95,
          0.51,
          0.9,
          0.9,
          0.51,
          0.84,
          0.82,
          0.88,
          0.79,
          0.64,
          0.84,
          0.86,
          0.71,
          0.9,
          0.82,
          0.95,
          0.95,
          0.54,
          0.95,
          0.53,
          0.92,
          0.85,
          0.92,
          0.53,
          0.75,
          0.82,
          0.74,
          0.87,
          0.72,
          0.87,
          0.53,
          0.72,
          0.87,
          0.66,
          0.66,
          0.72,
          0.81,
          0.88,
          0.94,
          0.83,
          0.91,
          0.95,
          0.9,
          0.95,
          0.9,
          0.62,
          0.93,
          0.79,
          0.91,
          0.81,
          0.52,
          0.52,
          0.84,
          0.67,
          0.83,
          0.63,
          0.64,
          0.91,
          0.82,
          0.92,
          0.92,
          0.93,
          0.87,
          0.64,
          0.9,
          0.82,
          0.86,
          0.73,
          0.9,
          0.68,
          0.82,
          0.74,
          0.88,
          0.72,
          0.67,
          0.87,
          0.66,
          0.66,
          0.87,
          0.51,
          0.79,
          0.8,
          0.55,
          0.85,
          0.88,
          0.88,
          0.93,
          0.63,
          0.92,
          0.8,
          0.92,
          0.77,
          0.9,
          0.9,
          0.96,
          0.72,
          0.86,
          0.9,
          0.5,
          0.88,
          0.6,
          0.68,
          0.67,
          0.58,
          0.53,
          0.5,
          0.91,
          0.74,
          0.55,
          0.76,
          0.63
         ],
         "y0": " ",
         "yaxis": "y"
        }
       ],
       "layout": {
        "autosize": true,
        "boxmode": "group",
        "legend": {
         "tracegroupgap": 0
        },
        "template": {
         "data": {
          "bar": [
           {
            "error_x": {
             "color": "#2a3f5f"
            },
            "error_y": {
             "color": "#2a3f5f"
            },
            "marker": {
             "line": {
              "color": "#E5ECF6",
              "width": 0.5
             },
             "pattern": {
              "fillmode": "overlay",
              "size": 10,
              "solidity": 0.2
             }
            },
            "type": "bar"
           }
          ],
          "barpolar": [
           {
            "marker": {
             "line": {
              "color": "#E5ECF6",
              "width": 0.5
             },
             "pattern": {
              "fillmode": "overlay",
              "size": 10,
              "solidity": 0.2
             }
            },
            "type": "barpolar"
           }
          ],
          "carpet": [
           {
            "aaxis": {
             "endlinecolor": "#2a3f5f",
             "gridcolor": "white",
             "linecolor": "white",
             "minorgridcolor": "white",
             "startlinecolor": "#2a3f5f"
            },
            "baxis": {
             "endlinecolor": "#2a3f5f",
             "gridcolor": "white",
             "linecolor": "white",
             "minorgridcolor": "white",
             "startlinecolor": "#2a3f5f"
            },
            "type": "carpet"
           }
          ],
          "choropleth": [
           {
            "colorbar": {
             "outlinewidth": 0,
             "ticks": ""
            },
            "type": "choropleth"
           }
          ],
          "contour": [
           {
            "colorbar": {
             "outlinewidth": 0,
             "ticks": ""
            },
            "colorscale": [
             [
              0,
              "#0d0887"
             ],
             [
              0.1111111111111111,
              "#46039f"
             ],
             [
              0.2222222222222222,
              "#7201a8"
             ],
             [
              0.3333333333333333,
              "#9c179e"
             ],
             [
              0.4444444444444444,
              "#bd3786"
             ],
             [
              0.5555555555555556,
              "#d8576b"
             ],
             [
              0.6666666666666666,
              "#ed7953"
             ],
             [
              0.7777777777777778,
              "#fb9f3a"
             ],
             [
              0.8888888888888888,
              "#fdca26"
             ],
             [
              1,
              "#f0f921"
             ]
            ],
            "type": "contour"
           }
          ],
          "contourcarpet": [
           {
            "colorbar": {
             "outlinewidth": 0,
             "ticks": ""
            },
            "type": "contourcarpet"
           }
          ],
          "heatmap": [
           {
            "colorbar": {
             "outlinewidth": 0,
             "ticks": ""
            },
            "colorscale": [
             [
              0,
              "#0d0887"
             ],
             [
              0.1111111111111111,
              "#46039f"
             ],
             [
              0.2222222222222222,
              "#7201a8"
             ],
             [
              0.3333333333333333,
              "#9c179e"
             ],
             [
              0.4444444444444444,
              "#bd3786"
             ],
             [
              0.5555555555555556,
              "#d8576b"
             ],
             [
              0.6666666666666666,
              "#ed7953"
             ],
             [
              0.7777777777777778,
              "#fb9f3a"
             ],
             [
              0.8888888888888888,
              "#fdca26"
             ],
             [
              1,
              "#f0f921"
             ]
            ],
            "type": "heatmap"
           }
          ],
          "heatmapgl": [
           {
            "colorbar": {
             "outlinewidth": 0,
             "ticks": ""
            },
            "colorscale": [
             [
              0,
              "#0d0887"
             ],
             [
              0.1111111111111111,
              "#46039f"
             ],
             [
              0.2222222222222222,
              "#7201a8"
             ],
             [
              0.3333333333333333,
              "#9c179e"
             ],
             [
              0.4444444444444444,
              "#bd3786"
             ],
             [
              0.5555555555555556,
              "#d8576b"
             ],
             [
              0.6666666666666666,
              "#ed7953"
             ],
             [
              0.7777777777777778,
              "#fb9f3a"
             ],
             [
              0.8888888888888888,
              "#fdca26"
             ],
             [
              1,
              "#f0f921"
             ]
            ],
            "type": "heatmapgl"
           }
          ],
          "histogram": [
           {
            "marker": {
             "pattern": {
              "fillmode": "overlay",
              "size": 10,
              "solidity": 0.2
             }
            },
            "type": "histogram"
           }
          ],
          "histogram2d": [
           {
            "colorbar": {
             "outlinewidth": 0,
             "ticks": ""
            },
            "colorscale": [
             [
              0,
              "#0d0887"
             ],
             [
              0.1111111111111111,
              "#46039f"
             ],
             [
              0.2222222222222222,
              "#7201a8"
             ],
             [
              0.3333333333333333,
              "#9c179e"
             ],
             [
              0.4444444444444444,
              "#bd3786"
             ],
             [
              0.5555555555555556,
              "#d8576b"
             ],
             [
              0.6666666666666666,
              "#ed7953"
             ],
             [
              0.7777777777777778,
              "#fb9f3a"
             ],
             [
              0.8888888888888888,
              "#fdca26"
             ],
             [
              1,
              "#f0f921"
             ]
            ],
            "type": "histogram2d"
           }
          ],
          "histogram2dcontour": [
           {
            "colorbar": {
             "outlinewidth": 0,
             "ticks": ""
            },
            "colorscale": [
             [
              0,
              "#0d0887"
             ],
             [
              0.1111111111111111,
              "#46039f"
             ],
             [
              0.2222222222222222,
              "#7201a8"
             ],
             [
              0.3333333333333333,
              "#9c179e"
             ],
             [
              0.4444444444444444,
              "#bd3786"
             ],
             [
              0.5555555555555556,
              "#d8576b"
             ],
             [
              0.6666666666666666,
              "#ed7953"
             ],
             [
              0.7777777777777778,
              "#fb9f3a"
             ],
             [
              0.8888888888888888,
              "#fdca26"
             ],
             [
              1,
              "#f0f921"
             ]
            ],
            "type": "histogram2dcontour"
           }
          ],
          "mesh3d": [
           {
            "colorbar": {
             "outlinewidth": 0,
             "ticks": ""
            },
            "type": "mesh3d"
           }
          ],
          "parcoords": [
           {
            "line": {
             "colorbar": {
              "outlinewidth": 0,
              "ticks": ""
             }
            },
            "type": "parcoords"
           }
          ],
          "pie": [
           {
            "automargin": true,
            "type": "pie"
           }
          ],
          "scatter": [
           {
            "fillpattern": {
             "fillmode": "overlay",
             "size": 10,
             "solidity": 0.2
            },
            "type": "scatter"
           }
          ],
          "scatter3d": [
           {
            "line": {
             "colorbar": {
              "outlinewidth": 0,
              "ticks": ""
             }
            },
            "marker": {
             "colorbar": {
              "outlinewidth": 0,
              "ticks": ""
             }
            },
            "type": "scatter3d"
           }
          ],
          "scattercarpet": [
           {
            "marker": {
             "colorbar": {
              "outlinewidth": 0,
              "ticks": ""
             }
            },
            "type": "scattercarpet"
           }
          ],
          "scattergeo": [
           {
            "marker": {
             "colorbar": {
              "outlinewidth": 0,
              "ticks": ""
             }
            },
            "type": "scattergeo"
           }
          ],
          "scattergl": [
           {
            "marker": {
             "colorbar": {
              "outlinewidth": 0,
              "ticks": ""
             }
            },
            "type": "scattergl"
           }
          ],
          "scattermapbox": [
           {
            "marker": {
             "colorbar": {
              "outlinewidth": 0,
              "ticks": ""
             }
            },
            "type": "scattermapbox"
           }
          ],
          "scatterpolar": [
           {
            "marker": {
             "colorbar": {
              "outlinewidth": 0,
              "ticks": ""
             }
            },
            "type": "scatterpolar"
           }
          ],
          "scatterpolargl": [
           {
            "marker": {
             "colorbar": {
              "outlinewidth": 0,
              "ticks": ""
             }
            },
            "type": "scatterpolargl"
           }
          ],
          "scatterternary": [
           {
            "marker": {
             "colorbar": {
              "outlinewidth": 0,
              "ticks": ""
             }
            },
            "type": "scatterternary"
           }
          ],
          "surface": [
           {
            "colorbar": {
             "outlinewidth": 0,
             "ticks": ""
            },
            "colorscale": [
             [
              0,
              "#0d0887"
             ],
             [
              0.1111111111111111,
              "#46039f"
             ],
             [
              0.2222222222222222,
              "#7201a8"
             ],
             [
              0.3333333333333333,
              "#9c179e"
             ],
             [
              0.4444444444444444,
              "#bd3786"
             ],
             [
              0.5555555555555556,
              "#d8576b"
             ],
             [
              0.6666666666666666,
              "#ed7953"
             ],
             [
              0.7777777777777778,
              "#fb9f3a"
             ],
             [
              0.8888888888888888,
              "#fdca26"
             ],
             [
              1,
              "#f0f921"
             ]
            ],
            "type": "surface"
           }
          ],
          "table": [
           {
            "cells": {
             "fill": {
              "color": "#EBF0F8"
             },
             "line": {
              "color": "white"
             }
            },
            "header": {
             "fill": {
              "color": "#C8D4E3"
             },
             "line": {
              "color": "white"
             }
            },
            "type": "table"
           }
          ]
         },
         "layout": {
          "annotationdefaults": {
           "arrowcolor": "#2a3f5f",
           "arrowhead": 0,
           "arrowwidth": 1
          },
          "autotypenumbers": "strict",
          "coloraxis": {
           "colorbar": {
            "outlinewidth": 0,
            "ticks": ""
           }
          },
          "colorscale": {
           "diverging": [
            [
             0,
             "#8e0152"
            ],
            [
             0.1,
             "#c51b7d"
            ],
            [
             0.2,
             "#de77ae"
            ],
            [
             0.3,
             "#f1b6da"
            ],
            [
             0.4,
             "#fde0ef"
            ],
            [
             0.5,
             "#f7f7f7"
            ],
            [
             0.6,
             "#e6f5d0"
            ],
            [
             0.7,
             "#b8e186"
            ],
            [
             0.8,
             "#7fbc41"
            ],
            [
             0.9,
             "#4d9221"
            ],
            [
             1,
             "#276419"
            ]
           ],
           "sequential": [
            [
             0,
             "#0d0887"
            ],
            [
             0.1111111111111111,
             "#46039f"
            ],
            [
             0.2222222222222222,
             "#7201a8"
            ],
            [
             0.3333333333333333,
             "#9c179e"
            ],
            [
             0.4444444444444444,
             "#bd3786"
            ],
            [
             0.5555555555555556,
             "#d8576b"
            ],
            [
             0.6666666666666666,
             "#ed7953"
            ],
            [
             0.7777777777777778,
             "#fb9f3a"
            ],
            [
             0.8888888888888888,
             "#fdca26"
            ],
            [
             1,
             "#f0f921"
            ]
           ],
           "sequentialminus": [
            [
             0,
             "#0d0887"
            ],
            [
             0.1111111111111111,
             "#46039f"
            ],
            [
             0.2222222222222222,
             "#7201a8"
            ],
            [
             0.3333333333333333,
             "#9c179e"
            ],
            [
             0.4444444444444444,
             "#bd3786"
            ],
            [
             0.5555555555555556,
             "#d8576b"
            ],
            [
             0.6666666666666666,
             "#ed7953"
            ],
            [
             0.7777777777777778,
             "#fb9f3a"
            ],
            [
             0.8888888888888888,
             "#fdca26"
            ],
            [
             1,
             "#f0f921"
            ]
           ]
          },
          "colorway": [
           "#636efa",
           "#EF553B",
           "#00cc96",
           "#ab63fa",
           "#FFA15A",
           "#19d3f3",
           "#FF6692",
           "#B6E880",
           "#FF97FF",
           "#FECB52"
          ],
          "font": {
           "color": "#2a3f5f"
          },
          "geo": {
           "bgcolor": "white",
           "lakecolor": "white",
           "landcolor": "#E5ECF6",
           "showlakes": true,
           "showland": true,
           "subunitcolor": "white"
          },
          "hoverlabel": {
           "align": "left"
          },
          "hovermode": "closest",
          "mapbox": {
           "style": "light"
          },
          "paper_bgcolor": "white",
          "plot_bgcolor": "#E5ECF6",
          "polar": {
           "angularaxis": {
            "gridcolor": "white",
            "linecolor": "white",
            "ticks": ""
           },
           "bgcolor": "#E5ECF6",
           "radialaxis": {
            "gridcolor": "white",
            "linecolor": "white",
            "ticks": ""
           }
          },
          "scene": {
           "xaxis": {
            "backgroundcolor": "#E5ECF6",
            "gridcolor": "white",
            "gridwidth": 2,
            "linecolor": "white",
            "showbackground": true,
            "ticks": "",
            "zerolinecolor": "white"
           },
           "yaxis": {
            "backgroundcolor": "#E5ECF6",
            "gridcolor": "white",
            "gridwidth": 2,
            "linecolor": "white",
            "showbackground": true,
            "ticks": "",
            "zerolinecolor": "white"
           },
           "zaxis": {
            "backgroundcolor": "#E5ECF6",
            "gridcolor": "white",
            "gridwidth": 2,
            "linecolor": "white",
            "showbackground": true,
            "ticks": "",
            "zerolinecolor": "white"
           }
          },
          "shapedefaults": {
           "line": {
            "color": "#2a3f5f"
           }
          },
          "ternary": {
           "aaxis": {
            "gridcolor": "white",
            "linecolor": "white",
            "ticks": ""
           },
           "baxis": {
            "gridcolor": "white",
            "linecolor": "white",
            "ticks": ""
           },
           "bgcolor": "#E5ECF6",
           "caxis": {
            "gridcolor": "white",
            "linecolor": "white",
            "ticks": ""
           }
          },
          "title": {
           "x": 0.05
          },
          "xaxis": {
           "automargin": true,
           "gridcolor": "white",
           "linecolor": "white",
           "ticks": "",
           "title": {
            "standoff": 15
           },
           "zerolinecolor": "white",
           "zerolinewidth": 2
          },
          "yaxis": {
           "automargin": true,
           "gridcolor": "white",
           "linecolor": "white",
           "ticks": "",
           "title": {
            "standoff": 15
           },
           "zerolinecolor": "white",
           "zerolinewidth": 2
          }
         }
        },
        "title": {
         "text": "Sleep Efficiency by Smoking status"
        },
        "xaxis": {
         "anchor": "y",
         "autorange": true,
         "domain": [
          0,
          1
         ],
         "range": [
          -0.5,
          1.5
         ],
         "title": {
          "text": "Smoking status"
         },
         "type": "category"
        },
        "yaxis": {
         "anchor": "x",
         "autorange": true,
         "domain": [
          0,
          1
         ],
         "range": [
          0.4727777777777778,
          1.0172222222222222
         ],
         "title": {
          "text": "Sleep efficiency"
         },
         "type": "linear"
        }
       }
      },
      "image/png": "[encoded data removed]",
      "text/html": [
       "<div>                            <div id=\"7ce68c2e-7c0c-4969-97fc-372f5e797580\" class=\"plotly-graph-div\" style=\"height:525px; width:100%;\"></div>            <script type=\"text/javascript\">                require([\"plotly\"], function(Plotly) {                    window.PLOTLYENV=window.PLOTLYENV || {};                                    if (document.getElementById(\"7ce68c2e-7c0c-4969-97fc-372f5e797580\")) {                    Plotly.newPlot(                        \"7ce68c2e-7c0c-4969-97fc-372f5e797580\",                        [{\"alignmentgroup\":\"True\",\"hovertemplate\":\"Smoking status=%{x}\\u003cbr\\u003eSleep efficiency=%{y}\\u003cextra\\u003e\\u003c\\u002fextra\\u003e\",\"legendgroup\":\"\",\"marker\":{\"color\":\"#636efa\"},\"name\":\"\",\"notched\":false,\"offsetgroup\":\"\",\"orientation\":\"v\",\"showlegend\":false,\"x\":[\"Yes\",\"Yes\",\"No\",\"Yes\",\"No\",\"No\",\"Yes\",\"Yes\",\"No\",\"No\",\"Yes\",\"No\",\"No\",\"No\",\"Yes\",\"No\",\"Yes\",\"Yes\",\"No\",\"Yes\",\"No\",\"No\",\"No\",\"No\",\"No\",\"No\",\"No\",\"Yes\",\"No\",\"No\",\"Yes\",\"No\",\"Yes\",\"Yes\",\"No\",\"No\",\"Yes\",\"No\",\"Yes\",\"No\",\"No\",\"Yes\",\"Yes\",\"No\",\"No\",\"No\",\"No\",\"Yes\",\"No\",\"No\",\"No\",\"No\",\"No\",\"No\",\"No\",\"No\",\"No\",\"Yes\",\"No\",\"No\",\"No\",\"No\",\"No\",\"No\",\"No\",\"No\",\"No\",\"No\",\"No\",\"Yes\",\"Yes\",\"No\",\"Yes\",\"Yes\",\"No\",\"Yes\",\"No\",\"Yes\",\"No\",\"Yes\",\"Yes\",\"No\",\"Yes\",\"No\",\"No\",\"No\",\"No\",\"No\",\"Yes\",\"No\",\"Yes\",\"No\",\"Yes\",\"No\",\"No\",\"Yes\",\"No\",\"No\",\"No\",\"No\",\"No\",\"No\",\"No\",\"No\",\"No\",\"No\",\"No\",\"Yes\",\"No\",\"Yes\",\"Yes\",\"No\",\"No\",\"Yes\",\"Yes\",\"Yes\",\"Yes\",\"Yes\",\"No\",\"No\",\"No\",\"No\",\"No\",\"Yes\",\"Yes\",\"No\",\"Yes\",\"No\",\"No\",\"No\",\"Yes\",\"Yes\",\"No\",\"No\",\"Yes\",\"No\",\"Yes\",\"Yes\",\"No\",\"No\",\"Yes\",\"Yes\",\"No\",\"No\",\"Yes\",\"Yes\",\"Yes\",\"No\",\"No\",\"No\",\"Yes\",\"No\",\"No\",\"No\",\"Yes\",\"No\",\"No\",\"No\",\"No\",\"Yes\",\"Yes\",\"No\",\"No\",\"Yes\",\"Yes\",\"No\",\"No\",\"No\",\"No\",\"No\",\"No\",\"No\",\"Yes\",\"No\",\"No\",\"No\",\"No\",\"No\",\"Yes\",\"No\",\"Yes\",\"Yes\",\"No\",\"No\",\"No\",\"No\",\"No\",\"No\",\"Yes\",\"No\",\"No\",\"Yes\",\"No\",\"No\",\"No\",\"No\",\"Yes\",\"Yes\",\"No\",\"Yes\",\"No\",\"No\",\"Yes\",\"Yes\",\"No\",\"No\",\"No\",\"Yes\",\"No\",\"Yes\",\"No\",\"No\",\"No\",\"Yes\",\"No\",\"No\",\"No\",\"Yes\",\"No\",\"No\",\"No\",\"Yes\",\"No\",\"No\",\"No\",\"No\",\"No\",\"No\",\"No\",\"No\",\"No\",\"Yes\",\"No\",\"Yes\",\"No\",\"No\",\"No\",\"Yes\",\"No\",\"Yes\",\"No\",\"Yes\",\"No\",\"No\",\"No\",\"No\",\"Yes\",\"No\",\"Yes\",\"No\",\"No\",\"Yes\",\"Yes\",\"No\",\"No\",\"Yes\",\"No\",\"Yes\",\"Yes\",\"No\",\"Yes\",\"No\",\"No\",\"No\",\"No\",\"Yes\",\"Yes\",\"No\",\"No\",\"No\",\"No\",\"No\",\"Yes\",\"Yes\",\"No\",\"No\",\"No\",\"No\",\"No\",\"No\",\"Yes\",\"Yes\",\"No\",\"No\",\"No\",\"Yes\",\"Yes\",\"Yes\",\"No\",\"No\",\"No\",\"No\",\"No\",\"No\",\"No\",\"No\",\"No\",\"Yes\",\"Yes\",\"No\",\"No\",\"No\",\"No\",\"Yes\",\"No\",\"No\",\"Yes\",\"Yes\",\"No\",\"No\",\"No\",\"No\",\"No\",\"No\",\"Yes\",\"No\",\"No\",\"No\",\"No\",\"No\",\"Yes\",\"No\",\"Yes\",\"No\",\"No\",\"Yes\",\"Yes\",\"No\",\"No\",\"Yes\",\"No\",\"Yes\",\"No\",\"No\",\"Yes\",\"Yes\",\"No\",\"No\",\"No\",\"No\",\"No\",\"No\",\"Yes\",\"No\",\"No\",\"Yes\",\"No\",\"No\",\"Yes\",\"Yes\",\"No\",\"No\",\"No\",\"No\",\"Yes\",\"Yes\",\"No\",\"Yes\",\"Yes\",\"No\",\"Yes\",\"Yes\",\"No\",\"No\",\"Yes\",\"No\",\"No\",\"Yes\",\"Yes\",\"No\",\"No\",\"Yes\",\"No\",\"Yes\",\"No\",\"No\",\"No\",\"No\",\"No\",\"No\",\"No\",\"No\",\"No\",\"Yes\",\"Yes\",\"No\",\"No\",\"No\",\"No\",\"No\",\"No\",\"Yes\",\"Yes\",\"No\",\"Yes\",\"No\",\"No\",\"No\",\"No\",\"No\",\"No\",\"Yes\",\"Yes\",\"Yes\",\"Yes\",\"Yes\",\"No\",\"Yes\",\"No\",\"Yes\",\"Yes\",\"No\",\"No\",\"Yes\",\"No\",\"No\",\"No\",\"Yes\",\"No\",\"Yes\",\"Yes\",\"No\",\"No\",\"Yes\",\"Yes\",\"No\",\"No\",\"No\",\"No\",\"No\",\"Yes\",\"No\",\"No\",\"Yes\",\"No\",\"No\",\"No\",\"No\",\"No\",\"Yes\",\"Yes\",\"No\",\"No\",\"No\",\"Yes\",\"Yes\",\"Yes\",\"No\",\"No\",\"Yes\",\"No\",\"No\"],\"x0\":\" \",\"xaxis\":\"x\",\"y\":[0.88,0.66,0.89,0.51,0.76,0.9,0.54,0.9,0.79,0.55,0.92,0.93,0.93,0.64,0.54,0.92,0.54,0.5,0.98,0.89,0.83,0.71,0.84,0.98,0.88,0.91,0.95,0.84,0.65,0.91,0.57,0.68,0.55,0.9,0.94,0.64,0.87,0.82,0.87,0.63,0.83,0.83,0.59,0.87,0.77,0.86,0.91,0.71,0.81,0.81,0.71,0.71,0.52,0.65,0.84,0.84,0.99,0.91,0.71,0.8,0.95,0.91,0.81,0.93,0.85,0.77,0.84,0.87,0.8,0.52,0.54,0.88,0.64,0.87,0.77,0.68,0.94,0.7,0.79,0.77,0.86,0.81,0.88,0.78,0.64,0.88,0.78,0.71,0.97,0.77,0.8,0.94,0.52,0.76,0.73,0.73,0.96,0.91,0.8,0.77,0.81,0.71,0.95,0.64,0.94,0.87,0.63,0.88,0.9,0.94,0.91,0.9,0.8,0.85,0.89,0.53,0.87,0.5,0.93,0.72,0.92,0.62,0.93,0.91,0.63,0.77,0.51,0.94,0.73,0.78,0.55,0.83,0.94,0.95,0.59,0.82,0.9,0.77,0.83,0.65,0.54,0.51,0.81,0.87,0.75,0.57,0.58,0.81,0.75,0.6,0.53,0.93,0.89,0.7,0.74,0.92,0.93,0.95,0.6,0.93,0.81,0.95,0.72,0.9,0.95,0.91,0.85,0.9,0.92,0.6,0.89,0.67,0.51,0.78,0.95,0.68,0.68,0.94,0.78,0.9,0.83,0.8,0.96,0.91,0.96,0.94,0.63,0.73,0.87,0.76,0.68,0.94,0.95,0.62,0.91,0.67,0.94,0.79,0.86,0.83,0.73,0.71,0.87,0.5,0.92,0.79,0.98,0.93,0.88,0.77,0.86,0.54,0.8,0.86,0.61,0.72,0.72,0.55,0.96,0.58,0.77,0.85,0.95,0.69,0.95,0.82,0.93,0.82,0.94,0.75,0.91,0.65,0.87,0.84,0.85,0.91,0.71,0.82,0.77,0.95,0.95,0.76,0.85,0.75,0.92,0.78,0.91,0.85,0.95,0.66,0.63,0.86,0.54,0.95,0.72,0.52,0.93,0.52,0.61,0.79,0.94,0.76,0.76,0.78,0.94,0.87,0.55,0.93,0.93,0.94,0.78,0.94,0.5,0.93,0.73,0.9,0.87,0.93,0.9,0.67,0.9,0.9,0.98,0.66,0.68,0.56,0.62,0.52,0.96,0.81,0.84,0.93,0.87,0.86,0.89,0.94,0.84,0.86,0.75,0.6,0.93,0.75,0.81,0.78,0.84,0.9,0.9,0.67,0.93,0.8,0.63,0.9,0.9,0.86,0.51,0.71,0.87,0.7,0.85,0.87,0.6,0.83,0.8,0.93,0.75,0.5,0.5,0.67,0.96,0.52,0.68,0.72,0.56,0.91,0.85,0.72,0.9,0.77,0.89,0.9,0.85,0.95,0.51,0.9,0.9,0.51,0.84,0.82,0.88,0.79,0.64,0.84,0.86,0.71,0.9,0.82,0.95,0.95,0.54,0.95,0.53,0.92,0.85,0.92,0.53,0.75,0.82,0.74,0.87,0.72,0.87,0.53,0.72,0.87,0.66,0.66,0.72,0.81,0.88,0.94,0.83,0.91,0.95,0.9,0.95,0.9,0.62,0.93,0.79,0.91,0.81,0.52,0.52,0.84,0.67,0.83,0.63,0.64,0.91,0.82,0.92,0.92,0.93,0.87,0.64,0.9,0.82,0.86,0.73,0.9,0.68,0.82,0.74,0.88,0.72,0.67,0.87,0.66,0.66,0.87,0.51,0.79,0.8,0.55,0.85,0.88,0.88,0.93,0.63,0.92,0.8,0.92,0.77,0.9,0.9,0.96,0.72,0.86,0.9,0.5,0.88,0.6,0.68,0.67,0.58,0.53,0.5,0.91,0.74,0.55,0.76,0.63],\"y0\":\" \",\"yaxis\":\"y\",\"type\":\"box\"}],                        {\"template\":{\"data\":{\"histogram2dcontour\":[{\"type\":\"histogram2dcontour\",\"colorbar\":{\"outlinewidth\":0,\"ticks\":\"\"},\"colorscale\":[[0.0,\"#0d0887\"],[0.1111111111111111,\"#46039f\"],[0.2222222222222222,\"#7201a8\"],[0.3333333333333333,\"#9c179e\"],[0.4444444444444444,\"#bd3786\"],[0.5555555555555556,\"#d8576b\"],[0.6666666666666666,\"#ed7953\"],[0.7777777777777778,\"#fb9f3a\"],[0.8888888888888888,\"#fdca26\"],[1.0,\"#f0f921\"]]}],\"choropleth\":[{\"type\":\"choropleth\",\"colorbar\":{\"outlinewidth\":0,\"ticks\":\"\"}}],\"histogram2d\":[{\"type\":\"histogram2d\",\"colorbar\":{\"outlinewidth\":0,\"ticks\":\"\"},\"colorscale\":[[0.0,\"#0d0887\"],[0.1111111111111111,\"#46039f\"],[0.2222222222222222,\"#7201a8\"],[0.3333333333333333,\"#9c179e\"],[0.4444444444444444,\"#bd3786\"],[0.5555555555555556,\"#d8576b\"],[0.6666666666666666,\"#ed7953\"],[0.7777777777777778,\"#fb9f3a\"],[0.8888888888888888,\"#fdca26\"],[1.0,\"#f0f921\"]]}],\"heatmap\":[{\"type\":\"heatmap\",\"colorbar\":{\"outlinewidth\":0,\"ticks\":\"\"},\"colorscale\":[[0.0,\"#0d0887\"],[0.1111111111111111,\"#46039f\"],[0.2222222222222222,\"#7201a8\"],[0.3333333333333333,\"#9c179e\"],[0.4444444444444444,\"#bd3786\"],[0.5555555555555556,\"#d8576b\"],[0.6666666666666666,\"#ed7953\"],[0.7777777777777778,\"#fb9f3a\"],[0.8888888888888888,\"#fdca26\"],[1.0,\"#f0f921\"]]}],\"heatmapgl\":[{\"type\":\"heatmapgl\",\"colorbar\":{\"outlinewidth\":0,\"ticks\":\"\"},\"colorscale\":[[0.0,\"#0d0887\"],[0.1111111111111111,\"#46039f\"],[0.2222222222222222,\"#7201a8\"],[0.3333333333333333,\"#9c179e\"],[0.4444444444444444,\"#bd3786\"],[0.5555555555555556,\"#d8576b\"],[0.6666666666666666,\"#ed7953\"],[0.7777777777777778,\"#fb9f3a\"],[0.8888888888888888,\"#fdca26\"],[1.0,\"#f0f921\"]]}],\"contourcarpet\":[{\"type\":\"contourcarpet\",\"colorbar\":{\"outlinewidth\":0,\"ticks\":\"\"}}],\"contour\":[{\"type\":\"contour\",\"colorbar\":{\"outlinewidth\":0,\"ticks\":\"\"},\"colorscale\":[[0.0,\"#0d0887\"],[0.1111111111111111,\"#46039f\"],[0.2222222222222222,\"#7201a8\"],[0.3333333333333333,\"#9c179e\"],[0.4444444444444444,\"#bd3786\"],[0.5555555555555556,\"#d8576b\"],[0.6666666666666666,\"#ed7953\"],[0.7777777777777778,\"#fb9f3a\"],[0.8888888888888888,\"#fdca26\"],[1.0,\"#f0f921\"]]}],\"surface\":[{\"type\":\"surface\",\"colorbar\":{\"outlinewidth\":0,\"ticks\":\"\"},\"colorscale\":[[0.0,\"#0d0887\"],[0.1111111111111111,\"#46039f\"],[0.2222222222222222,\"#7201a8\"],[0.3333333333333333,\"#9c179e\"],[0.4444444444444444,\"#bd3786\"],[0.5555555555555556,\"#d8576b\"],[0.6666666666666666,\"#ed7953\"],[0.7777777777777778,\"#fb9f3a\"],[0.8888888888888888,\"#fdca26\"],[1.0,\"#f0f921\"]]}],\"mesh3d\":[{\"type\":\"mesh3d\",\"colorbar\":{\"outlinewidth\":0,\"ticks\":\"\"}}],\"scatter\":[{\"fillpattern\":{\"fillmode\":\"overlay\",\"size\":10,\"solidity\":0.2},\"type\":\"scatter\"}],\"parcoords\":[{\"type\":\"parcoords\",\"line\":{\"colorbar\":{\"outlinewidth\":0,\"ticks\":\"\"}}}],\"scatterpolargl\":[{\"type\":\"scatterpolargl\",\"marker\":{\"colorbar\":{\"outlinewidth\":0,\"ticks\":\"\"}}}],\"bar\":[{\"error_x\":{\"color\":\"#2a3f5f\"},\"error_y\":{\"color\":\"#2a3f5f\"},\"marker\":{\"line\":{\"color\":\"#E5ECF6\",\"width\":0.5},\"pattern\":{\"fillmode\":\"overlay\",\"size\":10,\"solidity\":0.2}},\"type\":\"bar\"}],\"scattergeo\":[{\"type\":\"scattergeo\",\"marker\":{\"colorbar\":{\"outlinewidth\":0,\"ticks\":\"\"}}}],\"scatterpolar\":[{\"type\":\"scatterpolar\",\"marker\":{\"colorbar\":{\"outlinewidth\":0,\"ticks\":\"\"}}}],\"histogram\":[{\"marker\":{\"pattern\":{\"fillmode\":\"overlay\",\"size\":10,\"solidity\":0.2}},\"type\":\"histogram\"}],\"scattergl\":[{\"type\":\"scattergl\",\"marker\":{\"colorbar\":{\"outlinewidth\":0,\"ticks\":\"\"}}}],\"scatter3d\":[{\"type\":\"scatter3d\",\"line\":{\"colorbar\":{\"outlinewidth\":0,\"ticks\":\"\"}},\"marker\":{\"colorbar\":{\"outlinewidth\":0,\"ticks\":\"\"}}}],\"scattermapbox\":[{\"type\":\"scattermapbox\",\"marker\":{\"colorbar\":{\"outlinewidth\":0,\"ticks\":\"\"}}}],\"scatterternary\":[{\"type\":\"scatterternary\",\"marker\":{\"colorbar\":{\"outlinewidth\":0,\"ticks\":\"\"}}}],\"scattercarpet\":[{\"type\":\"scattercarpet\",\"marker\":{\"colorbar\":{\"outlinewidth\":0,\"ticks\":\"\"}}}],\"carpet\":[{\"aaxis\":{\"endlinecolor\":\"#2a3f5f\",\"gridcolor\":\"white\",\"linecolor\":\"white\",\"minorgridcolor\":\"white\",\"startlinecolor\":\"#2a3f5f\"},\"baxis\":{\"endlinecolor\":\"#2a3f5f\",\"gridcolor\":\"white\",\"linecolor\":\"white\",\"minorgridcolor\":\"white\",\"startlinecolor\":\"#2a3f5f\"},\"type\":\"carpet\"}],\"table\":[{\"cells\":{\"fill\":{\"color\":\"#EBF0F8\"},\"line\":{\"color\":\"white\"}},\"header\":{\"fill\":{\"color\":\"#C8D4E3\"},\"line\":{\"color\":\"white\"}},\"type\":\"table\"}],\"barpolar\":[{\"marker\":{\"line\":{\"color\":\"#E5ECF6\",\"width\":0.5},\"pattern\":{\"fillmode\":\"overlay\",\"size\":10,\"solidity\":0.2}},\"type\":\"barpolar\"}],\"pie\":[{\"automargin\":true,\"type\":\"pie\"}]},\"layout\":{\"autotypenumbers\":\"strict\",\"colorway\":[\"#636efa\",\"#EF553B\",\"#00cc96\",\"#ab63fa\",\"#FFA15A\",\"#19d3f3\",\"#FF6692\",\"#B6E880\",\"#FF97FF\",\"#FECB52\"],\"font\":{\"color\":\"#2a3f5f\"},\"hovermode\":\"closest\",\"hoverlabel\":{\"align\":\"left\"},\"paper_bgcolor\":\"white\",\"plot_bgcolor\":\"#E5ECF6\",\"polar\":{\"bgcolor\":\"#E5ECF6\",\"angularaxis\":{\"gridcolor\":\"white\",\"linecolor\":\"white\",\"ticks\":\"\"},\"radialaxis\":{\"gridcolor\":\"white\",\"linecolor\":\"white\",\"ticks\":\"\"}},\"ternary\":{\"bgcolor\":\"#E5ECF6\",\"aaxis\":{\"gridcolor\":\"white\",\"linecolor\":\"white\",\"ticks\":\"\"},\"baxis\":{\"gridcolor\":\"white\",\"linecolor\":\"white\",\"ticks\":\"\"},\"caxis\":{\"gridcolor\":\"white\",\"linecolor\":\"white\",\"ticks\":\"\"}},\"coloraxis\":{\"colorbar\":{\"outlinewidth\":0,\"ticks\":\"\"}},\"colorscale\":{\"sequential\":[[0.0,\"#0d0887\"],[0.1111111111111111,\"#46039f\"],[0.2222222222222222,\"#7201a8\"],[0.3333333333333333,\"#9c179e\"],[0.4444444444444444,\"#bd3786\"],[0.5555555555555556,\"#d8576b\"],[0.6666666666666666,\"#ed7953\"],[0.7777777777777778,\"#fb9f3a\"],[0.8888888888888888,\"#fdca26\"],[1.0,\"#f0f921\"]],\"sequentialminus\":[[0.0,\"#0d0887\"],[0.1111111111111111,\"#46039f\"],[0.2222222222222222,\"#7201a8\"],[0.3333333333333333,\"#9c179e\"],[0.4444444444444444,\"#bd3786\"],[0.5555555555555556,\"#d8576b\"],[0.6666666666666666,\"#ed7953\"],[0.7777777777777778,\"#fb9f3a\"],[0.8888888888888888,\"#fdca26\"],[1.0,\"#f0f921\"]],\"diverging\":[[0,\"#8e0152\"],[0.1,\"#c51b7d\"],[0.2,\"#de77ae\"],[0.3,\"#f1b6da\"],[0.4,\"#fde0ef\"],[0.5,\"#f7f7f7\"],[0.6,\"#e6f5d0\"],[0.7,\"#b8e186\"],[0.8,\"#7fbc41\"],[0.9,\"#4d9221\"],[1,\"#276419\"]]},\"xaxis\":{\"gridcolor\":\"white\",\"linecolor\":\"white\",\"ticks\":\"\",\"title\":{\"standoff\":15},\"zerolinecolor\":\"white\",\"automargin\":true,\"zerolinewidth\":2},\"yaxis\":{\"gridcolor\":\"white\",\"linecolor\":\"white\",\"ticks\":\"\",\"title\":{\"standoff\":15},\"zerolinecolor\":\"white\",\"automargin\":true,\"zerolinewidth\":2},\"scene\":{\"xaxis\":{\"backgroundcolor\":\"#E5ECF6\",\"gridcolor\":\"white\",\"linecolor\":\"white\",\"showbackground\":true,\"ticks\":\"\",\"zerolinecolor\":\"white\",\"gridwidth\":2},\"yaxis\":{\"backgroundcolor\":\"#E5ECF6\",\"gridcolor\":\"white\",\"linecolor\":\"white\",\"showbackground\":true,\"ticks\":\"\",\"zerolinecolor\":\"white\",\"gridwidth\":2},\"zaxis\":{\"backgroundcolor\":\"#E5ECF6\",\"gridcolor\":\"white\",\"linecolor\":\"white\",\"showbackground\":true,\"ticks\":\"\",\"zerolinecolor\":\"white\",\"gridwidth\":2}},\"shapedefaults\":{\"line\":{\"color\":\"#2a3f5f\"}},\"annotationdefaults\":{\"arrowcolor\":\"#2a3f5f\",\"arrowhead\":0,\"arrowwidth\":1},\"geo\":{\"bgcolor\":\"white\",\"landcolor\":\"#E5ECF6\",\"subunitcolor\":\"white\",\"showland\":true,\"showlakes\":true,\"lakecolor\":\"white\"},\"title\":{\"x\":0.05},\"mapbox\":{\"style\":\"light\"}}},\"xaxis\":{\"anchor\":\"y\",\"domain\":[0.0,1.0],\"title\":{\"text\":\"Smoking status\"}},\"yaxis\":{\"anchor\":\"x\",\"domain\":[0.0,1.0],\"title\":{\"text\":\"Sleep efficiency\"}},\"legend\":{\"tracegroupgap\":0},\"title\":{\"text\":\"Sleep Efficiency by Smoking status\"},\"boxmode\":\"group\"},                        {\"responsive\": true}                    ).then(function(){\n",
       "                            \n",
       "var gd = document.getElementById('7ce68c2e-7c0c-4969-97fc-372f5e797580');\n",
       "var x = new MutationObserver(function (mutations, observer) {{\n",
       "        var display = window.getComputedStyle(gd).display;\n",
       "        if (!display || display === 'none') {{\n",
       "            console.log([gd, 'removed!']);\n",
       "            Plotly.purge(gd);\n",
       "            observer.disconnect();\n",
       "        }}\n",
       "}});\n",
       "\n",
       "// Listen for the removal of the full notebook cells\n",
       "var notebookContainer = gd.closest('#notebook-container');\n",
       "if (notebookContainer) {{\n",
       "    x.observe(notebookContainer, {childList: true});\n",
       "}}\n",
       "\n",
       "// Listen for the clearing of the current output cell\n",
       "var outputEl = gd.closest('.output');\n",
       "if (outputEl) {{\n",
       "    x.observe(outputEl, {childList: true});\n",
       "}}\n",
       "\n",
       "                        })                };                });            </script>        </div>"
      ]
     },
     "metadata": {},
     "output_type": "display_data"
    }
   ],
   "source": [
    "fig = px.box(df, y = \"Sleep efficiency\", x = \"Smoking status\", title = \"Sleep Efficiency by Smoking status\")\n",
    "fig.show()"
   ]
  },
  {
   "cell_type": "code",
   "execution_count": 167,
   "id": "24f83194-6490-4572-93de-262f75ce7d5a",
   "metadata": {},
   "outputs": [
    {
     "data": {
      "application/vnd.plotly.v1+json": {
       "config": {
        "plotlyServerURL": "https://plot.ly"
       },
       "data": [
        {
         "alignmentgroup": "True",
         "hovertemplate": "Age=%{x}<br>Sleep efficiency=%{y}<extra></extra>",
         "legendgroup": "",
         "marker": {
          "color": "#636efa"
         },
         "name": "",
         "notched": false,
         "offsetgroup": "",
         "orientation": "v",
         "showlegend": false,
         "type": "box",
         "x": [
          65,
          69,
          40,
          40,
          57,
          36,
          27,
          53,
          41,
          11,
          50,
          55,
          30,
          28,
          36,
          32,
          21,
          40,
          43,
          52,
          24,
          32,
          29,
          63,
          24,
          52,
          36,
          35,
          23,
          47,
          24,
          18,
          26,
          37,
          46,
          61,
          38,
          20,
          28,
          58,
          46,
          52,
          29,
          31,
          34,
          40,
          55,
          27,
          21,
          37,
          29,
          65,
          9,
          16,
          18,
          37,
          54,
          43,
          34,
          34,
          32,
          56,
          29,
          35,
          30,
          21,
          25,
          52,
          46,
          40,
          30,
          32,
          55,
          58,
          47,
          44,
          47,
          46,
          43,
          54,
          55,
          29,
          66,
          40,
          50,
          53,
          50,
          50,
          48,
          24,
          45,
          57,
          39,
          43,
          51,
          61,
          41,
          53,
          32,
          65,
          38,
          53,
          55,
          44,
          38,
          40,
          53,
          24,
          39,
          47,
          51,
          25,
          23,
          54,
          32,
          22,
          50,
          30,
          52,
          52,
          51,
          15,
          48,
          19,
          56,
          25,
          54,
          37,
          33,
          25,
          29,
          36,
          32,
          37,
          27,
          48,
          52,
          36,
          55,
          52,
          37,
          28,
          48,
          25,
          65,
          31,
          42,
          40,
          26,
          33,
          65,
          50,
          22,
          41,
          68,
          61,
          23,
          45,
          14,
          30,
          42,
          42,
          53,
          49,
          48,
          48,
          40,
          48,
          35,
          55,
          24,
          33,
          27,
          24,
          48,
          42,
          62,
          44,
          39,
          53,
          37,
          29,
          49,
          24,
          48,
          36,
          37,
          27,
          21,
          52,
          53,
          27,
          24,
          18,
          44,
          61,
          30,
          48,
          32,
          52,
          61,
          64,
          59,
          38,
          31,
          32,
          31,
          41,
          32,
          61,
          61,
          10,
          36,
          29,
          27,
          22,
          22,
          40,
          56,
          13,
          37,
          41,
          52,
          63,
          38,
          60,
          29,
          29,
          30,
          26,
          32,
          55,
          36,
          53,
          18,
          28,
          58,
          51,
          37,
          41,
          32,
          56,
          43,
          52,
          37,
          67,
          36,
          29,
          25,
          61,
          29,
          31,
          23,
          46,
          47,
          65,
          35,
          27,
          54,
          48,
          46,
          37,
          31,
          23,
          48,
          44,
          24,
          30,
          45,
          27,
          44,
          50,
          58,
          49,
          46,
          27,
          37,
          48,
          42,
          48,
          25,
          64,
          53,
          38,
          17,
          27,
          50,
          40,
          34,
          26,
          54,
          46,
          38,
          24,
          38,
          29,
          51,
          27,
          35,
          22,
          47,
          25,
          25,
          51,
          25,
          65,
          27,
          41,
          56,
          28,
          33,
          22,
          50,
          25,
          54,
          40,
          58,
          45,
          55,
          54,
          60,
          25,
          30,
          41,
          44,
          52,
          29,
          44,
          42,
          26,
          49,
          46,
          12,
          27,
          39,
          44,
          50,
          52,
          44,
          57,
          53,
          65,
          41,
          52,
          53,
          25,
          51,
          30,
          57,
          24,
          24,
          19,
          52,
          45,
          29,
          39,
          51,
          27,
          41,
          65,
          56,
          27,
          28,
          30,
          37,
          22,
          52,
          56,
          56,
          41,
          40,
          32,
          29,
          39,
          65,
          60,
          48,
          21,
          25,
          61,
          35,
          22,
          40,
          39,
          40,
          32,
          62,
          48,
          22,
          36,
          21,
          37,
          37,
          56,
          55,
          56,
          57,
          59,
          30,
          32,
          37,
          48,
          38,
          58,
          24,
          56,
          53,
          35,
          61,
          32,
          58,
          53,
          27,
          51,
          28,
          49,
          49,
          44,
          51,
          21,
          55,
          44,
          41,
          41,
          19,
          26,
          26,
          54,
          23,
          52,
          38,
          37,
          55,
          29,
          28,
          40,
          59,
          56,
          55,
          25,
          28,
          46,
          27,
          65,
          24,
          30,
          23,
          27,
          52,
          40,
          45,
          18
         ],
         "x0": " ",
         "xaxis": "x",
         "y": [
          0.88,
          0.66,
          0.89,
          0.51,
          0.76,
          0.9,
          0.54,
          0.9,
          0.79,
          0.55,
          0.92,
          0.93,
          0.93,
          0.64,
          0.54,
          0.92,
          0.54,
          0.5,
          0.98,
          0.89,
          0.83,
          0.71,
          0.84,
          0.98,
          0.88,
          0.91,
          0.95,
          0.84,
          0.65,
          0.91,
          0.57,
          0.68,
          0.55,
          0.9,
          0.94,
          0.64,
          0.87,
          0.82,
          0.87,
          0.63,
          0.83,
          0.83,
          0.59,
          0.87,
          0.77,
          0.86,
          0.91,
          0.71,
          0.81,
          0.81,
          0.71,
          0.71,
          0.52,
          0.65,
          0.84,
          0.84,
          0.99,
          0.91,
          0.71,
          0.8,
          0.95,
          0.91,
          0.81,
          0.93,
          0.85,
          0.77,
          0.84,
          0.87,
          0.8,
          0.52,
          0.54,
          0.88,
          0.64,
          0.87,
          0.77,
          0.68,
          0.94,
          0.7,
          0.79,
          0.77,
          0.86,
          0.81,
          0.88,
          0.78,
          0.64,
          0.88,
          0.78,
          0.71,
          0.97,
          0.77,
          0.8,
          0.94,
          0.52,
          0.76,
          0.73,
          0.73,
          0.96,
          0.91,
          0.8,
          0.77,
          0.81,
          0.71,
          0.95,
          0.64,
          0.94,
          0.87,
          0.63,
          0.88,
          0.9,
          0.94,
          0.91,
          0.9,
          0.8,
          0.85,
          0.89,
          0.53,
          0.87,
          0.5,
          0.93,
          0.72,
          0.92,
          0.62,
          0.93,
          0.91,
          0.63,
          0.77,
          0.51,
          0.94,
          0.73,
          0.78,
          0.55,
          0.83,
          0.94,
          0.95,
          0.59,
          0.82,
          0.9,
          0.77,
          0.83,
          0.65,
          0.54,
          0.51,
          0.81,
          0.87,
          0.75,
          0.57,
          0.58,
          0.81,
          0.75,
          0.6,
          0.53,
          0.93,
          0.89,
          0.7,
          0.74,
          0.92,
          0.93,
          0.95,
          0.6,
          0.93,
          0.81,
          0.95,
          0.72,
          0.9,
          0.95,
          0.91,
          0.85,
          0.9,
          0.92,
          0.6,
          0.89,
          0.67,
          0.51,
          0.78,
          0.95,
          0.68,
          0.68,
          0.94,
          0.78,
          0.9,
          0.83,
          0.8,
          0.96,
          0.91,
          0.96,
          0.94,
          0.63,
          0.73,
          0.87,
          0.76,
          0.68,
          0.94,
          0.95,
          0.62,
          0.91,
          0.67,
          0.94,
          0.79,
          0.86,
          0.83,
          0.73,
          0.71,
          0.87,
          0.5,
          0.92,
          0.79,
          0.98,
          0.93,
          0.88,
          0.77,
          0.86,
          0.54,
          0.8,
          0.86,
          0.61,
          0.72,
          0.72,
          0.55,
          0.96,
          0.58,
          0.77,
          0.85,
          0.95,
          0.69,
          0.95,
          0.82,
          0.93,
          0.82,
          0.94,
          0.75,
          0.91,
          0.65,
          0.87,
          0.84,
          0.85,
          0.91,
          0.71,
          0.82,
          0.77,
          0.95,
          0.95,
          0.76,
          0.85,
          0.75,
          0.92,
          0.78,
          0.91,
          0.85,
          0.95,
          0.66,
          0.63,
          0.86,
          0.54,
          0.95,
          0.72,
          0.52,
          0.93,
          0.52,
          0.61,
          0.79,
          0.94,
          0.76,
          0.76,
          0.78,
          0.94,
          0.87,
          0.55,
          0.93,
          0.93,
          0.94,
          0.78,
          0.94,
          0.5,
          0.93,
          0.73,
          0.9,
          0.87,
          0.93,
          0.9,
          0.67,
          0.9,
          0.9,
          0.98,
          0.66,
          0.68,
          0.56,
          0.62,
          0.52,
          0.96,
          0.81,
          0.84,
          0.93,
          0.87,
          0.86,
          0.89,
          0.94,
          0.84,
          0.86,
          0.75,
          0.6,
          0.93,
          0.75,
          0.81,
          0.78,
          0.84,
          0.9,
          0.9,
          0.67,
          0.93,
          0.8,
          0.63,
          0.9,
          0.9,
          0.86,
          0.51,
          0.71,
          0.87,
          0.7,
          0.85,
          0.87,
          0.6,
          0.83,
          0.8,
          0.93,
          0.75,
          0.5,
          0.5,
          0.67,
          0.96,
          0.52,
          0.68,
          0.72,
          0.56,
          0.91,
          0.85,
          0.72,
          0.9,
          0.77,
          0.89,
          0.9,
          0.85,
          0.95,
          0.51,
          0.9,
          0.9,
          0.51,
          0.84,
          0.82,
          0.88,
          0.79,
          0.64,
          0.84,
          0.86,
          0.71,
          0.9,
          0.82,
          0.95,
          0.95,
          0.54,
          0.95,
          0.53,
          0.92,
          0.85,
          0.92,
          0.53,
          0.75,
          0.82,
          0.74,
          0.87,
          0.72,
          0.87,
          0.53,
          0.72,
          0.87,
          0.66,
          0.66,
          0.72,
          0.81,
          0.88,
          0.94,
          0.83,
          0.91,
          0.95,
          0.9,
          0.95,
          0.9,
          0.62,
          0.93,
          0.79,
          0.91,
          0.81,
          0.52,
          0.52,
          0.84,
          0.67,
          0.83,
          0.63,
          0.64,
          0.91,
          0.82,
          0.92,
          0.92,
          0.93,
          0.87,
          0.64,
          0.9,
          0.82,
          0.86,
          0.73,
          0.9,
          0.68,
          0.82,
          0.74,
          0.88,
          0.72,
          0.67,
          0.87,
          0.66,
          0.66,
          0.87,
          0.51,
          0.79,
          0.8,
          0.55,
          0.85,
          0.88,
          0.88,
          0.93,
          0.63,
          0.92,
          0.8,
          0.92,
          0.77,
          0.9,
          0.9,
          0.96,
          0.72,
          0.86,
          0.9,
          0.5,
          0.88,
          0.6,
          0.68,
          0.67,
          0.58,
          0.53,
          0.5,
          0.91,
          0.74,
          0.55,
          0.76,
          0.63
         ],
         "y0": " ",
         "yaxis": "y"
        }
       ],
       "layout": {
        "autosize": true,
        "boxmode": "group",
        "legend": {
         "tracegroupgap": 0
        },
        "template": {
         "data": {
          "bar": [
           {
            "error_x": {
             "color": "#2a3f5f"
            },
            "error_y": {
             "color": "#2a3f5f"
            },
            "marker": {
             "line": {
              "color": "#E5ECF6",
              "width": 0.5
             },
             "pattern": {
              "fillmode": "overlay",
              "size": 10,
              "solidity": 0.2
             }
            },
            "type": "bar"
           }
          ],
          "barpolar": [
           {
            "marker": {
             "line": {
              "color": "#E5ECF6",
              "width": 0.5
             },
             "pattern": {
              "fillmode": "overlay",
              "size": 10,
              "solidity": 0.2
             }
            },
            "type": "barpolar"
           }
          ],
          "carpet": [
           {
            "aaxis": {
             "endlinecolor": "#2a3f5f",
             "gridcolor": "white",
             "linecolor": "white",
             "minorgridcolor": "white",
             "startlinecolor": "#2a3f5f"
            },
            "baxis": {
             "endlinecolor": "#2a3f5f",
             "gridcolor": "white",
             "linecolor": "white",
             "minorgridcolor": "white",
             "startlinecolor": "#2a3f5f"
            },
            "type": "carpet"
           }
          ],
          "choropleth": [
           {
            "colorbar": {
             "outlinewidth": 0,
             "ticks": ""
            },
            "type": "choropleth"
           }
          ],
          "contour": [
           {
            "colorbar": {
             "outlinewidth": 0,
             "ticks": ""
            },
            "colorscale": [
             [
              0,
              "#0d0887"
             ],
             [
              0.1111111111111111,
              "#46039f"
             ],
             [
              0.2222222222222222,
              "#7201a8"
             ],
             [
              0.3333333333333333,
              "#9c179e"
             ],
             [
              0.4444444444444444,
              "#bd3786"
             ],
             [
              0.5555555555555556,
              "#d8576b"
             ],
             [
              0.6666666666666666,
              "#ed7953"
             ],
             [
              0.7777777777777778,
              "#fb9f3a"
             ],
             [
              0.8888888888888888,
              "#fdca26"
             ],
             [
              1,
              "#f0f921"
             ]
            ],
            "type": "contour"
           }
          ],
          "contourcarpet": [
           {
            "colorbar": {
             "outlinewidth": 0,
             "ticks": ""
            },
            "type": "contourcarpet"
           }
          ],
          "heatmap": [
           {
            "colorbar": {
             "outlinewidth": 0,
             "ticks": ""
            },
            "colorscale": [
             [
              0,
              "#0d0887"
             ],
             [
              0.1111111111111111,
              "#46039f"
             ],
             [
              0.2222222222222222,
              "#7201a8"
             ],
             [
              0.3333333333333333,
              "#9c179e"
             ],
             [
              0.4444444444444444,
              "#bd3786"
             ],
             [
              0.5555555555555556,
              "#d8576b"
             ],
             [
              0.6666666666666666,
              "#ed7953"
             ],
             [
              0.7777777777777778,
              "#fb9f3a"
             ],
             [
              0.8888888888888888,
              "#fdca26"
             ],
             [
              1,
              "#f0f921"
             ]
            ],
            "type": "heatmap"
           }
          ],
          "heatmapgl": [
           {
            "colorbar": {
             "outlinewidth": 0,
             "ticks": ""
            },
            "colorscale": [
             [
              0,
              "#0d0887"
             ],
             [
              0.1111111111111111,
              "#46039f"
             ],
             [
              0.2222222222222222,
              "#7201a8"
             ],
             [
              0.3333333333333333,
              "#9c179e"
             ],
             [
              0.4444444444444444,
              "#bd3786"
             ],
             [
              0.5555555555555556,
              "#d8576b"
             ],
             [
              0.6666666666666666,
              "#ed7953"
             ],
             [
              0.7777777777777778,
              "#fb9f3a"
             ],
             [
              0.8888888888888888,
              "#fdca26"
             ],
             [
              1,
              "#f0f921"
             ]
            ],
            "type": "heatmapgl"
           }
          ],
          "histogram": [
           {
            "marker": {
             "pattern": {
              "fillmode": "overlay",
              "size": 10,
              "solidity": 0.2
             }
            },
            "type": "histogram"
           }
          ],
          "histogram2d": [
           {
            "colorbar": {
             "outlinewidth": 0,
             "ticks": ""
            },
            "colorscale": [
             [
              0,
              "#0d0887"
             ],
             [
              0.1111111111111111,
              "#46039f"
             ],
             [
              0.2222222222222222,
              "#7201a8"
             ],
             [
              0.3333333333333333,
              "#9c179e"
             ],
             [
              0.4444444444444444,
              "#bd3786"
             ],
             [
              0.5555555555555556,
              "#d8576b"
             ],
             [
              0.6666666666666666,
              "#ed7953"
             ],
             [
              0.7777777777777778,
              "#fb9f3a"
             ],
             [
              0.8888888888888888,
              "#fdca26"
             ],
             [
              1,
              "#f0f921"
             ]
            ],
            "type": "histogram2d"
           }
          ],
          "histogram2dcontour": [
           {
            "colorbar": {
             "outlinewidth": 0,
             "ticks": ""
            },
            "colorscale": [
             [
              0,
              "#0d0887"
             ],
             [
              0.1111111111111111,
              "#46039f"
             ],
             [
              0.2222222222222222,
              "#7201a8"
             ],
             [
              0.3333333333333333,
              "#9c179e"
             ],
             [
              0.4444444444444444,
              "#bd3786"
             ],
             [
              0.5555555555555556,
              "#d8576b"
             ],
             [
              0.6666666666666666,
              "#ed7953"
             ],
             [
              0.7777777777777778,
              "#fb9f3a"
             ],
             [
              0.8888888888888888,
              "#fdca26"
             ],
             [
              1,
              "#f0f921"
             ]
            ],
            "type": "histogram2dcontour"
           }
          ],
          "mesh3d": [
           {
            "colorbar": {
             "outlinewidth": 0,
             "ticks": ""
            },
            "type": "mesh3d"
           }
          ],
          "parcoords": [
           {
            "line": {
             "colorbar": {
              "outlinewidth": 0,
              "ticks": ""
             }
            },
            "type": "parcoords"
           }
          ],
          "pie": [
           {
            "automargin": true,
            "type": "pie"
           }
          ],
          "scatter": [
           {
            "fillpattern": {
             "fillmode": "overlay",
             "size": 10,
             "solidity": 0.2
            },
            "type": "scatter"
           }
          ],
          "scatter3d": [
           {
            "line": {
             "colorbar": {
              "outlinewidth": 0,
              "ticks": ""
             }
            },
            "marker": {
             "colorbar": {
              "outlinewidth": 0,
              "ticks": ""
             }
            },
            "type": "scatter3d"
           }
          ],
          "scattercarpet": [
           {
            "marker": {
             "colorbar": {
              "outlinewidth": 0,
              "ticks": ""
             }
            },
            "type": "scattercarpet"
           }
          ],
          "scattergeo": [
           {
            "marker": {
             "colorbar": {
              "outlinewidth": 0,
              "ticks": ""
             }
            },
            "type": "scattergeo"
           }
          ],
          "scattergl": [
           {
            "marker": {
             "colorbar": {
              "outlinewidth": 0,
              "ticks": ""
             }
            },
            "type": "scattergl"
           }
          ],
          "scattermapbox": [
           {
            "marker": {
             "colorbar": {
              "outlinewidth": 0,
              "ticks": ""
             }
            },
            "type": "scattermapbox"
           }
          ],
          "scatterpolar": [
           {
            "marker": {
             "colorbar": {
              "outlinewidth": 0,
              "ticks": ""
             }
            },
            "type": "scatterpolar"
           }
          ],
          "scatterpolargl": [
           {
            "marker": {
             "colorbar": {
              "outlinewidth": 0,
              "ticks": ""
             }
            },
            "type": "scatterpolargl"
           }
          ],
          "scatterternary": [
           {
            "marker": {
             "colorbar": {
              "outlinewidth": 0,
              "ticks": ""
             }
            },
            "type": "scatterternary"
           }
          ],
          "surface": [
           {
            "colorbar": {
             "outlinewidth": 0,
             "ticks": ""
            },
            "colorscale": [
             [
              0,
              "#0d0887"
             ],
             [
              0.1111111111111111,
              "#46039f"
             ],
             [
              0.2222222222222222,
              "#7201a8"
             ],
             [
              0.3333333333333333,
              "#9c179e"
             ],
             [
              0.4444444444444444,
              "#bd3786"
             ],
             [
              0.5555555555555556,
              "#d8576b"
             ],
             [
              0.6666666666666666,
              "#ed7953"
             ],
             [
              0.7777777777777778,
              "#fb9f3a"
             ],
             [
              0.8888888888888888,
              "#fdca26"
             ],
             [
              1,
              "#f0f921"
             ]
            ],
            "type": "surface"
           }
          ],
          "table": [
           {
            "cells": {
             "fill": {
              "color": "#EBF0F8"
             },
             "line": {
              "color": "white"
             }
            },
            "header": {
             "fill": {
              "color": "#C8D4E3"
             },
             "line": {
              "color": "white"
             }
            },
            "type": "table"
           }
          ]
         },
         "layout": {
          "annotationdefaults": {
           "arrowcolor": "#2a3f5f",
           "arrowhead": 0,
           "arrowwidth": 1
          },
          "autotypenumbers": "strict",
          "coloraxis": {
           "colorbar": {
            "outlinewidth": 0,
            "ticks": ""
           }
          },
          "colorscale": {
           "diverging": [
            [
             0,
             "#8e0152"
            ],
            [
             0.1,
             "#c51b7d"
            ],
            [
             0.2,
             "#de77ae"
            ],
            [
             0.3,
             "#f1b6da"
            ],
            [
             0.4,
             "#fde0ef"
            ],
            [
             0.5,
             "#f7f7f7"
            ],
            [
             0.6,
             "#e6f5d0"
            ],
            [
             0.7,
             "#b8e186"
            ],
            [
             0.8,
             "#7fbc41"
            ],
            [
             0.9,
             "#4d9221"
            ],
            [
             1,
             "#276419"
            ]
           ],
           "sequential": [
            [
             0,
             "#0d0887"
            ],
            [
             0.1111111111111111,
             "#46039f"
            ],
            [
             0.2222222222222222,
             "#7201a8"
            ],
            [
             0.3333333333333333,
             "#9c179e"
            ],
            [
             0.4444444444444444,
             "#bd3786"
            ],
            [
             0.5555555555555556,
             "#d8576b"
            ],
            [
             0.6666666666666666,
             "#ed7953"
            ],
            [
             0.7777777777777778,
             "#fb9f3a"
            ],
            [
             0.8888888888888888,
             "#fdca26"
            ],
            [
             1,
             "#f0f921"
            ]
           ],
           "sequentialminus": [
            [
             0,
             "#0d0887"
            ],
            [
             0.1111111111111111,
             "#46039f"
            ],
            [
             0.2222222222222222,
             "#7201a8"
            ],
            [
             0.3333333333333333,
             "#9c179e"
            ],
            [
             0.4444444444444444,
             "#bd3786"
            ],
            [
             0.5555555555555556,
             "#d8576b"
            ],
            [
             0.6666666666666666,
             "#ed7953"
            ],
            [
             0.7777777777777778,
             "#fb9f3a"
            ],
            [
             0.8888888888888888,
             "#fdca26"
            ],
            [
             1,
             "#f0f921"
            ]
           ]
          },
          "colorway": [
           "#636efa",
           "#EF553B",
           "#00cc96",
           "#ab63fa",
           "#FFA15A",
           "#19d3f3",
           "#FF6692",
           "#B6E880",
           "#FF97FF",
           "#FECB52"
          ],
          "font": {
           "color": "#2a3f5f"
          },
          "geo": {
           "bgcolor": "white",
           "lakecolor": "white",
           "landcolor": "#E5ECF6",
           "showlakes": true,
           "showland": true,
           "subunitcolor": "white"
          },
          "hoverlabel": {
           "align": "left"
          },
          "hovermode": "closest",
          "mapbox": {
           "style": "light"
          },
          "paper_bgcolor": "white",
          "plot_bgcolor": "#E5ECF6",
          "polar": {
           "angularaxis": {
            "gridcolor": "white",
            "linecolor": "white",
            "ticks": ""
           },
           "bgcolor": "#E5ECF6",
           "radialaxis": {
            "gridcolor": "white",
            "linecolor": "white",
            "ticks": ""
           }
          },
          "scene": {
           "xaxis": {
            "backgroundcolor": "#E5ECF6",
            "gridcolor": "white",
            "gridwidth": 2,
            "linecolor": "white",
            "showbackground": true,
            "ticks": "",
            "zerolinecolor": "white"
           },
           "yaxis": {
            "backgroundcolor": "#E5ECF6",
            "gridcolor": "white",
            "gridwidth": 2,
            "linecolor": "white",
            "showbackground": true,
            "ticks": "",
            "zerolinecolor": "white"
           },
           "zaxis": {
            "backgroundcolor": "#E5ECF6",
            "gridcolor": "white",
            "gridwidth": 2,
            "linecolor": "white",
            "showbackground": true,
            "ticks": "",
            "zerolinecolor": "white"
           }
          },
          "shapedefaults": {
           "line": {
            "color": "#2a3f5f"
           }
          },
          "ternary": {
           "aaxis": {
            "gridcolor": "white",
            "linecolor": "white",
            "ticks": ""
           },
           "baxis": {
            "gridcolor": "white",
            "linecolor": "white",
            "ticks": ""
           },
           "bgcolor": "#E5ECF6",
           "caxis": {
            "gridcolor": "white",
            "linecolor": "white",
            "ticks": ""
           }
          },
          "title": {
           "x": 0.05
          },
          "xaxis": {
           "automargin": true,
           "gridcolor": "white",
           "linecolor": "white",
           "ticks": "",
           "title": {
            "standoff": 15
           },
           "zerolinecolor": "white",
           "zerolinewidth": 2
          },
          "yaxis": {
           "automargin": true,
           "gridcolor": "white",
           "linecolor": "white",
           "ticks": "",
           "title": {
            "standoff": 15
           },
           "zerolinecolor": "white",
           "zerolinewidth": 2
          }
         }
        },
        "title": {
         "text": "Sleep Efficiency by Smoking status"
        },
        "xaxis": {
         "anchor": "y",
         "autorange": true,
         "domain": [
          0,
          1
         ],
         "range": [
          8.5,
          69.5
         ],
         "title": {
          "text": "Age"
         },
         "type": "linear"
        },
        "yaxis": {
         "anchor": "x",
         "autorange": true,
         "domain": [
          0,
          1
         ],
         "range": [
          0.4727777777777778,
          1.0172222222222222
         ],
         "title": {
          "text": "Sleep efficiency"
         },
         "type": "linear"
        }
       }
      },
      "image/png": "[encoded data removed]",
      "text/html": [
       "<div>                            <div id=\"ed7146dd-2575-40f9-95a5-5bc60dfcf02a\" class=\"plotly-graph-div\" style=\"height:525px; width:100%;\"></div>            <script type=\"text/javascript\">                require([\"plotly\"], function(Plotly) {                    window.PLOTLYENV=window.PLOTLYENV || {};                                    if (document.getElementById(\"ed7146dd-2575-40f9-95a5-5bc60dfcf02a\")) {                    Plotly.newPlot(                        \"ed7146dd-2575-40f9-95a5-5bc60dfcf02a\",                        [{\"alignmentgroup\":\"True\",\"hovertemplate\":\"Age=%{x}\\u003cbr\\u003eSleep efficiency=%{y}\\u003cextra\\u003e\\u003c\\u002fextra\\u003e\",\"legendgroup\":\"\",\"marker\":{\"color\":\"#636efa\"},\"name\":\"\",\"notched\":false,\"offsetgroup\":\"\",\"orientation\":\"v\",\"showlegend\":false,\"x\":[65,69,40,40,57,36,27,53,41,11,50,55,30,28,36,32,21,40,43,52,24,32,29,63,24,52,36,35,23,47,24,18,26,37,46,61,38,20,28,58,46,52,29,31,34,40,55,27,21,37,29,65,9,16,18,37,54,43,34,34,32,56,29,35,30,21,25,52,46,40,30,32,55,58,47,44,47,46,43,54,55,29,66,40,50,53,50,50,48,24,45,57,39,43,51,61,41,53,32,65,38,53,55,44,38,40,53,24,39,47,51,25,23,54,32,22,50,30,52,52,51,15,48,19,56,25,54,37,33,25,29,36,32,37,27,48,52,36,55,52,37,28,48,25,65,31,42,40,26,33,65,50,22,41,68,61,23,45,14,30,42,42,53,49,48,48,40,48,35,55,24,33,27,24,48,42,62,44,39,53,37,29,49,24,48,36,37,27,21,52,53,27,24,18,44,61,30,48,32,52,61,64,59,38,31,32,31,41,32,61,61,10,36,29,27,22,22,40,56,13,37,41,52,63,38,60,29,29,30,26,32,55,36,53,18,28,58,51,37,41,32,56,43,52,37,67,36,29,25,61,29,31,23,46,47,65,35,27,54,48,46,37,31,23,48,44,24,30,45,27,44,50,58,49,46,27,37,48,42,48,25,64,53,38,17,27,50,40,34,26,54,46,38,24,38,29,51,27,35,22,47,25,25,51,25,65,27,41,56,28,33,22,50,25,54,40,58,45,55,54,60,25,30,41,44,52,29,44,42,26,49,46,12,27,39,44,50,52,44,57,53,65,41,52,53,25,51,30,57,24,24,19,52,45,29,39,51,27,41,65,56,27,28,30,37,22,52,56,56,41,40,32,29,39,65,60,48,21,25,61,35,22,40,39,40,32,62,48,22,36,21,37,37,56,55,56,57,59,30,32,37,48,38,58,24,56,53,35,61,32,58,53,27,51,28,49,49,44,51,21,55,44,41,41,19,26,26,54,23,52,38,37,55,29,28,40,59,56,55,25,28,46,27,65,24,30,23,27,52,40,45,18],\"x0\":\" \",\"xaxis\":\"x\",\"y\":[0.88,0.66,0.89,0.51,0.76,0.9,0.54,0.9,0.79,0.55,0.92,0.93,0.93,0.64,0.54,0.92,0.54,0.5,0.98,0.89,0.83,0.71,0.84,0.98,0.88,0.91,0.95,0.84,0.65,0.91,0.57,0.68,0.55,0.9,0.94,0.64,0.87,0.82,0.87,0.63,0.83,0.83,0.59,0.87,0.77,0.86,0.91,0.71,0.81,0.81,0.71,0.71,0.52,0.65,0.84,0.84,0.99,0.91,0.71,0.8,0.95,0.91,0.81,0.93,0.85,0.77,0.84,0.87,0.8,0.52,0.54,0.88,0.64,0.87,0.77,0.68,0.94,0.7,0.79,0.77,0.86,0.81,0.88,0.78,0.64,0.88,0.78,0.71,0.97,0.77,0.8,0.94,0.52,0.76,0.73,0.73,0.96,0.91,0.8,0.77,0.81,0.71,0.95,0.64,0.94,0.87,0.63,0.88,0.9,0.94,0.91,0.9,0.8,0.85,0.89,0.53,0.87,0.5,0.93,0.72,0.92,0.62,0.93,0.91,0.63,0.77,0.51,0.94,0.73,0.78,0.55,0.83,0.94,0.95,0.59,0.82,0.9,0.77,0.83,0.65,0.54,0.51,0.81,0.87,0.75,0.57,0.58,0.81,0.75,0.6,0.53,0.93,0.89,0.7,0.74,0.92,0.93,0.95,0.6,0.93,0.81,0.95,0.72,0.9,0.95,0.91,0.85,0.9,0.92,0.6,0.89,0.67,0.51,0.78,0.95,0.68,0.68,0.94,0.78,0.9,0.83,0.8,0.96,0.91,0.96,0.94,0.63,0.73,0.87,0.76,0.68,0.94,0.95,0.62,0.91,0.67,0.94,0.79,0.86,0.83,0.73,0.71,0.87,0.5,0.92,0.79,0.98,0.93,0.88,0.77,0.86,0.54,0.8,0.86,0.61,0.72,0.72,0.55,0.96,0.58,0.77,0.85,0.95,0.69,0.95,0.82,0.93,0.82,0.94,0.75,0.91,0.65,0.87,0.84,0.85,0.91,0.71,0.82,0.77,0.95,0.95,0.76,0.85,0.75,0.92,0.78,0.91,0.85,0.95,0.66,0.63,0.86,0.54,0.95,0.72,0.52,0.93,0.52,0.61,0.79,0.94,0.76,0.76,0.78,0.94,0.87,0.55,0.93,0.93,0.94,0.78,0.94,0.5,0.93,0.73,0.9,0.87,0.93,0.9,0.67,0.9,0.9,0.98,0.66,0.68,0.56,0.62,0.52,0.96,0.81,0.84,0.93,0.87,0.86,0.89,0.94,0.84,0.86,0.75,0.6,0.93,0.75,0.81,0.78,0.84,0.9,0.9,0.67,0.93,0.8,0.63,0.9,0.9,0.86,0.51,0.71,0.87,0.7,0.85,0.87,0.6,0.83,0.8,0.93,0.75,0.5,0.5,0.67,0.96,0.52,0.68,0.72,0.56,0.91,0.85,0.72,0.9,0.77,0.89,0.9,0.85,0.95,0.51,0.9,0.9,0.51,0.84,0.82,0.88,0.79,0.64,0.84,0.86,0.71,0.9,0.82,0.95,0.95,0.54,0.95,0.53,0.92,0.85,0.92,0.53,0.75,0.82,0.74,0.87,0.72,0.87,0.53,0.72,0.87,0.66,0.66,0.72,0.81,0.88,0.94,0.83,0.91,0.95,0.9,0.95,0.9,0.62,0.93,0.79,0.91,0.81,0.52,0.52,0.84,0.67,0.83,0.63,0.64,0.91,0.82,0.92,0.92,0.93,0.87,0.64,0.9,0.82,0.86,0.73,0.9,0.68,0.82,0.74,0.88,0.72,0.67,0.87,0.66,0.66,0.87,0.51,0.79,0.8,0.55,0.85,0.88,0.88,0.93,0.63,0.92,0.8,0.92,0.77,0.9,0.9,0.96,0.72,0.86,0.9,0.5,0.88,0.6,0.68,0.67,0.58,0.53,0.5,0.91,0.74,0.55,0.76,0.63],\"y0\":\" \",\"yaxis\":\"y\",\"type\":\"box\"}],                        {\"template\":{\"data\":{\"histogram2dcontour\":[{\"type\":\"histogram2dcontour\",\"colorbar\":{\"outlinewidth\":0,\"ticks\":\"\"},\"colorscale\":[[0.0,\"#0d0887\"],[0.1111111111111111,\"#46039f\"],[0.2222222222222222,\"#7201a8\"],[0.3333333333333333,\"#9c179e\"],[0.4444444444444444,\"#bd3786\"],[0.5555555555555556,\"#d8576b\"],[0.6666666666666666,\"#ed7953\"],[0.7777777777777778,\"#fb9f3a\"],[0.8888888888888888,\"#fdca26\"],[1.0,\"#f0f921\"]]}],\"choropleth\":[{\"type\":\"choropleth\",\"colorbar\":{\"outlinewidth\":0,\"ticks\":\"\"}}],\"histogram2d\":[{\"type\":\"histogram2d\",\"colorbar\":{\"outlinewidth\":0,\"ticks\":\"\"},\"colorscale\":[[0.0,\"#0d0887\"],[0.1111111111111111,\"#46039f\"],[0.2222222222222222,\"#7201a8\"],[0.3333333333333333,\"#9c179e\"],[0.4444444444444444,\"#bd3786\"],[0.5555555555555556,\"#d8576b\"],[0.6666666666666666,\"#ed7953\"],[0.7777777777777778,\"#fb9f3a\"],[0.8888888888888888,\"#fdca26\"],[1.0,\"#f0f921\"]]}],\"heatmap\":[{\"type\":\"heatmap\",\"colorbar\":{\"outlinewidth\":0,\"ticks\":\"\"},\"colorscale\":[[0.0,\"#0d0887\"],[0.1111111111111111,\"#46039f\"],[0.2222222222222222,\"#7201a8\"],[0.3333333333333333,\"#9c179e\"],[0.4444444444444444,\"#bd3786\"],[0.5555555555555556,\"#d8576b\"],[0.6666666666666666,\"#ed7953\"],[0.7777777777777778,\"#fb9f3a\"],[0.8888888888888888,\"#fdca26\"],[1.0,\"#f0f921\"]]}],\"heatmapgl\":[{\"type\":\"heatmapgl\",\"colorbar\":{\"outlinewidth\":0,\"ticks\":\"\"},\"colorscale\":[[0.0,\"#0d0887\"],[0.1111111111111111,\"#46039f\"],[0.2222222222222222,\"#7201a8\"],[0.3333333333333333,\"#9c179e\"],[0.4444444444444444,\"#bd3786\"],[0.5555555555555556,\"#d8576b\"],[0.6666666666666666,\"#ed7953\"],[0.7777777777777778,\"#fb9f3a\"],[0.8888888888888888,\"#fdca26\"],[1.0,\"#f0f921\"]]}],\"contourcarpet\":[{\"type\":\"contourcarpet\",\"colorbar\":{\"outlinewidth\":0,\"ticks\":\"\"}}],\"contour\":[{\"type\":\"contour\",\"colorbar\":{\"outlinewidth\":0,\"ticks\":\"\"},\"colorscale\":[[0.0,\"#0d0887\"],[0.1111111111111111,\"#46039f\"],[0.2222222222222222,\"#7201a8\"],[0.3333333333333333,\"#9c179e\"],[0.4444444444444444,\"#bd3786\"],[0.5555555555555556,\"#d8576b\"],[0.6666666666666666,\"#ed7953\"],[0.7777777777777778,\"#fb9f3a\"],[0.8888888888888888,\"#fdca26\"],[1.0,\"#f0f921\"]]}],\"surface\":[{\"type\":\"surface\",\"colorbar\":{\"outlinewidth\":0,\"ticks\":\"\"},\"colorscale\":[[0.0,\"#0d0887\"],[0.1111111111111111,\"#46039f\"],[0.2222222222222222,\"#7201a8\"],[0.3333333333333333,\"#9c179e\"],[0.4444444444444444,\"#bd3786\"],[0.5555555555555556,\"#d8576b\"],[0.6666666666666666,\"#ed7953\"],[0.7777777777777778,\"#fb9f3a\"],[0.8888888888888888,\"#fdca26\"],[1.0,\"#f0f921\"]]}],\"mesh3d\":[{\"type\":\"mesh3d\",\"colorbar\":{\"outlinewidth\":0,\"ticks\":\"\"}}],\"scatter\":[{\"fillpattern\":{\"fillmode\":\"overlay\",\"size\":10,\"solidity\":0.2},\"type\":\"scatter\"}],\"parcoords\":[{\"type\":\"parcoords\",\"line\":{\"colorbar\":{\"outlinewidth\":0,\"ticks\":\"\"}}}],\"scatterpolargl\":[{\"type\":\"scatterpolargl\",\"marker\":{\"colorbar\":{\"outlinewidth\":0,\"ticks\":\"\"}}}],\"bar\":[{\"error_x\":{\"color\":\"#2a3f5f\"},\"error_y\":{\"color\":\"#2a3f5f\"},\"marker\":{\"line\":{\"color\":\"#E5ECF6\",\"width\":0.5},\"pattern\":{\"fillmode\":\"overlay\",\"size\":10,\"solidity\":0.2}},\"type\":\"bar\"}],\"scattergeo\":[{\"type\":\"scattergeo\",\"marker\":{\"colorbar\":{\"outlinewidth\":0,\"ticks\":\"\"}}}],\"scatterpolar\":[{\"type\":\"scatterpolar\",\"marker\":{\"colorbar\":{\"outlinewidth\":0,\"ticks\":\"\"}}}],\"histogram\":[{\"marker\":{\"pattern\":{\"fillmode\":\"overlay\",\"size\":10,\"solidity\":0.2}},\"type\":\"histogram\"}],\"scattergl\":[{\"type\":\"scattergl\",\"marker\":{\"colorbar\":{\"outlinewidth\":0,\"ticks\":\"\"}}}],\"scatter3d\":[{\"type\":\"scatter3d\",\"line\":{\"colorbar\":{\"outlinewidth\":0,\"ticks\":\"\"}},\"marker\":{\"colorbar\":{\"outlinewidth\":0,\"ticks\":\"\"}}}],\"scattermapbox\":[{\"type\":\"scattermapbox\",\"marker\":{\"colorbar\":{\"outlinewidth\":0,\"ticks\":\"\"}}}],\"scatterternary\":[{\"type\":\"scatterternary\",\"marker\":{\"colorbar\":{\"outlinewidth\":0,\"ticks\":\"\"}}}],\"scattercarpet\":[{\"type\":\"scattercarpet\",\"marker\":{\"colorbar\":{\"outlinewidth\":0,\"ticks\":\"\"}}}],\"carpet\":[{\"aaxis\":{\"endlinecolor\":\"#2a3f5f\",\"gridcolor\":\"white\",\"linecolor\":\"white\",\"minorgridcolor\":\"white\",\"startlinecolor\":\"#2a3f5f\"},\"baxis\":{\"endlinecolor\":\"#2a3f5f\",\"gridcolor\":\"white\",\"linecolor\":\"white\",\"minorgridcolor\":\"white\",\"startlinecolor\":\"#2a3f5f\"},\"type\":\"carpet\"}],\"table\":[{\"cells\":{\"fill\":{\"color\":\"#EBF0F8\"},\"line\":{\"color\":\"white\"}},\"header\":{\"fill\":{\"color\":\"#C8D4E3\"},\"line\":{\"color\":\"white\"}},\"type\":\"table\"}],\"barpolar\":[{\"marker\":{\"line\":{\"color\":\"#E5ECF6\",\"width\":0.5},\"pattern\":{\"fillmode\":\"overlay\",\"size\":10,\"solidity\":0.2}},\"type\":\"barpolar\"}],\"pie\":[{\"automargin\":true,\"type\":\"pie\"}]},\"layout\":{\"autotypenumbers\":\"strict\",\"colorway\":[\"#636efa\",\"#EF553B\",\"#00cc96\",\"#ab63fa\",\"#FFA15A\",\"#19d3f3\",\"#FF6692\",\"#B6E880\",\"#FF97FF\",\"#FECB52\"],\"font\":{\"color\":\"#2a3f5f\"},\"hovermode\":\"closest\",\"hoverlabel\":{\"align\":\"left\"},\"paper_bgcolor\":\"white\",\"plot_bgcolor\":\"#E5ECF6\",\"polar\":{\"bgcolor\":\"#E5ECF6\",\"angularaxis\":{\"gridcolor\":\"white\",\"linecolor\":\"white\",\"ticks\":\"\"},\"radialaxis\":{\"gridcolor\":\"white\",\"linecolor\":\"white\",\"ticks\":\"\"}},\"ternary\":{\"bgcolor\":\"#E5ECF6\",\"aaxis\":{\"gridcolor\":\"white\",\"linecolor\":\"white\",\"ticks\":\"\"},\"baxis\":{\"gridcolor\":\"white\",\"linecolor\":\"white\",\"ticks\":\"\"},\"caxis\":{\"gridcolor\":\"white\",\"linecolor\":\"white\",\"ticks\":\"\"}},\"coloraxis\":{\"colorbar\":{\"outlinewidth\":0,\"ticks\":\"\"}},\"colorscale\":{\"sequential\":[[0.0,\"#0d0887\"],[0.1111111111111111,\"#46039f\"],[0.2222222222222222,\"#7201a8\"],[0.3333333333333333,\"#9c179e\"],[0.4444444444444444,\"#bd3786\"],[0.5555555555555556,\"#d8576b\"],[0.6666666666666666,\"#ed7953\"],[0.7777777777777778,\"#fb9f3a\"],[0.8888888888888888,\"#fdca26\"],[1.0,\"#f0f921\"]],\"sequentialminus\":[[0.0,\"#0d0887\"],[0.1111111111111111,\"#46039f\"],[0.2222222222222222,\"#7201a8\"],[0.3333333333333333,\"#9c179e\"],[0.4444444444444444,\"#bd3786\"],[0.5555555555555556,\"#d8576b\"],[0.6666666666666666,\"#ed7953\"],[0.7777777777777778,\"#fb9f3a\"],[0.8888888888888888,\"#fdca26\"],[1.0,\"#f0f921\"]],\"diverging\":[[0,\"#8e0152\"],[0.1,\"#c51b7d\"],[0.2,\"#de77ae\"],[0.3,\"#f1b6da\"],[0.4,\"#fde0ef\"],[0.5,\"#f7f7f7\"],[0.6,\"#e6f5d0\"],[0.7,\"#b8e186\"],[0.8,\"#7fbc41\"],[0.9,\"#4d9221\"],[1,\"#276419\"]]},\"xaxis\":{\"gridcolor\":\"white\",\"linecolor\":\"white\",\"ticks\":\"\",\"title\":{\"standoff\":15},\"zerolinecolor\":\"white\",\"automargin\":true,\"zerolinewidth\":2},\"yaxis\":{\"gridcolor\":\"white\",\"linecolor\":\"white\",\"ticks\":\"\",\"title\":{\"standoff\":15},\"zerolinecolor\":\"white\",\"automargin\":true,\"zerolinewidth\":2},\"scene\":{\"xaxis\":{\"backgroundcolor\":\"#E5ECF6\",\"gridcolor\":\"white\",\"linecolor\":\"white\",\"showbackground\":true,\"ticks\":\"\",\"zerolinecolor\":\"white\",\"gridwidth\":2},\"yaxis\":{\"backgroundcolor\":\"#E5ECF6\",\"gridcolor\":\"white\",\"linecolor\":\"white\",\"showbackground\":true,\"ticks\":\"\",\"zerolinecolor\":\"white\",\"gridwidth\":2},\"zaxis\":{\"backgroundcolor\":\"#E5ECF6\",\"gridcolor\":\"white\",\"linecolor\":\"white\",\"showbackground\":true,\"ticks\":\"\",\"zerolinecolor\":\"white\",\"gridwidth\":2}},\"shapedefaults\":{\"line\":{\"color\":\"#2a3f5f\"}},\"annotationdefaults\":{\"arrowcolor\":\"#2a3f5f\",\"arrowhead\":0,\"arrowwidth\":1},\"geo\":{\"bgcolor\":\"white\",\"landcolor\":\"#E5ECF6\",\"subunitcolor\":\"white\",\"showland\":true,\"showlakes\":true,\"lakecolor\":\"white\"},\"title\":{\"x\":0.05},\"mapbox\":{\"style\":\"light\"}}},\"xaxis\":{\"anchor\":\"y\",\"domain\":[0.0,1.0],\"title\":{\"text\":\"Age\"}},\"yaxis\":{\"anchor\":\"x\",\"domain\":[0.0,1.0],\"title\":{\"text\":\"Sleep efficiency\"}},\"legend\":{\"tracegroupgap\":0},\"title\":{\"text\":\"Sleep Efficiency by Smoking status\"},\"boxmode\":\"group\"},                        {\"responsive\": true}                    ).then(function(){\n",
       "                            \n",
       "var gd = document.getElementById('ed7146dd-2575-40f9-95a5-5bc60dfcf02a');\n",
       "var x = new MutationObserver(function (mutations, observer) {{\n",
       "        var display = window.getComputedStyle(gd).display;\n",
       "        if (!display || display === 'none') {{\n",
       "            console.log([gd, 'removed!']);\n",
       "            Plotly.purge(gd);\n",
       "            observer.disconnect();\n",
       "        }}\n",
       "}});\n",
       "\n",
       "// Listen for the removal of the full notebook cells\n",
       "var notebookContainer = gd.closest('#notebook-container');\n",
       "if (notebookContainer) {{\n",
       "    x.observe(notebookContainer, {childList: true});\n",
       "}}\n",
       "\n",
       "// Listen for the clearing of the current output cell\n",
       "var outputEl = gd.closest('.output');\n",
       "if (outputEl) {{\n",
       "    x.observe(outputEl, {childList: true});\n",
       "}}\n",
       "\n",
       "                        })                };                });            </script>        </div>"
      ]
     },
     "metadata": {},
     "output_type": "display_data"
    }
   ],
   "source": [
    "fig = px.box(df, y = \"Sleep efficiency\", x = \"Age\", title = \"Sleep Efficiency by Smoking status\")\n",
    "fig.show()"
   ]
  },
  {
   "cell_type": "code",
   "execution_count": 93,
   "id": "676635db-6a2a-4e4a-bdef-9ba3aa52c6d2",
   "metadata": {},
   "outputs": [
    {
     "data": {
      "text/plain": [
       "Index(['ID', 'Age', 'Sleep duration', 'Sleep efficiency',\n",
       "       'REM sleep percentage', 'Deep sleep percentage',\n",
       "       'Light sleep percentage', 'Awakenings', 'Caffeine consumption',\n",
       "       'Alcohol consumption', 'Exercise frequency'],\n",
       "      dtype='object')"
      ]
     },
     "execution_count": 93,
     "metadata": {},
     "output_type": "execute_result"
    }
   ],
   "source": [
    "df.select_dtypes(include = \"number\").columns"
   ]
  },
  {
   "cell_type": "code",
   "execution_count": 112,
   "id": "92046e17-8381-4e85-9500-0ddd8a4256d0",
   "metadata": {},
   "outputs": [
    {
     "data": {
      "image/png": "[encoded data removed]",
      "text/plain": [
       "<Figure size 2000x1000 with 10 Axes>"
      ]
     },
     "metadata": {},
     "output_type": "display_data"
    }
   ],
   "source": [
    "#check for outliers in numerical columns\n",
    "\n",
    "num_vars = ['Age', 'Sleep duration', 'Sleep efficiency', 'REM sleep percentage', \n",
    "            'Deep sleep percentage','Light sleep percentage', 'Awakenings', \n",
    "'Caffeine consumption', 'Alcohol consumption', 'Exercise frequency']\n",
    "\n",
    "fig, axs = plt.subplots(nrows=5, ncols=2, figsize=(20, 10))\n",
    "axs = axs.flatten()\n",
    "\n",
    "for i, var in enumerate(num_vars):\n",
    "    sns.boxplot(x=var, data=df, ax=axs[i])\n",
    "\n",
    "fig.tight_layout()\n",
    "\n",
    "plt.show()"
   ]
  },
  {
   "cell_type": "code",
   "execution_count": null,
   "id": "8434d3a5-71db-4bfa-87ff-30397727663c",
   "metadata": {},
   "outputs": [],
   "source": [
    "#Remove Outliers"
   ]
  }
 ],
 "metadata": {
  "kernelspec": {
   "display_name": "Python 3 (ipykernel)",
   "language": "python",
   "name": "python3"
  },
  "language_info": {
   "codemirror_mode": {
    "name": "ipython",
    "version": 3
   },
   "file_extension": ".py",
   "mimetype": "text/x-python",
   "name": "python",
   "nbconvert_exporter": "python",
   "pygments_lexer": "ipython3",
   "version": "3.12.4"
  }
 },
 "nbformat": 4,
 "nbformat_minor": 5
}
